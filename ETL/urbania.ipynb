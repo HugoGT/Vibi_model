{
 "cells": [
  {
   "cell_type": "code",
   "execution_count": 51,
   "metadata": {},
   "outputs": [],
   "source": [
    "import pandas as pd\n",
    "import numpy as np\n",
    "import matplotlib.pyplot as plt\n",
    "import seaborn as sns\n",
    "import warnings\n",
    "warnings.filterwarnings('ignore')"
   ]
  },
  {
   "cell_type": "code",
   "execution_count": 2,
   "metadata": {},
   "outputs": [
    {
     "data": {
      "text/html": [
       "<div>\n",
       "<style scoped>\n",
       "    .dataframe tbody tr th:only-of-type {\n",
       "        vertical-align: middle;\n",
       "    }\n",
       "\n",
       "    .dataframe tbody tr th {\n",
       "        vertical-align: top;\n",
       "    }\n",
       "\n",
       "    .dataframe thead th {\n",
       "        text-align: right;\n",
       "    }\n",
       "</style>\n",
       "<table border=\"1\" class=\"dataframe\">\n",
       "  <thead>\n",
       "    <tr style=\"text-align: right;\">\n",
       "      <th></th>\n",
       "      <th>id</th>\n",
       "      <th>title</th>\n",
       "      <th>price_S</th>\n",
       "      <th>price_USD</th>\n",
       "      <th>address</th>\n",
       "      <th>property_type</th>\n",
       "      <th>image_urls</th>\n",
       "      <th>description</th>\n",
       "      <th>area_total</th>\n",
       "      <th>area_roof</th>\n",
       "      <th>bath</th>\n",
       "      <th>bed</th>\n",
       "      <th>parking</th>\n",
       "      <th>antiquity</th>\n",
       "      <th>general_features</th>\n",
       "      <th>services</th>\n",
       "      <th>ambience</th>\n",
       "      <th>property_url</th>\n",
       "    </tr>\n",
       "  </thead>\n",
       "  <tbody>\n",
       "    <tr>\n",
       "      <th>0</th>\n",
       "      <td>1</td>\n",
       "      <td>Proyecto inmobilario en venta en Calle Coronel...</td>\n",
       "      <td>S/445388</td>\n",
       "      <td>USD120375</td>\n",
       "      <td>Calle Coronel Odriozola 128, San IsidroLima, Lima</td>\n",
       "      <td>Departamento</td>\n",
       "      <td>{https://img10.naventcdn.com/avisos/resize/111...</td>\n",
       "      <td>Mozz se deriva de la palabra en italiano mozio...</td>\n",
       "      <td>NaN</td>\n",
       "      <td>45m²</td>\n",
       "      <td>NaN</td>\n",
       "      <td>NaN</td>\n",
       "      <td>NaN</td>\n",
       "      <td>A estrenar</td>\n",
       "      <td>{\"Promotion Description\",\"Promotion Title\",\"Nú...</td>\n",
       "      <td>{\"Areas verdes\"}</td>\n",
       "      <td>NaN</td>\n",
       "      <td>https://urbania.pe/inmueble/proyecto/ememvein-...</td>\n",
       "    </tr>\n",
       "    <tr>\n",
       "      <th>1</th>\n",
       "      <td>2</td>\n",
       "      <td>Proyecto inmobilario en venta en Calle Coronel...</td>\n",
       "      <td>S/441323</td>\n",
       "      <td>USD119277</td>\n",
       "      <td>Calle Coronel Odriozola 128, San IsidroLima, Lima</td>\n",
       "      <td>Departamento</td>\n",
       "      <td>{https://img10.naventcdn.com/avisos/resize/111...</td>\n",
       "      <td>Mozz se deriva de la palabra en italiano mozio...</td>\n",
       "      <td>45m²</td>\n",
       "      <td>45m²</td>\n",
       "      <td>NaN</td>\n",
       "      <td>NaN</td>\n",
       "      <td>NaN</td>\n",
       "      <td>A estrenar</td>\n",
       "      <td>{\"Promotion Description\",\"Promotion Title\",\"Nú...</td>\n",
       "      <td>{\"Areas verdes\"}</td>\n",
       "      <td>NaN</td>\n",
       "      <td>https://urbania.pe/inmueble/proyecto/ememvein-...</td>\n",
       "    </tr>\n",
       "    <tr>\n",
       "      <th>2</th>\n",
       "      <td>3</td>\n",
       "      <td>Proyecto inmobilario en venta en Calle Coronel...</td>\n",
       "      <td>S/600499</td>\n",
       "      <td>USD162297</td>\n",
       "      <td>Calle Coronel Odriozola 128, San IsidroLima, Lima</td>\n",
       "      <td>Departamento</td>\n",
       "      <td>{https://img10.naventcdn.com/avisos/resize/111...</td>\n",
       "      <td>Mozz se deriva de la palabra en italiano mozio...</td>\n",
       "      <td>60m²</td>\n",
       "      <td>60m²</td>\n",
       "      <td>2</td>\n",
       "      <td>2.0</td>\n",
       "      <td>NaN</td>\n",
       "      <td>A estrenar</td>\n",
       "      <td>{\"Promotion Description\",\"Promotion Title\",\"Nú...</td>\n",
       "      <td>{\"Areas verdes\"}</td>\n",
       "      <td>NaN</td>\n",
       "      <td>https://urbania.pe/inmueble/proyecto/ememvein-...</td>\n",
       "    </tr>\n",
       "    <tr>\n",
       "      <th>3</th>\n",
       "      <td>4</td>\n",
       "      <td>Proyecto inmobilario en venta en Calle Coronel...</td>\n",
       "      <td>S/583916</td>\n",
       "      <td>USD157815</td>\n",
       "      <td>Calle Coronel Odriozola 128, San IsidroLima, Lima</td>\n",
       "      <td>Departamento</td>\n",
       "      <td>{https://img10.naventcdn.com/avisos/resize/111...</td>\n",
       "      <td>Mozz se deriva de la palabra en italiano mozio...</td>\n",
       "      <td>60m²</td>\n",
       "      <td>60m²</td>\n",
       "      <td>2</td>\n",
       "      <td>2.0</td>\n",
       "      <td>NaN</td>\n",
       "      <td>A estrenar</td>\n",
       "      <td>{\"Promotion Description\",\"Promotion Title\",\"Nú...</td>\n",
       "      <td>{\"Areas verdes\"}</td>\n",
       "      <td>NaN</td>\n",
       "      <td>https://urbania.pe/inmueble/proyecto/ememvein-...</td>\n",
       "    </tr>\n",
       "    <tr>\n",
       "      <th>4</th>\n",
       "      <td>5</td>\n",
       "      <td>Proyecto inmobilario en venta en Jirón Batalló...</td>\n",
       "      <td>S/887994</td>\n",
       "      <td>NaN</td>\n",
       "      <td>Jirón Batallón Callao Norte  , Santa TeresaSan...</td>\n",
       "      <td>Departamento</td>\n",
       "      <td>{https://img10.naventcdn.com/avisos/resize/111...</td>\n",
       "      <td>Vive exclusivo en Surco | Vive en Libitum | En...</td>\n",
       "      <td>110m²</td>\n",
       "      <td>110m²</td>\n",
       "      <td>3</td>\n",
       "      <td>3.0</td>\n",
       "      <td>NaN</td>\n",
       "      <td>A estrenar</td>\n",
       "      <td>{\"No. de edificios que conforman el proyecto\",...</td>\n",
       "      <td>NaN</td>\n",
       "      <td>NaN</td>\n",
       "      <td>https://urbania.pe/inmueble/proyecto/ememvein-...</td>\n",
       "    </tr>\n",
       "  </tbody>\n",
       "</table>\n",
       "</div>"
      ],
      "text/plain": [
       "  id                                              title   price_S  price_USD  \\\n",
       "0  1  Proyecto inmobilario en venta en Calle Coronel...  S/445388  USD120375   \n",
       "1  2  Proyecto inmobilario en venta en Calle Coronel...  S/441323  USD119277   \n",
       "2  3  Proyecto inmobilario en venta en Calle Coronel...  S/600499  USD162297   \n",
       "3  4  Proyecto inmobilario en venta en Calle Coronel...  S/583916  USD157815   \n",
       "4  5  Proyecto inmobilario en venta en Jirón Batalló...  S/887994        NaN   \n",
       "\n",
       "                                             address  property_type  \\\n",
       "0  Calle Coronel Odriozola 128, San IsidroLima, Lima  Departamento    \n",
       "1  Calle Coronel Odriozola 128, San IsidroLima, Lima  Departamento    \n",
       "2  Calle Coronel Odriozola 128, San IsidroLima, Lima  Departamento    \n",
       "3  Calle Coronel Odriozola 128, San IsidroLima, Lima  Departamento    \n",
       "4  Jirón Batallón Callao Norte  , Santa TeresaSan...  Departamento    \n",
       "\n",
       "                                          image_urls  \\\n",
       "0  {https://img10.naventcdn.com/avisos/resize/111...   \n",
       "1  {https://img10.naventcdn.com/avisos/resize/111...   \n",
       "2  {https://img10.naventcdn.com/avisos/resize/111...   \n",
       "3  {https://img10.naventcdn.com/avisos/resize/111...   \n",
       "4  {https://img10.naventcdn.com/avisos/resize/111...   \n",
       "\n",
       "                                         description area_total area_roof  \\\n",
       "0  Mozz se deriva de la palabra en italiano mozio...        NaN      45m²   \n",
       "1  Mozz se deriva de la palabra en italiano mozio...       45m²      45m²   \n",
       "2  Mozz se deriva de la palabra en italiano mozio...       60m²      60m²   \n",
       "3  Mozz se deriva de la palabra en italiano mozio...       60m²      60m²   \n",
       "4  Vive exclusivo en Surco | Vive en Libitum | En...      110m²     110m²   \n",
       "\n",
       "  bath  bed  parking   antiquity  \\\n",
       "0  NaN  NaN      NaN  A estrenar   \n",
       "1  NaN  NaN      NaN  A estrenar   \n",
       "2    2  2.0      NaN  A estrenar   \n",
       "3    2  2.0      NaN  A estrenar   \n",
       "4    3  3.0      NaN  A estrenar   \n",
       "\n",
       "                                    general_features          services  \\\n",
       "0  {\"Promotion Description\",\"Promotion Title\",\"Nú...  {\"Areas verdes\"}   \n",
       "1  {\"Promotion Description\",\"Promotion Title\",\"Nú...  {\"Areas verdes\"}   \n",
       "2  {\"Promotion Description\",\"Promotion Title\",\"Nú...  {\"Areas verdes\"}   \n",
       "3  {\"Promotion Description\",\"Promotion Title\",\"Nú...  {\"Areas verdes\"}   \n",
       "4  {\"No. de edificios que conforman el proyecto\",...               NaN   \n",
       "\n",
       "  ambience                                       property_url  \n",
       "0      NaN  https://urbania.pe/inmueble/proyecto/ememvein-...  \n",
       "1      NaN  https://urbania.pe/inmueble/proyecto/ememvein-...  \n",
       "2      NaN  https://urbania.pe/inmueble/proyecto/ememvein-...  \n",
       "3      NaN  https://urbania.pe/inmueble/proyecto/ememvein-...  \n",
       "4      NaN  https://urbania.pe/inmueble/proyecto/ememvein-...  "
      ]
     },
     "execution_count": 2,
     "metadata": {},
     "output_type": "execute_result"
    }
   ],
   "source": [
    "df = pd.read_csv('dataset/urbania_dataset.csv')\n",
    "df.head()"
   ]
  },
  {
   "cell_type": "code",
   "execution_count": 3,
   "metadata": {},
   "outputs": [
    {
     "data": {
      "text/html": [
       "<div>\n",
       "<style scoped>\n",
       "    .dataframe tbody tr th:only-of-type {\n",
       "        vertical-align: middle;\n",
       "    }\n",
       "\n",
       "    .dataframe tbody tr th {\n",
       "        vertical-align: top;\n",
       "    }\n",
       "\n",
       "    .dataframe thead th {\n",
       "        text-align: right;\n",
       "    }\n",
       "</style>\n",
       "<table border=\"1\" class=\"dataframe\">\n",
       "  <thead>\n",
       "    <tr style=\"text-align: right;\">\n",
       "      <th></th>\n",
       "      <th>title</th>\n",
       "      <th>price_S</th>\n",
       "      <th>price_USD</th>\n",
       "      <th>address</th>\n",
       "      <th>property_type</th>\n",
       "      <th>image_urls</th>\n",
       "      <th>description</th>\n",
       "      <th>area_total</th>\n",
       "      <th>area_roof</th>\n",
       "      <th>bath</th>\n",
       "      <th>bed</th>\n",
       "      <th>parking</th>\n",
       "      <th>antiquity</th>\n",
       "      <th>general_features</th>\n",
       "      <th>services</th>\n",
       "      <th>ambience</th>\n",
       "      <th>property_url</th>\n",
       "    </tr>\n",
       "    <tr>\n",
       "      <th>id</th>\n",
       "      <th></th>\n",
       "      <th></th>\n",
       "      <th></th>\n",
       "      <th></th>\n",
       "      <th></th>\n",
       "      <th></th>\n",
       "      <th></th>\n",
       "      <th></th>\n",
       "      <th></th>\n",
       "      <th></th>\n",
       "      <th></th>\n",
       "      <th></th>\n",
       "      <th></th>\n",
       "      <th></th>\n",
       "      <th></th>\n",
       "      <th></th>\n",
       "      <th></th>\n",
       "    </tr>\n",
       "  </thead>\n",
       "  <tbody>\n",
       "    <tr>\n",
       "      <th>0</th>\n",
       "      <td>Proyecto inmobilario en venta en Calle Coronel...</td>\n",
       "      <td>S/445388</td>\n",
       "      <td>USD120375</td>\n",
       "      <td>Calle Coronel Odriozola 128, San IsidroLima, Lima</td>\n",
       "      <td>Departamento</td>\n",
       "      <td>{https://img10.naventcdn.com/avisos/resize/111...</td>\n",
       "      <td>Mozz se deriva de la palabra en italiano mozio...</td>\n",
       "      <td>NaN</td>\n",
       "      <td>45m²</td>\n",
       "      <td>NaN</td>\n",
       "      <td>NaN</td>\n",
       "      <td>NaN</td>\n",
       "      <td>A estrenar</td>\n",
       "      <td>{\"Promotion Description\",\"Promotion Title\",\"Nú...</td>\n",
       "      <td>{\"Areas verdes\"}</td>\n",
       "      <td>NaN</td>\n",
       "      <td>https://urbania.pe/inmueble/proyecto/ememvein-...</td>\n",
       "    </tr>\n",
       "    <tr>\n",
       "      <th>1</th>\n",
       "      <td>Proyecto inmobilario en venta en Calle Coronel...</td>\n",
       "      <td>S/441323</td>\n",
       "      <td>USD119277</td>\n",
       "      <td>Calle Coronel Odriozola 128, San IsidroLima, Lima</td>\n",
       "      <td>Departamento</td>\n",
       "      <td>{https://img10.naventcdn.com/avisos/resize/111...</td>\n",
       "      <td>Mozz se deriva de la palabra en italiano mozio...</td>\n",
       "      <td>45m²</td>\n",
       "      <td>45m²</td>\n",
       "      <td>NaN</td>\n",
       "      <td>NaN</td>\n",
       "      <td>NaN</td>\n",
       "      <td>A estrenar</td>\n",
       "      <td>{\"Promotion Description\",\"Promotion Title\",\"Nú...</td>\n",
       "      <td>{\"Areas verdes\"}</td>\n",
       "      <td>NaN</td>\n",
       "      <td>https://urbania.pe/inmueble/proyecto/ememvein-...</td>\n",
       "    </tr>\n",
       "  </tbody>\n",
       "</table>\n",
       "</div>"
      ],
      "text/plain": [
       "                                                title   price_S  price_USD  \\\n",
       "id                                                                           \n",
       "0   Proyecto inmobilario en venta en Calle Coronel...  S/445388  USD120375   \n",
       "1   Proyecto inmobilario en venta en Calle Coronel...  S/441323  USD119277   \n",
       "\n",
       "                                              address  property_type  \\\n",
       "id                                                                     \n",
       "0   Calle Coronel Odriozola 128, San IsidroLima, Lima  Departamento    \n",
       "1   Calle Coronel Odriozola 128, San IsidroLima, Lima  Departamento    \n",
       "\n",
       "                                           image_urls  \\\n",
       "id                                                      \n",
       "0   {https://img10.naventcdn.com/avisos/resize/111...   \n",
       "1   {https://img10.naventcdn.com/avisos/resize/111...   \n",
       "\n",
       "                                          description area_total area_roof  \\\n",
       "id                                                                           \n",
       "0   Mozz se deriva de la palabra en italiano mozio...        NaN      45m²   \n",
       "1   Mozz se deriva de la palabra en italiano mozio...       45m²      45m²   \n",
       "\n",
       "   bath  bed  parking   antiquity  \\\n",
       "id                                  \n",
       "0   NaN  NaN      NaN  A estrenar   \n",
       "1   NaN  NaN      NaN  A estrenar   \n",
       "\n",
       "                                     general_features          services  \\\n",
       "id                                                                        \n",
       "0   {\"Promotion Description\",\"Promotion Title\",\"Nú...  {\"Areas verdes\"}   \n",
       "1   {\"Promotion Description\",\"Promotion Title\",\"Nú...  {\"Areas verdes\"}   \n",
       "\n",
       "   ambience                                       property_url  \n",
       "id                                                              \n",
       "0       NaN  https://urbania.pe/inmueble/proyecto/ememvein-...  \n",
       "1       NaN  https://urbania.pe/inmueble/proyecto/ememvein-...  "
      ]
     },
     "execution_count": 3,
     "metadata": {},
     "output_type": "execute_result"
    }
   ],
   "source": [
    "df['id'] = [x for x in range(df['id'].shape[0])]\n",
    "df.set_index('id', inplace=True)\n",
    "df.head(2)"
   ]
  },
  {
   "cell_type": "code",
   "execution_count": 4,
   "metadata": {},
   "outputs": [
    {
     "data": {
      "text/html": [
       "<div>\n",
       "<style scoped>\n",
       "    .dataframe tbody tr th:only-of-type {\n",
       "        vertical-align: middle;\n",
       "    }\n",
       "\n",
       "    .dataframe tbody tr th {\n",
       "        vertical-align: top;\n",
       "    }\n",
       "\n",
       "    .dataframe thead th {\n",
       "        text-align: right;\n",
       "    }\n",
       "</style>\n",
       "<table border=\"1\" class=\"dataframe\">\n",
       "  <thead>\n",
       "    <tr style=\"text-align: right;\">\n",
       "      <th></th>\n",
       "      <th>title</th>\n",
       "      <th>price_S</th>\n",
       "      <th>price_USD</th>\n",
       "      <th>address</th>\n",
       "      <th>property_type</th>\n",
       "      <th>image_urls</th>\n",
       "      <th>description</th>\n",
       "      <th>area_total</th>\n",
       "      <th>area_roof</th>\n",
       "      <th>bath</th>\n",
       "      <th>bed</th>\n",
       "      <th>parking</th>\n",
       "      <th>antiquity</th>\n",
       "      <th>general_features</th>\n",
       "      <th>services</th>\n",
       "      <th>ambience</th>\n",
       "      <th>property_url</th>\n",
       "    </tr>\n",
       "    <tr>\n",
       "      <th>id</th>\n",
       "      <th></th>\n",
       "      <th></th>\n",
       "      <th></th>\n",
       "      <th></th>\n",
       "      <th></th>\n",
       "      <th></th>\n",
       "      <th></th>\n",
       "      <th></th>\n",
       "      <th></th>\n",
       "      <th></th>\n",
       "      <th></th>\n",
       "      <th></th>\n",
       "      <th></th>\n",
       "      <th></th>\n",
       "      <th></th>\n",
       "      <th></th>\n",
       "      <th></th>\n",
       "    </tr>\n",
       "  </thead>\n",
       "  <tbody>\n",
       "    <tr>\n",
       "      <th>22414</th>\n",
       "      <td>Venta Dpto 1er Piso y Cochera</td>\n",
       "      <td>S/383250</td>\n",
       "      <td>USD105000</td>\n",
       "      <td>Calle Monsefú 189, San MiguelLima, Lima</td>\n",
       "      <td>Departamento</td>\n",
       "      <td>{https://img10.naventcdn.com/avisos/resize/111...</td>\n",
       "      <td>ÁREA: 70 M2 &lt;br&gt;&lt;br&gt;Ubicado en calle Monsefú c...</td>\n",
       "      <td>70m²</td>\n",
       "      <td>70m²</td>\n",
       "      <td>2</td>\n",
       "      <td>2.0</td>\n",
       "      <td>NaN</td>\n",
       "      <td>8</td>\n",
       "      <td>{\"Sistema contra incendios\",\"Reposteros en coc...</td>\n",
       "      <td>{\"Video vigilancia\",\"Area de lavandería\",\"Sist...</td>\n",
       "      <td>{Desagüe,\"Dormitorio principal con baño\"}</td>\n",
       "      <td>https://urbania.pe:443/inmueble/clasificado/ve...</td>\n",
       "    </tr>\n",
       "    <tr>\n",
       "      <th>22415</th>\n",
       "      <td>Moderno Flat de 2 Dorm. en Magdalena del Mar</td>\n",
       "      <td>S/703000</td>\n",
       "      <td>USD190000</td>\n",
       "      <td>Juan de Aliaga, MagdalenaLima, Lima</td>\n",
       "      <td>Departamento</td>\n",
       "      <td>{https://img10.naventcdn.com/avisos/resize/111...</td>\n",
       "      <td>**Ideal para inversión** &lt;br&gt;&lt;br&gt;Precioso flat...</td>\n",
       "      <td>87m²</td>\n",
       "      <td>90m²</td>\n",
       "      <td>2</td>\n",
       "      <td>2.0</td>\n",
       "      <td>NaN</td>\n",
       "      <td>4</td>\n",
       "      <td>{\"Sistema contra incendios\",\"Reposteros en coc...</td>\n",
       "      <td>{\"Video vigilancia\",\"Areas verdes\",\"Línea blan...</td>\n",
       "      <td>{Desagüe,\"Sala de estar\",\"Hall de ingreso\",\"Ar...</td>\n",
       "      <td>https://urbania.pe:443/inmueble/clasificado/ve...</td>\n",
       "    </tr>\n",
       "  </tbody>\n",
       "</table>\n",
       "</div>"
      ],
      "text/plain": [
       "                                              title   price_S  price_USD  \\\n",
       "id                                                                         \n",
       "22414                 Venta Dpto 1er Piso y Cochera  S/383250  USD105000   \n",
       "22415  Moderno Flat de 2 Dorm. en Magdalena del Mar  S/703000  USD190000   \n",
       "\n",
       "                                       address  property_type  \\\n",
       "id                                                              \n",
       "22414  Calle Monsefú 189, San MiguelLima, Lima  Departamento    \n",
       "22415      Juan de Aliaga, MagdalenaLima, Lima  Departamento    \n",
       "\n",
       "                                              image_urls  \\\n",
       "id                                                         \n",
       "22414  {https://img10.naventcdn.com/avisos/resize/111...   \n",
       "22415  {https://img10.naventcdn.com/avisos/resize/111...   \n",
       "\n",
       "                                             description area_total area_roof  \\\n",
       "id                                                                              \n",
       "22414  ÁREA: 70 M2 <br><br>Ubicado en calle Monsefú c...       70m²      70m²   \n",
       "22415  **Ideal para inversión** <br><br>Precioso flat...       87m²      90m²   \n",
       "\n",
       "      bath  bed  parking antiquity  \\\n",
       "id                                   \n",
       "22414    2  2.0      NaN         8   \n",
       "22415    2  2.0      NaN         4   \n",
       "\n",
       "                                        general_features  \\\n",
       "id                                                         \n",
       "22414  {\"Sistema contra incendios\",\"Reposteros en coc...   \n",
       "22415  {\"Sistema contra incendios\",\"Reposteros en coc...   \n",
       "\n",
       "                                                services  \\\n",
       "id                                                         \n",
       "22414  {\"Video vigilancia\",\"Area de lavandería\",\"Sist...   \n",
       "22415  {\"Video vigilancia\",\"Areas verdes\",\"Línea blan...   \n",
       "\n",
       "                                                ambience  \\\n",
       "id                                                         \n",
       "22414          {Desagüe,\"Dormitorio principal con baño\"}   \n",
       "22415  {Desagüe,\"Sala de estar\",\"Hall de ingreso\",\"Ar...   \n",
       "\n",
       "                                            property_url  \n",
       "id                                                        \n",
       "22414  https://urbania.pe:443/inmueble/clasificado/ve...  \n",
       "22415  https://urbania.pe:443/inmueble/clasificado/ve...  "
      ]
     },
     "execution_count": 4,
     "metadata": {},
     "output_type": "execute_result"
    }
   ],
   "source": [
    "df.tail(2)"
   ]
  },
  {
   "cell_type": "markdown",
   "metadata": {},
   "source": [
    "We are interested into housing sector, i.e., the property type like 'Departamento', 'Casa', Casa de Playa', Casa de campo', 'Habitacion'."
   ]
  },
  {
   "cell_type": "code",
   "execution_count": 5,
   "metadata": {},
   "outputs": [
    {
     "data": {
      "text/plain": [
       "array(['Departamento', 'Casa', 'Terreno / Lote', 'Oficina',\n",
       "       'Local industrial', 'Local comercial', 'Hotel', 'Casa de playa',\n",
       "       'Casa de campo', 'Habitación', 'Otros', 'Garage',\n",
       "       'Terreno agrícola', 'nan'], dtype=object)"
      ]
     },
     "execution_count": 5,
     "metadata": {},
     "output_type": "execute_result"
    }
   ],
   "source": [
    "df['property_type'] = df['property_type'].apply(lambda x: str(x).strip())\n",
    "df['property_type'].unique()"
   ]
  },
  {
   "cell_type": "markdown",
   "metadata": {},
   "source": [
    "As we see we need to ignore that values of 'Terreno / Lote', 'Oficina', 'Local inductrial', 'Local comercial', 'Hotel', 'Garage', 'Terreno agrícola'."
   ]
  },
  {
   "cell_type": "code",
   "execution_count": 6,
   "metadata": {},
   "outputs": [
    {
     "data": {
      "text/plain": [
       "(16843, 17)"
      ]
     },
     "execution_count": 6,
     "metadata": {},
     "output_type": "execute_result"
    }
   ],
   "source": [
    "housing_values = ['Departamento', 'Casa', 'Casa de playa', 'Casa de campo',\n",
    "                    'Habitación', 'Otros']\n",
    "mask = df['property_type'].apply(lambda x: x in housing_values)\n",
    "df = df[mask]\n",
    "df.shape"
   ]
  },
  {
   "cell_type": "markdown",
   "metadata": {},
   "source": [
    "Now we get a dataframe with 16843 values, however for values like 'Otros' there are value that we dont need. Let's see them"
   ]
  },
  {
   "cell_type": "code",
   "execution_count": 7,
   "metadata": {},
   "outputs": [
    {
     "name": "stdout",
     "output_type": "stream",
     "text": [
      "(39, 17)\n"
     ]
    },
    {
     "data": {
      "text/html": [
       "<div>\n",
       "<style scoped>\n",
       "    .dataframe tbody tr th:only-of-type {\n",
       "        vertical-align: middle;\n",
       "    }\n",
       "\n",
       "    .dataframe tbody tr th {\n",
       "        vertical-align: top;\n",
       "    }\n",
       "\n",
       "    .dataframe thead th {\n",
       "        text-align: right;\n",
       "    }\n",
       "</style>\n",
       "<table border=\"1\" class=\"dataframe\">\n",
       "  <thead>\n",
       "    <tr style=\"text-align: right;\">\n",
       "      <th></th>\n",
       "      <th>title</th>\n",
       "      <th>price_S</th>\n",
       "      <th>price_USD</th>\n",
       "      <th>address</th>\n",
       "      <th>property_type</th>\n",
       "      <th>image_urls</th>\n",
       "      <th>description</th>\n",
       "      <th>area_total</th>\n",
       "      <th>area_roof</th>\n",
       "      <th>bath</th>\n",
       "      <th>bed</th>\n",
       "      <th>parking</th>\n",
       "      <th>antiquity</th>\n",
       "      <th>general_features</th>\n",
       "      <th>services</th>\n",
       "      <th>ambience</th>\n",
       "      <th>property_url</th>\n",
       "    </tr>\n",
       "    <tr>\n",
       "      <th>id</th>\n",
       "      <th></th>\n",
       "      <th></th>\n",
       "      <th></th>\n",
       "      <th></th>\n",
       "      <th></th>\n",
       "      <th></th>\n",
       "      <th></th>\n",
       "      <th></th>\n",
       "      <th></th>\n",
       "      <th></th>\n",
       "      <th></th>\n",
       "      <th></th>\n",
       "      <th></th>\n",
       "      <th></th>\n",
       "      <th></th>\n",
       "      <th></th>\n",
       "      <th></th>\n",
       "    </tr>\n",
       "  </thead>\n",
       "  <tbody>\n",
       "    <tr>\n",
       "      <th>3367</th>\n",
       "      <td>¡En Venta Exclusiva Casa en Camacho!</td>\n",
       "      <td>S/5840000</td>\n",
       "      <td>USD1600000</td>\n",
       "      <td>CAMACHO, CamachoLa Molina, Lima</td>\n",
       "      <td>Otros</td>\n",
       "      <td>{https://img10.naventcdn.com/avisos/resize/111...</td>\n",
       "      <td>¡Bienvenido a la exclusiva casa en venta en Ca...</td>\n",
       "      <td>1138m²</td>\n",
       "      <td>1138m²</td>\n",
       "      <td>2</td>\n",
       "      <td>4.0</td>\n",
       "      <td>5.0</td>\n",
       "      <td>20</td>\n",
       "      <td>{Jardín(es),\"Centros Comerciales Cercanos\",\"Ce...</td>\n",
       "      <td>{\"Sistema de alarma de seguridad\"}</td>\n",
       "      <td>NaN</td>\n",
       "      <td>https://urbania.pe/inmueble/clasificado/veclot...</td>\n",
       "    </tr>\n",
       "    <tr>\n",
       "      <th>4395</th>\n",
       "      <td>Vendo Local 3 Pisos Mas Azotea, Urb El Pinar, ...</td>\n",
       "      <td>S/832000</td>\n",
       "      <td>USD225000</td>\n",
       "      <td>Urb El Pinar, Calle 14, paralela cdra 9 Av Tra...</td>\n",
       "      <td>Otros</td>\n",
       "      <td>{https://img10.naventcdn.com/avisos/resize/111...</td>\n",
       "      <td>Vendo amplio local: 3 pisos mas azotea, interc...</td>\n",
       "      <td>178m²</td>\n",
       "      <td>504m²</td>\n",
       "      <td>4</td>\n",
       "      <td>NaN</td>\n",
       "      <td>NaN</td>\n",
       "      <td>33</td>\n",
       "      <td>{\"Centros Comerciales Cercanos\",\"Licencia de f...</td>\n",
       "      <td>{\"Uso Profesional\",\"Uso Comercial\",\"Sala de Re...</td>\n",
       "      <td>{Oficinas}</td>\n",
       "      <td>https://urbania.pe/inmueble/clasificado/veclot...</td>\n",
       "    </tr>\n",
       "    <tr>\n",
       "      <th>5778</th>\n",
       "      <td>Hotel en Venta con Excelente Ubicacion</td>\n",
       "      <td>S/1647000</td>\n",
       "      <td>USD450000</td>\n",
       "      <td>Av. Canta Callao, San Martín De Porres, San Ma...</td>\n",
       "      <td>Otros</td>\n",
       "      <td>{https://img10.naventcdn.com/avisos/resize/111...</td>\n",
       "      <td>CONTACTAR CON ELVIS LEON AL 9.7.1.1.5.0.2.3.9....</td>\n",
       "      <td>211m²</td>\n",
       "      <td>1162m²</td>\n",
       "      <td>28</td>\n",
       "      <td>30.0</td>\n",
       "      <td>7.0</td>\n",
       "      <td>30</td>\n",
       "      <td>NaN</td>\n",
       "      <td>NaN</td>\n",
       "      <td>NaN</td>\n",
       "      <td>https://urbania.pe/inmueble/clasificado/veclot...</td>\n",
       "    </tr>\n",
       "    <tr>\n",
       "      <th>6711</th>\n",
       "      <td>Venta Departamento Espalda Plaza San Miguel</td>\n",
       "      <td>S/660389</td>\n",
       "      <td>USD185000</td>\n",
       "      <td>Rosa Perez Liendo , Pando Etapa IvSan Miguel, ...</td>\n",
       "      <td>Otros</td>\n",
       "      <td>{https://img10.naventcdn.com/avisos/resize/111...</td>\n",
       "      <td>Dpto. 140mt. Segundo piso &lt;br&gt;3 dormitorios &lt;b...</td>\n",
       "      <td>140m²</td>\n",
       "      <td>140m²</td>\n",
       "      <td>2</td>\n",
       "      <td>3.0</td>\n",
       "      <td>NaN</td>\n",
       "      <td>25</td>\n",
       "      <td>{\"Caseta de guardia\",\"Centros Comerciales Cerc...</td>\n",
       "      <td>{\"Guardianía/Seguridad privada\",\"Area de lavan...</td>\n",
       "      <td>{Desagüe,\"Sala de estar\",Bodega(s),\"Ingreso in...</td>\n",
       "      <td>https://urbania.pe/inmueble/clasificado/veclot...</td>\n",
       "    </tr>\n",
       "    <tr>\n",
       "      <th>6930</th>\n",
       "      <td>Casa en Venta en La Urb. Risso, Santa Anita</td>\n",
       "      <td>S/1168000</td>\n",
       "      <td>USD320000</td>\n",
       "      <td>Calle Francia, San Jose De MangomarcaSanta Ani...</td>\n",
       "      <td>Otros</td>\n",
       "      <td>{https://img10.naventcdn.com/avisos/resize/111...</td>\n",
       "      <td>Doors te presenta esta oportunidad de negocio,...</td>\n",
       "      <td>152m²</td>\n",
       "      <td>465m²</td>\n",
       "      <td>8</td>\n",
       "      <td>14.0</td>\n",
       "      <td>8.0</td>\n",
       "      <td>15</td>\n",
       "      <td>{\"Baño de servicio\",Terraza,\"Niveles construid...</td>\n",
       "      <td>{\"Uso Profesional\",\"Guardianía/Seguridad priva...</td>\n",
       "      <td>{Patio,\"Baño Propio\",Bodega(s),\"Ingreso indepe...</td>\n",
       "      <td>https://urbania.pe/inmueble/clasificado/veclot...</td>\n",
       "    </tr>\n",
       "  </tbody>\n",
       "</table>\n",
       "</div>"
      ],
      "text/plain": [
       "                                                  title    price_S  \\\n",
       "id                                                                   \n",
       "3367               ¡En Venta Exclusiva Casa en Camacho!  S/5840000   \n",
       "4395  Vendo Local 3 Pisos Mas Azotea, Urb El Pinar, ...   S/832000   \n",
       "5778             Hotel en Venta con Excelente Ubicacion  S/1647000   \n",
       "6711        Venta Departamento Espalda Plaza San Miguel   S/660389   \n",
       "6930        Casa en Venta en La Urb. Risso, Santa Anita  S/1168000   \n",
       "\n",
       "       price_USD                                            address  \\\n",
       "id                                                                    \n",
       "3367  USD1600000                    CAMACHO, CamachoLa Molina, Lima   \n",
       "4395   USD225000  Urb El Pinar, Calle 14, paralela cdra 9 Av Tra...   \n",
       "5778   USD450000  Av. Canta Callao, San Martín De Porres, San Ma...   \n",
       "6711   USD185000  Rosa Perez Liendo , Pando Etapa IvSan Miguel, ...   \n",
       "6930   USD320000  Calle Francia, San Jose De MangomarcaSanta Ani...   \n",
       "\n",
       "     property_type                                         image_urls  \\\n",
       "id                                                                      \n",
       "3367         Otros  {https://img10.naventcdn.com/avisos/resize/111...   \n",
       "4395         Otros  {https://img10.naventcdn.com/avisos/resize/111...   \n",
       "5778         Otros  {https://img10.naventcdn.com/avisos/resize/111...   \n",
       "6711         Otros  {https://img10.naventcdn.com/avisos/resize/111...   \n",
       "6930         Otros  {https://img10.naventcdn.com/avisos/resize/111...   \n",
       "\n",
       "                                            description area_total area_roof  \\\n",
       "id                                                                             \n",
       "3367  ¡Bienvenido a la exclusiva casa en venta en Ca...     1138m²    1138m²   \n",
       "4395  Vendo amplio local: 3 pisos mas azotea, interc...      178m²     504m²   \n",
       "5778  CONTACTAR CON ELVIS LEON AL 9.7.1.1.5.0.2.3.9....      211m²    1162m²   \n",
       "6711  Dpto. 140mt. Segundo piso <br>3 dormitorios <b...      140m²     140m²   \n",
       "6930  Doors te presenta esta oportunidad de negocio,...      152m²     465m²   \n",
       "\n",
       "     bath   bed  parking antiquity  \\\n",
       "id                                   \n",
       "3367    2   4.0      5.0        20   \n",
       "4395    4   NaN      NaN        33   \n",
       "5778   28  30.0      7.0        30   \n",
       "6711    2   3.0      NaN        25   \n",
       "6930    8  14.0      8.0        15   \n",
       "\n",
       "                                       general_features  \\\n",
       "id                                                        \n",
       "3367  {Jardín(es),\"Centros Comerciales Cercanos\",\"Ce...   \n",
       "4395  {\"Centros Comerciales Cercanos\",\"Licencia de f...   \n",
       "5778                                                NaN   \n",
       "6711  {\"Caseta de guardia\",\"Centros Comerciales Cerc...   \n",
       "6930  {\"Baño de servicio\",Terraza,\"Niveles construid...   \n",
       "\n",
       "                                               services  \\\n",
       "id                                                        \n",
       "3367                 {\"Sistema de alarma de seguridad\"}   \n",
       "4395  {\"Uso Profesional\",\"Uso Comercial\",\"Sala de Re...   \n",
       "5778                                                NaN   \n",
       "6711  {\"Guardianía/Seguridad privada\",\"Area de lavan...   \n",
       "6930  {\"Uso Profesional\",\"Guardianía/Seguridad priva...   \n",
       "\n",
       "                                               ambience  \\\n",
       "id                                                        \n",
       "3367                                                NaN   \n",
       "4395                                         {Oficinas}   \n",
       "5778                                                NaN   \n",
       "6711  {Desagüe,\"Sala de estar\",Bodega(s),\"Ingreso in...   \n",
       "6930  {Patio,\"Baño Propio\",Bodega(s),\"Ingreso indepe...   \n",
       "\n",
       "                                           property_url  \n",
       "id                                                       \n",
       "3367  https://urbania.pe/inmueble/clasificado/veclot...  \n",
       "4395  https://urbania.pe/inmueble/clasificado/veclot...  \n",
       "5778  https://urbania.pe/inmueble/clasificado/veclot...  \n",
       "6711  https://urbania.pe/inmueble/clasificado/veclot...  \n",
       "6930  https://urbania.pe/inmueble/clasificado/veclot...  "
      ]
     },
     "execution_count": 7,
     "metadata": {},
     "output_type": "execute_result"
    }
   ],
   "source": [
    "df_others = df.loc[df['property_type'] == 'Otros']\n",
    "print(df_others.shape)\n",
    "df_others.head()"
   ]
  },
  {
   "cell_type": "markdown",
   "metadata": {},
   "source": [
    "As we can appreciate there are values which tittle says 'Vendo Local' or 'Hotel en Venta' we dont need that values. Let's drop them out"
   ]
  },
  {
   "cell_type": "code",
   "execution_count": 8,
   "metadata": {},
   "outputs": [
    {
     "data": {
      "text/plain": [
       "'Departamento|Casa|Casa de playa|Casa de campo|Habitación|Otros'"
      ]
     },
     "execution_count": 8,
     "metadata": {},
     "output_type": "execute_result"
    }
   ],
   "source": [
    "pattern = '|'.join(housing_values)\n",
    "pattern"
   ]
  },
  {
   "cell_type": "code",
   "execution_count": 9,
   "metadata": {},
   "outputs": [
    {
     "name": "stdout",
     "output_type": "stream",
     "text": [
      "(16815, 17)\n"
     ]
    },
    {
     "data": {
      "text/html": [
       "<div>\n",
       "<style scoped>\n",
       "    .dataframe tbody tr th:only-of-type {\n",
       "        vertical-align: middle;\n",
       "    }\n",
       "\n",
       "    .dataframe tbody tr th {\n",
       "        vertical-align: top;\n",
       "    }\n",
       "\n",
       "    .dataframe thead th {\n",
       "        text-align: right;\n",
       "    }\n",
       "</style>\n",
       "<table border=\"1\" class=\"dataframe\">\n",
       "  <thead>\n",
       "    <tr style=\"text-align: right;\">\n",
       "      <th></th>\n",
       "      <th>title</th>\n",
       "      <th>price_S</th>\n",
       "      <th>price_USD</th>\n",
       "      <th>address</th>\n",
       "      <th>property_type</th>\n",
       "      <th>image_urls</th>\n",
       "      <th>description</th>\n",
       "      <th>area_total</th>\n",
       "      <th>area_roof</th>\n",
       "      <th>bath</th>\n",
       "      <th>bed</th>\n",
       "      <th>parking</th>\n",
       "      <th>antiquity</th>\n",
       "      <th>general_features</th>\n",
       "      <th>services</th>\n",
       "      <th>ambience</th>\n",
       "      <th>property_url</th>\n",
       "    </tr>\n",
       "    <tr>\n",
       "      <th>id</th>\n",
       "      <th></th>\n",
       "      <th></th>\n",
       "      <th></th>\n",
       "      <th></th>\n",
       "      <th></th>\n",
       "      <th></th>\n",
       "      <th></th>\n",
       "      <th></th>\n",
       "      <th></th>\n",
       "      <th></th>\n",
       "      <th></th>\n",
       "      <th></th>\n",
       "      <th></th>\n",
       "      <th></th>\n",
       "      <th></th>\n",
       "      <th></th>\n",
       "      <th></th>\n",
       "    </tr>\n",
       "  </thead>\n",
       "  <tbody>\n",
       "    <tr>\n",
       "      <th>22414</th>\n",
       "      <td>Venta Dpto 1er Piso y Cochera</td>\n",
       "      <td>S/383250</td>\n",
       "      <td>USD105000</td>\n",
       "      <td>Calle Monsefú 189, San MiguelLima, Lima</td>\n",
       "      <td>Departamento</td>\n",
       "      <td>{https://img10.naventcdn.com/avisos/resize/111...</td>\n",
       "      <td>ÁREA: 70 M2 &lt;br&gt;&lt;br&gt;Ubicado en calle Monsefú c...</td>\n",
       "      <td>70m²</td>\n",
       "      <td>70m²</td>\n",
       "      <td>2</td>\n",
       "      <td>2.0</td>\n",
       "      <td>NaN</td>\n",
       "      <td>8</td>\n",
       "      <td>{\"Sistema contra incendios\",\"Reposteros en coc...</td>\n",
       "      <td>{\"Video vigilancia\",\"Area de lavandería\",\"Sist...</td>\n",
       "      <td>{Desagüe,\"Dormitorio principal con baño\"}</td>\n",
       "      <td>https://urbania.pe:443/inmueble/clasificado/ve...</td>\n",
       "    </tr>\n",
       "    <tr>\n",
       "      <th>22415</th>\n",
       "      <td>Moderno Flat de 2 Dorm. en Magdalena del Mar</td>\n",
       "      <td>S/703000</td>\n",
       "      <td>USD190000</td>\n",
       "      <td>Juan de Aliaga, MagdalenaLima, Lima</td>\n",
       "      <td>Departamento</td>\n",
       "      <td>{https://img10.naventcdn.com/avisos/resize/111...</td>\n",
       "      <td>**Ideal para inversión** &lt;br&gt;&lt;br&gt;Precioso flat...</td>\n",
       "      <td>87m²</td>\n",
       "      <td>90m²</td>\n",
       "      <td>2</td>\n",
       "      <td>2.0</td>\n",
       "      <td>NaN</td>\n",
       "      <td>4</td>\n",
       "      <td>{\"Sistema contra incendios\",\"Reposteros en coc...</td>\n",
       "      <td>{\"Video vigilancia\",\"Areas verdes\",\"Línea blan...</td>\n",
       "      <td>{Desagüe,\"Sala de estar\",\"Hall de ingreso\",\"Ar...</td>\n",
       "      <td>https://urbania.pe:443/inmueble/clasificado/ve...</td>\n",
       "    </tr>\n",
       "  </tbody>\n",
       "</table>\n",
       "</div>"
      ],
      "text/plain": [
       "                                              title   price_S  price_USD  \\\n",
       "id                                                                         \n",
       "22414                 Venta Dpto 1er Piso y Cochera  S/383250  USD105000   \n",
       "22415  Moderno Flat de 2 Dorm. en Magdalena del Mar  S/703000  USD190000   \n",
       "\n",
       "                                       address property_type  \\\n",
       "id                                                             \n",
       "22414  Calle Monsefú 189, San MiguelLima, Lima  Departamento   \n",
       "22415      Juan de Aliaga, MagdalenaLima, Lima  Departamento   \n",
       "\n",
       "                                              image_urls  \\\n",
       "id                                                         \n",
       "22414  {https://img10.naventcdn.com/avisos/resize/111...   \n",
       "22415  {https://img10.naventcdn.com/avisos/resize/111...   \n",
       "\n",
       "                                             description area_total area_roof  \\\n",
       "id                                                                              \n",
       "22414  ÁREA: 70 M2 <br><br>Ubicado en calle Monsefú c...       70m²      70m²   \n",
       "22415  **Ideal para inversión** <br><br>Precioso flat...       87m²      90m²   \n",
       "\n",
       "      bath  bed  parking antiquity  \\\n",
       "id                                   \n",
       "22414    2  2.0      NaN         8   \n",
       "22415    2  2.0      NaN         4   \n",
       "\n",
       "                                        general_features  \\\n",
       "id                                                         \n",
       "22414  {\"Sistema contra incendios\",\"Reposteros en coc...   \n",
       "22415  {\"Sistema contra incendios\",\"Reposteros en coc...   \n",
       "\n",
       "                                                services  \\\n",
       "id                                                         \n",
       "22414  {\"Video vigilancia\",\"Area de lavandería\",\"Sist...   \n",
       "22415  {\"Video vigilancia\",\"Areas verdes\",\"Línea blan...   \n",
       "\n",
       "                                                ambience  \\\n",
       "id                                                         \n",
       "22414          {Desagüe,\"Dormitorio principal con baño\"}   \n",
       "22415  {Desagüe,\"Sala de estar\",\"Hall de ingreso\",\"Ar...   \n",
       "\n",
       "                                            property_url  \n",
       "id                                                        \n",
       "22414  https://urbania.pe:443/inmueble/clasificado/ve...  \n",
       "22415  https://urbania.pe:443/inmueble/clasificado/ve...  "
      ]
     },
     "execution_count": 9,
     "metadata": {},
     "output_type": "execute_result"
    }
   ],
   "source": [
    "id_others = df_others.loc[~df_others['title'].str.contains(pattern, case=False, regex=True)].index.to_list()\n",
    "df = df[~df.index.isin(id_others)]\n",
    "print(df.shape)\n",
    "df.tail(2)"
   ]
  },
  {
   "cell_type": "markdown",
   "metadata": {},
   "source": [
    "Now our dataframe has only values related to housing types. Let's update that values which are like 'Otros'"
   ]
  },
  {
   "cell_type": "code",
   "execution_count": 10,
   "metadata": {},
   "outputs": [
    {
     "name": "stdout",
     "output_type": "stream",
     "text": [
      "(16815, 17)\n"
     ]
    },
    {
     "data": {
      "text/html": [
       "<div>\n",
       "<style scoped>\n",
       "    .dataframe tbody tr th:only-of-type {\n",
       "        vertical-align: middle;\n",
       "    }\n",
       "\n",
       "    .dataframe tbody tr th {\n",
       "        vertical-align: top;\n",
       "    }\n",
       "\n",
       "    .dataframe thead th {\n",
       "        text-align: right;\n",
       "    }\n",
       "</style>\n",
       "<table border=\"1\" class=\"dataframe\">\n",
       "  <thead>\n",
       "    <tr style=\"text-align: right;\">\n",
       "      <th></th>\n",
       "      <th>title</th>\n",
       "      <th>price_S</th>\n",
       "      <th>price_USD</th>\n",
       "      <th>address</th>\n",
       "      <th>property_type</th>\n",
       "      <th>image_urls</th>\n",
       "      <th>description</th>\n",
       "      <th>area_total</th>\n",
       "      <th>area_roof</th>\n",
       "      <th>bath</th>\n",
       "      <th>bed</th>\n",
       "      <th>parking</th>\n",
       "      <th>antiquity</th>\n",
       "      <th>general_features</th>\n",
       "      <th>services</th>\n",
       "      <th>ambience</th>\n",
       "      <th>property_url</th>\n",
       "    </tr>\n",
       "    <tr>\n",
       "      <th>id</th>\n",
       "      <th></th>\n",
       "      <th></th>\n",
       "      <th></th>\n",
       "      <th></th>\n",
       "      <th></th>\n",
       "      <th></th>\n",
       "      <th></th>\n",
       "      <th></th>\n",
       "      <th></th>\n",
       "      <th></th>\n",
       "      <th></th>\n",
       "      <th></th>\n",
       "      <th></th>\n",
       "      <th></th>\n",
       "      <th></th>\n",
       "      <th></th>\n",
       "      <th></th>\n",
       "    </tr>\n",
       "  </thead>\n",
       "  <tbody>\n",
       "  </tbody>\n",
       "</table>\n",
       "</div>"
      ],
      "text/plain": [
       "Empty DataFrame\n",
       "Columns: [title, price_S, price_USD, address, property_type, image_urls, description, area_total, area_roof, bath, bed, parking, antiquity, general_features, services, ambience, property_url]\n",
       "Index: []"
      ]
     },
     "execution_count": 10,
     "metadata": {},
     "output_type": "execute_result"
    }
   ],
   "source": [
    "mask = df['property_type'] == 'Otros'\n",
    "other_values = df.loc[mask, 'title'].str.extract('({})'.format(pattern))[0]\n",
    "df.loc[mask, 'property_type'] = other_values\n",
    "print(df.shape)\n",
    "df.loc[df['property_type'] == 'Otros']"
   ]
  },
  {
   "cell_type": "code",
   "execution_count": 11,
   "metadata": {},
   "outputs": [
    {
     "data": {
      "text/html": [
       "<div>\n",
       "<style scoped>\n",
       "    .dataframe tbody tr th:only-of-type {\n",
       "        vertical-align: middle;\n",
       "    }\n",
       "\n",
       "    .dataframe tbody tr th {\n",
       "        vertical-align: top;\n",
       "    }\n",
       "\n",
       "    .dataframe thead th {\n",
       "        text-align: right;\n",
       "    }\n",
       "</style>\n",
       "<table border=\"1\" class=\"dataframe\">\n",
       "  <thead>\n",
       "    <tr style=\"text-align: right;\">\n",
       "      <th></th>\n",
       "      <th>title</th>\n",
       "      <th>price_S</th>\n",
       "      <th>price_USD</th>\n",
       "      <th>address</th>\n",
       "      <th>property_type</th>\n",
       "      <th>image_urls</th>\n",
       "      <th>description</th>\n",
       "      <th>area_total</th>\n",
       "      <th>area_roof</th>\n",
       "      <th>bath</th>\n",
       "      <th>bed</th>\n",
       "      <th>parking</th>\n",
       "      <th>antiquity</th>\n",
       "      <th>general_features</th>\n",
       "      <th>services</th>\n",
       "      <th>ambience</th>\n",
       "      <th>property_url</th>\n",
       "    </tr>\n",
       "    <tr>\n",
       "      <th>id</th>\n",
       "      <th></th>\n",
       "      <th></th>\n",
       "      <th></th>\n",
       "      <th></th>\n",
       "      <th></th>\n",
       "      <th></th>\n",
       "      <th></th>\n",
       "      <th></th>\n",
       "      <th></th>\n",
       "      <th></th>\n",
       "      <th></th>\n",
       "      <th></th>\n",
       "      <th></th>\n",
       "      <th></th>\n",
       "      <th></th>\n",
       "      <th></th>\n",
       "      <th></th>\n",
       "    </tr>\n",
       "  </thead>\n",
       "  <tbody>\n",
       "    <tr>\n",
       "      <th>0</th>\n",
       "      <td>Proyecto inmobilario en venta en Calle Coronel...</td>\n",
       "      <td>S/445388</td>\n",
       "      <td>USD120375</td>\n",
       "      <td>Calle Coronel Odriozola 128, San IsidroLima, Lima</td>\n",
       "      <td>Departamento</td>\n",
       "      <td>{https://img10.naventcdn.com/avisos/resize/111...</td>\n",
       "      <td>Mozz se deriva de la palabra en italiano mozio...</td>\n",
       "      <td>NaN</td>\n",
       "      <td>45m²</td>\n",
       "      <td>NaN</td>\n",
       "      <td>NaN</td>\n",
       "      <td>NaN</td>\n",
       "      <td>A estrenar</td>\n",
       "      <td>{\"Promotion Description\",\"Promotion Title\",\"Nú...</td>\n",
       "      <td>{\"Areas verdes\"}</td>\n",
       "      <td>NaN</td>\n",
       "      <td>https://urbania.pe/inmueble/proyecto/ememvein-...</td>\n",
       "    </tr>\n",
       "    <tr>\n",
       "      <th>1</th>\n",
       "      <td>Proyecto inmobilario en venta en Calle Coronel...</td>\n",
       "      <td>S/441323</td>\n",
       "      <td>USD119277</td>\n",
       "      <td>Calle Coronel Odriozola 128, San IsidroLima, Lima</td>\n",
       "      <td>Departamento</td>\n",
       "      <td>{https://img10.naventcdn.com/avisos/resize/111...</td>\n",
       "      <td>Mozz se deriva de la palabra en italiano mozio...</td>\n",
       "      <td>45m²</td>\n",
       "      <td>45m²</td>\n",
       "      <td>NaN</td>\n",
       "      <td>NaN</td>\n",
       "      <td>NaN</td>\n",
       "      <td>A estrenar</td>\n",
       "      <td>{\"Promotion Description\",\"Promotion Title\",\"Nú...</td>\n",
       "      <td>{\"Areas verdes\"}</td>\n",
       "      <td>NaN</td>\n",
       "      <td>https://urbania.pe/inmueble/proyecto/ememvein-...</td>\n",
       "    </tr>\n",
       "  </tbody>\n",
       "</table>\n",
       "</div>"
      ],
      "text/plain": [
       "                                                title   price_S  price_USD  \\\n",
       "id                                                                           \n",
       "0   Proyecto inmobilario en venta en Calle Coronel...  S/445388  USD120375   \n",
       "1   Proyecto inmobilario en venta en Calle Coronel...  S/441323  USD119277   \n",
       "\n",
       "                                              address property_type  \\\n",
       "id                                                                    \n",
       "0   Calle Coronel Odriozola 128, San IsidroLima, Lima  Departamento   \n",
       "1   Calle Coronel Odriozola 128, San IsidroLima, Lima  Departamento   \n",
       "\n",
       "                                           image_urls  \\\n",
       "id                                                      \n",
       "0   {https://img10.naventcdn.com/avisos/resize/111...   \n",
       "1   {https://img10.naventcdn.com/avisos/resize/111...   \n",
       "\n",
       "                                          description area_total area_roof  \\\n",
       "id                                                                           \n",
       "0   Mozz se deriva de la palabra en italiano mozio...        NaN      45m²   \n",
       "1   Mozz se deriva de la palabra en italiano mozio...       45m²      45m²   \n",
       "\n",
       "   bath  bed  parking   antiquity  \\\n",
       "id                                  \n",
       "0   NaN  NaN      NaN  A estrenar   \n",
       "1   NaN  NaN      NaN  A estrenar   \n",
       "\n",
       "                                     general_features          services  \\\n",
       "id                                                                        \n",
       "0   {\"Promotion Description\",\"Promotion Title\",\"Nú...  {\"Areas verdes\"}   \n",
       "1   {\"Promotion Description\",\"Promotion Title\",\"Nú...  {\"Areas verdes\"}   \n",
       "\n",
       "   ambience                                       property_url  \n",
       "id                                                              \n",
       "0       NaN  https://urbania.pe/inmueble/proyecto/ememvein-...  \n",
       "1       NaN  https://urbania.pe/inmueble/proyecto/ememvein-...  "
      ]
     },
     "execution_count": 11,
     "metadata": {},
     "output_type": "execute_result"
    }
   ],
   "source": [
    "df.head(2)"
   ]
  },
  {
   "cell_type": "markdown",
   "metadata": {},
   "source": [
    "Now we have the type of estates that we need. So the next step is drop that instances than not have the mandatory values, as price, address, area, number of bedroom and bathroom.\n",
    "\n",
    "First, Let's see how many NaN value per column there are"
   ]
  },
  {
   "cell_type": "code",
   "execution_count": 12,
   "metadata": {},
   "outputs": [
    {
     "data": {
      "text/plain": [
       "title                   0\n",
       "price_S                34\n",
       "price_USD            2432\n",
       "address                 0\n",
       "property_type           1\n",
       "image_urls              0\n",
       "description             1\n",
       "area_total            449\n",
       "area_roof            1478\n",
       "bath                 2719\n",
       "bed                  1832\n",
       "parking             11551\n",
       "antiquity               0\n",
       "general_features     1429\n",
       "services             5239\n",
       "ambience            10095\n",
       "property_url            0\n",
       "dtype: int64"
      ]
     },
     "execution_count": 12,
     "metadata": {},
     "output_type": "execute_result"
    }
   ],
   "source": [
    "df.isna().sum()"
   ]
  },
  {
   "cell_type": "markdown",
   "metadata": {},
   "source": [
    "## Price Cleansing"
   ]
  },
  {
   "cell_type": "markdown",
   "metadata": {},
   "source": [
    "There are two type of currency, Soles (Peru's local currency) and USD."
   ]
  },
  {
   "cell_type": "code",
   "execution_count": 13,
   "metadata": {},
   "outputs": [
    {
     "data": {
      "text/html": [
       "<div>\n",
       "<style scoped>\n",
       "    .dataframe tbody tr th:only-of-type {\n",
       "        vertical-align: middle;\n",
       "    }\n",
       "\n",
       "    .dataframe tbody tr th {\n",
       "        vertical-align: top;\n",
       "    }\n",
       "\n",
       "    .dataframe thead th {\n",
       "        text-align: right;\n",
       "    }\n",
       "</style>\n",
       "<table border=\"1\" class=\"dataframe\">\n",
       "  <thead>\n",
       "    <tr style=\"text-align: right;\">\n",
       "      <th></th>\n",
       "      <th>title</th>\n",
       "      <th>price_S</th>\n",
       "      <th>price_USD</th>\n",
       "      <th>address</th>\n",
       "      <th>property_type</th>\n",
       "      <th>image_urls</th>\n",
       "      <th>description</th>\n",
       "      <th>area_total</th>\n",
       "      <th>area_roof</th>\n",
       "      <th>bath</th>\n",
       "      <th>bed</th>\n",
       "      <th>parking</th>\n",
       "      <th>antiquity</th>\n",
       "      <th>general_features</th>\n",
       "      <th>services</th>\n",
       "      <th>ambience</th>\n",
       "      <th>property_url</th>\n",
       "    </tr>\n",
       "    <tr>\n",
       "      <th>id</th>\n",
       "      <th></th>\n",
       "      <th></th>\n",
       "      <th></th>\n",
       "      <th></th>\n",
       "      <th></th>\n",
       "      <th></th>\n",
       "      <th></th>\n",
       "      <th></th>\n",
       "      <th></th>\n",
       "      <th></th>\n",
       "      <th></th>\n",
       "      <th></th>\n",
       "      <th></th>\n",
       "      <th></th>\n",
       "      <th></th>\n",
       "      <th></th>\n",
       "      <th></th>\n",
       "    </tr>\n",
       "  </thead>\n",
       "  <tbody>\n",
       "    <tr>\n",
       "      <th>0</th>\n",
       "      <td>Proyecto inmobilario en venta en Calle Coronel...</td>\n",
       "      <td>445388.0</td>\n",
       "      <td>120375.0</td>\n",
       "      <td>Calle Coronel Odriozola 128, San IsidroLima, Lima</td>\n",
       "      <td>Departamento</td>\n",
       "      <td>{https://img10.naventcdn.com/avisos/resize/111...</td>\n",
       "      <td>Mozz se deriva de la palabra en italiano mozio...</td>\n",
       "      <td>NaN</td>\n",
       "      <td>45m²</td>\n",
       "      <td>NaN</td>\n",
       "      <td>NaN</td>\n",
       "      <td>NaN</td>\n",
       "      <td>A estrenar</td>\n",
       "      <td>{\"Promotion Description\",\"Promotion Title\",\"Nú...</td>\n",
       "      <td>{\"Areas verdes\"}</td>\n",
       "      <td>NaN</td>\n",
       "      <td>https://urbania.pe/inmueble/proyecto/ememvein-...</td>\n",
       "    </tr>\n",
       "    <tr>\n",
       "      <th>1</th>\n",
       "      <td>Proyecto inmobilario en venta en Calle Coronel...</td>\n",
       "      <td>441323.0</td>\n",
       "      <td>119277.0</td>\n",
       "      <td>Calle Coronel Odriozola 128, San IsidroLima, Lima</td>\n",
       "      <td>Departamento</td>\n",
       "      <td>{https://img10.naventcdn.com/avisos/resize/111...</td>\n",
       "      <td>Mozz se deriva de la palabra en italiano mozio...</td>\n",
       "      <td>45m²</td>\n",
       "      <td>45m²</td>\n",
       "      <td>NaN</td>\n",
       "      <td>NaN</td>\n",
       "      <td>NaN</td>\n",
       "      <td>A estrenar</td>\n",
       "      <td>{\"Promotion Description\",\"Promotion Title\",\"Nú...</td>\n",
       "      <td>{\"Areas verdes\"}</td>\n",
       "      <td>NaN</td>\n",
       "      <td>https://urbania.pe/inmueble/proyecto/ememvein-...</td>\n",
       "    </tr>\n",
       "  </tbody>\n",
       "</table>\n",
       "</div>"
      ],
      "text/plain": [
       "                                                title   price_S  price_USD  \\\n",
       "id                                                                           \n",
       "0   Proyecto inmobilario en venta en Calle Coronel...  445388.0   120375.0   \n",
       "1   Proyecto inmobilario en venta en Calle Coronel...  441323.0   119277.0   \n",
       "\n",
       "                                              address property_type  \\\n",
       "id                                                                    \n",
       "0   Calle Coronel Odriozola 128, San IsidroLima, Lima  Departamento   \n",
       "1   Calle Coronel Odriozola 128, San IsidroLima, Lima  Departamento   \n",
       "\n",
       "                                           image_urls  \\\n",
       "id                                                      \n",
       "0   {https://img10.naventcdn.com/avisos/resize/111...   \n",
       "1   {https://img10.naventcdn.com/avisos/resize/111...   \n",
       "\n",
       "                                          description area_total area_roof  \\\n",
       "id                                                                           \n",
       "0   Mozz se deriva de la palabra en italiano mozio...        NaN      45m²   \n",
       "1   Mozz se deriva de la palabra en italiano mozio...       45m²      45m²   \n",
       "\n",
       "   bath  bed  parking   antiquity  \\\n",
       "id                                  \n",
       "0   NaN  NaN      NaN  A estrenar   \n",
       "1   NaN  NaN      NaN  A estrenar   \n",
       "\n",
       "                                     general_features          services  \\\n",
       "id                                                                        \n",
       "0   {\"Promotion Description\",\"Promotion Title\",\"Nú...  {\"Areas verdes\"}   \n",
       "1   {\"Promotion Description\",\"Promotion Title\",\"Nú...  {\"Areas verdes\"}   \n",
       "\n",
       "   ambience                                       property_url  \n",
       "id                                                              \n",
       "0       NaN  https://urbania.pe/inmueble/proyecto/ememvein-...  \n",
       "1       NaN  https://urbania.pe/inmueble/proyecto/ememvein-...  "
      ]
     },
     "execution_count": 13,
     "metadata": {},
     "output_type": "execute_result"
    }
   ],
   "source": [
    "df['price_S'] = df['price_S'].str.extract('(\\d+)').astype(float)\n",
    "df['price_USD'] = df['price_USD'].str.extract('(\\d+)').astype(float)\n",
    "df.head(2)\n"
   ]
  },
  {
   "cell_type": "code",
   "execution_count": 14,
   "metadata": {},
   "outputs": [
    {
     "data": {
      "text/plain": [
       "price_S        35\n",
       "price_USD    2432\n",
       "dtype: int64"
      ]
     },
     "execution_count": 14,
     "metadata": {},
     "output_type": "execute_result"
    }
   ],
   "source": [
    "df[['price_S', 'price_USD']].isna().sum()"
   ]
  },
  {
   "cell_type": "markdown",
   "metadata": {},
   "source": [
    "Then price_S has less NaN values than price_USD. Let's drop that instance that both prices are NaN"
   ]
  },
  {
   "cell_type": "code",
   "execution_count": 15,
   "metadata": {},
   "outputs": [
    {
     "data": {
      "text/plain": [
       "(16781, 17)"
      ]
     },
     "execution_count": 15,
     "metadata": {},
     "output_type": "execute_result"
    }
   ],
   "source": [
    "mask = (df['price_S'].isna()) & (df['price_USD'].isna())\n",
    "df = df[~mask]\n",
    "df.shape"
   ]
  },
  {
   "cell_type": "markdown",
   "metadata": {},
   "source": [
    "There prices are 0 instead of being NaN values. Let's drop them out as well. This happends because the website return a status code 404"
   ]
  },
  {
   "cell_type": "code",
   "execution_count": 16,
   "metadata": {},
   "outputs": [
    {
     "data": {
      "text/plain": [
       "(16770, 17)"
      ]
     },
     "execution_count": 16,
     "metadata": {},
     "output_type": "execute_result"
    }
   ],
   "source": [
    "mask = (df['price_S'] == 0) & (df['price_USD'].isna())\n",
    "df = df[~mask]\n",
    "df.shape"
   ]
  },
  {
   "cell_type": "markdown",
   "metadata": {},
   "source": [
    "Now let's create a new column that contains the price only in USD."
   ]
  },
  {
   "cell_type": "code",
   "execution_count": 17,
   "metadata": {},
   "outputs": [
    {
     "data": {
      "text/html": [
       "<div>\n",
       "<style scoped>\n",
       "    .dataframe tbody tr th:only-of-type {\n",
       "        vertical-align: middle;\n",
       "    }\n",
       "\n",
       "    .dataframe tbody tr th {\n",
       "        vertical-align: top;\n",
       "    }\n",
       "\n",
       "    .dataframe thead th {\n",
       "        text-align: right;\n",
       "    }\n",
       "</style>\n",
       "<table border=\"1\" class=\"dataframe\">\n",
       "  <thead>\n",
       "    <tr style=\"text-align: right;\">\n",
       "      <th></th>\n",
       "      <th>title</th>\n",
       "      <th>price_S</th>\n",
       "      <th>price_USD</th>\n",
       "      <th>address</th>\n",
       "      <th>property_type</th>\n",
       "      <th>image_urls</th>\n",
       "      <th>description</th>\n",
       "      <th>area_total</th>\n",
       "      <th>area_roof</th>\n",
       "      <th>bath</th>\n",
       "      <th>bed</th>\n",
       "      <th>parking</th>\n",
       "      <th>antiquity</th>\n",
       "      <th>general_features</th>\n",
       "      <th>services</th>\n",
       "      <th>ambience</th>\n",
       "      <th>property_url</th>\n",
       "      <th>price</th>\n",
       "    </tr>\n",
       "    <tr>\n",
       "      <th>id</th>\n",
       "      <th></th>\n",
       "      <th></th>\n",
       "      <th></th>\n",
       "      <th></th>\n",
       "      <th></th>\n",
       "      <th></th>\n",
       "      <th></th>\n",
       "      <th></th>\n",
       "      <th></th>\n",
       "      <th></th>\n",
       "      <th></th>\n",
       "      <th></th>\n",
       "      <th></th>\n",
       "      <th></th>\n",
       "      <th></th>\n",
       "      <th></th>\n",
       "      <th></th>\n",
       "      <th></th>\n",
       "    </tr>\n",
       "  </thead>\n",
       "  <tbody>\n",
       "    <tr>\n",
       "      <th>0</th>\n",
       "      <td>Proyecto inmobilario en venta en Calle Coronel...</td>\n",
       "      <td>445388.0</td>\n",
       "      <td>120375.0</td>\n",
       "      <td>Calle Coronel Odriozola 128, San IsidroLima, Lima</td>\n",
       "      <td>Departamento</td>\n",
       "      <td>{https://img10.naventcdn.com/avisos/resize/111...</td>\n",
       "      <td>Mozz se deriva de la palabra en italiano mozio...</td>\n",
       "      <td>NaN</td>\n",
       "      <td>45m²</td>\n",
       "      <td>NaN</td>\n",
       "      <td>NaN</td>\n",
       "      <td>NaN</td>\n",
       "      <td>A estrenar</td>\n",
       "      <td>{\"Promotion Description\",\"Promotion Title\",\"Nú...</td>\n",
       "      <td>{\"Areas verdes\"}</td>\n",
       "      <td>NaN</td>\n",
       "      <td>https://urbania.pe/inmueble/proyecto/ememvein-...</td>\n",
       "      <td>120375.0</td>\n",
       "    </tr>\n",
       "    <tr>\n",
       "      <th>1</th>\n",
       "      <td>Proyecto inmobilario en venta en Calle Coronel...</td>\n",
       "      <td>441323.0</td>\n",
       "      <td>119277.0</td>\n",
       "      <td>Calle Coronel Odriozola 128, San IsidroLima, Lima</td>\n",
       "      <td>Departamento</td>\n",
       "      <td>{https://img10.naventcdn.com/avisos/resize/111...</td>\n",
       "      <td>Mozz se deriva de la palabra en italiano mozio...</td>\n",
       "      <td>45m²</td>\n",
       "      <td>45m²</td>\n",
       "      <td>NaN</td>\n",
       "      <td>NaN</td>\n",
       "      <td>NaN</td>\n",
       "      <td>A estrenar</td>\n",
       "      <td>{\"Promotion Description\",\"Promotion Title\",\"Nú...</td>\n",
       "      <td>{\"Areas verdes\"}</td>\n",
       "      <td>NaN</td>\n",
       "      <td>https://urbania.pe/inmueble/proyecto/ememvein-...</td>\n",
       "      <td>119277.0</td>\n",
       "    </tr>\n",
       "  </tbody>\n",
       "</table>\n",
       "</div>"
      ],
      "text/plain": [
       "                                                title   price_S  price_USD  \\\n",
       "id                                                                           \n",
       "0   Proyecto inmobilario en venta en Calle Coronel...  445388.0   120375.0   \n",
       "1   Proyecto inmobilario en venta en Calle Coronel...  441323.0   119277.0   \n",
       "\n",
       "                                              address property_type  \\\n",
       "id                                                                    \n",
       "0   Calle Coronel Odriozola 128, San IsidroLima, Lima  Departamento   \n",
       "1   Calle Coronel Odriozola 128, San IsidroLima, Lima  Departamento   \n",
       "\n",
       "                                           image_urls  \\\n",
       "id                                                      \n",
       "0   {https://img10.naventcdn.com/avisos/resize/111...   \n",
       "1   {https://img10.naventcdn.com/avisos/resize/111...   \n",
       "\n",
       "                                          description area_total area_roof  \\\n",
       "id                                                                           \n",
       "0   Mozz se deriva de la palabra en italiano mozio...        NaN      45m²   \n",
       "1   Mozz se deriva de la palabra en italiano mozio...       45m²      45m²   \n",
       "\n",
       "   bath  bed  parking   antiquity  \\\n",
       "id                                  \n",
       "0   NaN  NaN      NaN  A estrenar   \n",
       "1   NaN  NaN      NaN  A estrenar   \n",
       "\n",
       "                                     general_features          services  \\\n",
       "id                                                                        \n",
       "0   {\"Promotion Description\",\"Promotion Title\",\"Nú...  {\"Areas verdes\"}   \n",
       "1   {\"Promotion Description\",\"Promotion Title\",\"Nú...  {\"Areas verdes\"}   \n",
       "\n",
       "   ambience                                       property_url     price  \n",
       "id                                                                        \n",
       "0       NaN  https://urbania.pe/inmueble/proyecto/ememvein-...  120375.0  \n",
       "1       NaN  https://urbania.pe/inmueble/proyecto/ememvein-...  119277.0  "
      ]
     },
     "execution_count": 17,
     "metadata": {},
     "output_type": "execute_result"
    }
   ],
   "source": [
    "df['price'] = df['price_USD']\n",
    "df.head(2)"
   ]
  },
  {
   "cell_type": "code",
   "execution_count": 18,
   "metadata": {},
   "outputs": [],
   "source": [
    "mask = (df['price'].isna()) | (df['price'] == 0)\n",
    "df.loc[mask, 'price'] = round(df.loc[mask, 'price_S']/3.7, 1)"
   ]
  },
  {
   "cell_type": "code",
   "execution_count": 19,
   "metadata": {},
   "outputs": [
    {
     "data": {
      "text/plain": [
       "price_S         1\n",
       "price_USD    2387\n",
       "price           0\n",
       "dtype: int64"
      ]
     },
     "execution_count": 19,
     "metadata": {},
     "output_type": "execute_result"
    }
   ],
   "source": [
    "df[['price_S', 'price_USD', 'price']].isna().sum()"
   ]
  },
  {
   "cell_type": "code",
   "execution_count": 20,
   "metadata": {},
   "outputs": [
    {
     "data": {
      "text/plain": [
       "(16770, 18)"
      ]
     },
     "execution_count": 20,
     "metadata": {},
     "output_type": "execute_result"
    }
   ],
   "source": [
    "df.shape"
   ]
  },
  {
   "cell_type": "markdown",
   "metadata": {},
   "source": [
    "Then all instance has a price which currency is USD."
   ]
  },
  {
   "cell_type": "markdown",
   "metadata": {},
   "source": [
    "## Address, Area, Bed and Bath Cleansing"
   ]
  },
  {
   "cell_type": "markdown",
   "metadata": {},
   "source": [
    "Into to mandatory variable which cannot be nulls, we can find the address, area, number of bedrooms and bathromms. Let's drop that instance which info is no enough\n"
   ]
  },
  {
   "cell_type": "code",
   "execution_count": 21,
   "metadata": {},
   "outputs": [
    {
     "data": {
      "text/plain": [
       "address          0\n",
       "area_total     448\n",
       "area_roof     1478\n",
       "bath          2712\n",
       "bed           1825\n",
       "dtype: int64"
      ]
     },
     "execution_count": 21,
     "metadata": {},
     "output_type": "execute_result"
    }
   ],
   "source": [
    "df[['address', 'area_total', 'area_roof', 'bath', 'bed']].isna().sum()"
   ]
  },
  {
   "cell_type": "markdown",
   "metadata": {},
   "source": [
    "This dataframe has no empty values for address field. Let's work out the others"
   ]
  },
  {
   "cell_type": "markdown",
   "metadata": {},
   "source": [
    "### Areas"
   ]
  },
  {
   "cell_type": "markdown",
   "metadata": {},
   "source": [
    "Let's see the NaN values for both area and if can we extract that info from the description. For instance"
   ]
  },
  {
   "cell_type": "code",
   "execution_count": 22,
   "metadata": {},
   "outputs": [
    {
     "data": {
      "text/plain": [
       "id\n",
       "0             45m2\n",
       "209         105 m2\n",
       "289       400.86m2\n",
       "293           64m2\n",
       "342          147m2\n",
       "           ...    \n",
       "22186       264 M2\n",
       "22267       653 m2\n",
       "22334    100.57 m2\n",
       "22337        230m2\n",
       "22356         60m2\n",
       "Name: 0, Length: 209, dtype: object"
      ]
     },
     "execution_count": 22,
     "metadata": {},
     "output_type": "execute_result"
    }
   ],
   "source": [
    "mask = (df['area_total'].isna())\n",
    "df.loc[mask, 'description'].str.extract('(\\d+.{1}\\d*\\s*(m²|m2|M\\w*))').dropna()[0]"
   ]
  },
  {
   "cell_type": "markdown",
   "metadata": {},
   "source": [
    "That means we can extract area from the description."
   ]
  },
  {
   "cell_type": "code",
   "execution_count": 23,
   "metadata": {},
   "outputs": [
    {
     "data": {
      "text/plain": [
       "area_total     448\n",
       "area_roof     1478\n",
       "area           239\n",
       "dtype: int64"
      ]
     },
     "execution_count": 23,
     "metadata": {},
     "output_type": "execute_result"
    }
   ],
   "source": [
    "df['area'] = df['area_total']\n",
    "mask = (df['area'].isna())\n",
    "ids_area = df.loc[mask, 'description'].str.extract('(\\d+.{1}\\d*\\s*(m²|m2|M\\w*))').dropna().index.to_list()\n",
    "df.loc[ids_area, 'area'] = df.loc[mask, 'description'].str.extract('(\\d+.{1}\\d*\\s*(m²|m2|M\\w*))').dropna()[0]\n",
    "df[['area_total', 'area_roof', 'area']].isna().sum()"
   ]
  },
  {
   "cell_type": "markdown",
   "metadata": {},
   "source": [
    "Moreover, it can be if 'area_total' is NaN value, 'area_roof' could not be. In that case we define the first one as the second one."
   ]
  },
  {
   "cell_type": "code",
   "execution_count": 24,
   "metadata": {},
   "outputs": [
    {
     "data": {
      "text/plain": [
       "area_total     448\n",
       "area_roof     1478\n",
       "area            10\n",
       "dtype: int64"
      ]
     },
     "execution_count": 24,
     "metadata": {},
     "output_type": "execute_result"
    }
   ],
   "source": [
    "mask = (df['area_total'].isna()) & ~(df['area_roof'].isna())\n",
    "df.loc[mask, 'area'] = df.loc[mask,'area_roof']\n",
    "df[['area_total', 'area_roof', 'area']].isna().sum()"
   ]
  },
  {
   "cell_type": "markdown",
   "metadata": {},
   "source": [
    "The 10 missing values can be dropped out because there's not other way where extract them from"
   ]
  },
  {
   "cell_type": "code",
   "execution_count": 25,
   "metadata": {},
   "outputs": [
    {
     "data": {
      "text/plain": [
       "(16760, 19)"
      ]
     },
     "execution_count": 25,
     "metadata": {},
     "output_type": "execute_result"
    }
   ],
   "source": [
    "mask = (df['area'].isna())\n",
    "df = df[~mask]\n",
    "df.shape"
   ]
  },
  {
   "cell_type": "code",
   "execution_count": 26,
   "metadata": {},
   "outputs": [
    {
     "data": {
      "text/plain": [
       "Index(['title', 'price_S', 'price_USD', 'address', 'property_type',\n",
       "       'image_urls', 'description', 'area_total', 'area_roof', 'bath', 'bed',\n",
       "       'parking', 'antiquity', 'general_features', 'services', 'ambience',\n",
       "       'property_url', 'price', 'area'],\n",
       "      dtype='object')"
      ]
     },
     "execution_count": 26,
     "metadata": {},
     "output_type": "execute_result"
    }
   ],
   "source": [
    "df.columns"
   ]
  },
  {
   "cell_type": "markdown",
   "metadata": {},
   "source": [
    "### Bed & Bath"
   ]
  },
  {
   "cell_type": "markdown",
   "metadata": {},
   "source": [
    "For the fields Bed and Bath we will apply on them similar transformations. First let's see where are missing values and if we can extract data from the description. Otherwise, in the bath case we could input missing data according to average or median value of no outlier data."
   ]
  },
  {
   "cell_type": "code",
   "execution_count": 27,
   "metadata": {},
   "outputs": [
    {
     "data": {
      "text/plain": [
       "bed     1821\n",
       "bath    2708\n",
       "dtype: int64"
      ]
     },
     "execution_count": 27,
     "metadata": {},
     "output_type": "execute_result"
    }
   ],
   "source": [
    "df['bed'] = df['bed'].astype(float)\n",
    "df['bath'] = df['bath'].astype(float)\n",
    "df[['bed', 'bath']].isna().sum()"
   ]
  },
  {
   "cell_type": "code",
   "execution_count": 28,
   "metadata": {},
   "outputs": [
    {
     "data": {
      "text/html": [
       "<div>\n",
       "<style scoped>\n",
       "    .dataframe tbody tr th:only-of-type {\n",
       "        vertical-align: middle;\n",
       "    }\n",
       "\n",
       "    .dataframe tbody tr th {\n",
       "        vertical-align: top;\n",
       "    }\n",
       "\n",
       "    .dataframe thead th {\n",
       "        text-align: right;\n",
       "    }\n",
       "</style>\n",
       "<table border=\"1\" class=\"dataframe\">\n",
       "  <thead>\n",
       "    <tr style=\"text-align: right;\">\n",
       "      <th></th>\n",
       "      <th>title</th>\n",
       "      <th>price_S</th>\n",
       "      <th>price_USD</th>\n",
       "      <th>address</th>\n",
       "      <th>property_type</th>\n",
       "      <th>image_urls</th>\n",
       "      <th>description</th>\n",
       "      <th>area_total</th>\n",
       "      <th>area_roof</th>\n",
       "      <th>bath</th>\n",
       "      <th>bed</th>\n",
       "      <th>parking</th>\n",
       "      <th>antiquity</th>\n",
       "      <th>general_features</th>\n",
       "      <th>services</th>\n",
       "      <th>ambience</th>\n",
       "      <th>property_url</th>\n",
       "      <th>price</th>\n",
       "      <th>area</th>\n",
       "      <th>total_bath</th>\n",
       "    </tr>\n",
       "    <tr>\n",
       "      <th>id</th>\n",
       "      <th></th>\n",
       "      <th></th>\n",
       "      <th></th>\n",
       "      <th></th>\n",
       "      <th></th>\n",
       "      <th></th>\n",
       "      <th></th>\n",
       "      <th></th>\n",
       "      <th></th>\n",
       "      <th></th>\n",
       "      <th></th>\n",
       "      <th></th>\n",
       "      <th></th>\n",
       "      <th></th>\n",
       "      <th></th>\n",
       "      <th></th>\n",
       "      <th></th>\n",
       "      <th></th>\n",
       "      <th></th>\n",
       "      <th></th>\n",
       "    </tr>\n",
       "  </thead>\n",
       "  <tbody>\n",
       "    <tr>\n",
       "      <th>0</th>\n",
       "      <td>Proyecto inmobilario en venta en Calle Coronel...</td>\n",
       "      <td>445388.0</td>\n",
       "      <td>120375.0</td>\n",
       "      <td>Calle Coronel Odriozola 128, San IsidroLima, Lima</td>\n",
       "      <td>Departamento</td>\n",
       "      <td>{https://img10.naventcdn.com/avisos/resize/111...</td>\n",
       "      <td>Mozz se deriva de la palabra en italiano mozio...</td>\n",
       "      <td>NaN</td>\n",
       "      <td>45m²</td>\n",
       "      <td>NaN</td>\n",
       "      <td>NaN</td>\n",
       "      <td>NaN</td>\n",
       "      <td>A estrenar</td>\n",
       "      <td>{\"Promotion Description\",\"Promotion Title\",\"Nú...</td>\n",
       "      <td>{\"Areas verdes\"}</td>\n",
       "      <td>NaN</td>\n",
       "      <td>https://urbania.pe/inmueble/proyecto/ememvein-...</td>\n",
       "      <td>120375.0</td>\n",
       "      <td>45m²</td>\n",
       "      <td>NaN</td>\n",
       "    </tr>\n",
       "    <tr>\n",
       "      <th>1</th>\n",
       "      <td>Proyecto inmobilario en venta en Calle Coronel...</td>\n",
       "      <td>441323.0</td>\n",
       "      <td>119277.0</td>\n",
       "      <td>Calle Coronel Odriozola 128, San IsidroLima, Lima</td>\n",
       "      <td>Departamento</td>\n",
       "      <td>{https://img10.naventcdn.com/avisos/resize/111...</td>\n",
       "      <td>Mozz se deriva de la palabra en italiano mozio...</td>\n",
       "      <td>45m²</td>\n",
       "      <td>45m²</td>\n",
       "      <td>NaN</td>\n",
       "      <td>NaN</td>\n",
       "      <td>NaN</td>\n",
       "      <td>A estrenar</td>\n",
       "      <td>{\"Promotion Description\",\"Promotion Title\",\"Nú...</td>\n",
       "      <td>{\"Areas verdes\"}</td>\n",
       "      <td>NaN</td>\n",
       "      <td>https://urbania.pe/inmueble/proyecto/ememvein-...</td>\n",
       "      <td>119277.0</td>\n",
       "      <td>45m²</td>\n",
       "      <td>NaN</td>\n",
       "    </tr>\n",
       "  </tbody>\n",
       "</table>\n",
       "</div>"
      ],
      "text/plain": [
       "                                                title   price_S  price_USD  \\\n",
       "id                                                                           \n",
       "0   Proyecto inmobilario en venta en Calle Coronel...  445388.0   120375.0   \n",
       "1   Proyecto inmobilario en venta en Calle Coronel...  441323.0   119277.0   \n",
       "\n",
       "                                              address property_type  \\\n",
       "id                                                                    \n",
       "0   Calle Coronel Odriozola 128, San IsidroLima, Lima  Departamento   \n",
       "1   Calle Coronel Odriozola 128, San IsidroLima, Lima  Departamento   \n",
       "\n",
       "                                           image_urls  \\\n",
       "id                                                      \n",
       "0   {https://img10.naventcdn.com/avisos/resize/111...   \n",
       "1   {https://img10.naventcdn.com/avisos/resize/111...   \n",
       "\n",
       "                                          description area_total area_roof  \\\n",
       "id                                                                           \n",
       "0   Mozz se deriva de la palabra en italiano mozio...        NaN      45m²   \n",
       "1   Mozz se deriva de la palabra en italiano mozio...       45m²      45m²   \n",
       "\n",
       "    bath  bed  parking   antiquity  \\\n",
       "id                                   \n",
       "0    NaN  NaN      NaN  A estrenar   \n",
       "1    NaN  NaN      NaN  A estrenar   \n",
       "\n",
       "                                     general_features          services  \\\n",
       "id                                                                        \n",
       "0   {\"Promotion Description\",\"Promotion Title\",\"Nú...  {\"Areas verdes\"}   \n",
       "1   {\"Promotion Description\",\"Promotion Title\",\"Nú...  {\"Areas verdes\"}   \n",
       "\n",
       "   ambience                                       property_url     price  \\\n",
       "id                                                                         \n",
       "0       NaN  https://urbania.pe/inmueble/proyecto/ememvein-...  120375.0   \n",
       "1       NaN  https://urbania.pe/inmueble/proyecto/ememvein-...  119277.0   \n",
       "\n",
       "    area  total_bath  \n",
       "id                    \n",
       "0   45m²         NaN  \n",
       "1   45m²         NaN  "
      ]
     },
     "execution_count": 28,
     "metadata": {},
     "output_type": "execute_result"
    }
   ],
   "source": [
    "df['total_bath'] = df['bath']\n",
    "df.head(2)"
   ]
  },
  {
   "cell_type": "markdown",
   "metadata": {},
   "source": [
    "Let's see how many value can we extract from the description"
   ]
  },
  {
   "cell_type": "code",
   "execution_count": 29,
   "metadata": {},
   "outputs": [
    {
     "data": {
      "text/plain": [
       "bath          2708\n",
       "total_bath    1657\n",
       "dtype: int64"
      ]
     },
     "execution_count": 29,
     "metadata": {},
     "output_type": "execute_result"
    }
   ],
   "source": [
    "mask = (df['bath'].isna())\n",
    "pattern = 'uno |dos |tres |cuatro |cinco |seis |siete |ocho |nueve '\n",
    "values_bath = df.loc[mask, 'description'].apply(lambda x: x.lower()).str.extract(f'((\\d+\\s*|{pattern})baño)').dropna()\n",
    "df.loc[values_bath.index.to_list(), 'total_bath'] = values_bath[0].str.extract('(\\d+)').astype(float)[0]\n",
    "df[['bath', 'total_bath']].isna().sum()"
   ]
  },
  {
   "cell_type": "markdown",
   "metadata": {},
   "source": [
    "There's a lot of missing data. However, the number of bathrooms could not be too high, this number is in a range from 1 to 4, beyond that we could consider them as outliers.\n",
    "\n",
    "Hence, we will impute missing values as the median. Let's measure how many outliers there are for bed field"
   ]
  },
  {
   "cell_type": "code",
   "execution_count": 30,
   "metadata": {},
   "outputs": [
    {
     "data": {
      "text/plain": [
       "(1323, 20)"
      ]
     },
     "execution_count": 30,
     "metadata": {},
     "output_type": "execute_result"
    }
   ],
   "source": [
    "Q1 = df['total_bath'].dropna().quantile(0.25)\n",
    "Q3 = df['total_bath'].dropna().quantile(0.75)\n",
    "IQR = Q3 - Q1\n",
    "\n",
    "lower_whisker = Q1 - 1.5 * IQR\n",
    "upper_whisker = Q3 + 1.5 * IQR\n",
    "\n",
    "# outliers\n",
    "df[(df['total_bath'] < lower_whisker)|(df['total_bath'] > upper_whisker)].shape"
   ]
  },
  {
   "cell_type": "code",
   "execution_count": 31,
   "metadata": {},
   "outputs": [
    {
     "data": {
      "text/plain": [
       "2.0"
      ]
     },
     "execution_count": 31,
     "metadata": {},
     "output_type": "execute_result"
    }
   ],
   "source": [
    "df['total_bath'].dropna().median()"
   ]
  },
  {
   "cell_type": "markdown",
   "metadata": {},
   "source": [
    "Both returns the same value, then we can impute missing values in bath field as the median."
   ]
  },
  {
   "cell_type": "code",
   "execution_count": 32,
   "metadata": {},
   "outputs": [
    {
     "name": "stdout",
     "output_type": "stream",
     "text": [
      "(16760, 20)\n"
     ]
    },
    {
     "data": {
      "text/plain": [
       "bath          2708\n",
       "total_bath       0\n",
       "dtype: int64"
      ]
     },
     "execution_count": 32,
     "metadata": {},
     "output_type": "execute_result"
    }
   ],
   "source": [
    "df['total_bath'].fillna(df['total_bath'].dropna().median(), inplace=True)\n",
    "print(df.shape)\n",
    "df[['bath', 'total_bath']].isna().sum()"
   ]
  },
  {
   "cell_type": "markdown",
   "metadata": {},
   "source": [
    "Now for the bed field, we will follow similar arguments"
   ]
  },
  {
   "cell_type": "code",
   "execution_count": 33,
   "metadata": {},
   "outputs": [
    {
     "data": {
      "text/html": [
       "<div>\n",
       "<style scoped>\n",
       "    .dataframe tbody tr th:only-of-type {\n",
       "        vertical-align: middle;\n",
       "    }\n",
       "\n",
       "    .dataframe tbody tr th {\n",
       "        vertical-align: top;\n",
       "    }\n",
       "\n",
       "    .dataframe thead th {\n",
       "        text-align: right;\n",
       "    }\n",
       "</style>\n",
       "<table border=\"1\" class=\"dataframe\">\n",
       "  <thead>\n",
       "    <tr style=\"text-align: right;\">\n",
       "      <th></th>\n",
       "      <th>title</th>\n",
       "      <th>price_S</th>\n",
       "      <th>price_USD</th>\n",
       "      <th>address</th>\n",
       "      <th>property_type</th>\n",
       "      <th>image_urls</th>\n",
       "      <th>description</th>\n",
       "      <th>area_total</th>\n",
       "      <th>area_roof</th>\n",
       "      <th>bath</th>\n",
       "      <th>...</th>\n",
       "      <th>parking</th>\n",
       "      <th>antiquity</th>\n",
       "      <th>general_features</th>\n",
       "      <th>services</th>\n",
       "      <th>ambience</th>\n",
       "      <th>property_url</th>\n",
       "      <th>price</th>\n",
       "      <th>area</th>\n",
       "      <th>total_bath</th>\n",
       "      <th>total_bed</th>\n",
       "    </tr>\n",
       "    <tr>\n",
       "      <th>id</th>\n",
       "      <th></th>\n",
       "      <th></th>\n",
       "      <th></th>\n",
       "      <th></th>\n",
       "      <th></th>\n",
       "      <th></th>\n",
       "      <th></th>\n",
       "      <th></th>\n",
       "      <th></th>\n",
       "      <th></th>\n",
       "      <th></th>\n",
       "      <th></th>\n",
       "      <th></th>\n",
       "      <th></th>\n",
       "      <th></th>\n",
       "      <th></th>\n",
       "      <th></th>\n",
       "      <th></th>\n",
       "      <th></th>\n",
       "      <th></th>\n",
       "      <th></th>\n",
       "    </tr>\n",
       "  </thead>\n",
       "  <tbody>\n",
       "    <tr>\n",
       "      <th>0</th>\n",
       "      <td>Proyecto inmobilario en venta en Calle Coronel...</td>\n",
       "      <td>445388.0</td>\n",
       "      <td>120375.0</td>\n",
       "      <td>Calle Coronel Odriozola 128, San IsidroLima, Lima</td>\n",
       "      <td>Departamento</td>\n",
       "      <td>{https://img10.naventcdn.com/avisos/resize/111...</td>\n",
       "      <td>Mozz se deriva de la palabra en italiano mozio...</td>\n",
       "      <td>NaN</td>\n",
       "      <td>45m²</td>\n",
       "      <td>NaN</td>\n",
       "      <td>...</td>\n",
       "      <td>NaN</td>\n",
       "      <td>A estrenar</td>\n",
       "      <td>{\"Promotion Description\",\"Promotion Title\",\"Nú...</td>\n",
       "      <td>{\"Areas verdes\"}</td>\n",
       "      <td>NaN</td>\n",
       "      <td>https://urbania.pe/inmueble/proyecto/ememvein-...</td>\n",
       "      <td>120375.0</td>\n",
       "      <td>45m²</td>\n",
       "      <td>2.0</td>\n",
       "      <td>NaN</td>\n",
       "    </tr>\n",
       "    <tr>\n",
       "      <th>1</th>\n",
       "      <td>Proyecto inmobilario en venta en Calle Coronel...</td>\n",
       "      <td>441323.0</td>\n",
       "      <td>119277.0</td>\n",
       "      <td>Calle Coronel Odriozola 128, San IsidroLima, Lima</td>\n",
       "      <td>Departamento</td>\n",
       "      <td>{https://img10.naventcdn.com/avisos/resize/111...</td>\n",
       "      <td>Mozz se deriva de la palabra en italiano mozio...</td>\n",
       "      <td>45m²</td>\n",
       "      <td>45m²</td>\n",
       "      <td>NaN</td>\n",
       "      <td>...</td>\n",
       "      <td>NaN</td>\n",
       "      <td>A estrenar</td>\n",
       "      <td>{\"Promotion Description\",\"Promotion Title\",\"Nú...</td>\n",
       "      <td>{\"Areas verdes\"}</td>\n",
       "      <td>NaN</td>\n",
       "      <td>https://urbania.pe/inmueble/proyecto/ememvein-...</td>\n",
       "      <td>119277.0</td>\n",
       "      <td>45m²</td>\n",
       "      <td>2.0</td>\n",
       "      <td>NaN</td>\n",
       "    </tr>\n",
       "  </tbody>\n",
       "</table>\n",
       "<p>2 rows × 21 columns</p>\n",
       "</div>"
      ],
      "text/plain": [
       "                                                title   price_S  price_USD  \\\n",
       "id                                                                           \n",
       "0   Proyecto inmobilario en venta en Calle Coronel...  445388.0   120375.0   \n",
       "1   Proyecto inmobilario en venta en Calle Coronel...  441323.0   119277.0   \n",
       "\n",
       "                                              address property_type  \\\n",
       "id                                                                    \n",
       "0   Calle Coronel Odriozola 128, San IsidroLima, Lima  Departamento   \n",
       "1   Calle Coronel Odriozola 128, San IsidroLima, Lima  Departamento   \n",
       "\n",
       "                                           image_urls  \\\n",
       "id                                                      \n",
       "0   {https://img10.naventcdn.com/avisos/resize/111...   \n",
       "1   {https://img10.naventcdn.com/avisos/resize/111...   \n",
       "\n",
       "                                          description area_total area_roof  \\\n",
       "id                                                                           \n",
       "0   Mozz se deriva de la palabra en italiano mozio...        NaN      45m²   \n",
       "1   Mozz se deriva de la palabra en italiano mozio...       45m²      45m²   \n",
       "\n",
       "    bath  ...  parking   antiquity  \\\n",
       "id        ...                        \n",
       "0    NaN  ...      NaN  A estrenar   \n",
       "1    NaN  ...      NaN  A estrenar   \n",
       "\n",
       "                                     general_features          services  \\\n",
       "id                                                                        \n",
       "0   {\"Promotion Description\",\"Promotion Title\",\"Nú...  {\"Areas verdes\"}   \n",
       "1   {\"Promotion Description\",\"Promotion Title\",\"Nú...  {\"Areas verdes\"}   \n",
       "\n",
       "   ambience                                       property_url     price  \\\n",
       "id                                                                         \n",
       "0       NaN  https://urbania.pe/inmueble/proyecto/ememvein-...  120375.0   \n",
       "1       NaN  https://urbania.pe/inmueble/proyecto/ememvein-...  119277.0   \n",
       "\n",
       "    area total_bath  total_bed  \n",
       "id                              \n",
       "0   45m²        2.0        NaN  \n",
       "1   45m²        2.0        NaN  \n",
       "\n",
       "[2 rows x 21 columns]"
      ]
     },
     "execution_count": 33,
     "metadata": {},
     "output_type": "execute_result"
    }
   ],
   "source": [
    "df['total_bed'] = df['bed']\n",
    "df.head(2)"
   ]
  },
  {
   "cell_type": "markdown",
   "metadata": {},
   "source": [
    "First let's see if we could extract info from descriptions"
   ]
  },
  {
   "cell_type": "code",
   "execution_count": 34,
   "metadata": {},
   "outputs": [],
   "source": [
    "number_str_int = {\n",
    "    \"uno\": 1,\n",
    "    \"dos\": 2,\n",
    "    \"tres\": 3,\n",
    "    \"cuatro\": 4,\n",
    "    \"cinco\": 5\n",
    "}"
   ]
  },
  {
   "cell_type": "code",
   "execution_count": 35,
   "metadata": {},
   "outputs": [
    {
     "data": {
      "text/plain": [
       "1"
      ]
     },
     "execution_count": 35,
     "metadata": {},
     "output_type": "execute_result"
    }
   ],
   "source": [
    "number_str_int.get(' uno '.strip(), 0)"
   ]
  },
  {
   "cell_type": "code",
   "execution_count": 36,
   "metadata": {},
   "outputs": [
    {
     "name": "stdout",
     "output_type": "stream",
     "text": [
      "(16760, 21)\n"
     ]
    },
    {
     "data": {
      "text/plain": [
       "bed          1821\n",
       "total_bed     895\n",
       "dtype: int64"
      ]
     },
     "execution_count": 36,
     "metadata": {},
     "output_type": "execute_result"
    }
   ],
   "source": [
    "mask = (df['bed'].isna())\n",
    "pattern = 'uno |dos |tres |cuatro |cinco |seis |siete |ocho |nueve '\n",
    "bed_pattern = 'habita|dormi|cuarto|pieza|cama|alcoba|cámara|sala|comedor'\n",
    "values_bed = df.loc[mask, 'description'].apply(lambda x: x.lower()).str.extract(f'((\\d+\\s*|{pattern})({bed_pattern}))').dropna()\n",
    "df.loc[values_bed.index.to_list(), 'total_bed'] = values_bed[1].apply(lambda x: number_str_int.get(x.strip(), x.strip())).astype(float)\n",
    "print(df.shape)\n",
    "df[['bed', 'total_bed']].isna().sum()"
   ]
  },
  {
   "cell_type": "markdown",
   "metadata": {},
   "source": [
    "As well as we do with the number of bathrooms, let's see the outliers for bed field"
   ]
  },
  {
   "cell_type": "code",
   "execution_count": 37,
   "metadata": {},
   "outputs": [
    {
     "data": {
      "text/plain": [
       "(1559, 21)"
      ]
     },
     "execution_count": 37,
     "metadata": {},
     "output_type": "execute_result"
    }
   ],
   "source": [
    "Q1 = df['total_bed'].dropna().quantile(0.25)\n",
    "Q3 = df['total_bed'].dropna().quantile(0.75)\n",
    "IQR = Q3 - Q1\n",
    "\n",
    "lower_whisker = Q1 - 1.5 * IQR\n",
    "upper_whisker = Q3 + 1.5 * IQR\n",
    "\n",
    "df[(df['total_bed'] < lower_whisker)|(df['total_bed'] > upper_whisker)].shape"
   ]
  },
  {
   "cell_type": "markdown",
   "metadata": {},
   "source": [
    "Unlike to bath field, bed field has a little higher range of values. So let's see its distribution before and after to impute value by the median."
   ]
  },
  {
   "cell_type": "code",
   "execution_count": 65,
   "metadata": {},
   "outputs": [
    {
     "data": {
      "image/png": "[encoded data removed]",
      "text/plain": [
       "<Figure size 400x300 with 1 Axes>"
      ]
     },
     "metadata": {},
     "output_type": "display_data"
    }
   ],
   "source": [
    "# no impute\n",
    "plt.figure(figsize=(4,3))\n",
    "sns.histplot(df['total_bed'].dropna(), binwidth=1.0)\n",
    "plt.xlim([0,15])\n",
    "plt.show()"
   ]
  },
  {
   "cell_type": "code",
   "execution_count": 64,
   "metadata": {},
   "outputs": [
    {
     "data": {
      "image/png": "[encoded data removed]",
      "text/plain": [
       "<Figure size 400x300 with 1 Axes>"
      ]
     },
     "metadata": {},
     "output_type": "display_data"
    }
   ],
   "source": [
    "# imputing\n",
    "plt.figure(figsize=(4,3))\n",
    "sns.histplot(df['total_bed'].fillna(3.0), binwidth=1.0)\n",
    "plt.xlim([0,15])\n",
    "plt.show()"
   ]
  },
  {
   "cell_type": "markdown",
   "metadata": {},
   "source": [
    "As we can see the distribution does not change, but its height does. However, this does not avoid us to impute missing values by its median."
   ]
  },
  {
   "cell_type": "code",
   "execution_count": 66,
   "metadata": {},
   "outputs": [
    {
     "name": "stdout",
     "output_type": "stream",
     "text": [
      "(16760, 21)\n"
     ]
    },
    {
     "data": {
      "text/plain": [
       "bed          1821\n",
       "total_bed       0\n",
       "dtype: int64"
      ]
     },
     "execution_count": 66,
     "metadata": {},
     "output_type": "execute_result"
    }
   ],
   "source": [
    "df['total_bed'].fillna(df['total_bed'].dropna().median(), inplace=True)\n",
    "print(df.shape)\n",
    "df[['bed', 'total_bed']].isna().sum()"
   ]
  },
  {
   "cell_type": "markdown",
   "metadata": {},
   "source": [
    "Summary, we have get 16760 instances which have not any missing value for mandatory fields, i.e., price, adrres, area, number of baths and beds."
   ]
  },
  {
   "cell_type": "code",
   "execution_count": 67,
   "metadata": {},
   "outputs": [
    {
     "data": {
      "text/plain": [
       "title                   0\n",
       "price_S                 1\n",
       "price_USD            2382\n",
       "address                 0\n",
       "property_type           1\n",
       "image_urls              0\n",
       "description             1\n",
       "area_total            438\n",
       "area_roof            1468\n",
       "bath                 2708\n",
       "bed                  1821\n",
       "parking             11504\n",
       "antiquity               0\n",
       "general_features     1425\n",
       "services             5228\n",
       "ambience            10044\n",
       "property_url            0\n",
       "price                   0\n",
       "area                    0\n",
       "total_bath              0\n",
       "total_bed               0\n",
       "dtype: int64"
      ]
     },
     "execution_count": 67,
     "metadata": {},
     "output_type": "execute_result"
    }
   ],
   "source": [
    "df.isna().sum()"
   ]
  }
 ],
 "metadata": {
  "kernelspec": {
   "display_name": "venv",
   "language": "python",
   "name": "python3"
  },
  "language_info": {
   "codemirror_mode": {
    "name": "ipython",
    "version": 3
   },
   "file_extension": ".py",
   "mimetype": "text/x-python",
   "name": "python",
   "nbconvert_exporter": "python",
   "pygments_lexer": "ipython3",
   "version": "3.11.4"
  },
  "orig_nbformat": 4
 },
 "nbformat": 4,
 "nbformat_minor": 2
}
