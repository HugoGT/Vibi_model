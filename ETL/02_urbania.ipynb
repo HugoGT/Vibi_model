{
 "cells": [
  {
   "cell_type": "code",
   "execution_count": 1,
   "metadata": {},
   "outputs": [],
   "source": [
    "import pandas as pd\n",
    "import numpy as np\n",
    "import matplotlib.pyplot as plt\n",
    "import seaborn as sns\n",
    "from collections import Counter\n",
    "\n",
    "import warnings\n",
    "warnings.filterwarnings('ignore')"
   ]
  },
  {
   "cell_type": "markdown",
   "metadata": {},
   "source": [
    "# ETL Urbania 2"
   ]
  },
  {
   "cell_type": "code",
   "execution_count": 2,
   "metadata": {},
   "outputs": [
    {
     "name": "stdout",
     "output_type": "stream",
     "text": [
      "(16697, 14)\n"
     ]
    },
    {
     "data": {
      "text/html": [
       "<div>\n",
       "<style scoped>\n",
       "    .dataframe tbody tr th:only-of-type {\n",
       "        vertical-align: middle;\n",
       "    }\n",
       "\n",
       "    .dataframe tbody tr th {\n",
       "        vertical-align: top;\n",
       "    }\n",
       "\n",
       "    .dataframe thead th {\n",
       "        text-align: right;\n",
       "    }\n",
       "</style>\n",
       "<table border=\"1\" class=\"dataframe\">\n",
       "  <thead>\n",
       "    <tr style=\"text-align: right;\">\n",
       "      <th></th>\n",
       "      <th>title</th>\n",
       "      <th>address</th>\n",
       "      <th>price</th>\n",
       "      <th>area</th>\n",
       "      <th>bath</th>\n",
       "      <th>room</th>\n",
       "      <th>property_type</th>\n",
       "      <th>description</th>\n",
       "      <th>parking</th>\n",
       "      <th>year</th>\n",
       "      <th>general_features</th>\n",
       "      <th>services</th>\n",
       "      <th>ambience</th>\n",
       "      <th>property_url</th>\n",
       "    </tr>\n",
       "  </thead>\n",
       "  <tbody>\n",
       "    <tr>\n",
       "      <th>0</th>\n",
       "      <td>Proyecto inmobilario en venta en Calle Coronel...</td>\n",
       "      <td>Calle Coronel Odriozola 128, San IsidroLima, Lima</td>\n",
       "      <td>120375.0</td>\n",
       "      <td>45</td>\n",
       "      <td>2</td>\n",
       "      <td>3</td>\n",
       "      <td>Departamento</td>\n",
       "      <td>Mozz se deriva de la palabra en italiano mozio...</td>\n",
       "      <td>1</td>\n",
       "      <td>2023</td>\n",
       "      <td>{\"Promotion Description\",\"Promotion Title\",\"Nú...</td>\n",
       "      <td>{\"Areas verdes\"}</td>\n",
       "      <td>NaN</td>\n",
       "      <td>https://urbania.pe/inmueble/proyecto/ememvein-...</td>\n",
       "    </tr>\n",
       "    <tr>\n",
       "      <th>1</th>\n",
       "      <td>Proyecto inmobilario en venta en Calle Coronel...</td>\n",
       "      <td>Calle Coronel Odriozola 128, San IsidroLima, Lima</td>\n",
       "      <td>119277.0</td>\n",
       "      <td>45</td>\n",
       "      <td>2</td>\n",
       "      <td>3</td>\n",
       "      <td>Departamento</td>\n",
       "      <td>Mozz se deriva de la palabra en italiano mozio...</td>\n",
       "      <td>1</td>\n",
       "      <td>2023</td>\n",
       "      <td>{\"Promotion Description\",\"Promotion Title\",\"Nú...</td>\n",
       "      <td>{\"Areas verdes\"}</td>\n",
       "      <td>NaN</td>\n",
       "      <td>https://urbania.pe/inmueble/proyecto/ememvein-...</td>\n",
       "    </tr>\n",
       "    <tr>\n",
       "      <th>2</th>\n",
       "      <td>Proyecto inmobilario en venta en Calle Coronel...</td>\n",
       "      <td>Calle Coronel Odriozola 128, San IsidroLima, Lima</td>\n",
       "      <td>162297.0</td>\n",
       "      <td>60</td>\n",
       "      <td>2</td>\n",
       "      <td>2</td>\n",
       "      <td>Departamento</td>\n",
       "      <td>Mozz se deriva de la palabra en italiano mozio...</td>\n",
       "      <td>1</td>\n",
       "      <td>2023</td>\n",
       "      <td>{\"Promotion Description\",\"Promotion Title\",\"Nú...</td>\n",
       "      <td>{\"Areas verdes\"}</td>\n",
       "      <td>NaN</td>\n",
       "      <td>https://urbania.pe/inmueble/proyecto/ememvein-...</td>\n",
       "    </tr>\n",
       "    <tr>\n",
       "      <th>3</th>\n",
       "      <td>Proyecto inmobilario en venta en Calle Coronel...</td>\n",
       "      <td>Calle Coronel Odriozola 128, San IsidroLima, Lima</td>\n",
       "      <td>157815.0</td>\n",
       "      <td>60</td>\n",
       "      <td>2</td>\n",
       "      <td>2</td>\n",
       "      <td>Departamento</td>\n",
       "      <td>Mozz se deriva de la palabra en italiano mozio...</td>\n",
       "      <td>1</td>\n",
       "      <td>2023</td>\n",
       "      <td>{\"Promotion Description\",\"Promotion Title\",\"Nú...</td>\n",
       "      <td>{\"Areas verdes\"}</td>\n",
       "      <td>NaN</td>\n",
       "      <td>https://urbania.pe/inmueble/proyecto/ememvein-...</td>\n",
       "    </tr>\n",
       "  </tbody>\n",
       "</table>\n",
       "</div>"
      ],
      "text/plain": [
       "                                               title  \\\n",
       "0  Proyecto inmobilario en venta en Calle Coronel...   \n",
       "1  Proyecto inmobilario en venta en Calle Coronel...   \n",
       "2  Proyecto inmobilario en venta en Calle Coronel...   \n",
       "3  Proyecto inmobilario en venta en Calle Coronel...   \n",
       "\n",
       "                                             address     price  area  bath  \\\n",
       "0  Calle Coronel Odriozola 128, San IsidroLima, Lima  120375.0    45     2   \n",
       "1  Calle Coronel Odriozola 128, San IsidroLima, Lima  119277.0    45     2   \n",
       "2  Calle Coronel Odriozola 128, San IsidroLima, Lima  162297.0    60     2   \n",
       "3  Calle Coronel Odriozola 128, San IsidroLima, Lima  157815.0    60     2   \n",
       "\n",
       "   room property_type                                        description  \\\n",
       "0     3  Departamento  Mozz se deriva de la palabra en italiano mozio...   \n",
       "1     3  Departamento  Mozz se deriva de la palabra en italiano mozio...   \n",
       "2     2  Departamento  Mozz se deriva de la palabra en italiano mozio...   \n",
       "3     2  Departamento  Mozz se deriva de la palabra en italiano mozio...   \n",
       "\n",
       "   parking  year                                   general_features  \\\n",
       "0        1  2023  {\"Promotion Description\",\"Promotion Title\",\"Nú...   \n",
       "1        1  2023  {\"Promotion Description\",\"Promotion Title\",\"Nú...   \n",
       "2        1  2023  {\"Promotion Description\",\"Promotion Title\",\"Nú...   \n",
       "3        1  2023  {\"Promotion Description\",\"Promotion Title\",\"Nú...   \n",
       "\n",
       "           services ambience  \\\n",
       "0  {\"Areas verdes\"}      NaN   \n",
       "1  {\"Areas verdes\"}      NaN   \n",
       "2  {\"Areas verdes\"}      NaN   \n",
       "3  {\"Areas verdes\"}      NaN   \n",
       "\n",
       "                                        property_url  \n",
       "0  https://urbania.pe/inmueble/proyecto/ememvein-...  \n",
       "1  https://urbania.pe/inmueble/proyecto/ememvein-...  \n",
       "2  https://urbania.pe/inmueble/proyecto/ememvein-...  \n",
       "3  https://urbania.pe/inmueble/proyecto/ememvein-...  "
      ]
     },
     "execution_count": 2,
     "metadata": {},
     "output_type": "execute_result"
    }
   ],
   "source": [
    "df = pd.read_csv('./dataset/01_etl_urbania.csv')\n",
    "df.rename(columns={'antiquity': 'year', 'total_bath': 'bath', 'total_bed': 'room'}, inplace=True)\n",
    "print(df.shape)\n",
    "df.head(4)"
   ]
  },
  {
   "cell_type": "markdown",
   "metadata": {},
   "source": [
    "## Property Type"
   ]
  },
  {
   "cell_type": "code",
   "execution_count": 3,
   "metadata": {},
   "outputs": [
    {
     "name": "stdout",
     "output_type": "stream",
     "text": [
      "(16696, 14)\n"
     ]
    },
    {
     "data": {
      "text/plain": [
       "general_features    0\n",
       "services            0\n",
       "ambience            0\n",
       "dtype: int64"
      ]
     },
     "execution_count": 3,
     "metadata": {},
     "output_type": "execute_result"
    }
   ],
   "source": [
    "df = df[~(df['property_type'].isna())]\n",
    "df['description'].fillna('', inplace=True)\n",
    "df['general_features'].fillna('{}', inplace=True)\n",
    "df['services'].fillna('{}', inplace=True)\n",
    "df['ambience'].fillna('{}', inplace=True)\n",
    "print(df.shape)\n",
    "df[['general_features', 'services', 'ambience']].isna().sum()"
   ]
  },
  {
   "cell_type": "code",
   "execution_count": 4,
   "metadata": {},
   "outputs": [
    {
     "data": {
      "text/plain": [
       "property_type\n",
       "Departamento     12606\n",
       "Casa              3738\n",
       "Casa de playa      250\n",
       "Casa de campo      100\n",
       "Habitación           2\n",
       "Name: count, dtype: int64"
      ]
     },
     "execution_count": 4,
     "metadata": {},
     "output_type": "execute_result"
    }
   ],
   "source": [
    "df['property_type'].value_counts()"
   ]
  },
  {
   "cell_type": "markdown",
   "metadata": {},
   "source": [
    "## General Features"
   ]
  },
  {
   "cell_type": "markdown",
   "metadata": {},
   "source": [
    "The 'general_features' field contains multiple features houses can have, for example, being near to parks, supermarkets, pricipal streets, schools and so forth."
   ]
  },
  {
   "cell_type": "markdown",
   "metadata": {},
   "source": [
    "Let's see what is the most common features"
   ]
  },
  {
   "cell_type": "code",
   "execution_count": 6,
   "metadata": {},
   "outputs": [
    {
     "name": "stdout",
     "output_type": "stream",
     "text": [
      "Número de pisos: 10064\n",
      "Cerca a colegios: 6335\n",
      "Centros Comerciales Cercanos: 6190\n",
      "Reposteros en cocina: 5297\n",
      "Cocina: 5123\n",
      "Ascensor: 4978\n",
      "Terraza: 4709\n",
      "Intercomunicador: 4699\n",
      "Closet: 4657\n",
      "Cuartos de servicio: 4585\n",
      "Cerca a Parque (a menos de 2 cdras): 4438\n",
      "Baño de servicio: 4320\n",
      "Seguridad: 4098\n",
      "Mascotas: 4060\n",
      "Piso en el que se encuentra: 3731\n"
     ]
    }
   ],
   "source": [
    "general_features = df['general_features'].str.strip('{}').str.split(',').to_list()\n",
    "general_features = [x.strip('\"\"') for y in general_features for x in y]\n",
    "genereal_counter = Counter(general_features)\n",
    "genereal_counter = dict(sorted(genereal_counter.items(), key=lambda item: item[1], reverse=True))\n",
    "\n",
    "for element, count in genereal_counter.items():\n",
    "    if count <= df.shape[0]*0.2:\n",
    "        break\n",
    "    print(f\"{element}: {count}\")"
   ]
  },
  {
   "cell_type": "code",
   "execution_count": 7,
   "metadata": {},
   "outputs": [],
   "source": [
    "df['near_cc'] = np.zeros(df.shape[0], dtype=int)\n",
    "df['near_school'] = np.zeros(df.shape[0], dtype=int)\n",
    "df['near_parks'] = np.zeros(df.shape[0], dtype=int)"
   ]
  },
  {
   "cell_type": "markdown",
   "metadata": {},
   "source": [
    "### Near to Malls"
   ]
  },
  {
   "cell_type": "markdown",
   "metadata": {},
   "source": [
    "Let's create a new column that says whether or not the house is nearby malls, depicted by 0 and 1."
   ]
  },
  {
   "cell_type": "code",
   "execution_count": 8,
   "metadata": {},
   "outputs": [
    {
     "name": "stdout",
     "output_type": "stream",
     "text": [
      "0 : 10506\n",
      "1 : 6190\n"
     ]
    }
   ],
   "source": [
    "mask = df['general_features'].apply(lambda x: 'Centros Comerciales Cercanos' in x)\n",
    "df.loc[mask, 'near_cc'] = np.ones(shape=df[mask].shape[0], dtype=int)\n",
    "print('0 :', df[df['near_cc'] == 0].shape[0])\n",
    "print('1 :', df[df['near_cc'] == 1].shape[0])"
   ]
  },
  {
   "cell_type": "markdown",
   "metadata": {},
   "source": [
    "On the other hand, maybe that info could be into the description. Let's check out"
   ]
  },
  {
   "cell_type": "code",
   "execution_count": 9,
   "metadata": {},
   "outputs": [
    {
     "name": "stdout",
     "output_type": "stream",
     "text": [
      "0 : 6620\n",
      "1 : 10076\n"
     ]
    }
   ],
   "source": [
    "pattern = 'mall|comercial|mercado'\n",
    "id_mall = df.loc[df['near_cc'] == 0]['description'].apply(lambda x: x.lower()).str.extract(f'({pattern})').dropna().index\n",
    "df.loc[id_mall, 'near_cc'] = np.ones(shape=df.loc[id_mall].shape[0], dtype=int)\n",
    "print('0 :', df[df['near_cc'] == 0].shape[0])\n",
    "print('1 :', df[df['near_cc'] == 1].shape[0])\n"
   ]
  },
  {
   "cell_type": "markdown",
   "metadata": {},
   "source": [
    "### Near to Schools"
   ]
  },
  {
   "cell_type": "code",
   "execution_count": 10,
   "metadata": {},
   "outputs": [
    {
     "name": "stdout",
     "output_type": "stream",
     "text": [
      "0 : 10361\n",
      "1 : 6335\n"
     ]
    }
   ],
   "source": [
    "mask = df['general_features'].apply(lambda x: 'Cerca a colegios' in x)\n",
    "df.loc[mask, 'near_school'] = np.ones(shape=df[mask].shape[0], dtype=int)\n",
    "print('0 :', df[df['near_school'] == 0].shape[0])\n",
    "print('1 :', df[df['near_school'] == 1].shape[0])"
   ]
  },
  {
   "cell_type": "code",
   "execution_count": 11,
   "metadata": {},
   "outputs": [
    {
     "name": "stdout",
     "output_type": "stream",
     "text": [
      "0 : 8004\n",
      "1 : 8692\n"
     ]
    }
   ],
   "source": [
    "pattern = 'colegio|escuela|educativ'\n",
    "id_school = df.loc[df['near_school'] == 0]['description'].apply(lambda x: x.lower()).str.extract(f'({pattern})').dropna().index\n",
    "df.loc[id_school, 'near_school'] = np.ones(shape=df.loc[id_school].shape[0], dtype=int)\n",
    "print('0 :', df[df['near_school'] == 0].shape[0])\n",
    "print('1 :', df[df['near_school'] == 1].shape[0])"
   ]
  },
  {
   "cell_type": "markdown",
   "metadata": {},
   "source": [
    "### Near to Parks"
   ]
  },
  {
   "cell_type": "markdown",
   "metadata": {},
   "source": [
    "Into this field we take into account the parks, green areas, garden, see, pool and gyms."
   ]
  },
  {
   "cell_type": "code",
   "execution_count": 15,
   "metadata": {},
   "outputs": [
    {
     "name": "stdout",
     "output_type": "stream",
     "text": [
      "0 : 11271\n",
      "1 : 5425\n"
     ]
    }
   ],
   "source": [
    "mask = df['general_features'].apply(lambda x: 'Parque' in x)\n",
    "df.loc[mask, 'near_parks'] = np.ones(shape=df[mask].shape[0], dtype=int)\n",
    "print('0 :', df[df['near_parks'] == 0].shape[0])\n",
    "print('1 :', df[df['near_parks'] == 1].shape[0])"
   ]
  },
  {
   "cell_type": "markdown",
   "metadata": {},
   "source": [
    "### Extra Features"
   ]
  },
  {
   "cell_type": "markdown",
   "metadata": {},
   "source": [
    "Instead of looking for nearby places, let's search if we could get data about elevators, security, gardens or green areas and so forth."
   ]
  },
  {
   "cell_type": "code",
   "execution_count": 16,
   "metadata": {},
   "outputs": [],
   "source": [
    "df['security'] = np.zeros(df.shape[0], dtype=int)\n",
    "df['elevator'] = np.zeros(df.shape[0], dtype=int)\n",
    "df['rest_area'] = np.zeros(df.shape[0], dtype=int)\n",
    "df['pool'] = np.zeros(df.shape[0], dtype=int)"
   ]
  },
  {
   "cell_type": "code",
   "execution_count": 33,
   "metadata": {},
   "outputs": [
    {
     "name": "stdout",
     "output_type": "stream",
     "text": [
      "Security\n",
      "0 : 12225\n",
      "1 : 4471\n",
      "Elevator\n",
      "0 : 11718\n",
      "1 : 4978\n",
      "Rest Area\n",
      "0 : 11161\n",
      "1 : 5535\n",
      "Pool\n",
      "0 : 14063\n",
      "1 : 2633\n"
     ]
    },
    {
     "data": {
      "text/plain": [
       "(2633, 21)"
      ]
     },
     "execution_count": 33,
     "metadata": {},
     "output_type": "execute_result"
    }
   ],
   "source": [
    "# Security\n",
    "security_list = ['Seguridad', 'Caseta de guardia']\n",
    "mask = df['general_features'].apply(lambda x: any(s in x for s in security_list))\n",
    "df.loc[mask, 'security'] = np.ones(shape=df[mask].shape[0], dtype=int)\n",
    "print('Security')\n",
    "print('0 :', df[df['security'] == 0].shape[0])\n",
    "print('1 :', df[df['security'] == 1].shape[0])\n",
    "\n",
    "# Elevator\n",
    "mask = df['general_features'].apply(lambda x: 'Ascensor' in x)\n",
    "df.loc[mask, 'elevator'] = np.ones(shape=df[mask].shape[0], dtype=int)\n",
    "print('Elevator')\n",
    "print('0 :', df[df['elevator'] == 0].shape[0])\n",
    "print('1 :', df[df['elevator'] == 1].shape[0])\n",
    "\n",
    "# Rest Area\n",
    "rest_area_list = ['Terraza', 'Jardín']\n",
    "mask = df['general_features'].apply(lambda x: any(s in x for s in rest_area_list))\n",
    "df.loc[mask, 'rest_area'] = np.ones(shape=df[mask].shape[0], dtype=int)\n",
    "print('Rest Area')\n",
    "print('0 :', df[df['rest_area'] == 0].shape[0])\n",
    "print('1 :', df[df['rest_area'] == 1].shape[0])\n",
    "\n",
    "# Pool\n",
    "pool_list = ['Piscina', 'Jacuzzi']\n",
    "mask = df['general_features'].apply(lambda x: any(s in x for s in pool_list))\n",
    "df.loc[mask, 'pool'] = np.ones(shape=df[mask].shape[0], dtype=int)\n",
    "print('Pool')\n",
    "print('0 :', df[df['pool'] == 0].shape[0])\n",
    "print('1 :', df[df['pool'] == 1].shape[0])\n",
    "\n",
    "df[mask].shape"
   ]
  },
  {
   "cell_type": "markdown",
   "metadata": {},
   "source": [
    "# Services"
   ]
  },
  {
   "cell_type": "markdown",
   "metadata": {},
   "source": [
    "As well as general features, let's what kind of thing this Field provides us"
   ]
  },
  {
   "cell_type": "code",
   "execution_count": 34,
   "metadata": {},
   "outputs": [
    {
     "name": "stdout",
     "output_type": "stream",
     "text": [
      "Area de lavandería: 7603\n",
      "Servicios básicos (agua/luz): 6793\n",
      ": 5186\n",
      "Guardianía/Seguridad privada: 4670\n",
      "Parrilla: 4056\n",
      "Areas verdes: 3627\n"
     ]
    }
   ],
   "source": [
    "services = df['services'].str.strip('{}').str.split(',').to_list()\n",
    "services = [x.strip('\"\"') for y in services for x in y]\n",
    "service_counter = Counter(services)\n",
    "service_counter = dict(sorted(service_counter.items(), key=lambda item: item[1], reverse=True))\n",
    "\n",
    "for element, count in service_counter.items():\n",
    "    if count <= df.shape[0]*0.2:\n",
    "        break\n",
    "    print(f\"{element}: {count}\")"
   ]
  },
  {
   "cell_type": "markdown",
   "metadata": {},
   "source": [
    "From this fields let's take into account 'Area de lavanderia' and 'Seguridad privada'"
   ]
  },
  {
   "cell_type": "markdown",
   "metadata": {},
   "source": [
    "### Extra Features from Services"
   ]
  },
  {
   "cell_type": "code",
   "execution_count": 38,
   "metadata": {},
   "outputs": [
    {
     "name": "stdout",
     "output_type": "stream",
     "text": [
      "Security\n",
      "0 : 10513\n",
      "1 : 6183\n",
      "Rest Area\n",
      "0 : 8679\n",
      "1 : 8017\n"
     ]
    }
   ],
   "source": [
    "# Security\n",
    "security_list = ['Seguridad privada', 'Video vigilancia']\n",
    "mask = df['services'].apply(lambda x: any(s in x for s in security_list))\n",
    "df.loc[mask, 'security'] = np.ones(shape=df[mask].shape[0], dtype=int)\n",
    "print('Security')\n",
    "print('0 :', df[df['security'] == 0].shape[0])\n",
    "print('1 :', df[df['security'] == 1].shape[0])\n",
    "\n",
    "# Rest Area\n",
    "rest_area_list = ['Parrilla', 'Areas verdes']\n",
    "mask = df['services'].apply(lambda x: any(s in x for s in rest_area_list))\n",
    "df.loc[mask, 'rest_area'] = np.ones(shape=df[mask].shape[0], dtype=int)\n",
    "print('Rest Area')\n",
    "print('0 :', df[df['rest_area'] == 0].shape[0])\n",
    "print('1 :', df[df['rest_area'] == 1].shape[0])"
   ]
  },
  {
   "cell_type": "markdown",
   "metadata": {},
   "source": [
    "# Ambience"
   ]
  },
  {
   "cell_type": "markdown",
   "metadata": {},
   "source": [
    "Once again, let's see what field can help us to provide more info about the houses."
   ]
  },
  {
   "cell_type": "code",
   "execution_count": 39,
   "metadata": {},
   "outputs": [
    {
     "name": "stdout",
     "output_type": "stream",
     "text": [
      ": 9992\n",
      "Dormitorio principal con baño: 4419\n",
      "Desagüe: 2361\n",
      "Sala de estar: 2047\n",
      "Comedor Diario: 1972\n",
      "Patio: 1885\n",
      "Hall de ingreso: 1820\n"
     ]
    }
   ],
   "source": [
    "ambience = df['ambience'].str.strip('{}').str.split(',').to_list()\n",
    "ambience = [x.strip('\"\"') for y in ambience for x in y]\n",
    "ambience_counter = Counter(ambience)\n",
    "ambience_counter = dict(sorted(ambience_counter.items(), key=lambda item: item[1], reverse=True))\n",
    "\n",
    "for element, count in ambience_counter.items():\n",
    "    if count <= df.shape[0]*0.1:\n",
    "        break\n",
    "    print(f\"{element}: {count}\")"
   ]
  },
  {
   "cell_type": "code",
   "execution_count": 40,
   "metadata": {},
   "outputs": [
    {
     "data": {
      "text/plain": [
       "Counter({'': 9992,\n",
       "         'Dormitorio principal con baño': 4419,\n",
       "         'Desagüe': 2361,\n",
       "         'Sala de estar': 2047,\n",
       "         'Comedor Diario': 1972,\n",
       "         'Patio': 1885,\n",
       "         'Hall de ingreso': 1820,\n",
       "         'Area común': 1409,\n",
       "         'Ingreso independiente': 1292,\n",
       "         'Sala de entretenimiento': 1130,\n",
       "         'Cocheras de visitas': 845,\n",
       "         'Parque Interno': 626,\n",
       "         'Equipado': 616,\n",
       "         'Bodega(s)': 588,\n",
       "         'Club House': 459,\n",
       "         'Sauna': 285,\n",
       "         'Solarium': 110,\n",
       "         'Turco': 44,\n",
       "         'Cerco eléctrico': 14,\n",
       "         'Sala': 5,\n",
       "         'Area deportiva': 4,\n",
       "         'Deposito': 3,\n",
       "         'Oficinas': 3,\n",
       "         'Baño Propio': 2,\n",
       "         'Salón de usos múltiples': 2,\n",
       "         'Atico': 2,\n",
       "         'Escritorio': 2,\n",
       "         'Guardería': 2,\n",
       "         'Sótano': 1,\n",
       "         'Area de cafetería': 1})"
      ]
     },
     "execution_count": 40,
     "metadata": {},
     "output_type": "execute_result"
    }
   ],
   "source": [
    "Counter(ambience)"
   ]
  },
  {
   "cell_type": "code",
   "execution_count": 45,
   "metadata": {},
   "outputs": [
    {
     "name": "stdout",
     "output_type": "stream",
     "text": [
      "Rest Area\n",
      "0 : 8378\n",
      "1 : 8318\n",
      "Pool\n",
      "0 : 14041\n",
      "1 : 2655\n"
     ]
    }
   ],
   "source": [
    "# Rest Area\n",
    "mask = df['ambience'].apply(lambda x: 'Patio' in x)\n",
    "df.loc[mask, 'rest_area'] = np.ones(shape=df[mask].shape[0], dtype=int)\n",
    "print('Rest Area')\n",
    "print('0 :', df[df['rest_area'] == 0].shape[0])\n",
    "print('1 :', df[df['rest_area'] == 1].shape[0])\n",
    "\n",
    "# Pool\n",
    "mask = df['ambience'].apply(lambda x: 'Sauna' in x)\n",
    "df.loc[mask, 'pool'] = np.ones(shape=df[mask].shape[0], dtype=int)\n",
    "print('Pool')\n",
    "print('0 :', df[df['pool'] == 0].shape[0])\n",
    "print('1 :', df[df['pool'] == 1].shape[0])"
   ]
  },
  {
   "cell_type": "markdown",
   "metadata": {},
   "source": [
    "## Principal Streets"
   ]
  },
  {
   "cell_type": "markdown",
   "metadata": {},
   "source": [
    "Another notable variable is the house is near to principal streets. However, as we have seen there is not any data about principla streets in the field of 'general_features', 'services' and 'ambience'. Then let's search into the description"
   ]
  },
  {
   "cell_type": "code",
   "execution_count": 46,
   "metadata": {},
   "outputs": [
    {
     "data": {
      "text/html": [
       "<div>\n",
       "<style scoped>\n",
       "    .dataframe tbody tr th:only-of-type {\n",
       "        vertical-align: middle;\n",
       "    }\n",
       "\n",
       "    .dataframe tbody tr th {\n",
       "        vertical-align: top;\n",
       "    }\n",
       "\n",
       "    .dataframe thead th {\n",
       "        text-align: right;\n",
       "    }\n",
       "</style>\n",
       "<table border=\"1\" class=\"dataframe\">\n",
       "  <thead>\n",
       "    <tr style=\"text-align: right;\">\n",
       "      <th></th>\n",
       "      <th>title</th>\n",
       "      <th>address</th>\n",
       "      <th>price</th>\n",
       "      <th>area</th>\n",
       "      <th>bath</th>\n",
       "      <th>room</th>\n",
       "      <th>property_type</th>\n",
       "      <th>description</th>\n",
       "      <th>parking</th>\n",
       "      <th>year</th>\n",
       "      <th>...</th>\n",
       "      <th>ambience</th>\n",
       "      <th>property_url</th>\n",
       "      <th>near_cc</th>\n",
       "      <th>near_school</th>\n",
       "      <th>near_parks</th>\n",
       "      <th>security</th>\n",
       "      <th>elevator</th>\n",
       "      <th>rest_area</th>\n",
       "      <th>pool</th>\n",
       "      <th>near_avenue</th>\n",
       "    </tr>\n",
       "  </thead>\n",
       "  <tbody>\n",
       "    <tr>\n",
       "      <th>0</th>\n",
       "      <td>Proyecto inmobilario en venta en Calle Coronel...</td>\n",
       "      <td>Calle Coronel Odriozola 128, San IsidroLima, Lima</td>\n",
       "      <td>120375.0</td>\n",
       "      <td>45</td>\n",
       "      <td>2</td>\n",
       "      <td>3</td>\n",
       "      <td>Departamento</td>\n",
       "      <td>Mozz se deriva de la palabra en italiano mozio...</td>\n",
       "      <td>1</td>\n",
       "      <td>2023</td>\n",
       "      <td>...</td>\n",
       "      <td>{}</td>\n",
       "      <td>https://urbania.pe/inmueble/proyecto/ememvein-...</td>\n",
       "      <td>1</td>\n",
       "      <td>0</td>\n",
       "      <td>1</td>\n",
       "      <td>0</td>\n",
       "      <td>0</td>\n",
       "      <td>1</td>\n",
       "      <td>0</td>\n",
       "      <td>0</td>\n",
       "    </tr>\n",
       "    <tr>\n",
       "      <th>1</th>\n",
       "      <td>Proyecto inmobilario en venta en Calle Coronel...</td>\n",
       "      <td>Calle Coronel Odriozola 128, San IsidroLima, Lima</td>\n",
       "      <td>119277.0</td>\n",
       "      <td>45</td>\n",
       "      <td>2</td>\n",
       "      <td>3</td>\n",
       "      <td>Departamento</td>\n",
       "      <td>Mozz se deriva de la palabra en italiano mozio...</td>\n",
       "      <td>1</td>\n",
       "      <td>2023</td>\n",
       "      <td>...</td>\n",
       "      <td>{}</td>\n",
       "      <td>https://urbania.pe/inmueble/proyecto/ememvein-...</td>\n",
       "      <td>1</td>\n",
       "      <td>0</td>\n",
       "      <td>1</td>\n",
       "      <td>0</td>\n",
       "      <td>0</td>\n",
       "      <td>1</td>\n",
       "      <td>0</td>\n",
       "      <td>0</td>\n",
       "    </tr>\n",
       "    <tr>\n",
       "      <th>2</th>\n",
       "      <td>Proyecto inmobilario en venta en Calle Coronel...</td>\n",
       "      <td>Calle Coronel Odriozola 128, San IsidroLima, Lima</td>\n",
       "      <td>162297.0</td>\n",
       "      <td>60</td>\n",
       "      <td>2</td>\n",
       "      <td>2</td>\n",
       "      <td>Departamento</td>\n",
       "      <td>Mozz se deriva de la palabra en italiano mozio...</td>\n",
       "      <td>1</td>\n",
       "      <td>2023</td>\n",
       "      <td>...</td>\n",
       "      <td>{}</td>\n",
       "      <td>https://urbania.pe/inmueble/proyecto/ememvein-...</td>\n",
       "      <td>1</td>\n",
       "      <td>0</td>\n",
       "      <td>1</td>\n",
       "      <td>0</td>\n",
       "      <td>0</td>\n",
       "      <td>1</td>\n",
       "      <td>0</td>\n",
       "      <td>0</td>\n",
       "    </tr>\n",
       "  </tbody>\n",
       "</table>\n",
       "<p>3 rows × 22 columns</p>\n",
       "</div>"
      ],
      "text/plain": [
       "                                               title  \\\n",
       "0  Proyecto inmobilario en venta en Calle Coronel...   \n",
       "1  Proyecto inmobilario en venta en Calle Coronel...   \n",
       "2  Proyecto inmobilario en venta en Calle Coronel...   \n",
       "\n",
       "                                             address     price  area  bath  \\\n",
       "0  Calle Coronel Odriozola 128, San IsidroLima, Lima  120375.0    45     2   \n",
       "1  Calle Coronel Odriozola 128, San IsidroLima, Lima  119277.0    45     2   \n",
       "2  Calle Coronel Odriozola 128, San IsidroLima, Lima  162297.0    60     2   \n",
       "\n",
       "   room property_type                                        description  \\\n",
       "0     3  Departamento  Mozz se deriva de la palabra en italiano mozio...   \n",
       "1     3  Departamento  Mozz se deriva de la palabra en italiano mozio...   \n",
       "2     2  Departamento  Mozz se deriva de la palabra en italiano mozio...   \n",
       "\n",
       "   parking  year  ... ambience  \\\n",
       "0        1  2023  ...       {}   \n",
       "1        1  2023  ...       {}   \n",
       "2        1  2023  ...       {}   \n",
       "\n",
       "                                        property_url near_cc near_school  \\\n",
       "0  https://urbania.pe/inmueble/proyecto/ememvein-...       1           0   \n",
       "1  https://urbania.pe/inmueble/proyecto/ememvein-...       1           0   \n",
       "2  https://urbania.pe/inmueble/proyecto/ememvein-...       1           0   \n",
       "\n",
       "   near_parks  security  elevator  rest_area  pool  near_avenue  \n",
       "0           1         0         0          1     0            0  \n",
       "1           1         0         0          1     0            0  \n",
       "2           1         0         0          1     0            0  \n",
       "\n",
       "[3 rows x 22 columns]"
      ]
     },
     "execution_count": 46,
     "metadata": {},
     "output_type": "execute_result"
    }
   ],
   "source": [
    "df['near_avenue'] = np.zeros(shape=df.shape[0], dtype=int)\n",
    "df.head(3)"
   ]
  },
  {
   "cell_type": "code",
   "execution_count": 81,
   "metadata": {},
   "outputs": [
    {
     "name": "stdout",
     "output_type": "stream",
     "text": [
      "Principal Streets\n",
      "0 : 14842\n",
      "1 : 1854\n"
     ]
    }
   ],
   "source": [
    "pattern = '(cerca|acceso|rápid|salida|principal|concurrid|important|paso)[\\w*\\s*]*avenida.*'\n",
    "id_street = df['description'].apply(lambda x: x.lower()).str.extract(f'({pattern})').dropna().index\n",
    "df.loc[id_street, 'near_avenue'] = np.ones(shape=len(id_street), dtype=int)\n",
    "print('Principal Streets')\n",
    "print('0 :', df[df['near_avenue'] == 0].shape[0])\n",
    "print('1 :', df[df['near_avenue'] == 1].shape[0])"
   ]
  },
  {
   "cell_type": "markdown",
   "metadata": {},
   "source": [
    "## Save Data"
   ]
  },
  {
   "cell_type": "code",
   "execution_count": 83,
   "metadata": {},
   "outputs": [
    {
     "data": {
      "text/plain": [
       "Index(['title', 'address', 'price', 'area', 'bath', 'room', 'property_type',\n",
       "       'description', 'parking', 'year', 'general_features', 'services',\n",
       "       'ambience', 'property_url', 'near_cc', 'near_school', 'near_parks',\n",
       "       'security', 'elevator', 'rest_area', 'pool', 'near_avenue'],\n",
       "      dtype='object')"
      ]
     },
     "execution_count": 83,
     "metadata": {},
     "output_type": "execute_result"
    }
   ],
   "source": [
    "df.columns"
   ]
  },
  {
   "cell_type": "code",
   "execution_count": 82,
   "metadata": {},
   "outputs": [
    {
     "name": "stdout",
     "output_type": "stream",
     "text": [
      "<class 'pandas.core.frame.DataFrame'>\n",
      "Index: 16696 entries, 0 to 16696\n",
      "Data columns (total 22 columns):\n",
      " #   Column            Non-Null Count  Dtype  \n",
      "---  ------            --------------  -----  \n",
      " 0   title             16696 non-null  object \n",
      " 1   address           16696 non-null  object \n",
      " 2   price             16696 non-null  float64\n",
      " 3   area              16696 non-null  int64  \n",
      " 4   bath              16696 non-null  int64  \n",
      " 5   room              16696 non-null  int64  \n",
      " 6   property_type     16696 non-null  object \n",
      " 7   description       16696 non-null  object \n",
      " 8   parking           16696 non-null  int64  \n",
      " 9   year              16696 non-null  int64  \n",
      " 10  general_features  16696 non-null  object \n",
      " 11  services          16696 non-null  object \n",
      " 12  ambience          16696 non-null  object \n",
      " 13  property_url      16696 non-null  object \n",
      " 14  near_cc           16696 non-null  int64  \n",
      " 15  near_school       16696 non-null  int64  \n",
      " 16  near_parks        16696 non-null  int64  \n",
      " 17  security          16696 non-null  int64  \n",
      " 18  elevator          16696 non-null  int64  \n",
      " 19  rest_area         16696 non-null  int64  \n",
      " 20  pool              16696 non-null  int64  \n",
      " 21  near_avenue       16696 non-null  int64  \n",
      "dtypes: float64(1), int64(13), object(8)\n",
      "memory usage: 3.4+ MB\n"
     ]
    }
   ],
   "source": [
    "df.info()"
   ]
  },
  {
   "cell_type": "code",
   "execution_count": 85,
   "metadata": {},
   "outputs": [],
   "source": [
    "df[\n",
    "    ['title', 'address', 'price', 'area', 'bath', 'room', 'property_type',\n",
    "    'description', 'year', 'parking', 'near_cc', 'near_school', 'near_parks',\n",
    "    'near_avenue','security','elevator','rest_area','pool']\n",
    "].to_csv('./dataset/urbania_final.csv', index=False)"
   ]
  },
  {
   "cell_type": "markdown",
   "metadata": {},
   "source": [
    "# Concat All Data"
   ]
  },
  {
   "cell_type": "code",
   "execution_count": 89,
   "metadata": {},
   "outputs": [
    {
     "data": {
      "text/plain": [
       "Index(['title', 'address', 'price', 'area', 'bath', 'room', 'property_type',\n",
       "       'description', 'year', 'parking', 'near_cc', 'near_school',\n",
       "       'near_parks', 'near_avenue', 'security', 'elevator', 'rest_area',\n",
       "       'pool', 'web'],\n",
       "      dtype='object')"
      ]
     },
     "execution_count": 89,
     "metadata": {},
     "output_type": "execute_result"
    }
   ],
   "source": [
    "df_urbania = pd.read_csv('./dataset/urbania_final.csv')\n",
    "df_urbania['web'] = ['Urbania'] * df_urbania.shape[0]\n",
    "df_urbania.columns"
   ]
  },
  {
   "cell_type": "code",
   "execution_count": 90,
   "metadata": {},
   "outputs": [
    {
     "data": {
      "text/plain": [
       "Index(['title', 'address', 'price', 'area', 'bath', 'room', 'property_type',\n",
       "       'description', 'year', 'parking', 'near_cc', 'near_school',\n",
       "       'near_parks', 'near_avenue', 'security', 'elevator', 'rest_area',\n",
       "       'pool', 'web'],\n",
       "      dtype='object')"
      ]
     },
     "execution_count": 90,
     "metadata": {},
     "output_type": "execute_result"
    }
   ],
   "source": [
    "df_mitula = pd.read_csv('./dataset/mitula_final.csv')\n",
    "df_mitula.columns"
   ]
  },
  {
   "cell_type": "code",
   "execution_count": 92,
   "metadata": {},
   "outputs": [
    {
     "data": {
      "text/plain": [
       "Index(['title', 'address', 'price', 'area', 'bath', 'room', 'property_type',\n",
       "       'description', 'year', 'parking', 'near_cc', 'near_school',\n",
       "       'near_parks', 'near_avenue', 'security', 'elevator', 'rest_area',\n",
       "       'pool', 'web'],\n",
       "      dtype='object')"
      ]
     },
     "execution_count": 92,
     "metadata": {},
     "output_type": "execute_result"
    }
   ],
   "source": [
    "df_trovit = pd.read_csv('./dataset/trovit_final.csv')\n",
    "df_trovit['web'] = ['Trovit'] * df_trovit.shape[0]\n",
    "df_trovit.columns"
   ]
  },
  {
   "cell_type": "code",
   "execution_count": 111,
   "metadata": {},
   "outputs": [
    {
     "name": "stdout",
     "output_type": "stream",
     "text": [
      "<class 'pandas.core.frame.DataFrame'>\n",
      "Index: 26912 entries, 0 to 5296\n",
      "Data columns (total 19 columns):\n",
      " #   Column         Non-Null Count  Dtype \n",
      "---  ------         --------------  ----- \n",
      " 0   title          26912 non-null  object\n",
      " 1   address        26912 non-null  object\n",
      " 2   price          26912 non-null  int64 \n",
      " 3   area           26912 non-null  int64 \n",
      " 4   bath           26912 non-null  int64 \n",
      " 5   room           26912 non-null  int64 \n",
      " 6   property_type  26912 non-null  object\n",
      " 7   description    26910 non-null  object\n",
      " 8   year           26912 non-null  int64 \n",
      " 9   parking        26912 non-null  int64 \n",
      " 10  near_cc        26912 non-null  int64 \n",
      " 11  near_school    26912 non-null  int64 \n",
      " 12  near_parks     26912 non-null  int64 \n",
      " 13  near_avenue    26912 non-null  int64 \n",
      " 14  security       26912 non-null  int64 \n",
      " 15  elevator       26912 non-null  int64 \n",
      " 16  rest_area      26912 non-null  int64 \n",
      " 17  pool           26912 non-null  int64 \n",
      " 18  web            26912 non-null  object\n",
      "dtypes: int64(14), object(5)\n",
      "memory usage: 4.1+ MB\n"
     ]
    }
   ],
   "source": [
    "df_final = pd.concat([df_urbania, df_mitula, df_trovit])\n",
    "df_final['price'] = df_final['price'].astype(int)\n",
    "df_final.info()"
   ]
  },
  {
   "cell_type": "code",
   "execution_count": 112,
   "metadata": {},
   "outputs": [],
   "source": [
    "df_final.to_csv('./dataset/final_data.csv', index=False)"
   ]
  },
  {
   "cell_type": "code",
   "execution_count": 115,
   "metadata": {},
   "outputs": [
    {
     "data": {
      "text/plain": [
       "1325"
      ]
     },
     "execution_count": 115,
     "metadata": {},
     "output_type": "execute_result"
    }
   ],
   "source": [
    "df_final['title'].apply(lambda x: len(x)).max()"
   ]
  },
  {
   "cell_type": "markdown",
   "metadata": {},
   "source": [
    "## Into Postgres"
   ]
  },
  {
   "cell_type": "code",
   "execution_count": 120,
   "metadata": {},
   "outputs": [],
   "source": [
    "import psycopg2\n",
    "from sqlalchemy import create_engine\n",
    "from local_settings import hostname, username, password, port, database"
   ]
  },
  {
   "cell_type": "code",
   "execution_count": 121,
   "metadata": {},
   "outputs": [],
   "source": [
    "connection = psycopg2.connect(\n",
    "            host=hostname, user=username, \n",
    "            password=password, dbname=database, \n",
    "            port=port\n",
    "        )\n",
    "\n",
    "engine = create_engine(f'postgresql://{username}:{password}@{hostname}:{port}/{database}')"
   ]
  },
  {
   "cell_type": "code",
   "execution_count": 122,
   "metadata": {},
   "outputs": [
    {
     "data": {
      "text/plain": [
       "912"
      ]
     },
     "execution_count": 122,
     "metadata": {},
     "output_type": "execute_result"
    }
   ],
   "source": [
    "# DO NOT UNCOMMENT UNLEES YOU KNOW WHAT YOU ARE DOING\n",
    "# df_final.to_sql('data_raw', engine, if_exists='replace', index=False)"
   ]
  },
  {
   "cell_type": "code",
   "execution_count": 123,
   "metadata": {},
   "outputs": [],
   "source": [
    "connection.close()"
   ]
  }
 ],
 "metadata": {
  "kernelspec": {
   "display_name": "venv",
   "language": "python",
   "name": "python3"
  },
  "language_info": {
   "codemirror_mode": {
    "name": "ipython",
    "version": 3
   },
   "file_extension": ".py",
   "mimetype": "text/x-python",
   "name": "python",
   "nbconvert_exporter": "python",
   "pygments_lexer": "ipython3",
   "version": "3.11.4"
  },
  "orig_nbformat": 4
 },
 "nbformat": 4,
 "nbformat_minor": 2
}
