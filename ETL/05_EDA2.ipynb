{
 "cells": [
  {
   "cell_type": "code",
   "execution_count": 1,
   "metadata": {},
   "outputs": [],
   "source": [
    "import pickle\n",
    "import re\n",
    "\n",
    "import pandas as pd\n",
    "import numpy as np\n",
    "import matplotlib.pyplot as plt\n",
    "import seaborn as sns\n",
    "from unidecode import unidecode\n",
    "\n",
    "import warnings\n",
    "warnings.filterwarnings('ignore')"
   ]
  },
  {
   "cell_type": "code",
   "execution_count": 2,
   "metadata": {},
   "outputs": [],
   "source": [
    "import psycopg2\n",
    "from local_settings import hostname, username, password, port, database"
   ]
  },
  {
   "cell_type": "code",
   "execution_count": 3,
   "metadata": {},
   "outputs": [],
   "source": [
    "connection = psycopg2.connect(\n",
    "            host=hostname, user=username, \n",
    "            password=password, dbname=database, \n",
    "            port=port\n",
    "        )"
   ]
  },
  {
   "cell_type": "code",
   "execution_count": 4,
   "metadata": {},
   "outputs": [
    {
     "name": "stdout",
     "output_type": "stream",
     "text": [
      "(26912, 19)\n"
     ]
    },
    {
     "data": {
      "text/html": [
       "<div>\n",
       "<style scoped>\n",
       "    .dataframe tbody tr th:only-of-type {\n",
       "        vertical-align: middle;\n",
       "    }\n",
       "\n",
       "    .dataframe tbody tr th {\n",
       "        vertical-align: top;\n",
       "    }\n",
       "\n",
       "    .dataframe thead th {\n",
       "        text-align: right;\n",
       "    }\n",
       "</style>\n",
       "<table border=\"1\" class=\"dataframe\">\n",
       "  <thead>\n",
       "    <tr style=\"text-align: right;\">\n",
       "      <th></th>\n",
       "      <th>title</th>\n",
       "      <th>address</th>\n",
       "      <th>price</th>\n",
       "      <th>area</th>\n",
       "      <th>bath</th>\n",
       "      <th>room</th>\n",
       "      <th>property_type</th>\n",
       "      <th>description</th>\n",
       "      <th>year</th>\n",
       "      <th>parking</th>\n",
       "      <th>near_cc</th>\n",
       "      <th>near_school</th>\n",
       "      <th>near_parks</th>\n",
       "      <th>near_avenue</th>\n",
       "      <th>security</th>\n",
       "      <th>elevator</th>\n",
       "      <th>rest_area</th>\n",
       "      <th>pool</th>\n",
       "      <th>web</th>\n",
       "    </tr>\n",
       "  </thead>\n",
       "  <tbody>\n",
       "    <tr>\n",
       "      <th>0</th>\n",
       "      <td>Proyecto inmobilario en venta en Calle Coronel...</td>\n",
       "      <td>Calle Coronel Odriozola 128, San IsidroLima, Lima</td>\n",
       "      <td>120375</td>\n",
       "      <td>45</td>\n",
       "      <td>2</td>\n",
       "      <td>3</td>\n",
       "      <td>Departamento</td>\n",
       "      <td>Mozz se deriva de la palabra en italiano mozio...</td>\n",
       "      <td>2023</td>\n",
       "      <td>1</td>\n",
       "      <td>1</td>\n",
       "      <td>0</td>\n",
       "      <td>1</td>\n",
       "      <td>0</td>\n",
       "      <td>0</td>\n",
       "      <td>0</td>\n",
       "      <td>1</td>\n",
       "      <td>0</td>\n",
       "      <td>Urbania</td>\n",
       "    </tr>\n",
       "    <tr>\n",
       "      <th>1</th>\n",
       "      <td>Proyecto inmobilario en venta en Calle Coronel...</td>\n",
       "      <td>Calle Coronel Odriozola 128, San IsidroLima, Lima</td>\n",
       "      <td>119277</td>\n",
       "      <td>45</td>\n",
       "      <td>2</td>\n",
       "      <td>3</td>\n",
       "      <td>Departamento</td>\n",
       "      <td>Mozz se deriva de la palabra en italiano mozio...</td>\n",
       "      <td>2023</td>\n",
       "      <td>1</td>\n",
       "      <td>1</td>\n",
       "      <td>0</td>\n",
       "      <td>1</td>\n",
       "      <td>0</td>\n",
       "      <td>0</td>\n",
       "      <td>0</td>\n",
       "      <td>1</td>\n",
       "      <td>0</td>\n",
       "      <td>Urbania</td>\n",
       "    </tr>\n",
       "    <tr>\n",
       "      <th>2</th>\n",
       "      <td>Proyecto inmobilario en venta en Calle Coronel...</td>\n",
       "      <td>Calle Coronel Odriozola 128, San IsidroLima, Lima</td>\n",
       "      <td>162297</td>\n",
       "      <td>60</td>\n",
       "      <td>2</td>\n",
       "      <td>2</td>\n",
       "      <td>Departamento</td>\n",
       "      <td>Mozz se deriva de la palabra en italiano mozio...</td>\n",
       "      <td>2023</td>\n",
       "      <td>1</td>\n",
       "      <td>1</td>\n",
       "      <td>0</td>\n",
       "      <td>1</td>\n",
       "      <td>0</td>\n",
       "      <td>0</td>\n",
       "      <td>0</td>\n",
       "      <td>1</td>\n",
       "      <td>0</td>\n",
       "      <td>Urbania</td>\n",
       "    </tr>\n",
       "  </tbody>\n",
       "</table>\n",
       "</div>"
      ],
      "text/plain": [
       "                                               title  \\\n",
       "0  Proyecto inmobilario en venta en Calle Coronel...   \n",
       "1  Proyecto inmobilario en venta en Calle Coronel...   \n",
       "2  Proyecto inmobilario en venta en Calle Coronel...   \n",
       "\n",
       "                                             address   price  area  bath  \\\n",
       "0  Calle Coronel Odriozola 128, San IsidroLima, Lima  120375    45     2   \n",
       "1  Calle Coronel Odriozola 128, San IsidroLima, Lima  119277    45     2   \n",
       "2  Calle Coronel Odriozola 128, San IsidroLima, Lima  162297    60     2   \n",
       "\n",
       "   room property_type                                        description  \\\n",
       "0     3  Departamento  Mozz se deriva de la palabra en italiano mozio...   \n",
       "1     3  Departamento  Mozz se deriva de la palabra en italiano mozio...   \n",
       "2     2  Departamento  Mozz se deriva de la palabra en italiano mozio...   \n",
       "\n",
       "   year  parking  near_cc  near_school  near_parks  near_avenue  security  \\\n",
       "0  2023        1        1            0           1            0         0   \n",
       "1  2023        1        1            0           1            0         0   \n",
       "2  2023        1        1            0           1            0         0   \n",
       "\n",
       "   elevator  rest_area  pool      web  \n",
       "0         0          1     0  Urbania  \n",
       "1         0          1     0  Urbania  \n",
       "2         0          1     0  Urbania  "
      ]
     },
     "execution_count": 4,
     "metadata": {},
     "output_type": "execute_result"
    }
   ],
   "source": [
    "sql_query = \"SELECT * FROM data_row\"\n",
    "\n",
    "df = pd.read_sql_query(sql_query, connection)\n",
    "\n",
    "connection.close()\n",
    "print(df.shape)\n",
    "df.head(3)"
   ]
  },
  {
   "cell_type": "markdown",
   "metadata": {},
   "source": [
    "Due to our own pruporse, we want to study those houses which label is 'Casa' or 'Departamento/Apartemento'. Then we drop out labels like 'Casa de playa', 'Casa de campo' and 'Habitación'."
   ]
  },
  {
   "cell_type": "code",
   "execution_count": 5,
   "metadata": {},
   "outputs": [
    {
     "data": {
      "text/plain": [
       "(26560, 19)"
      ]
     },
     "execution_count": 5,
     "metadata": {},
     "output_type": "execute_result"
    }
   ],
   "source": [
    "outhome = ['Casa de playa', 'Casa de campo', 'Habitación']\n",
    "mask = df['property_type'].apply(lambda x: x not in outhome)\n",
    "df = df[mask]\n",
    "df.shape"
   ]
  },
  {
   "cell_type": "code",
   "execution_count": 6,
   "metadata": {},
   "outputs": [
    {
     "data": {
      "text/plain": [
       "property_type\n",
       "Departamento    19226\n",
       "Casa             7334\n",
       "Name: count, dtype: int64"
      ]
     },
     "execution_count": 6,
     "metadata": {},
     "output_type": "execute_result"
    }
   ],
   "source": [
    "df['property_type'] = df['property_type'].str.replace('Apartamento', 'Departamento')\n",
    "df['property_type'].value_counts()"
   ]
  },
  {
   "cell_type": "markdown",
   "metadata": {},
   "source": [
    "There some values which not correspond actually to Departments or Houses, but entire Hotels, buildings and so on."
   ]
  },
  {
   "cell_type": "code",
   "execution_count": 7,
   "metadata": {},
   "outputs": [
    {
     "data": {
      "text/plain": [
       "(26483, 19)"
      ]
     },
     "execution_count": 7,
     "metadata": {},
     "output_type": "execute_result"
    }
   ],
   "source": [
    "id_mansion = df['title'].apply(lambda x: x.lower()).str.extract('((vend\\w* edificio|hotel|hostel|mansion|mansión|hostal).*)').dropna().index\n",
    "df = df.drop(index=id_mansion)\n",
    "df.shape"
   ]
  },
  {
   "cell_type": "code",
   "execution_count": 8,
   "metadata": {},
   "outputs": [
    {
     "data": {
      "text/plain": [
       "(22429, 19)"
      ]
     },
     "execution_count": 8,
     "metadata": {},
     "output_type": "execute_result"
    }
   ],
   "source": [
    "df = df.drop_duplicates()\n",
    "df.shape"
   ]
  },
  {
   "cell_type": "markdown",
   "metadata": {},
   "source": [
    "We have already dropped duplicates instances out, but remains some values. So let's be more specific which columns we don't allow duplicates in"
   ]
  },
  {
   "cell_type": "code",
   "execution_count": 9,
   "metadata": {},
   "outputs": [
    {
     "data": {
      "text/plain": [
       "(21701, 19)"
      ]
     },
     "execution_count": 9,
     "metadata": {},
     "output_type": "execute_result"
    }
   ],
   "source": [
    "df = df.drop_duplicates(subset=['address', 'price', 'area', 'bath', 'room', 'parking', 'year', 'property_type'])\n",
    "df.shape"
   ]
  },
  {
   "cell_type": "code",
   "execution_count": 10,
   "metadata": {},
   "outputs": [
    {
     "data": {
      "text/plain": [
       "title            0\n",
       "address          0\n",
       "price            0\n",
       "area             0\n",
       "bath             0\n",
       "room             0\n",
       "property_type    0\n",
       "description      0\n",
       "year             0\n",
       "parking          0\n",
       "near_cc          0\n",
       "near_school      0\n",
       "near_parks       0\n",
       "near_avenue      0\n",
       "security         0\n",
       "elevator         0\n",
       "rest_area        0\n",
       "pool             0\n",
       "web              0\n",
       "dtype: int64"
      ]
     },
     "execution_count": 10,
     "metadata": {},
     "output_type": "execute_result"
    }
   ],
   "source": [
    "df['description'].fillna('', inplace=True)\n",
    "df.isna().sum()"
   ]
  },
  {
   "cell_type": "code",
   "execution_count": 11,
   "metadata": {},
   "outputs": [
    {
     "data": {
      "text/plain": [
       "(21681, 19)"
      ]
     },
     "execution_count": 11,
     "metadata": {},
     "output_type": "execute_result"
    }
   ],
   "source": [
    "df = df[df['bath'] != 0]\n",
    "df.shape"
   ]
  },
  {
   "cell_type": "markdown",
   "metadata": {},
   "source": [
    "Once again, due to our own pruporse we just consider departments priced lower than 250,000 USD and houses priced lower than 300,000 USD"
   ]
  },
  {
   "cell_type": "code",
   "execution_count": 12,
   "metadata": {},
   "outputs": [
    {
     "data": {
      "text/plain": [
       "property_type\n",
       "Departamento    11531\n",
       "Casa             2839\n",
       "Name: count, dtype: int64"
      ]
     },
     "execution_count": 12,
     "metadata": {},
     "output_type": "execute_result"
    }
   ],
   "source": [
    "threshold_dep = 250000\n",
    "threshold_casa = 300000\n",
    "mask = ((df['property_type'] == 'Departamento') & (df['price'] < threshold_dep)) | ((df['property_type'] == 'Casa') & (df['price'] < threshold_casa))\n",
    "df = df.loc[mask]\n",
    "df['property_type'].value_counts()"
   ]
  },
  {
   "cell_type": "code",
   "execution_count": 13,
   "metadata": {},
   "outputs": [
    {
     "data": {
      "text/plain": [
       "property_type\n",
       "Departamento    11491\n",
       "Casa             2815\n",
       "Name: count, dtype: int64"
      ]
     },
     "execution_count": 13,
     "metadata": {},
     "output_type": "execute_result"
    }
   ],
   "source": [
    "threshold_dep = 10000\n",
    "threshold_casa = 15000\n",
    "mask = ((df['property_type'] == 'Departamento') & (df['price'] > threshold_dep)) | ((df['property_type'] == 'Casa') & (df['price'] > threshold_casa))\n",
    "df = df.loc[mask]\n",
    "df['property_type'].value_counts()"
   ]
  },
  {
   "cell_type": "code",
   "execution_count": 14,
   "metadata": {},
   "outputs": [
    {
     "data": {
      "text/html": [
       "<div>\n",
       "<style scoped>\n",
       "    .dataframe tbody tr th:only-of-type {\n",
       "        vertical-align: middle;\n",
       "    }\n",
       "\n",
       "    .dataframe tbody tr th {\n",
       "        vertical-align: top;\n",
       "    }\n",
       "\n",
       "    .dataframe thead th {\n",
       "        text-align: right;\n",
       "    }\n",
       "</style>\n",
       "<table border=\"1\" class=\"dataframe\">\n",
       "  <thead>\n",
       "    <tr style=\"text-align: right;\">\n",
       "      <th></th>\n",
       "      <th>title</th>\n",
       "      <th>address</th>\n",
       "      <th>price</th>\n",
       "      <th>area</th>\n",
       "      <th>bath</th>\n",
       "      <th>room</th>\n",
       "      <th>property_type</th>\n",
       "      <th>description</th>\n",
       "      <th>year</th>\n",
       "      <th>parking</th>\n",
       "      <th>near_cc</th>\n",
       "      <th>near_school</th>\n",
       "      <th>near_parks</th>\n",
       "      <th>near_avenue</th>\n",
       "      <th>security</th>\n",
       "      <th>elevator</th>\n",
       "      <th>rest_area</th>\n",
       "      <th>pool</th>\n",
       "      <th>web</th>\n",
       "    </tr>\n",
       "    <tr>\n",
       "      <th>id</th>\n",
       "      <th></th>\n",
       "      <th></th>\n",
       "      <th></th>\n",
       "      <th></th>\n",
       "      <th></th>\n",
       "      <th></th>\n",
       "      <th></th>\n",
       "      <th></th>\n",
       "      <th></th>\n",
       "      <th></th>\n",
       "      <th></th>\n",
       "      <th></th>\n",
       "      <th></th>\n",
       "      <th></th>\n",
       "      <th></th>\n",
       "      <th></th>\n",
       "      <th></th>\n",
       "      <th></th>\n",
       "      <th></th>\n",
       "    </tr>\n",
       "  </thead>\n",
       "  <tbody>\n",
       "    <tr>\n",
       "      <th>0</th>\n",
       "      <td>Proyecto inmobilario en venta en Calle Coronel...</td>\n",
       "      <td>Calle Coronel Odriozola 128, San IsidroLima, Lima</td>\n",
       "      <td>120375</td>\n",
       "      <td>45</td>\n",
       "      <td>2</td>\n",
       "      <td>3</td>\n",
       "      <td>Departamento</td>\n",
       "      <td>Mozz se deriva de la palabra en italiano mozio...</td>\n",
       "      <td>2023</td>\n",
       "      <td>1</td>\n",
       "      <td>1</td>\n",
       "      <td>0</td>\n",
       "      <td>1</td>\n",
       "      <td>0</td>\n",
       "      <td>0</td>\n",
       "      <td>0</td>\n",
       "      <td>1</td>\n",
       "      <td>0</td>\n",
       "      <td>Urbania</td>\n",
       "    </tr>\n",
       "    <tr>\n",
       "      <th>1</th>\n",
       "      <td>Proyecto inmobilario en venta en Calle Coronel...</td>\n",
       "      <td>Calle Coronel Odriozola 128, San IsidroLima, Lima</td>\n",
       "      <td>119277</td>\n",
       "      <td>45</td>\n",
       "      <td>2</td>\n",
       "      <td>3</td>\n",
       "      <td>Departamento</td>\n",
       "      <td>Mozz se deriva de la palabra en italiano mozio...</td>\n",
       "      <td>2023</td>\n",
       "      <td>1</td>\n",
       "      <td>1</td>\n",
       "      <td>0</td>\n",
       "      <td>1</td>\n",
       "      <td>0</td>\n",
       "      <td>0</td>\n",
       "      <td>0</td>\n",
       "      <td>1</td>\n",
       "      <td>0</td>\n",
       "      <td>Urbania</td>\n",
       "    </tr>\n",
       "  </tbody>\n",
       "</table>\n",
       "</div>"
      ],
      "text/plain": [
       "                                                title  \\\n",
       "id                                                      \n",
       "0   Proyecto inmobilario en venta en Calle Coronel...   \n",
       "1   Proyecto inmobilario en venta en Calle Coronel...   \n",
       "\n",
       "                                              address   price  area  bath  \\\n",
       "id                                                                          \n",
       "0   Calle Coronel Odriozola 128, San IsidroLima, Lima  120375    45     2   \n",
       "1   Calle Coronel Odriozola 128, San IsidroLima, Lima  119277    45     2   \n",
       "\n",
       "    room property_type                                        description  \\\n",
       "id                                                                          \n",
       "0      3  Departamento  Mozz se deriva de la palabra en italiano mozio...   \n",
       "1      3  Departamento  Mozz se deriva de la palabra en italiano mozio...   \n",
       "\n",
       "    year  parking  near_cc  near_school  near_parks  near_avenue  security  \\\n",
       "id                                                                           \n",
       "0   2023        1        1            0           1            0         0   \n",
       "1   2023        1        1            0           1            0         0   \n",
       "\n",
       "    elevator  rest_area  pool      web  \n",
       "id                                      \n",
       "0          0          1     0  Urbania  \n",
       "1          0          1     0  Urbania  "
      ]
     },
     "execution_count": 14,
     "metadata": {},
     "output_type": "execute_result"
    }
   ],
   "source": [
    "df['id'] = range(0,df.shape[0])\n",
    "df.set_index('id', inplace=True)\n",
    "df.head(2)"
   ]
  },
  {
   "cell_type": "code",
   "execution_count": 15,
   "metadata": {},
   "outputs": [
    {
     "data": {
      "text/plain": [
       "web\n",
       "Urbania    8929\n",
       "Mitula     3232\n",
       "Trovit     2145\n",
       "Name: count, dtype: int64"
      ]
     },
     "execution_count": 15,
     "metadata": {},
     "output_type": "execute_result"
    }
   ],
   "source": [
    "df['web'].value_counts()"
   ]
  },
  {
   "cell_type": "markdown",
   "metadata": {},
   "source": [
    "## Counties in Lima Provincia"
   ]
  },
  {
   "cell_type": "code",
   "execution_count": 16,
   "metadata": {},
   "outputs": [
    {
     "data": {
      "text/html": [
       "<div>\n",
       "<style scoped>\n",
       "    .dataframe tbody tr th:only-of-type {\n",
       "        vertical-align: middle;\n",
       "    }\n",
       "\n",
       "    .dataframe tbody tr th {\n",
       "        vertical-align: top;\n",
       "    }\n",
       "\n",
       "    .dataframe thead th {\n",
       "        text-align: right;\n",
       "    }\n",
       "</style>\n",
       "<table border=\"1\" class=\"dataframe\">\n",
       "  <thead>\n",
       "    <tr style=\"text-align: right;\">\n",
       "      <th></th>\n",
       "      <th>Distritos</th>\n",
       "      <th>Ubigeo</th>\n",
       "      <th>Área (km²)</th>\n",
       "      <th>Censo 2017</th>\n",
       "      <th>Estimación 2023[1]​</th>\n",
       "      <th>Fundación</th>\n",
       "      <th>Código postal</th>\n",
       "      <th>Mapa de ubicación</th>\n",
       "      <th>county</th>\n",
       "    </tr>\n",
       "  </thead>\n",
       "  <tbody>\n",
       "    <tr>\n",
       "      <th>0</th>\n",
       "      <td>Ancón</td>\n",
       "      <td>150102</td>\n",
       "      <td>299.22</td>\n",
       "      <td>62 928</td>\n",
       "      <td>91 170</td>\n",
       "      <td>29 de octubre de 1874</td>\n",
       "      <td>2</td>\n",
       "      <td>NaN</td>\n",
       "      <td>ancon</td>\n",
       "    </tr>\n",
       "    <tr>\n",
       "      <th>1</th>\n",
       "      <td>Ate</td>\n",
       "      <td>150103</td>\n",
       "      <td>77.72</td>\n",
       "      <td>599 196</td>\n",
       "      <td>713 103</td>\n",
       "      <td>2 de enero de 1857</td>\n",
       "      <td>3</td>\n",
       "      <td>NaN</td>\n",
       "      <td>ate</td>\n",
       "    </tr>\n",
       "    <tr>\n",
       "      <th>2</th>\n",
       "      <td>Barranco</td>\n",
       "      <td>150104</td>\n",
       "      <td>3.33</td>\n",
       "      <td>34 378</td>\n",
       "      <td>37 525</td>\n",
       "      <td>26 de octubre de 1874</td>\n",
       "      <td>4</td>\n",
       "      <td>NaN</td>\n",
       "      <td>barranco</td>\n",
       "    </tr>\n",
       "    <tr>\n",
       "      <th>3</th>\n",
       "      <td>Breña</td>\n",
       "      <td>150105</td>\n",
       "      <td>3.22</td>\n",
       "      <td>85 309</td>\n",
       "      <td>97 906</td>\n",
       "      <td>15 de julio de 1949</td>\n",
       "      <td>5</td>\n",
       "      <td>NaN</td>\n",
       "      <td>brena</td>\n",
       "    </tr>\n",
       "    <tr>\n",
       "      <th>4</th>\n",
       "      <td>Carabayllo</td>\n",
       "      <td>150106</td>\n",
       "      <td>346.88</td>\n",
       "      <td>333 045</td>\n",
       "      <td>426 985</td>\n",
       "      <td>4 de agosto de 1821</td>\n",
       "      <td>6</td>\n",
       "      <td>NaN</td>\n",
       "      <td>carabayllo</td>\n",
       "    </tr>\n",
       "  </tbody>\n",
       "</table>\n",
       "</div>"
      ],
      "text/plain": [
       "    Distritos  Ubigeo  Área (km²) Censo 2017 Estimación 2023[1]​  \\\n",
       "0       Ancón  150102      299.22     62 928              91 170   \n",
       "1         Ate  150103       77.72    599 196             713 103   \n",
       "2    Barranco  150104        3.33     34 378              37 525   \n",
       "3       Breña  150105        3.22     85 309              97 906   \n",
       "4  Carabayllo  150106      346.88    333 045             426 985   \n",
       "\n",
       "               Fundación  Código postal  Mapa de ubicación      county  \n",
       "0  29 de octubre de 1874              2                NaN       ancon  \n",
       "1     2 de enero de 1857              3                NaN         ate  \n",
       "2  26 de octubre de 1874              4                NaN    barranco  \n",
       "3    15 de julio de 1949              5                NaN       brena  \n",
       "4    4 de agosto de 1821              6                NaN  carabayllo  "
      ]
     },
     "execution_count": 16,
     "metadata": {},
     "output_type": "execute_result"
    }
   ],
   "source": [
    "lima_provincia = pd.read_html('https://es.wikipedia.org/wiki/Anexo:Distritos_de_Lima', header=1)[0]\n",
    "lima_provincia['county'] = lima_provincia['Distritos'].apply(lambda x: unidecode(x).lower())\n",
    "lima_provincia.head()"
   ]
  },
  {
   "cell_type": "code",
   "execution_count": 17,
   "metadata": {},
   "outputs": [],
   "source": [
    "county = {kk: vv for kk, vv in zip(lima_provincia['county'], lima_provincia['Ubigeo'])}\n",
    "county['san martin'] = 150144\n",
    "county['callao'] = 150145\n",
    "\n",
    "districts = {\n",
    "    'surco': 'santiago de surco',\n",
    "    'cercado de lima': 'lima',\n",
    "    'magdalena': 'magdalena del mar',\n",
    "    'provincia de lima': 'lima',\n",
    "    'cercado': 'lima',\n",
    "    'limalima': 'lima'\n",
    "}\n",
    "for kk, vv in districts.items():\n",
    "    county[kk] = county[vv]\n"
   ]
  },
  {
   "cell_type": "code",
   "execution_count": 18,
   "metadata": {},
   "outputs": [
    {
     "name": "stdout",
     "output_type": "stream",
     "text": [
      "(12988, 20)\n"
     ]
    },
    {
     "data": {
      "text/html": [
       "<div>\n",
       "<style scoped>\n",
       "    .dataframe tbody tr th:only-of-type {\n",
       "        vertical-align: middle;\n",
       "    }\n",
       "\n",
       "    .dataframe tbody tr th {\n",
       "        vertical-align: top;\n",
       "    }\n",
       "\n",
       "    .dataframe thead th {\n",
       "        text-align: right;\n",
       "    }\n",
       "</style>\n",
       "<table border=\"1\" class=\"dataframe\">\n",
       "  <thead>\n",
       "    <tr style=\"text-align: right;\">\n",
       "      <th></th>\n",
       "      <th>title</th>\n",
       "      <th>address</th>\n",
       "      <th>price</th>\n",
       "      <th>area</th>\n",
       "      <th>bath</th>\n",
       "      <th>room</th>\n",
       "      <th>property_type</th>\n",
       "      <th>description</th>\n",
       "      <th>year</th>\n",
       "      <th>parking</th>\n",
       "      <th>near_cc</th>\n",
       "      <th>near_school</th>\n",
       "      <th>near_parks</th>\n",
       "      <th>near_avenue</th>\n",
       "      <th>security</th>\n",
       "      <th>elevator</th>\n",
       "      <th>rest_area</th>\n",
       "      <th>pool</th>\n",
       "      <th>web</th>\n",
       "      <th>county</th>\n",
       "    </tr>\n",
       "    <tr>\n",
       "      <th>id</th>\n",
       "      <th></th>\n",
       "      <th></th>\n",
       "      <th></th>\n",
       "      <th></th>\n",
       "      <th></th>\n",
       "      <th></th>\n",
       "      <th></th>\n",
       "      <th></th>\n",
       "      <th></th>\n",
       "      <th></th>\n",
       "      <th></th>\n",
       "      <th></th>\n",
       "      <th></th>\n",
       "      <th></th>\n",
       "      <th></th>\n",
       "      <th></th>\n",
       "      <th></th>\n",
       "      <th></th>\n",
       "      <th></th>\n",
       "      <th></th>\n",
       "    </tr>\n",
       "  </thead>\n",
       "  <tbody>\n",
       "    <tr>\n",
       "      <th>0</th>\n",
       "      <td>Proyecto inmobilario en venta en Calle Coronel...</td>\n",
       "      <td>calle coronel odriozola 128, san isidrolima, lima</td>\n",
       "      <td>120375</td>\n",
       "      <td>45</td>\n",
       "      <td>2</td>\n",
       "      <td>3</td>\n",
       "      <td>Departamento</td>\n",
       "      <td>Mozz se deriva de la palabra en italiano mozio...</td>\n",
       "      <td>2023</td>\n",
       "      <td>1</td>\n",
       "      <td>1</td>\n",
       "      <td>0</td>\n",
       "      <td>1</td>\n",
       "      <td>0</td>\n",
       "      <td>0</td>\n",
       "      <td>0</td>\n",
       "      <td>1</td>\n",
       "      <td>0</td>\n",
       "      <td>Urbania</td>\n",
       "      <td>150131</td>\n",
       "    </tr>\n",
       "    <tr>\n",
       "      <th>1</th>\n",
       "      <td>Proyecto inmobilario en venta en Calle Coronel...</td>\n",
       "      <td>calle coronel odriozola 128, san isidrolima, lima</td>\n",
       "      <td>119277</td>\n",
       "      <td>45</td>\n",
       "      <td>2</td>\n",
       "      <td>3</td>\n",
       "      <td>Departamento</td>\n",
       "      <td>Mozz se deriva de la palabra en italiano mozio...</td>\n",
       "      <td>2023</td>\n",
       "      <td>1</td>\n",
       "      <td>1</td>\n",
       "      <td>0</td>\n",
       "      <td>1</td>\n",
       "      <td>0</td>\n",
       "      <td>0</td>\n",
       "      <td>0</td>\n",
       "      <td>1</td>\n",
       "      <td>0</td>\n",
       "      <td>Urbania</td>\n",
       "      <td>150131</td>\n",
       "    </tr>\n",
       "  </tbody>\n",
       "</table>\n",
       "</div>"
      ],
      "text/plain": [
       "                                                title  \\\n",
       "id                                                      \n",
       "0   Proyecto inmobilario en venta en Calle Coronel...   \n",
       "1   Proyecto inmobilario en venta en Calle Coronel...   \n",
       "\n",
       "                                              address   price  area  bath  \\\n",
       "id                                                                          \n",
       "0   calle coronel odriozola 128, san isidrolima, lima  120375    45     2   \n",
       "1   calle coronel odriozola 128, san isidrolima, lima  119277    45     2   \n",
       "\n",
       "    room property_type                                        description  \\\n",
       "id                                                                          \n",
       "0      3  Departamento  Mozz se deriva de la palabra en italiano mozio...   \n",
       "1      3  Departamento  Mozz se deriva de la palabra en italiano mozio...   \n",
       "\n",
       "    year  parking  near_cc  near_school  near_parks  near_avenue  security  \\\n",
       "id                                                                           \n",
       "0   2023        1        1            0           1            0         0   \n",
       "1   2023        1        1            0           1            0         0   \n",
       "\n",
       "    elevator  rest_area  pool      web  county  \n",
       "id                                              \n",
       "0          0          1     0  Urbania  150131  \n",
       "1          0          1     0  Urbania  150131  "
      ]
     },
     "execution_count": 18,
     "metadata": {},
     "output_type": "execute_result"
    }
   ],
   "source": [
    "df['address'] = df['address'].apply(lambda x: unidecode(x).lower())\n",
    "\n",
    "pattern = '|'.join(county.keys())\n",
    "df['county'] = df['address'].str.extract(f'({pattern})')[0]\n",
    "df = df.dropna()\n",
    "\n",
    "df['county'] = df['county'].apply(lambda x: county[x])\n",
    "print(df.shape)\n",
    "df.head(2)"
   ]
  },
  {
   "cell_type": "markdown",
   "metadata": {},
   "source": [
    "We want to know the ranking of property accordint to its county"
   ]
  },
  {
   "cell_type": "code",
   "execution_count": 19,
   "metadata": {},
   "outputs": [
    {
     "data": {
      "text/plain": [
       "{150140: 4.59,\n",
       " 150122: 5.0,\n",
       " 150131: 5.0,\n",
       " 150114: 4.76,\n",
       " 150130: 4.95,\n",
       " 150141: 4.49,\n",
       " 150101: 3.21,\n",
       " 150136: 4.66,\n",
       " 150113: 5.0,\n",
       " 150108: 2.71,\n",
       " 150104: 4.11,\n",
       " 150116: 4.27,\n",
       " 150117: 3.22,\n",
       " 150121: 4.4,\n",
       " 150120: 5.0,\n",
       " 150103: 1.51,\n",
       " 150144: 2.8,\n",
       " 150118: 1.46,\n",
       " 150106: 1.9,\n",
       " 150145: 3.13,\n",
       " 150115: 3.27,\n",
       " 150110: 2.36}"
      ]
     },
     "execution_count": 19,
     "metadata": {},
     "output_type": "execute_result"
    }
   ],
   "source": [
    "with open(\"dataset/estratos.pkl\", 'rb') as file:\n",
    "    estratos = pickle.load(file)\n",
    "\n",
    "estratos = {county[unidecode(kk).lower()]: vv for kk, vv in estratos.items()}\n",
    "estratos"
   ]
  },
  {
   "cell_type": "code",
   "execution_count": 20,
   "metadata": {},
   "outputs": [
    {
     "data": {
      "text/html": [
       "<div>\n",
       "<style scoped>\n",
       "    .dataframe tbody tr th:only-of-type {\n",
       "        vertical-align: middle;\n",
       "    }\n",
       "\n",
       "    .dataframe tbody tr th {\n",
       "        vertical-align: top;\n",
       "    }\n",
       "\n",
       "    .dataframe thead th {\n",
       "        text-align: right;\n",
       "    }\n",
       "</style>\n",
       "<table border=\"1\" class=\"dataframe\">\n",
       "  <thead>\n",
       "    <tr style=\"text-align: right;\">\n",
       "      <th></th>\n",
       "      <th>title</th>\n",
       "      <th>address</th>\n",
       "      <th>price</th>\n",
       "      <th>area</th>\n",
       "      <th>bath</th>\n",
       "      <th>room</th>\n",
       "      <th>property_type</th>\n",
       "      <th>description</th>\n",
       "      <th>year</th>\n",
       "      <th>parking</th>\n",
       "      <th>...</th>\n",
       "      <th>near_school</th>\n",
       "      <th>near_parks</th>\n",
       "      <th>near_avenue</th>\n",
       "      <th>security</th>\n",
       "      <th>elevator</th>\n",
       "      <th>rest_area</th>\n",
       "      <th>pool</th>\n",
       "      <th>web</th>\n",
       "      <th>county</th>\n",
       "      <th>ranking</th>\n",
       "    </tr>\n",
       "    <tr>\n",
       "      <th>id</th>\n",
       "      <th></th>\n",
       "      <th></th>\n",
       "      <th></th>\n",
       "      <th></th>\n",
       "      <th></th>\n",
       "      <th></th>\n",
       "      <th></th>\n",
       "      <th></th>\n",
       "      <th></th>\n",
       "      <th></th>\n",
       "      <th></th>\n",
       "      <th></th>\n",
       "      <th></th>\n",
       "      <th></th>\n",
       "      <th></th>\n",
       "      <th></th>\n",
       "      <th></th>\n",
       "      <th></th>\n",
       "      <th></th>\n",
       "      <th></th>\n",
       "      <th></th>\n",
       "    </tr>\n",
       "  </thead>\n",
       "  <tbody>\n",
       "    <tr>\n",
       "      <th>0</th>\n",
       "      <td>Proyecto inmobilario en venta en Calle Coronel...</td>\n",
       "      <td>calle coronel odriozola 128, san isidrolima, lima</td>\n",
       "      <td>120375</td>\n",
       "      <td>45</td>\n",
       "      <td>2</td>\n",
       "      <td>3</td>\n",
       "      <td>Departamento</td>\n",
       "      <td>Mozz se deriva de la palabra en italiano mozio...</td>\n",
       "      <td>2023</td>\n",
       "      <td>1</td>\n",
       "      <td>...</td>\n",
       "      <td>0</td>\n",
       "      <td>1</td>\n",
       "      <td>0</td>\n",
       "      <td>0</td>\n",
       "      <td>0</td>\n",
       "      <td>1</td>\n",
       "      <td>0</td>\n",
       "      <td>Urbania</td>\n",
       "      <td>150131</td>\n",
       "      <td>5.00</td>\n",
       "    </tr>\n",
       "    <tr>\n",
       "      <th>1</th>\n",
       "      <td>Proyecto inmobilario en venta en Calle Coronel...</td>\n",
       "      <td>calle coronel odriozola 128, san isidrolima, lima</td>\n",
       "      <td>119277</td>\n",
       "      <td>45</td>\n",
       "      <td>2</td>\n",
       "      <td>3</td>\n",
       "      <td>Departamento</td>\n",
       "      <td>Mozz se deriva de la palabra en italiano mozio...</td>\n",
       "      <td>2023</td>\n",
       "      <td>1</td>\n",
       "      <td>...</td>\n",
       "      <td>0</td>\n",
       "      <td>1</td>\n",
       "      <td>0</td>\n",
       "      <td>0</td>\n",
       "      <td>0</td>\n",
       "      <td>1</td>\n",
       "      <td>0</td>\n",
       "      <td>Urbania</td>\n",
       "      <td>150131</td>\n",
       "      <td>5.00</td>\n",
       "    </tr>\n",
       "    <tr>\n",
       "      <th>2</th>\n",
       "      <td>Proyecto inmobilario en venta en Calle Coronel...</td>\n",
       "      <td>calle coronel odriozola 128, san isidrolima, lima</td>\n",
       "      <td>162297</td>\n",
       "      <td>60</td>\n",
       "      <td>2</td>\n",
       "      <td>2</td>\n",
       "      <td>Departamento</td>\n",
       "      <td>Mozz se deriva de la palabra en italiano mozio...</td>\n",
       "      <td>2023</td>\n",
       "      <td>1</td>\n",
       "      <td>...</td>\n",
       "      <td>0</td>\n",
       "      <td>1</td>\n",
       "      <td>0</td>\n",
       "      <td>0</td>\n",
       "      <td>0</td>\n",
       "      <td>1</td>\n",
       "      <td>0</td>\n",
       "      <td>Urbania</td>\n",
       "      <td>150131</td>\n",
       "      <td>5.00</td>\n",
       "    </tr>\n",
       "    <tr>\n",
       "      <th>3</th>\n",
       "      <td>Proyecto inmobilario en venta en Calle Coronel...</td>\n",
       "      <td>calle coronel odriozola 128, san isidrolima, lima</td>\n",
       "      <td>157815</td>\n",
       "      <td>60</td>\n",
       "      <td>2</td>\n",
       "      <td>2</td>\n",
       "      <td>Departamento</td>\n",
       "      <td>Mozz se deriva de la palabra en italiano mozio...</td>\n",
       "      <td>2023</td>\n",
       "      <td>1</td>\n",
       "      <td>...</td>\n",
       "      <td>0</td>\n",
       "      <td>1</td>\n",
       "      <td>0</td>\n",
       "      <td>0</td>\n",
       "      <td>0</td>\n",
       "      <td>1</td>\n",
       "      <td>0</td>\n",
       "      <td>Urbania</td>\n",
       "      <td>150131</td>\n",
       "      <td>5.00</td>\n",
       "    </tr>\n",
       "    <tr>\n",
       "      <th>4</th>\n",
       "      <td>Proyecto inmobilario en venta en Jirón Batalló...</td>\n",
       "      <td>jiron batallon callao norte  , santa teresasan...</td>\n",
       "      <td>239998</td>\n",
       "      <td>110</td>\n",
       "      <td>3</td>\n",
       "      <td>3</td>\n",
       "      <td>Departamento</td>\n",
       "      <td>Vive exclusivo en Surco | Vive en Libitum | En...</td>\n",
       "      <td>2023</td>\n",
       "      <td>0</td>\n",
       "      <td>...</td>\n",
       "      <td>0</td>\n",
       "      <td>0</td>\n",
       "      <td>0</td>\n",
       "      <td>0</td>\n",
       "      <td>0</td>\n",
       "      <td>0</td>\n",
       "      <td>0</td>\n",
       "      <td>Urbania</td>\n",
       "      <td>150145</td>\n",
       "      <td>3.13</td>\n",
       "    </tr>\n",
       "  </tbody>\n",
       "</table>\n",
       "<p>5 rows × 21 columns</p>\n",
       "</div>"
      ],
      "text/plain": [
       "                                                title  \\\n",
       "id                                                      \n",
       "0   Proyecto inmobilario en venta en Calle Coronel...   \n",
       "1   Proyecto inmobilario en venta en Calle Coronel...   \n",
       "2   Proyecto inmobilario en venta en Calle Coronel...   \n",
       "3   Proyecto inmobilario en venta en Calle Coronel...   \n",
       "4   Proyecto inmobilario en venta en Jirón Batalló...   \n",
       "\n",
       "                                              address   price  area  bath  \\\n",
       "id                                                                          \n",
       "0   calle coronel odriozola 128, san isidrolima, lima  120375    45     2   \n",
       "1   calle coronel odriozola 128, san isidrolima, lima  119277    45     2   \n",
       "2   calle coronel odriozola 128, san isidrolima, lima  162297    60     2   \n",
       "3   calle coronel odriozola 128, san isidrolima, lima  157815    60     2   \n",
       "4   jiron batallon callao norte  , santa teresasan...  239998   110     3   \n",
       "\n",
       "    room property_type                                        description  \\\n",
       "id                                                                          \n",
       "0      3  Departamento  Mozz se deriva de la palabra en italiano mozio...   \n",
       "1      3  Departamento  Mozz se deriva de la palabra en italiano mozio...   \n",
       "2      2  Departamento  Mozz se deriva de la palabra en italiano mozio...   \n",
       "3      2  Departamento  Mozz se deriva de la palabra en italiano mozio...   \n",
       "4      3  Departamento  Vive exclusivo en Surco | Vive en Libitum | En...   \n",
       "\n",
       "    year  parking  ...  near_school  near_parks  near_avenue  security  \\\n",
       "id                 ...                                                   \n",
       "0   2023        1  ...            0           1            0         0   \n",
       "1   2023        1  ...            0           1            0         0   \n",
       "2   2023        1  ...            0           1            0         0   \n",
       "3   2023        1  ...            0           1            0         0   \n",
       "4   2023        0  ...            0           0            0         0   \n",
       "\n",
       "    elevator  rest_area  pool      web  county  ranking  \n",
       "id                                                       \n",
       "0          0          1     0  Urbania  150131     5.00  \n",
       "1          0          1     0  Urbania  150131     5.00  \n",
       "2          0          1     0  Urbania  150131     5.00  \n",
       "3          0          1     0  Urbania  150131     5.00  \n",
       "4          0          0     0  Urbania  150145     3.13  \n",
       "\n",
       "[5 rows x 21 columns]"
      ]
     },
     "execution_count": 20,
     "metadata": {},
     "output_type": "execute_result"
    }
   ],
   "source": [
    "df['ranking'] = df['county'].map(estratos)\n",
    "df.head()"
   ]
  },
  {
   "cell_type": "code",
   "execution_count": 21,
   "metadata": {},
   "outputs": [
    {
     "data": {
      "text/plain": [
       "1863"
      ]
     },
     "execution_count": 21,
     "metadata": {},
     "output_type": "execute_result"
    }
   ],
   "source": [
    "df.ranking.isna().sum()"
   ]
  },
  {
   "cell_type": "markdown",
   "metadata": {},
   "source": [
    "As we can see, there are some non-ranked instances. Let's solve this by defining 5 ranges of prices and rank those housings."
   ]
  },
  {
   "cell_type": "code",
   "execution_count": 22,
   "metadata": {},
   "outputs": [
    {
     "data": {
      "text/plain": [
       "738"
      ]
     },
     "execution_count": 22,
     "metadata": {},
     "output_type": "execute_result"
    }
   ],
   "source": [
    "mask = (df['property_type'] == 'Departamento') & (df['ranking'].isnull())\n",
    "df.loc[mask, 'rango'] = pd.cut(df.loc[mask, 'price'], bins=15, labels=range(1, 16))\n",
    "\n",
    "rango_dict = {\n",
    "    1: 2.71, 2: 2.36, 3: 2.8, 4: 3.21, 5: 3.27, \n",
    "    6: 4.11, 7: 4.27, 8: 4.4, 9: 4.4, 10: 4.49, \n",
    "    11: 4.49, 12: 4.66, 13: 4.49, 14: 4.66, 15: 4.76\n",
    "    }\n",
    "\n",
    "df['ranking'].fillna(df['rango'].map(rango_dict), inplace=True)\n",
    "df['ranking'].isna().sum()"
   ]
  },
  {
   "cell_type": "code",
   "execution_count": 23,
   "metadata": {},
   "outputs": [
    {
     "data": {
      "text/plain": [
       "0"
      ]
     },
     "execution_count": 23,
     "metadata": {},
     "output_type": "execute_result"
    }
   ],
   "source": [
    "mask = (df['property_type'] == 'Casa') & (df['ranking'].isnull())\n",
    "df.loc[mask, 'rango'] = pd.cut(df.loc[mask, 'price'], bins=15, labels=range(1, 16))\n",
    "\n",
    "rango_dict = {\n",
    "    1:  1.51, 2: 1.9, 3: 2.36, 4: 2.36, 5: 2.71, \n",
    "    6: 2.71, 7: 2.71, 8: 2.8, 9: 2.8, 10: 3.13, \n",
    "    11: 2.8, 12: 3.21, 13: 3.22, 14: 3.27, 15: 3.27\n",
    "    }\n",
    "\n",
    "df['ranking'].fillna(df['rango'].map(rango_dict), inplace=True)\n",
    "df['ranking'].isna().sum()"
   ]
  },
  {
   "cell_type": "code",
   "execution_count": 24,
   "metadata": {},
   "outputs": [
    {
     "name": "stdout",
     "output_type": "stream",
     "text": [
      "(12988, 21)\n"
     ]
    },
    {
     "data": {
      "text/html": [
       "<div>\n",
       "<style scoped>\n",
       "    .dataframe tbody tr th:only-of-type {\n",
       "        vertical-align: middle;\n",
       "    }\n",
       "\n",
       "    .dataframe tbody tr th {\n",
       "        vertical-align: top;\n",
       "    }\n",
       "\n",
       "    .dataframe thead th {\n",
       "        text-align: right;\n",
       "    }\n",
       "</style>\n",
       "<table border=\"1\" class=\"dataframe\">\n",
       "  <thead>\n",
       "    <tr style=\"text-align: right;\">\n",
       "      <th></th>\n",
       "      <th>title</th>\n",
       "      <th>address</th>\n",
       "      <th>price</th>\n",
       "      <th>area</th>\n",
       "      <th>bath</th>\n",
       "      <th>room</th>\n",
       "      <th>property_type</th>\n",
       "      <th>description</th>\n",
       "      <th>year</th>\n",
       "      <th>parking</th>\n",
       "      <th>...</th>\n",
       "      <th>near_school</th>\n",
       "      <th>near_parks</th>\n",
       "      <th>near_avenue</th>\n",
       "      <th>security</th>\n",
       "      <th>elevator</th>\n",
       "      <th>rest_area</th>\n",
       "      <th>pool</th>\n",
       "      <th>web</th>\n",
       "      <th>county</th>\n",
       "      <th>ranking</th>\n",
       "    </tr>\n",
       "    <tr>\n",
       "      <th>id</th>\n",
       "      <th></th>\n",
       "      <th></th>\n",
       "      <th></th>\n",
       "      <th></th>\n",
       "      <th></th>\n",
       "      <th></th>\n",
       "      <th></th>\n",
       "      <th></th>\n",
       "      <th></th>\n",
       "      <th></th>\n",
       "      <th></th>\n",
       "      <th></th>\n",
       "      <th></th>\n",
       "      <th></th>\n",
       "      <th></th>\n",
       "      <th></th>\n",
       "      <th></th>\n",
       "      <th></th>\n",
       "      <th></th>\n",
       "      <th></th>\n",
       "      <th></th>\n",
       "    </tr>\n",
       "  </thead>\n",
       "  <tbody>\n",
       "    <tr>\n",
       "      <th>0</th>\n",
       "      <td>Proyecto inmobilario en venta en Calle Coronel...</td>\n",
       "      <td>calle coronel odriozola 128, san isidrolima, lima</td>\n",
       "      <td>120375</td>\n",
       "      <td>45</td>\n",
       "      <td>2</td>\n",
       "      <td>3</td>\n",
       "      <td>1</td>\n",
       "      <td>Mozz se deriva de la palabra en italiano mozio...</td>\n",
       "      <td>2023</td>\n",
       "      <td>1</td>\n",
       "      <td>...</td>\n",
       "      <td>0</td>\n",
       "      <td>1</td>\n",
       "      <td>0</td>\n",
       "      <td>0</td>\n",
       "      <td>0</td>\n",
       "      <td>1</td>\n",
       "      <td>0</td>\n",
       "      <td>Urbania</td>\n",
       "      <td>150131</td>\n",
       "      <td>5.0</td>\n",
       "    </tr>\n",
       "    <tr>\n",
       "      <th>1</th>\n",
       "      <td>Proyecto inmobilario en venta en Calle Coronel...</td>\n",
       "      <td>calle coronel odriozola 128, san isidrolima, lima</td>\n",
       "      <td>119277</td>\n",
       "      <td>45</td>\n",
       "      <td>2</td>\n",
       "      <td>3</td>\n",
       "      <td>1</td>\n",
       "      <td>Mozz se deriva de la palabra en italiano mozio...</td>\n",
       "      <td>2023</td>\n",
       "      <td>1</td>\n",
       "      <td>...</td>\n",
       "      <td>0</td>\n",
       "      <td>1</td>\n",
       "      <td>0</td>\n",
       "      <td>0</td>\n",
       "      <td>0</td>\n",
       "      <td>1</td>\n",
       "      <td>0</td>\n",
       "      <td>Urbania</td>\n",
       "      <td>150131</td>\n",
       "      <td>5.0</td>\n",
       "    </tr>\n",
       "    <tr>\n",
       "      <th>2</th>\n",
       "      <td>Proyecto inmobilario en venta en Calle Coronel...</td>\n",
       "      <td>calle coronel odriozola 128, san isidrolima, lima</td>\n",
       "      <td>162297</td>\n",
       "      <td>60</td>\n",
       "      <td>2</td>\n",
       "      <td>2</td>\n",
       "      <td>1</td>\n",
       "      <td>Mozz se deriva de la palabra en italiano mozio...</td>\n",
       "      <td>2023</td>\n",
       "      <td>1</td>\n",
       "      <td>...</td>\n",
       "      <td>0</td>\n",
       "      <td>1</td>\n",
       "      <td>0</td>\n",
       "      <td>0</td>\n",
       "      <td>0</td>\n",
       "      <td>1</td>\n",
       "      <td>0</td>\n",
       "      <td>Urbania</td>\n",
       "      <td>150131</td>\n",
       "      <td>5.0</td>\n",
       "    </tr>\n",
       "  </tbody>\n",
       "</table>\n",
       "<p>3 rows × 21 columns</p>\n",
       "</div>"
      ],
      "text/plain": [
       "                                                title  \\\n",
       "id                                                      \n",
       "0   Proyecto inmobilario en venta en Calle Coronel...   \n",
       "1   Proyecto inmobilario en venta en Calle Coronel...   \n",
       "2   Proyecto inmobilario en venta en Calle Coronel...   \n",
       "\n",
       "                                              address   price  area  bath  \\\n",
       "id                                                                          \n",
       "0   calle coronel odriozola 128, san isidrolima, lima  120375    45     2   \n",
       "1   calle coronel odriozola 128, san isidrolima, lima  119277    45     2   \n",
       "2   calle coronel odriozola 128, san isidrolima, lima  162297    60     2   \n",
       "\n",
       "    room  property_type                                        description  \\\n",
       "id                                                                           \n",
       "0      3              1  Mozz se deriva de la palabra en italiano mozio...   \n",
       "1      3              1  Mozz se deriva de la palabra en italiano mozio...   \n",
       "2      2              1  Mozz se deriva de la palabra en italiano mozio...   \n",
       "\n",
       "    year  parking  ...  near_school  near_parks  near_avenue  security  \\\n",
       "id                 ...                                                   \n",
       "0   2023        1  ...            0           1            0         0   \n",
       "1   2023        1  ...            0           1            0         0   \n",
       "2   2023        1  ...            0           1            0         0   \n",
       "\n",
       "    elevator  rest_area  pool      web  county  ranking  \n",
       "id                                                       \n",
       "0          0          1     0  Urbania  150131      5.0  \n",
       "1          0          1     0  Urbania  150131      5.0  \n",
       "2          0          1     0  Urbania  150131      5.0  \n",
       "\n",
       "[3 rows x 21 columns]"
      ]
     },
     "execution_count": 24,
     "metadata": {},
     "output_type": "execute_result"
    }
   ],
   "source": [
    "df = df.drop(columns='rango')\n",
    "df['property_type'] = df['property_type'].replace('Departamento', 1).replace('Casa', 2)\n",
    "print(df.shape)\n",
    "df.head(3)"
   ]
  },
  {
   "cell_type": "markdown",
   "metadata": {},
   "source": [
    "# EDA"
   ]
  },
  {
   "cell_type": "markdown",
   "metadata": {},
   "source": [
    "## Variable Distribution"
   ]
  },
  {
   "cell_type": "code",
   "execution_count": null,
   "metadata": {},
   "outputs": [
    {
     "data": {
      "text/plain": [
       "Index(['title', 'address', 'price', 'area', 'bath', 'room', 'property_type',\n",
       "       'description', 'year', 'parking', 'near_cc', 'near_school',\n",
       "       'near_parks', 'near_avenue', 'security', 'elevator', 'rest_area',\n",
       "       'pool', 'web', 'county', 'ranking', 'rango'],\n",
       "      dtype='object')"
      ]
     },
     "execution_count": 25,
     "metadata": {},
     "output_type": "execute_result"
    }
   ],
   "source": [
    "df.columns"
   ]
  },
  {
   "cell_type": "markdown",
   "metadata": {},
   "source": [
    "Let's create a new dataframe which contains only the numerical variables, i.e., 'price', 'area', 'bath', 'room', 'parking' and 'year'."
   ]
  },
  {
   "cell_type": "code",
   "execution_count": 27,
   "metadata": {},
   "outputs": [
    {
     "name": "stdout",
     "output_type": "stream",
     "text": [
      "<class 'pandas.core.frame.DataFrame'>\n",
      "Index: 12988 entries, 0 to 14305\n",
      "Data columns (total 17 columns):\n",
      " #   Column         Non-Null Count  Dtype  \n",
      "---  ------         --------------  -----  \n",
      " 0   price          12988 non-null  int64  \n",
      " 1   area           12988 non-null  int64  \n",
      " 2   bath           12988 non-null  int64  \n",
      " 3   room           12988 non-null  int64  \n",
      " 4   parking        12988 non-null  int64  \n",
      " 5   year           12988 non-null  int64  \n",
      " 6   property_type  12988 non-null  int64  \n",
      " 7   near_cc        12988 non-null  int64  \n",
      " 8   near_school    12988 non-null  int64  \n",
      " 9   near_parks     12988 non-null  int64  \n",
      " 10  near_avenue    12988 non-null  int64  \n",
      " 11  security       12988 non-null  int64  \n",
      " 12  elevator       12988 non-null  int64  \n",
      " 13  rest_area      12988 non-null  int64  \n",
      " 14  pool           12988 non-null  int64  \n",
      " 15  county         12988 non-null  int64  \n",
      " 16  ranking        12988 non-null  float64\n",
      "dtypes: float64(1), int64(16)\n",
      "memory usage: 1.8 MB\n"
     ]
    }
   ],
   "source": [
    "df_num = df[['price', 'area', 'bath', 'room', 'parking', 'year', 'property_type',\n",
    "             'near_cc', 'near_school', 'near_parks', 'near_avenue', 'security', \n",
    "             'elevator', 'rest_area','pool', 'county', 'ranking']]\n",
    "df_num.info()"
   ]
  },
  {
   "cell_type": "markdown",
   "metadata": {},
   "source": [
    "As the first step, we plot the distribution of each variable in order to know where its outliers."
   ]
  },
  {
   "cell_type": "code",
   "execution_count": 28,
   "metadata": {},
   "outputs": [
    {
     "data": {
      "image/png": "[encoded data removed]",
      "text/plain": [
       "<Figure size 900x600 with 6 Axes>"
      ]
     },
     "metadata": {},
     "output_type": "display_data"
    }
   ],
   "source": [
    "f = pd.melt(df_num.iloc[:,:6], value_vars=df_num.columns[:6])\n",
    "g = sns.FacetGrid(f, col=\"variable\",  col_wrap=3, sharex=False, sharey=False)\n",
    "g = g.map(sns.distplot, \"value\")"
   ]
  },
  {
   "cell_type": "code",
   "execution_count": 29,
   "metadata": {},
   "outputs": [
    {
     "data": {
      "image/png": "[encoded data removed]",
      "text/plain": [
       "<Figure size 900x600 with 6 Axes>"
      ]
     },
     "metadata": {},
     "output_type": "display_data"
    }
   ],
   "source": [
    "f = pd.melt(df_num.iloc[:,:6], value_vars=df_num.columns[:6])\n",
    "g = sns.FacetGrid(f, col=\"variable\",  col_wrap=3, sharex=False, sharey=False)\n",
    "g = g.map(sns.boxplot, \"value\")"
   ]
  },
  {
   "cell_type": "markdown",
   "metadata": {},
   "source": [
    "As we can appreciate, all variables have outliers, but 'price'. "
   ]
  },
  {
   "cell_type": "code",
   "execution_count": 30,
   "metadata": {},
   "outputs": [],
   "source": [
    "def outliers(column, df_outlier):\n",
    "    Q1 = df_outlier[column].dropna().quantile(0.25)\n",
    "    Q3 = df_outlier[column].dropna().quantile(0.75)\n",
    "    IQR = Q3 - Q1\n",
    "\n",
    "    lower_whisker = Q1 - 1.5 * IQR\n",
    "    upper_whisker = Q3 + 1.5 * IQR\n",
    "\n",
    "    return lower_whisker, upper_whisker"
   ]
  },
  {
   "cell_type": "markdown",
   "metadata": {},
   "source": [
    "We point out for clients which buy its first house, then a housing which has a big area would not be a good option for a first house."
   ]
  },
  {
   "cell_type": "code",
   "execution_count": 31,
   "metadata": {},
   "outputs": [
    {
     "data": {
      "text/plain": [
       "(12897, 17)"
      ]
     },
     "execution_count": 31,
     "metadata": {},
     "output_type": "execute_result"
    }
   ],
   "source": [
    "threshold = 500\n",
    "mask = (df_num['area'] < threshold)\n",
    "df_num = df_num[mask]\n",
    "df_num.shape"
   ]
  },
  {
   "cell_type": "markdown",
   "metadata": {},
   "source": [
    "## Outliers Casa & Departamento"
   ]
  },
  {
   "cell_type": "markdown",
   "metadata": {},
   "source": [
    "Because Department and Houses has different dimensions and settings, we split the analysis among each property_type label."
   ]
  },
  {
   "cell_type": "code",
   "execution_count": 34,
   "metadata": {},
   "outputs": [
    {
     "name": "stdout",
     "output_type": "stream",
     "text": [
      "(10836, 17) (2061, 17)\n"
     ]
    }
   ],
   "source": [
    "mask = df_num['property_type'] == 1\n",
    "df_departamento = df_num.loc[mask]\n",
    "mask = df_num['property_type'] == 2\n",
    "df_casa = df_num.loc[mask]\n",
    "print(df_departamento.shape, df_casa.shape)"
   ]
  },
  {
   "cell_type": "markdown",
   "metadata": {},
   "source": [
    "### Departamento"
   ]
  },
  {
   "cell_type": "markdown",
   "metadata": {},
   "source": [
    "#### Outliers Area"
   ]
  },
  {
   "cell_type": "markdown",
   "metadata": {},
   "source": [
    "We choose 'area' for our standard parameter, in order to contrast the other variables and take a decision aboout what instance gets drop out."
   ]
  },
  {
   "cell_type": "code",
   "execution_count": 35,
   "metadata": {},
   "outputs": [
    {
     "data": {
      "text/plain": [
       "(5.0, 165.0)"
      ]
     },
     "execution_count": 35,
     "metadata": {},
     "output_type": "execute_result"
    }
   ],
   "source": [
    "lower_darea, upper_darea = outliers('area', df_departamento)\n",
    "lower_darea, upper_darea"
   ]
  },
  {
   "cell_type": "markdown",
   "metadata": {},
   "source": [
    "Hence using the outlier values, let's see which instance could be useful. For that a 2D histogram would be a good idea to see how data of 'area' and number of 'room' is distributed."
   ]
  },
  {
   "cell_type": "code",
   "execution_count": 36,
   "metadata": {},
   "outputs": [
    {
     "data": {
      "image/png": "[encoded data removed]",
      "text/plain": [
       "<Figure size 640x480 with 2 Axes>"
      ]
     },
     "metadata": {},
     "output_type": "display_data"
    }
   ],
   "source": [
    "mask = df_departamento['area'] > upper_darea\n",
    "plt.figure()\n",
    "sns.histplot(data=df_departamento.loc[mask], x='area', y='room', bins=20, cmap='viridis', cbar=True)\n",
    "plt.show()"
   ]
  },
  {
   "cell_type": "markdown",
   "metadata": {},
   "source": [
    "For this data, let's see what is the most common range for number of rooms"
   ]
  },
  {
   "cell_type": "code",
   "execution_count": 37,
   "metadata": {},
   "outputs": [
    {
     "data": {
      "text/plain": [
       "(1.5, 5.5)"
      ]
     },
     "execution_count": 37,
     "metadata": {},
     "output_type": "execute_result"
    }
   ],
   "source": [
    "mask = (df_departamento['area'] > upper_darea)\n",
    "lower_room, upper_room = outliers('room', df_departamento[mask])\n",
    "lower_room, upper_room"
   ]
  },
  {
   "cell_type": "markdown",
   "metadata": {},
   "source": [
    "According to this result, housing having more that 5 rooms and less than 3 room are dropped out."
   ]
  },
  {
   "cell_type": "code",
   "execution_count": 38,
   "metadata": {},
   "outputs": [
    {
     "name": "stdout",
     "output_type": "stream",
     "text": [
      "(36, 17)\n"
     ]
    },
    {
     "data": {
      "text/plain": [
       "(10800, 17)"
      ]
     },
     "execution_count": 38,
     "metadata": {},
     "output_type": "execute_result"
    }
   ],
   "source": [
    "mask = (df_departamento['area'] > upper_darea) & ((df_departamento['room'] <= 2)|(df_departamento['room'] >= 6))\n",
    "print(df_departamento.loc[mask].shape)\n",
    "df_departamento = df_departamento.loc[~mask]\n",
    "df_departamento.shape"
   ]
  },
  {
   "cell_type": "markdown",
   "metadata": {},
   "source": [
    "Let's do the same for 'bath' variable"
   ]
  },
  {
   "cell_type": "code",
   "execution_count": 39,
   "metadata": {},
   "outputs": [
    {
     "data": {
      "image/png": "[encoded data removed]",
      "text/plain": [
       "<Figure size 640x480 with 2 Axes>"
      ]
     },
     "metadata": {},
     "output_type": "display_data"
    }
   ],
   "source": [
    "mask = df_departamento['area'] > upper_darea\n",
    "plt.figure()\n",
    "sns.histplot(data=df_departamento.loc[mask], x='area', y='bath', bins=20, cmap='viridis', cbar=True)\n",
    "plt.show()"
   ]
  },
  {
   "cell_type": "markdown",
   "metadata": {},
   "source": [
    "As well as before, instaces with more then 5 and less than 2 bath are dropped out."
   ]
  },
  {
   "cell_type": "code",
   "execution_count": 40,
   "metadata": {},
   "outputs": [
    {
     "name": "stdout",
     "output_type": "stream",
     "text": [
      "(5, 17)\n"
     ]
    },
    {
     "data": {
      "text/plain": [
       "(10795, 17)"
      ]
     },
     "execution_count": 40,
     "metadata": {},
     "output_type": "execute_result"
    }
   ],
   "source": [
    "mask = (df_departamento['area'] > upper_darea) & ((df_departamento['bath'] <= 1)|(df_departamento['bath'] >= 6))\n",
    "print(df_departamento[mask].shape)\n",
    "df_departamento = df_departamento.loc[~mask]\n",
    "df_departamento.shape"
   ]
  },
  {
   "cell_type": "markdown",
   "metadata": {},
   "source": [
    "#### Outliers Room & Bath"
   ]
  },
  {
   "cell_type": "markdown",
   "metadata": {},
   "source": [
    "Now let's analyses the variables 'room' and 'bath' for itself.\n",
    "Let's compute its outliers and let them go away."
   ]
  },
  {
   "cell_type": "code",
   "execution_count": 41,
   "metadata": {},
   "outputs": [
    {
     "data": {
      "text/plain": [
       "(0.5, 4.5)"
      ]
     },
     "execution_count": 41,
     "metadata": {},
     "output_type": "execute_result"
    }
   ],
   "source": [
    "lower_droom, upper_droom = outliers('room', df_departamento)\n",
    "lower_droom, upper_droom"
   ]
  },
  {
   "cell_type": "code",
   "execution_count": 42,
   "metadata": {},
   "outputs": [
    {
     "name": "stdout",
     "output_type": "stream",
     "text": [
      "(105, 17)\n"
     ]
    },
    {
     "data": {
      "text/plain": [
       "(10690, 17)"
      ]
     },
     "execution_count": 42,
     "metadata": {},
     "output_type": "execute_result"
    }
   ],
   "source": [
    "mask = df_departamento['room'] < 5\n",
    "print(df_departamento[~mask].shape)\n",
    "df_departamento = df_departamento[mask]\n",
    "df_departamento.shape"
   ]
  },
  {
   "cell_type": "code",
   "execution_count": 43,
   "metadata": {},
   "outputs": [
    {
     "data": {
      "text/plain": [
       "(2.0, 2.0)"
      ]
     },
     "execution_count": 43,
     "metadata": {},
     "output_type": "execute_result"
    }
   ],
   "source": [
    "lower_dbath, upper_dbath = outliers('bath', df_departamento)\n",
    "lower_dbath, upper_dbath"
   ]
  },
  {
   "cell_type": "code",
   "execution_count": 44,
   "metadata": {},
   "outputs": [
    {
     "name": "stdout",
     "output_type": "stream",
     "text": [
      "(25, 17)\n"
     ]
    },
    {
     "data": {
      "text/plain": [
       "(10665, 17)"
      ]
     },
     "execution_count": 44,
     "metadata": {},
     "output_type": "execute_result"
    }
   ],
   "source": [
    "mask = df_departamento['bath'] < 5\n",
    "print(df_departamento[~mask].shape)\n",
    "df_departamento = df_departamento.loc[mask]\n",
    "df_departamento.shape"
   ]
  },
  {
   "cell_type": "markdown",
   "metadata": {},
   "source": [
    "#### Bath < Room"
   ]
  },
  {
   "cell_type": "markdown",
   "metadata": {},
   "source": [
    "Now let's analyse both parameters together."
   ]
  },
  {
   "cell_type": "code",
   "execution_count": 45,
   "metadata": {},
   "outputs": [
    {
     "data": {
      "image/png": "[encoded data removed]",
      "text/plain": [
       "<Figure size 640x480 with 2 Axes>"
      ]
     },
     "metadata": {},
     "output_type": "display_data"
    }
   ],
   "source": [
    "plt.figure()\n",
    "sns.histplot(data=df_departamento.loc[mask], x='room', y='bath', bins=20, cmap='viridis', cbar=True)\n",
    "plt.show()"
   ]
  },
  {
   "cell_type": "markdown",
   "metadata": {},
   "source": [
    "We can appreciate than there are several cases where exist more bath than rooms. Let's drop out that instances."
   ]
  },
  {
   "cell_type": "code",
   "execution_count": 46,
   "metadata": {},
   "outputs": [
    {
     "name": "stdout",
     "output_type": "stream",
     "text": [
      "(482, 17)\n"
     ]
    },
    {
     "data": {
      "text/plain": [
       "(10183, 17)"
      ]
     },
     "execution_count": 46,
     "metadata": {},
     "output_type": "execute_result"
    }
   ],
   "source": [
    "mask = df_departamento['bath'] > df_departamento['room']\n",
    "print(df_departamento[mask].shape)\n",
    "df_departamento = df_departamento.loc[~mask]\n",
    "df_departamento.shape"
   ]
  },
  {
   "cell_type": "markdown",
   "metadata": {},
   "source": [
    "#### Outlier Parking"
   ]
  },
  {
   "cell_type": "code",
   "execution_count": 47,
   "metadata": {},
   "outputs": [
    {
     "data": {
      "text/plain": [
       "(-1.5, 2.5)"
      ]
     },
     "execution_count": 47,
     "metadata": {},
     "output_type": "execute_result"
    }
   ],
   "source": [
    "lower_dparking, upper_dparking = outliers('parking', df_departamento)\n",
    "lower_dparking, upper_dparking"
   ]
  },
  {
   "cell_type": "code",
   "execution_count": 48,
   "metadata": {},
   "outputs": [
    {
     "data": {
      "text/plain": [
       "(10170, 17)"
      ]
     },
     "execution_count": 48,
     "metadata": {},
     "output_type": "execute_result"
    }
   ],
   "source": [
    "mask = df_departamento['parking'] <= 2\n",
    "df_departamento = df_departamento.loc[mask]\n",
    "df_departamento.shape"
   ]
  },
  {
   "cell_type": "code",
   "execution_count": 49,
   "metadata": {},
   "outputs": [
    {
     "data": {
      "text/plain": [
       "(10170, 17)"
      ]
     },
     "execution_count": 49,
     "metadata": {},
     "output_type": "execute_result"
    }
   ],
   "source": [
    "df_departamento['parking'] = df_departamento['parking'].replace(2, 1)\n",
    "df_departamento.shape"
   ]
  },
  {
   "cell_type": "code",
   "execution_count": 50,
   "metadata": {},
   "outputs": [
    {
     "data": {
      "text/plain": [
       "parking\n",
       "0    6454\n",
       "1    3716\n",
       "Name: count, dtype: int64"
      ]
     },
     "execution_count": 50,
     "metadata": {},
     "output_type": "execute_result"
    }
   ],
   "source": [
    "df_departamento['parking'].value_counts()"
   ]
  },
  {
   "cell_type": "markdown",
   "metadata": {},
   "source": [
    "#### Outlier Year"
   ]
  },
  {
   "cell_type": "markdown",
   "metadata": {},
   "source": [
    "There are some data in 'year' which is 0, let's replaced by random values, between 2000 and 2020"
   ]
  },
  {
   "cell_type": "code",
   "execution_count": 51,
   "metadata": {},
   "outputs": [
    {
     "data": {
      "text/plain": [
       "(10170, 17)"
      ]
     },
     "execution_count": 51,
     "metadata": {},
     "output_type": "execute_result"
    }
   ],
   "source": [
    "# mask = (df_departamento['year'] != 0) & (df_departamento['year'] != 2023) \n",
    "# new_year = int(df_departamento.loc[mask, 'year'].median())\n",
    "mask = df_departamento['year'] == 0\n",
    "size = df_departamento.loc[mask].shape[0]\n",
    "df_departamento.loc[mask, 'year'] = np.random.normal(2010, 5, size).astype(int)\n",
    "df_departamento.shape"
   ]
  },
  {
   "cell_type": "code",
   "execution_count": 52,
   "metadata": {},
   "outputs": [
    {
     "data": {
      "text/plain": [
       "year\n",
       "2023    3783\n",
       "2013     490\n",
       "2022     470\n",
       "2018     358\n",
       "2008     320\n",
       "        ... \n",
       "1946       1\n",
       "1947       1\n",
       "1949       1\n",
       "1941       1\n",
       "1950       1\n",
       "Name: count, Length: 76, dtype: int64"
      ]
     },
     "execution_count": 52,
     "metadata": {},
     "output_type": "execute_result"
    }
   ],
   "source": [
    "mask = df_departamento['year'] > 2023\n",
    "df_departamento.loc[mask, 'year'] = [2023] * df_departamento.loc[mask].shape[0]\n",
    "df_departamento['year'] = df_departamento['year'].astype(int)\n",
    "df_departamento['year'].value_counts()"
   ]
  },
  {
   "cell_type": "markdown",
   "metadata": {},
   "source": [
    "Let's see how the distributions have changed"
   ]
  },
  {
   "cell_type": "code",
   "execution_count": 53,
   "metadata": {},
   "outputs": [
    {
     "data": {
      "image/png": "[encoded data removed]",
      "text/plain": [
       "<Figure size 900x600 with 6 Axes>"
      ]
     },
     "metadata": {},
     "output_type": "display_data"
    }
   ],
   "source": [
    "f = pd.melt(df_departamento.iloc[:,:6], value_vars=df_departamento.columns[:6])\n",
    "g = sns.FacetGrid(f, col=\"variable\",  col_wrap=3, sharex=False, sharey=False)\n",
    "g = g.map(sns.distplot, \"value\")"
   ]
  },
  {
   "cell_type": "code",
   "execution_count": 54,
   "metadata": {},
   "outputs": [
    {
     "data": {
      "image/png": "[encoded data removed]",
      "text/plain": [
       "<Figure size 900x600 with 6 Axes>"
      ]
     },
     "metadata": {},
     "output_type": "display_data"
    }
   ],
   "source": [
    "f = pd.melt(df_departamento.iloc[:,:6], value_vars=df_departamento.columns[:6])\n",
    "g = sns.FacetGrid(f, col=\"variable\",  col_wrap=3, sharex=False, sharey=False)\n",
    "g = g.map(sns.boxplot, \"value\")"
   ]
  },
  {
   "cell_type": "markdown",
   "metadata": {},
   "source": [
    "### Casa"
   ]
  },
  {
   "cell_type": "markdown",
   "metadata": {},
   "source": [
    "#### Outliers Area"
   ]
  },
  {
   "cell_type": "code",
   "execution_count": 55,
   "metadata": {},
   "outputs": [
    {
     "data": {
      "text/plain": [
       "(-33.5, 362.5)"
      ]
     },
     "execution_count": 55,
     "metadata": {},
     "output_type": "execute_result"
    }
   ],
   "source": [
    "lower_carea, upper_carea = outliers('area', df_casa)\n",
    "lower_carea, upper_carea"
   ]
  },
  {
   "cell_type": "code",
   "execution_count": 56,
   "metadata": {},
   "outputs": [],
   "source": [
    "mask = df_casa['area'] > upper_carea\n",
    "df_casa = df_casa.loc[~mask]\n"
   ]
  },
  {
   "cell_type": "code",
   "execution_count": 57,
   "metadata": {},
   "outputs": [
    {
     "data": {
      "image/png": "[encoded data removed]",
      "text/plain": [
       "<Figure size 900x600 with 6 Axes>"
      ]
     },
     "metadata": {},
     "output_type": "display_data"
    }
   ],
   "source": [
    "f = pd.melt(df_casa.iloc[:,:6], value_vars=df_casa.columns[:6])\n",
    "g = sns.FacetGrid(f, col=\"variable\",  col_wrap=3, sharex=False, sharey=False)\n",
    "g = g.map(sns.boxplot, \"value\")"
   ]
  },
  {
   "cell_type": "code",
   "execution_count": 58,
   "metadata": {},
   "outputs": [
    {
     "data": {
      "image/png": "[encoded data removed]",
      "text/plain": [
       "<Figure size 640x480 with 1 Axes>"
      ]
     },
     "metadata": {},
     "output_type": "display_data"
    }
   ],
   "source": [
    "plt.hist(df_casa[\"area\"], edgecolor='k')\n",
    "\n",
    "# Configurar etiquetas y título\n",
    "plt.xlabel(\"Área\")\n",
    "plt.ylabel(\"Frecuencia\")\n",
    "plt.title(\"Histograma de Área de las Casas\")\n",
    "\n",
    "# Mostrar el gráfico\n",
    "plt.show()\n"
   ]
  },
  {
   "cell_type": "code",
   "execution_count": 59,
   "metadata": {},
   "outputs": [],
   "source": [
    "mask = df_casa['area'] < 30\n",
    "df_casa = df_casa.loc[~mask]"
   ]
  },
  {
   "cell_type": "markdown",
   "metadata": {},
   "source": [
    "#### Outliers Room & Bath"
   ]
  },
  {
   "cell_type": "code",
   "execution_count": 60,
   "metadata": {},
   "outputs": [
    {
     "data": {
      "text/plain": [
       "(-1.5, 10.5)"
      ]
     },
     "execution_count": 60,
     "metadata": {},
     "output_type": "execute_result"
    }
   ],
   "source": [
    "lower_croom, upper_croom = outliers('room', df_casa)\n",
    "lower_croom, upper_croom"
   ]
  },
  {
   "cell_type": "code",
   "execution_count": 61,
   "metadata": {},
   "outputs": [
    {
     "data": {
      "image/png": "[encoded data removed]",
      "text/plain": [
       "<Figure size 640x480 with 1 Axes>"
      ]
     },
     "metadata": {},
     "output_type": "display_data"
    }
   ],
   "source": [
    "plt.hist(df_casa[\"room\"], edgecolor='k', bins= 20)\n",
    "\n",
    "# Configurar etiquetas y título\n",
    "plt.xlabel(\"Rooms\")\n",
    "plt.ylabel(\"Frecuencia\")\n",
    "plt.show()\n"
   ]
  },
  {
   "cell_type": "code",
   "execution_count": 62,
   "metadata": {},
   "outputs": [
    {
     "data": {
      "text/plain": [
       "(1916, 17)"
      ]
     },
     "execution_count": 62,
     "metadata": {},
     "output_type": "execute_result"
    }
   ],
   "source": [
    "mask = df_casa['room'] > 10\n",
    "df_casa = df_casa[~mask]\n",
    "df_casa.shape"
   ]
  },
  {
   "cell_type": "code",
   "execution_count": 63,
   "metadata": {},
   "outputs": [
    {
     "data": {
      "image/png": "[encoded data removed]",
      "text/plain": [
       "<Figure size 640x480 with 1 Axes>"
      ]
     },
     "metadata": {},
     "output_type": "display_data"
    }
   ],
   "source": [
    "plt.hist(df_casa[\"room\"], edgecolor='k')\n",
    "\n",
    "# Configurar etiquetas y título\n",
    "plt.xlabel(\"Rooms\")\n",
    "plt.ylabel(\"Frecuencia\")\n",
    "plt.show()\n"
   ]
  },
  {
   "cell_type": "code",
   "execution_count": 64,
   "metadata": {},
   "outputs": [],
   "source": [
    "#id_hotel = df[df[\"room\"] >10]['description'].apply(lambda x: x.lower()).str.extract('(hotel)').dropna().index\n",
    "#df.loc[id_hotel]"
   ]
  },
  {
   "cell_type": "code",
   "execution_count": 65,
   "metadata": {},
   "outputs": [
    {
     "data": {
      "text/plain": [
       "(-1.0, 7.0)"
      ]
     },
     "execution_count": 65,
     "metadata": {},
     "output_type": "execute_result"
    }
   ],
   "source": [
    "lower_cbath, upper_cbath = outliers('bath', df_casa)\n",
    "lower_cbath, upper_cbath"
   ]
  },
  {
   "cell_type": "code",
   "execution_count": 66,
   "metadata": {},
   "outputs": [
    {
     "data": {
      "image/png": "[encoded data removed]",
      "text/plain": [
       "<Figure size 640x480 with 1 Axes>"
      ]
     },
     "metadata": {},
     "output_type": "display_data"
    }
   ],
   "source": [
    "plt.hist(df_casa[\"bath\"], edgecolor='k')\n",
    "\n",
    "# Configurar etiquetas y título\n",
    "plt.xlabel(\"Bath\")\n",
    "plt.ylabel(\"Frecuencia\")\n",
    "plt.show()\n"
   ]
  },
  {
   "cell_type": "code",
   "execution_count": 67,
   "metadata": {},
   "outputs": [
    {
     "data": {
      "text/plain": [
       "(1893, 17)"
      ]
     },
     "execution_count": 67,
     "metadata": {},
     "output_type": "execute_result"
    }
   ],
   "source": [
    "mask = df_casa['bath'] > 7\n",
    "df_casa = df_casa[~mask]\n",
    "df_casa.shape"
   ]
  },
  {
   "cell_type": "code",
   "execution_count": 68,
   "metadata": {},
   "outputs": [
    {
     "data": {
      "image/png": "[encoded data removed]",
      "text/plain": [
       "<Figure size 640x480 with 1 Axes>"
      ]
     },
     "metadata": {},
     "output_type": "display_data"
    }
   ],
   "source": [
    "plt.hist(df_casa[\"bath\"], edgecolor='k')\n",
    "\n",
    "# Configurar etiquetas y título\n",
    "plt.xlabel(\"Bath\")\n",
    "plt.ylabel(\"Frecuencia\")\n",
    "plt.show()\n"
   ]
  },
  {
   "cell_type": "markdown",
   "metadata": {},
   "source": [
    "#### Bath < Room"
   ]
  },
  {
   "cell_type": "code",
   "execution_count": 69,
   "metadata": {},
   "outputs": [
    {
     "data": {
      "image/png": "[encoded data removed]",
      "text/plain": [
       "<Figure size 640x480 with 1 Axes>"
      ]
     },
     "metadata": {},
     "output_type": "display_data"
    }
   ],
   "source": [
    "plt.figure()\n",
    "sns.scatterplot(data=df_casa, x='room', y='bath')\n",
    "plt.show()"
   ]
  },
  {
   "cell_type": "code",
   "execution_count": 70,
   "metadata": {},
   "outputs": [
    {
     "data": {
      "text/plain": [
       "(1813, 17)"
      ]
     },
     "execution_count": 70,
     "metadata": {},
     "output_type": "execute_result"
    }
   ],
   "source": [
    "mask = df_casa['bath'] > df_casa['room']\n",
    "df_casa = df_casa.loc[~mask]\n",
    "df_casa.shape"
   ]
  },
  {
   "cell_type": "markdown",
   "metadata": {},
   "source": [
    "#### Outlier Parking"
   ]
  },
  {
   "cell_type": "code",
   "execution_count": 71,
   "metadata": {},
   "outputs": [
    {
     "data": {
      "text/plain": [
       "(-1.5, 2.5)"
      ]
     },
     "execution_count": 71,
     "metadata": {},
     "output_type": "execute_result"
    }
   ],
   "source": [
    "lower_cparking, upper_cparking = outliers('parking', df_casa)\n",
    "lower_cparking, upper_cparking"
   ]
  },
  {
   "cell_type": "code",
   "execution_count": 72,
   "metadata": {},
   "outputs": [],
   "source": [
    "mask = df_casa['parking'] <= 2\n",
    "df_casa = df_casa.loc[mask]\n"
   ]
  },
  {
   "cell_type": "code",
   "execution_count": 73,
   "metadata": {},
   "outputs": [
    {
     "data": {
      "text/plain": [
       "(1780, 17)"
      ]
     },
     "execution_count": 73,
     "metadata": {},
     "output_type": "execute_result"
    }
   ],
   "source": [
    "df_casa['parking'] = df_casa['parking'].replace(2, 1)\n",
    "df_casa.shape"
   ]
  },
  {
   "cell_type": "code",
   "execution_count": 74,
   "metadata": {},
   "outputs": [
    {
     "data": {
      "text/plain": [
       "parking\n",
       "0    1041\n",
       "1     739\n",
       "Name: count, dtype: int64"
      ]
     },
     "execution_count": 74,
     "metadata": {},
     "output_type": "execute_result"
    }
   ],
   "source": [
    "df_casa['parking'].value_counts()"
   ]
  },
  {
   "cell_type": "markdown",
   "metadata": {},
   "source": [
    "#### Outlier Year"
   ]
  },
  {
   "cell_type": "code",
   "execution_count": 75,
   "metadata": {},
   "outputs": [
    {
     "data": {
      "text/html": [
       "<div>\n",
       "<style scoped>\n",
       "    .dataframe tbody tr th:only-of-type {\n",
       "        vertical-align: middle;\n",
       "    }\n",
       "\n",
       "    .dataframe tbody tr th {\n",
       "        vertical-align: top;\n",
       "    }\n",
       "\n",
       "    .dataframe thead th {\n",
       "        text-align: right;\n",
       "    }\n",
       "</style>\n",
       "<table border=\"1\" class=\"dataframe\">\n",
       "  <thead>\n",
       "    <tr style=\"text-align: right;\">\n",
       "      <th></th>\n",
       "      <th>price</th>\n",
       "      <th>area</th>\n",
       "      <th>bath</th>\n",
       "      <th>room</th>\n",
       "      <th>parking</th>\n",
       "      <th>year</th>\n",
       "      <th>property_type</th>\n",
       "      <th>near_cc</th>\n",
       "      <th>near_school</th>\n",
       "      <th>near_parks</th>\n",
       "      <th>near_avenue</th>\n",
       "      <th>security</th>\n",
       "      <th>elevator</th>\n",
       "      <th>rest_area</th>\n",
       "      <th>pool</th>\n",
       "      <th>county</th>\n",
       "      <th>ranking</th>\n",
       "    </tr>\n",
       "    <tr>\n",
       "      <th>id</th>\n",
       "      <th></th>\n",
       "      <th></th>\n",
       "      <th></th>\n",
       "      <th></th>\n",
       "      <th></th>\n",
       "      <th></th>\n",
       "      <th></th>\n",
       "      <th></th>\n",
       "      <th></th>\n",
       "      <th></th>\n",
       "      <th></th>\n",
       "      <th></th>\n",
       "      <th></th>\n",
       "      <th></th>\n",
       "      <th></th>\n",
       "      <th></th>\n",
       "      <th></th>\n",
       "    </tr>\n",
       "  </thead>\n",
       "  <tbody>\n",
       "    <tr>\n",
       "      <th>162</th>\n",
       "      <td>205000</td>\n",
       "      <td>160</td>\n",
       "      <td>2</td>\n",
       "      <td>4</td>\n",
       "      <td>1</td>\n",
       "      <td>0</td>\n",
       "      <td>2</td>\n",
       "      <td>0</td>\n",
       "      <td>0</td>\n",
       "      <td>0</td>\n",
       "      <td>0</td>\n",
       "      <td>0</td>\n",
       "      <td>0</td>\n",
       "      <td>0</td>\n",
       "      <td>0</td>\n",
       "      <td>150135</td>\n",
       "      <td>2.80</td>\n",
       "    </tr>\n",
       "    <tr>\n",
       "      <th>413</th>\n",
       "      <td>178378</td>\n",
       "      <td>338</td>\n",
       "      <td>2</td>\n",
       "      <td>4</td>\n",
       "      <td>0</td>\n",
       "      <td>0</td>\n",
       "      <td>2</td>\n",
       "      <td>1</td>\n",
       "      <td>0</td>\n",
       "      <td>1</td>\n",
       "      <td>1</td>\n",
       "      <td>0</td>\n",
       "      <td>0</td>\n",
       "      <td>0</td>\n",
       "      <td>0</td>\n",
       "      <td>150101</td>\n",
       "      <td>3.21</td>\n",
       "    </tr>\n",
       "    <tr>\n",
       "      <th>1214</th>\n",
       "      <td>280000</td>\n",
       "      <td>360</td>\n",
       "      <td>5</td>\n",
       "      <td>6</td>\n",
       "      <td>1</td>\n",
       "      <td>0</td>\n",
       "      <td>2</td>\n",
       "      <td>0</td>\n",
       "      <td>0</td>\n",
       "      <td>1</td>\n",
       "      <td>0</td>\n",
       "      <td>0</td>\n",
       "      <td>0</td>\n",
       "      <td>1</td>\n",
       "      <td>0</td>\n",
       "      <td>150101</td>\n",
       "      <td>3.21</td>\n",
       "    </tr>\n",
       "    <tr>\n",
       "      <th>1353</th>\n",
       "      <td>60000</td>\n",
       "      <td>149</td>\n",
       "      <td>2</td>\n",
       "      <td>3</td>\n",
       "      <td>0</td>\n",
       "      <td>0</td>\n",
       "      <td>2</td>\n",
       "      <td>0</td>\n",
       "      <td>0</td>\n",
       "      <td>0</td>\n",
       "      <td>0</td>\n",
       "      <td>0</td>\n",
       "      <td>0</td>\n",
       "      <td>0</td>\n",
       "      <td>0</td>\n",
       "      <td>150108</td>\n",
       "      <td>2.71</td>\n",
       "    </tr>\n",
       "    <tr>\n",
       "      <th>2344</th>\n",
       "      <td>170000</td>\n",
       "      <td>350</td>\n",
       "      <td>5</td>\n",
       "      <td>9</td>\n",
       "      <td>0</td>\n",
       "      <td>0</td>\n",
       "      <td>2</td>\n",
       "      <td>0</td>\n",
       "      <td>0</td>\n",
       "      <td>0</td>\n",
       "      <td>0</td>\n",
       "      <td>0</td>\n",
       "      <td>0</td>\n",
       "      <td>0</td>\n",
       "      <td>0</td>\n",
       "      <td>150142</td>\n",
       "      <td>2.80</td>\n",
       "    </tr>\n",
       "    <tr>\n",
       "      <th>...</th>\n",
       "      <td>...</td>\n",
       "      <td>...</td>\n",
       "      <td>...</td>\n",
       "      <td>...</td>\n",
       "      <td>...</td>\n",
       "      <td>...</td>\n",
       "      <td>...</td>\n",
       "      <td>...</td>\n",
       "      <td>...</td>\n",
       "      <td>...</td>\n",
       "      <td>...</td>\n",
       "      <td>...</td>\n",
       "      <td>...</td>\n",
       "      <td>...</td>\n",
       "      <td>...</td>\n",
       "      <td>...</td>\n",
       "      <td>...</td>\n",
       "    </tr>\n",
       "    <tr>\n",
       "      <th>14188</th>\n",
       "      <td>290000</td>\n",
       "      <td>320</td>\n",
       "      <td>3</td>\n",
       "      <td>3</td>\n",
       "      <td>0</td>\n",
       "      <td>0</td>\n",
       "      <td>2</td>\n",
       "      <td>1</td>\n",
       "      <td>1</td>\n",
       "      <td>1</td>\n",
       "      <td>1</td>\n",
       "      <td>0</td>\n",
       "      <td>0</td>\n",
       "      <td>0</td>\n",
       "      <td>0</td>\n",
       "      <td>150127</td>\n",
       "      <td>3.27</td>\n",
       "    </tr>\n",
       "    <tr>\n",
       "      <th>14199</th>\n",
       "      <td>56000</td>\n",
       "      <td>77</td>\n",
       "      <td>2</td>\n",
       "      <td>5</td>\n",
       "      <td>0</td>\n",
       "      <td>0</td>\n",
       "      <td>2</td>\n",
       "      <td>1</td>\n",
       "      <td>1</td>\n",
       "      <td>1</td>\n",
       "      <td>1</td>\n",
       "      <td>0</td>\n",
       "      <td>0</td>\n",
       "      <td>0</td>\n",
       "      <td>0</td>\n",
       "      <td>150145</td>\n",
       "      <td>3.13</td>\n",
       "    </tr>\n",
       "    <tr>\n",
       "      <th>14212</th>\n",
       "      <td>270000</td>\n",
       "      <td>200</td>\n",
       "      <td>3</td>\n",
       "      <td>4</td>\n",
       "      <td>1</td>\n",
       "      <td>0</td>\n",
       "      <td>2</td>\n",
       "      <td>0</td>\n",
       "      <td>1</td>\n",
       "      <td>1</td>\n",
       "      <td>1</td>\n",
       "      <td>0</td>\n",
       "      <td>0</td>\n",
       "      <td>1</td>\n",
       "      <td>0</td>\n",
       "      <td>150111</td>\n",
       "      <td>3.27</td>\n",
       "    </tr>\n",
       "    <tr>\n",
       "      <th>14214</th>\n",
       "      <td>280000</td>\n",
       "      <td>270</td>\n",
       "      <td>3</td>\n",
       "      <td>4</td>\n",
       "      <td>0</td>\n",
       "      <td>0</td>\n",
       "      <td>2</td>\n",
       "      <td>0</td>\n",
       "      <td>0</td>\n",
       "      <td>0</td>\n",
       "      <td>0</td>\n",
       "      <td>0</td>\n",
       "      <td>0</td>\n",
       "      <td>0</td>\n",
       "      <td>0</td>\n",
       "      <td>150111</td>\n",
       "      <td>3.27</td>\n",
       "    </tr>\n",
       "    <tr>\n",
       "      <th>14215</th>\n",
       "      <td>267800</td>\n",
       "      <td>200</td>\n",
       "      <td>3</td>\n",
       "      <td>6</td>\n",
       "      <td>0</td>\n",
       "      <td>0</td>\n",
       "      <td>2</td>\n",
       "      <td>0</td>\n",
       "      <td>0</td>\n",
       "      <td>0</td>\n",
       "      <td>1</td>\n",
       "      <td>0</td>\n",
       "      <td>0</td>\n",
       "      <td>0</td>\n",
       "      <td>0</td>\n",
       "      <td>150101</td>\n",
       "      <td>3.21</td>\n",
       "    </tr>\n",
       "  </tbody>\n",
       "</table>\n",
       "<p>266 rows × 17 columns</p>\n",
       "</div>"
      ],
      "text/plain": [
       "        price  area  bath  room  parking  year  property_type  near_cc  \\\n",
       "id                                                                       \n",
       "162    205000   160     2     4        1     0              2        0   \n",
       "413    178378   338     2     4        0     0              2        1   \n",
       "1214   280000   360     5     6        1     0              2        0   \n",
       "1353    60000   149     2     3        0     0              2        0   \n",
       "2344   170000   350     5     9        0     0              2        0   \n",
       "...       ...   ...   ...   ...      ...   ...            ...      ...   \n",
       "14188  290000   320     3     3        0     0              2        1   \n",
       "14199   56000    77     2     5        0     0              2        1   \n",
       "14212  270000   200     3     4        1     0              2        0   \n",
       "14214  280000   270     3     4        0     0              2        0   \n",
       "14215  267800   200     3     6        0     0              2        0   \n",
       "\n",
       "       near_school  near_parks  near_avenue  security  elevator  rest_area  \\\n",
       "id                                                                           \n",
       "162              0           0            0         0         0          0   \n",
       "413              0           1            1         0         0          0   \n",
       "1214             0           1            0         0         0          1   \n",
       "1353             0           0            0         0         0          0   \n",
       "2344             0           0            0         0         0          0   \n",
       "...            ...         ...          ...       ...       ...        ...   \n",
       "14188            1           1            1         0         0          0   \n",
       "14199            1           1            1         0         0          0   \n",
       "14212            1           1            1         0         0          1   \n",
       "14214            0           0            0         0         0          0   \n",
       "14215            0           0            1         0         0          0   \n",
       "\n",
       "       pool  county  ranking  \n",
       "id                            \n",
       "162       0  150135     2.80  \n",
       "413       0  150101     3.21  \n",
       "1214      0  150101     3.21  \n",
       "1353      0  150108     2.71  \n",
       "2344      0  150142     2.80  \n",
       "...     ...     ...      ...  \n",
       "14188     0  150127     3.27  \n",
       "14199     0  150145     3.13  \n",
       "14212     0  150111     3.27  \n",
       "14214     0  150111     3.27  \n",
       "14215     0  150101     3.21  \n",
       "\n",
       "[266 rows x 17 columns]"
      ]
     },
     "execution_count": 75,
     "metadata": {},
     "output_type": "execute_result"
    }
   ],
   "source": [
    "df_casa.loc[df_casa['year'] == 0]"
   ]
  },
  {
   "cell_type": "code",
   "execution_count": 76,
   "metadata": {},
   "outputs": [
    {
     "data": {
      "text/plain": [
       "year\n",
       "0       266\n",
       "2013    118\n",
       "2023    104\n",
       "2008     83\n",
       "1993     76\n",
       "       ... \n",
       "1933      1\n",
       "1947      1\n",
       "1940      1\n",
       "1982      1\n",
       "1950      1\n",
       "Name: count, Length: 74, dtype: int64"
      ]
     },
     "execution_count": 76,
     "metadata": {},
     "output_type": "execute_result"
    }
   ],
   "source": [
    "df_casa[\"year\"].value_counts()"
   ]
  },
  {
   "cell_type": "code",
   "execution_count": 77,
   "metadata": {},
   "outputs": [
    {
     "data": {
      "text/plain": [
       "(1780, 17)"
      ]
     },
     "execution_count": 77,
     "metadata": {},
     "output_type": "execute_result"
    }
   ],
   "source": [
    "mask = (df_casa['year'] != 0) & (df_casa['year'] != 2023) \n",
    "new_year = int(df_casa.loc[mask, 'year'].median())\n",
    "df_casa['year'] = df_casa['year'].replace(0, new_year)\n",
    "df_casa.shape"
   ]
  },
  {
   "cell_type": "code",
   "execution_count": 78,
   "metadata": {},
   "outputs": [
    {
     "data": {
      "image/png": "[encoded data removed]",
      "text/plain": [
       "<Figure size 2000x800 with 1 Axes>"
      ]
     },
     "metadata": {},
     "output_type": "display_data"
    }
   ],
   "source": [
    "plt.figure(figsize= (20,8))\n",
    "sns.scatterplot(data=df_casa, x='price', y='ranking')\n",
    "plt.show()"
   ]
  },
  {
   "cell_type": "markdown",
   "metadata": {},
   "source": [
    "## Concat both datasets"
   ]
  },
  {
   "cell_type": "code",
   "execution_count": 84,
   "metadata": {},
   "outputs": [
    {
     "name": "stdout",
     "output_type": "stream",
     "text": [
      "(10170, 17)\n"
     ]
    },
    {
     "data": {
      "text/html": [
       "<div>\n",
       "<style scoped>\n",
       "    .dataframe tbody tr th:only-of-type {\n",
       "        vertical-align: middle;\n",
       "    }\n",
       "\n",
       "    .dataframe tbody tr th {\n",
       "        vertical-align: top;\n",
       "    }\n",
       "\n",
       "    .dataframe thead th {\n",
       "        text-align: right;\n",
       "    }\n",
       "</style>\n",
       "<table border=\"1\" class=\"dataframe\">\n",
       "  <thead>\n",
       "    <tr style=\"text-align: right;\">\n",
       "      <th></th>\n",
       "      <th>price</th>\n",
       "      <th>area</th>\n",
       "      <th>bath</th>\n",
       "      <th>room</th>\n",
       "      <th>parking</th>\n",
       "      <th>year</th>\n",
       "      <th>property_type</th>\n",
       "      <th>near_cc</th>\n",
       "      <th>near_school</th>\n",
       "      <th>near_parks</th>\n",
       "      <th>near_avenue</th>\n",
       "      <th>security</th>\n",
       "      <th>elevator</th>\n",
       "      <th>rest_area</th>\n",
       "      <th>pool</th>\n",
       "      <th>county</th>\n",
       "      <th>ranking</th>\n",
       "    </tr>\n",
       "    <tr>\n",
       "      <th>id</th>\n",
       "      <th></th>\n",
       "      <th></th>\n",
       "      <th></th>\n",
       "      <th></th>\n",
       "      <th></th>\n",
       "      <th></th>\n",
       "      <th></th>\n",
       "      <th></th>\n",
       "      <th></th>\n",
       "      <th></th>\n",
       "      <th></th>\n",
       "      <th></th>\n",
       "      <th></th>\n",
       "      <th></th>\n",
       "      <th></th>\n",
       "      <th></th>\n",
       "      <th></th>\n",
       "    </tr>\n",
       "  </thead>\n",
       "  <tbody>\n",
       "    <tr>\n",
       "      <th>0</th>\n",
       "      <td>120375</td>\n",
       "      <td>45</td>\n",
       "      <td>2</td>\n",
       "      <td>3</td>\n",
       "      <td>1</td>\n",
       "      <td>2023</td>\n",
       "      <td>1</td>\n",
       "      <td>1</td>\n",
       "      <td>0</td>\n",
       "      <td>1</td>\n",
       "      <td>0</td>\n",
       "      <td>0</td>\n",
       "      <td>0</td>\n",
       "      <td>1</td>\n",
       "      <td>0</td>\n",
       "      <td>150131</td>\n",
       "      <td>5.00</td>\n",
       "    </tr>\n",
       "    <tr>\n",
       "      <th>1</th>\n",
       "      <td>119277</td>\n",
       "      <td>45</td>\n",
       "      <td>2</td>\n",
       "      <td>3</td>\n",
       "      <td>1</td>\n",
       "      <td>2023</td>\n",
       "      <td>1</td>\n",
       "      <td>1</td>\n",
       "      <td>0</td>\n",
       "      <td>1</td>\n",
       "      <td>0</td>\n",
       "      <td>0</td>\n",
       "      <td>0</td>\n",
       "      <td>1</td>\n",
       "      <td>0</td>\n",
       "      <td>150131</td>\n",
       "      <td>5.00</td>\n",
       "    </tr>\n",
       "    <tr>\n",
       "      <th>2</th>\n",
       "      <td>162297</td>\n",
       "      <td>60</td>\n",
       "      <td>2</td>\n",
       "      <td>2</td>\n",
       "      <td>1</td>\n",
       "      <td>2023</td>\n",
       "      <td>1</td>\n",
       "      <td>1</td>\n",
       "      <td>0</td>\n",
       "      <td>1</td>\n",
       "      <td>0</td>\n",
       "      <td>0</td>\n",
       "      <td>0</td>\n",
       "      <td>1</td>\n",
       "      <td>0</td>\n",
       "      <td>150131</td>\n",
       "      <td>5.00</td>\n",
       "    </tr>\n",
       "    <tr>\n",
       "      <th>3</th>\n",
       "      <td>157815</td>\n",
       "      <td>60</td>\n",
       "      <td>2</td>\n",
       "      <td>2</td>\n",
       "      <td>1</td>\n",
       "      <td>2023</td>\n",
       "      <td>1</td>\n",
       "      <td>1</td>\n",
       "      <td>0</td>\n",
       "      <td>1</td>\n",
       "      <td>0</td>\n",
       "      <td>0</td>\n",
       "      <td>0</td>\n",
       "      <td>1</td>\n",
       "      <td>0</td>\n",
       "      <td>150131</td>\n",
       "      <td>5.00</td>\n",
       "    </tr>\n",
       "    <tr>\n",
       "      <th>4</th>\n",
       "      <td>239998</td>\n",
       "      <td>110</td>\n",
       "      <td>3</td>\n",
       "      <td>3</td>\n",
       "      <td>0</td>\n",
       "      <td>2023</td>\n",
       "      <td>1</td>\n",
       "      <td>1</td>\n",
       "      <td>0</td>\n",
       "      <td>0</td>\n",
       "      <td>0</td>\n",
       "      <td>0</td>\n",
       "      <td>0</td>\n",
       "      <td>0</td>\n",
       "      <td>0</td>\n",
       "      <td>150145</td>\n",
       "      <td>3.13</td>\n",
       "    </tr>\n",
       "  </tbody>\n",
       "</table>\n",
       "</div>"
      ],
      "text/plain": [
       "     price  area  bath  room  parking  year  property_type  near_cc  \\\n",
       "id                                                                    \n",
       "0   120375    45     2     3        1  2023              1        1   \n",
       "1   119277    45     2     3        1  2023              1        1   \n",
       "2   162297    60     2     2        1  2023              1        1   \n",
       "3   157815    60     2     2        1  2023              1        1   \n",
       "4   239998   110     3     3        0  2023              1        1   \n",
       "\n",
       "    near_school  near_parks  near_avenue  security  elevator  rest_area  pool  \\\n",
       "id                                                                              \n",
       "0             0           1            0         0         0          1     0   \n",
       "1             0           1            0         0         0          1     0   \n",
       "2             0           1            0         0         0          1     0   \n",
       "3             0           1            0         0         0          1     0   \n",
       "4             0           0            0         0         0          0     0   \n",
       "\n",
       "    county  ranking  \n",
       "id                   \n",
       "0   150131     5.00  \n",
       "1   150131     5.00  \n",
       "2   150131     5.00  \n",
       "3   150131     5.00  \n",
       "4   150145     3.13  "
      ]
     },
     "execution_count": 84,
     "metadata": {},
     "output_type": "execute_result"
    }
   ],
   "source": [
    "print(df_departamento.shape)\n",
    "df_departamento.head()"
   ]
  },
  {
   "cell_type": "code",
   "execution_count": 85,
   "metadata": {},
   "outputs": [
    {
     "name": "stdout",
     "output_type": "stream",
     "text": [
      "(1780, 17)\n"
     ]
    },
    {
     "data": {
      "text/html": [
       "<div>\n",
       "<style scoped>\n",
       "    .dataframe tbody tr th:only-of-type {\n",
       "        vertical-align: middle;\n",
       "    }\n",
       "\n",
       "    .dataframe tbody tr th {\n",
       "        vertical-align: top;\n",
       "    }\n",
       "\n",
       "    .dataframe thead th {\n",
       "        text-align: right;\n",
       "    }\n",
       "</style>\n",
       "<table border=\"1\" class=\"dataframe\">\n",
       "  <thead>\n",
       "    <tr style=\"text-align: right;\">\n",
       "      <th></th>\n",
       "      <th>price</th>\n",
       "      <th>area</th>\n",
       "      <th>bath</th>\n",
       "      <th>room</th>\n",
       "      <th>parking</th>\n",
       "      <th>year</th>\n",
       "      <th>property_type</th>\n",
       "      <th>near_cc</th>\n",
       "      <th>near_school</th>\n",
       "      <th>near_parks</th>\n",
       "      <th>near_avenue</th>\n",
       "      <th>security</th>\n",
       "      <th>elevator</th>\n",
       "      <th>rest_area</th>\n",
       "      <th>pool</th>\n",
       "      <th>county</th>\n",
       "      <th>ranking</th>\n",
       "    </tr>\n",
       "    <tr>\n",
       "      <th>id</th>\n",
       "      <th></th>\n",
       "      <th></th>\n",
       "      <th></th>\n",
       "      <th></th>\n",
       "      <th></th>\n",
       "      <th></th>\n",
       "      <th></th>\n",
       "      <th></th>\n",
       "      <th></th>\n",
       "      <th></th>\n",
       "      <th></th>\n",
       "      <th></th>\n",
       "      <th></th>\n",
       "      <th></th>\n",
       "      <th></th>\n",
       "      <th></th>\n",
       "      <th></th>\n",
       "    </tr>\n",
       "  </thead>\n",
       "  <tbody>\n",
       "    <tr>\n",
       "      <th>47</th>\n",
       "      <td>134000</td>\n",
       "      <td>149</td>\n",
       "      <td>6</td>\n",
       "      <td>8</td>\n",
       "      <td>1</td>\n",
       "      <td>2014</td>\n",
       "      <td>2</td>\n",
       "      <td>1</td>\n",
       "      <td>1</td>\n",
       "      <td>1</td>\n",
       "      <td>0</td>\n",
       "      <td>1</td>\n",
       "      <td>0</td>\n",
       "      <td>1</td>\n",
       "      <td>1</td>\n",
       "      <td>150106</td>\n",
       "      <td>1.90</td>\n",
       "    </tr>\n",
       "    <tr>\n",
       "      <th>58</th>\n",
       "      <td>200000</td>\n",
       "      <td>113</td>\n",
       "      <td>3</td>\n",
       "      <td>7</td>\n",
       "      <td>1</td>\n",
       "      <td>1998</td>\n",
       "      <td>2</td>\n",
       "      <td>1</td>\n",
       "      <td>0</td>\n",
       "      <td>0</td>\n",
       "      <td>1</td>\n",
       "      <td>0</td>\n",
       "      <td>0</td>\n",
       "      <td>1</td>\n",
       "      <td>0</td>\n",
       "      <td>150136</td>\n",
       "      <td>4.66</td>\n",
       "    </tr>\n",
       "    <tr>\n",
       "      <th>60</th>\n",
       "      <td>170000</td>\n",
       "      <td>190</td>\n",
       "      <td>3</td>\n",
       "      <td>5</td>\n",
       "      <td>0</td>\n",
       "      <td>2018</td>\n",
       "      <td>2</td>\n",
       "      <td>1</td>\n",
       "      <td>1</td>\n",
       "      <td>1</td>\n",
       "      <td>0</td>\n",
       "      <td>1</td>\n",
       "      <td>0</td>\n",
       "      <td>1</td>\n",
       "      <td>1</td>\n",
       "      <td>150118</td>\n",
       "      <td>1.46</td>\n",
       "    </tr>\n",
       "    <tr>\n",
       "      <th>92</th>\n",
       "      <td>179000</td>\n",
       "      <td>140</td>\n",
       "      <td>2</td>\n",
       "      <td>3</td>\n",
       "      <td>1</td>\n",
       "      <td>1978</td>\n",
       "      <td>2</td>\n",
       "      <td>1</td>\n",
       "      <td>0</td>\n",
       "      <td>0</td>\n",
       "      <td>0</td>\n",
       "      <td>0</td>\n",
       "      <td>0</td>\n",
       "      <td>1</td>\n",
       "      <td>0</td>\n",
       "      <td>150133</td>\n",
       "      <td>2.80</td>\n",
       "    </tr>\n",
       "    <tr>\n",
       "      <th>94</th>\n",
       "      <td>134000</td>\n",
       "      <td>149</td>\n",
       "      <td>2</td>\n",
       "      <td>8</td>\n",
       "      <td>1</td>\n",
       "      <td>2023</td>\n",
       "      <td>2</td>\n",
       "      <td>1</td>\n",
       "      <td>1</td>\n",
       "      <td>1</td>\n",
       "      <td>0</td>\n",
       "      <td>1</td>\n",
       "      <td>0</td>\n",
       "      <td>1</td>\n",
       "      <td>0</td>\n",
       "      <td>150106</td>\n",
       "      <td>1.90</td>\n",
       "    </tr>\n",
       "  </tbody>\n",
       "</table>\n",
       "</div>"
      ],
      "text/plain": [
       "     price  area  bath  room  parking  year  property_type  near_cc  \\\n",
       "id                                                                    \n",
       "47  134000   149     6     8        1  2014              2        1   \n",
       "58  200000   113     3     7        1  1998              2        1   \n",
       "60  170000   190     3     5        0  2018              2        1   \n",
       "92  179000   140     2     3        1  1978              2        1   \n",
       "94  134000   149     2     8        1  2023              2        1   \n",
       "\n",
       "    near_school  near_parks  near_avenue  security  elevator  rest_area  pool  \\\n",
       "id                                                                              \n",
       "47            1           1            0         1         0          1     1   \n",
       "58            0           0            1         0         0          1     0   \n",
       "60            1           1            0         1         0          1     1   \n",
       "92            0           0            0         0         0          1     0   \n",
       "94            1           1            0         1         0          1     0   \n",
       "\n",
       "    county  ranking  \n",
       "id                   \n",
       "47  150106     1.90  \n",
       "58  150136     4.66  \n",
       "60  150118     1.46  \n",
       "92  150133     2.80  \n",
       "94  150106     1.90  "
      ]
     },
     "execution_count": 85,
     "metadata": {},
     "output_type": "execute_result"
    }
   ],
   "source": [
    "print(df_casa.shape)\n",
    "df_casa.head()"
   ]
  },
  {
   "cell_type": "code",
   "execution_count": 83,
   "metadata": {},
   "outputs": [
    {
     "name": "stdout",
     "output_type": "stream",
     "text": [
      "(11950, 17)\n"
     ]
    },
    {
     "data": {
      "text/html": [
       "<div>\n",
       "<style scoped>\n",
       "    .dataframe tbody tr th:only-of-type {\n",
       "        vertical-align: middle;\n",
       "    }\n",
       "\n",
       "    .dataframe tbody tr th {\n",
       "        vertical-align: top;\n",
       "    }\n",
       "\n",
       "    .dataframe thead th {\n",
       "        text-align: right;\n",
       "    }\n",
       "</style>\n",
       "<table border=\"1\" class=\"dataframe\">\n",
       "  <thead>\n",
       "    <tr style=\"text-align: right;\">\n",
       "      <th></th>\n",
       "      <th>price</th>\n",
       "      <th>area</th>\n",
       "      <th>bath</th>\n",
       "      <th>room</th>\n",
       "      <th>parking</th>\n",
       "      <th>year</th>\n",
       "      <th>property_type</th>\n",
       "      <th>near_cc</th>\n",
       "      <th>near_school</th>\n",
       "      <th>near_parks</th>\n",
       "      <th>near_avenue</th>\n",
       "      <th>security</th>\n",
       "      <th>elevator</th>\n",
       "      <th>rest_area</th>\n",
       "      <th>pool</th>\n",
       "      <th>county</th>\n",
       "      <th>ranking</th>\n",
       "    </tr>\n",
       "  </thead>\n",
       "  <tbody>\n",
       "    <tr>\n",
       "      <th>0</th>\n",
       "      <td>120375</td>\n",
       "      <td>45</td>\n",
       "      <td>2</td>\n",
       "      <td>3</td>\n",
       "      <td>1</td>\n",
       "      <td>2023</td>\n",
       "      <td>1</td>\n",
       "      <td>1</td>\n",
       "      <td>0</td>\n",
       "      <td>1</td>\n",
       "      <td>0</td>\n",
       "      <td>0</td>\n",
       "      <td>0</td>\n",
       "      <td>1</td>\n",
       "      <td>0</td>\n",
       "      <td>150131</td>\n",
       "      <td>5.00</td>\n",
       "    </tr>\n",
       "    <tr>\n",
       "      <th>1</th>\n",
       "      <td>119277</td>\n",
       "      <td>45</td>\n",
       "      <td>2</td>\n",
       "      <td>3</td>\n",
       "      <td>1</td>\n",
       "      <td>2023</td>\n",
       "      <td>1</td>\n",
       "      <td>1</td>\n",
       "      <td>0</td>\n",
       "      <td>1</td>\n",
       "      <td>0</td>\n",
       "      <td>0</td>\n",
       "      <td>0</td>\n",
       "      <td>1</td>\n",
       "      <td>0</td>\n",
       "      <td>150131</td>\n",
       "      <td>5.00</td>\n",
       "    </tr>\n",
       "    <tr>\n",
       "      <th>2</th>\n",
       "      <td>162297</td>\n",
       "      <td>60</td>\n",
       "      <td>2</td>\n",
       "      <td>2</td>\n",
       "      <td>1</td>\n",
       "      <td>2023</td>\n",
       "      <td>1</td>\n",
       "      <td>1</td>\n",
       "      <td>0</td>\n",
       "      <td>1</td>\n",
       "      <td>0</td>\n",
       "      <td>0</td>\n",
       "      <td>0</td>\n",
       "      <td>1</td>\n",
       "      <td>0</td>\n",
       "      <td>150131</td>\n",
       "      <td>5.00</td>\n",
       "    </tr>\n",
       "    <tr>\n",
       "      <th>3</th>\n",
       "      <td>157815</td>\n",
       "      <td>60</td>\n",
       "      <td>2</td>\n",
       "      <td>2</td>\n",
       "      <td>1</td>\n",
       "      <td>2023</td>\n",
       "      <td>1</td>\n",
       "      <td>1</td>\n",
       "      <td>0</td>\n",
       "      <td>1</td>\n",
       "      <td>0</td>\n",
       "      <td>0</td>\n",
       "      <td>0</td>\n",
       "      <td>1</td>\n",
       "      <td>0</td>\n",
       "      <td>150131</td>\n",
       "      <td>5.00</td>\n",
       "    </tr>\n",
       "    <tr>\n",
       "      <th>4</th>\n",
       "      <td>239998</td>\n",
       "      <td>110</td>\n",
       "      <td>3</td>\n",
       "      <td>3</td>\n",
       "      <td>0</td>\n",
       "      <td>2023</td>\n",
       "      <td>1</td>\n",
       "      <td>1</td>\n",
       "      <td>0</td>\n",
       "      <td>0</td>\n",
       "      <td>0</td>\n",
       "      <td>0</td>\n",
       "      <td>0</td>\n",
       "      <td>0</td>\n",
       "      <td>0</td>\n",
       "      <td>150145</td>\n",
       "      <td>3.13</td>\n",
       "    </tr>\n",
       "  </tbody>\n",
       "</table>\n",
       "</div>"
      ],
      "text/plain": [
       "    price  area  bath  room  parking  year  property_type  near_cc  \\\n",
       "0  120375    45     2     3        1  2023              1        1   \n",
       "1  119277    45     2     3        1  2023              1        1   \n",
       "2  162297    60     2     2        1  2023              1        1   \n",
       "3  157815    60     2     2        1  2023              1        1   \n",
       "4  239998   110     3     3        0  2023              1        1   \n",
       "\n",
       "   near_school  near_parks  near_avenue  security  elevator  rest_area  pool  \\\n",
       "0            0           1            0         0         0          1     0   \n",
       "1            0           1            0         0         0          1     0   \n",
       "2            0           1            0         0         0          1     0   \n",
       "3            0           1            0         0         0          1     0   \n",
       "4            0           0            0         0         0          0     0   \n",
       "\n",
       "   county  ranking  \n",
       "0  150131     5.00  \n",
       "1  150131     5.00  \n",
       "2  150131     5.00  \n",
       "3  150131     5.00  \n",
       "4  150145     3.13  "
      ]
     },
     "execution_count": 83,
     "metadata": {},
     "output_type": "execute_result"
    }
   ],
   "source": [
    "df_final = pd.concat([df_departamento, df_casa], ignore_index=True)\n",
    "print(df_final.shape)\n",
    "df_final.head()"
   ]
  },
  {
   "cell_type": "code",
   "execution_count": 86,
   "metadata": {},
   "outputs": [],
   "source": [
    "# df_final.to_csv(\"./dataset/data_county_final.csv\")"
   ]
  },
  {
   "cell_type": "markdown",
   "metadata": {},
   "source": [
    "### Postgres"
   ]
  },
  {
   "cell_type": "code",
   "execution_count": 87,
   "metadata": {},
   "outputs": [],
   "source": [
    "import psycopg2\n",
    "from sqlalchemy import create_engine\n",
    "from local_settings import hostname, username, password, port, database"
   ]
  },
  {
   "cell_type": "code",
   "execution_count": 88,
   "metadata": {},
   "outputs": [],
   "source": [
    "connection = psycopg2.connect(\n",
    "            host=hostname, user=username, \n",
    "            password=password, dbname=database, \n",
    "            port=port\n",
    "        )\n",
    "\n",
    "engine = create_engine(f'postgresql://{username}:{password}@{hostname}:{port}/{database}')"
   ]
  },
  {
   "cell_type": "code",
   "execution_count": 91,
   "metadata": {},
   "outputs": [],
   "source": [
    "# DO NOT UNCOMMENT UNLEES YOU KNOW WHAT YOU ARE DOING\n",
    "# df_final.to_sql('data_model_county', engine, if_exists='replace', index=False)"
   ]
  },
  {
   "cell_type": "code",
   "execution_count": 90,
   "metadata": {},
   "outputs": [],
   "source": [
    "connection.close()"
   ]
  }
 ],
 "metadata": {
  "kernelspec": {
   "display_name": "venv",
   "language": "python",
   "name": "python3"
  },
  "language_info": {
   "codemirror_mode": {
    "name": "ipython",
    "version": 3
   },
   "file_extension": ".py",
   "mimetype": "text/x-python",
   "name": "python",
   "nbconvert_exporter": "python",
   "pygments_lexer": "ipython3",
   "version": "3.11.4"
  },
  "orig_nbformat": 4
 },
 "nbformat": 4,
 "nbformat_minor": 2
}
