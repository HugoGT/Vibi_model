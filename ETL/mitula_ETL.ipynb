{
 "cells": [
  {
   "cell_type": "code",
   "execution_count": 354,
   "metadata": {},
   "outputs": [],
   "source": [
    "import pandas as pd\n",
    "import re"
   ]
  },
  {
   "cell_type": "code",
   "execution_count": 355,
   "metadata": {},
   "outputs": [],
   "source": [
    "mitula = pd.read_csv(\"dataset/mitula_dataset.csv\")"
   ]
  },
  {
   "cell_type": "code",
   "execution_count": 356,
   "metadata": {},
   "outputs": [
    {
     "data": {
      "text/html": [
       "<div>\n",
       "<style scoped>\n",
       "    .dataframe tbody tr th:only-of-type {\n",
       "        vertical-align: middle;\n",
       "    }\n",
       "\n",
       "    .dataframe tbody tr th {\n",
       "        vertical-align: top;\n",
       "    }\n",
       "\n",
       "    .dataframe thead th {\n",
       "        text-align: right;\n",
       "    }\n",
       "</style>\n",
       "<table border=\"1\" class=\"dataframe\">\n",
       "  <thead>\n",
       "    <tr style=\"text-align: right;\">\n",
       "      <th></th>\n",
       "      <th>id</th>\n",
       "      <th>title</th>\n",
       "      <th>price</th>\n",
       "      <th>location</th>\n",
       "      <th>property_type</th>\n",
       "      <th>operation_type</th>\n",
       "      <th>plot_area</th>\n",
       "      <th>year</th>\n",
       "      <th>description</th>\n",
       "      <th>image_urls</th>\n",
       "      <th>bed</th>\n",
       "      <th>bath</th>\n",
       "      <th>area</th>\n",
       "      <th>facilities</th>\n",
       "      <th>location_address</th>\n",
       "      <th>nearby_locations</th>\n",
       "      <th>property_url</th>\n",
       "    </tr>\n",
       "  </thead>\n",
       "  <tbody>\n",
       "    <tr>\n",
       "      <th>0</th>\n",
       "      <td>1</td>\n",
       "      <td>VENTA DE TERRENOS EN CONDOMINIO MONTECARLO - M...</td>\n",
       "      <td>S/.58,000</td>\n",
       "      <td>Mollendo, Islay, Arequipa</td>\n",
       "      <td>Condominio</td>\n",
       "      <td>Compra</td>\n",
       "      <td>NaN</td>\n",
       "      <td>NaN</td>\n",
       "      <td>🏖️CONDOMINIO MONTECARLO - MOLLENDO🏖️\\n\\nSe ubi...</td>\n",
       "      <td>https://img.mitula.com/eyJidWNrZXQiOiJwcmQtbGl...</td>\n",
       "      <td>NaN</td>\n",
       "      <td>NaN</td>\n",
       "      <td>100 m²</td>\n",
       "      <td>{Estacionamiento,Terraza,Seguridad,Piscina,Jar...</td>\n",
       "      <td>Mollendo, Islay, Arequipa, PER</td>\n",
       "      <td>{\"El mar\",\"Avenidas principales\"}</td>\n",
       "      <td>https://casas.mitula.pe/adform/24301-256-4cfd-...</td>\n",
       "    </tr>\n",
       "    <tr>\n",
       "      <th>1</th>\n",
       "      <td>2</td>\n",
       "      <td>Antigua Panamericana Norte Km. 1039 - 1040 - V...</td>\n",
       "      <td>USD220,000</td>\n",
       "      <td>Sullana, Piura</td>\n",
       "      <td>Terreno</td>\n",
       "      <td>Compra</td>\n",
       "      <td>7,500 m²</td>\n",
       "      <td>NaN</td>\n",
       "      <td>MantyObras Inmobiliaria tiene a la venta un Te...</td>\n",
       "      <td>https://img.mitula.com/eyJidWNrZXQiOiJwcmQtbGl...</td>\n",
       "      <td>NaN</td>\n",
       "      <td>NaN</td>\n",
       "      <td>NaN</td>\n",
       "      <td>{}</td>\n",
       "      <td>Sullana, Perú</td>\n",
       "      <td>{\"Avenidas principales\"}</td>\n",
       "      <td>https://casas.mitula.pe/adform/24301-256-4761-...</td>\n",
       "    </tr>\n",
       "    <tr>\n",
       "      <th>2</th>\n",
       "      <td>3</td>\n",
       "      <td>Duplex en Margalena Limite con San Isidro</td>\n",
       "      <td>USD190,000</td>\n",
       "      <td>Sd. S/N, Magdalena del Mar, Lima, Lima</td>\n",
       "      <td>Apartamento</td>\n",
       "      <td>Compra</td>\n",
       "      <td>NaN</td>\n",
       "      <td>2013.0</td>\n",
       "      <td>Se vende duplex de 2 dormitorios, ubicado a la...</td>\n",
       "      <td>https://img.mitula.com/eyJidWNrZXQiOiJwcmQtbGl...</td>\n",
       "      <td>2 dormitorios</td>\n",
       "      <td>2 baños</td>\n",
       "      <td>102 m²</td>\n",
       "      <td>{Estacionamiento,\"Sin amoblar\"}</td>\n",
       "      <td>Comandante Jiménez 188, Magdalena del Mar, Perú</td>\n",
       "      <td>{}</td>\n",
       "      <td>https://casas.mitula.pe/adform/24301-256-4976-...</td>\n",
       "    </tr>\n",
       "    <tr>\n",
       "      <th>3</th>\n",
       "      <td>4</td>\n",
       "      <td>Se Vende Como Terreno en Ate Vitarte</td>\n",
       "      <td>USD124,000</td>\n",
       "      <td>Cp. Vitarte Central, Ate, Lima, Lima</td>\n",
       "      <td>Terreno</td>\n",
       "      <td>Compra</td>\n",
       "      <td>155 m²</td>\n",
       "      <td>NaN</td>\n",
       "      <td>EXCELENTE OPORTUNIDAD - SE VENDE PROPIEDAD A P...</td>\n",
       "      <td>https://img.mitula.com/eyJidWNrZXQiOiJwcmQtbGl...</td>\n",
       "      <td>NaN</td>\n",
       "      <td>NaN</td>\n",
       "      <td>NaN</td>\n",
       "      <td>{Agua,Electricidad}</td>\n",
       "      <td>Calle Santa María, Ate, Perú</td>\n",
       "      <td>{\"Avenidas principales\",\"Centros comerciales\",...</td>\n",
       "      <td>https://casas.mitula.pe/adform/24301-256-4b74-...</td>\n",
       "    </tr>\n",
       "    <tr>\n",
       "      <th>4</th>\n",
       "      <td>5</td>\n",
       "      <td>TERRENO AGRICOLA EN EL VALLE SAGRADO DE CUSCO ...</td>\n",
       "      <td>USD540,000</td>\n",
       "      <td>C.p Calca, Calca, Cuzco</td>\n",
       "      <td>Casa</td>\n",
       "      <td>Compra</td>\n",
       "      <td>NaN</td>\n",
       "      <td>NaN</td>\n",
       "      <td>OPORTUNIDAD DE INVERSION, EN EL MARAVILLOSO VA...</td>\n",
       "      <td>https://img.mitula.com/eyJidWNrZXQiOiJwcmQtbGl...</td>\n",
       "      <td>NaN</td>\n",
       "      <td>NaN</td>\n",
       "      <td>4,500 m²</td>\n",
       "      <td>{}</td>\n",
       "      <td>Cuzco, Calca, C.p Calca</td>\n",
       "      <td>{}</td>\n",
       "      <td>https://casas.mitula.pe/adform/24301-256-3cfb-...</td>\n",
       "    </tr>\n",
       "    <tr>\n",
       "      <th>...</th>\n",
       "      <td>...</td>\n",
       "      <td>...</td>\n",
       "      <td>...</td>\n",
       "      <td>...</td>\n",
       "      <td>...</td>\n",
       "      <td>...</td>\n",
       "      <td>...</td>\n",
       "      <td>...</td>\n",
       "      <td>...</td>\n",
       "      <td>...</td>\n",
       "      <td>...</td>\n",
       "      <td>...</td>\n",
       "      <td>...</td>\n",
       "      <td>...</td>\n",
       "      <td>...</td>\n",
       "      <td>...</td>\n",
       "      <td>...</td>\n",
       "    </tr>\n",
       "    <tr>\n",
       "      <th>11581</th>\n",
       "      <td>11581</td>\n",
       "      <td>EN VENTA - Penthouse en Lujoso Condominio</td>\n",
       "      <td>USD255,000</td>\n",
       "      <td>Urb Macondo, Arequipa, Arequipa</td>\n",
       "      <td>Apartamento</td>\n",
       "      <td>Compra</td>\n",
       "      <td>153 m²</td>\n",
       "      <td>2021.0</td>\n",
       "      <td>EN VENTA - Penthouse en Lujoso Condominio \\n\\n...</td>\n",
       "      <td>https://img.mitula.com/eyJidWNrZXQiOiJwcmQtbGl...</td>\n",
       "      <td>3 dormitorios</td>\n",
       "      <td>3 baños</td>\n",
       "      <td>153 m²</td>\n",
       "      <td>{Estacionamiento,\"Cuarto de servicio\",\"Vista p...</td>\n",
       "      <td>Arequipa, Arequipa, Urb Macondo</td>\n",
       "      <td>{Parques}</td>\n",
       "      <td>https://casas.mitula.pe/adform/24301-256-363b-...</td>\n",
       "    </tr>\n",
       "    <tr>\n",
       "      <th>11582</th>\n",
       "      <td>11582</td>\n",
       "      <td>Duplex 4dormitorios Surco</td>\n",
       "      <td>USD230,000</td>\n",
       "      <td>Ur. Los Rosales Ampliacion Etapa Ii, Santiago ...</td>\n",
       "      <td>Apartamento</td>\n",
       "      <td>Compra</td>\n",
       "      <td>NaN</td>\n",
       "      <td>NaN</td>\n",
       "      <td>Vendo 2do y 3er piso como duplex, con ingreso ...</td>\n",
       "      <td>https://img.mitula.com/eyJidWNrZXQiOiJwcmQtbGl...</td>\n",
       "      <td>4 dormitorios</td>\n",
       "      <td>NaN</td>\n",
       "      <td>179 m²</td>\n",
       "      <td>{}</td>\n",
       "      <td>Avenida Ayacucho, Surco, Perú</td>\n",
       "      <td>{\"Avenidas principales\",\"Centros comerciales\",...</td>\n",
       "      <td>https://casas.mitula.pe/adform/24301-256-5033-...</td>\n",
       "    </tr>\n",
       "    <tr>\n",
       "      <th>11583</th>\n",
       "      <td>11583</td>\n",
       "      <td>Se Vende Amplio Departamento</td>\n",
       "      <td>USD95,000</td>\n",
       "      <td>Ur. Los Rosales Ampliacion Etapa Ii, Santiago ...</td>\n",
       "      <td>Apartamento</td>\n",
       "      <td>Compra</td>\n",
       "      <td>NaN</td>\n",
       "      <td>2015.0</td>\n",
       "      <td>Vendo de AMPLIO DEPARTAMENTO ideal para famili...</td>\n",
       "      <td>https://img.mitula.com/eyJidWNrZXQiOiJwcmQtbGl...</td>\n",
       "      <td>3 dormitorios</td>\n",
       "      <td>1 baño</td>\n",
       "      <td>84 m²</td>\n",
       "      <td>{}</td>\n",
       "      <td>Calle Doña Edelmira 331, Santiago de Surco 150...</td>\n",
       "      <td>{}</td>\n",
       "      <td>https://casas.mitula.pe/adform/24301-256-43bc-...</td>\n",
       "    </tr>\n",
       "    <tr>\n",
       "      <th>11584</th>\n",
       "      <td>11584</td>\n",
       "      <td>Acogedor Departamento En El Corazon De San Miguel</td>\n",
       "      <td>USD84,000</td>\n",
       "      <td>Urb las Torres San Miguelito Etapa 2, Provinci...</td>\n",
       "      <td>Apartamento</td>\n",
       "      <td>Compra</td>\n",
       "      <td>NaN</td>\n",
       "      <td>NaN</td>\n",
       "      <td>Acogedor departamento ubicado a 5 minutos de P...</td>\n",
       "      <td>https://img.mitula.com/eyJidWNrZXQiOiJwcmQtbGl...</td>\n",
       "      <td>3 dormitorios</td>\n",
       "      <td>2 baños</td>\n",
       "      <td>62 m²</td>\n",
       "      <td>{}</td>\n",
       "      <td>Prol. Ayacucho 453, San Miguel, Perú</td>\n",
       "      <td>{}</td>\n",
       "      <td>https://casas.mitula.pe/adform/24301-256-47ec-...</td>\n",
       "    </tr>\n",
       "    <tr>\n",
       "      <th>11585</th>\n",
       "      <td>11586</td>\n",
       "      <td>VENTA DE CASA EN NAUTA</td>\n",
       "      <td>USD43,000</td>\n",
       "      <td>A.h Marginal Manuel Pacaya, Loreto, Loreto</td>\n",
       "      <td>Casa</td>\n",
       "      <td>Compra</td>\n",
       "      <td>NaN</td>\n",
       "      <td>NaN</td>\n",
       "      <td>Banco te da la OPORTUNIDAD de tener tu CASA PR...</td>\n",
       "      <td>https://img.mitula.com/eyJidWNrZXQiOiJwcmQtbGl...</td>\n",
       "      <td>1 dormitorio</td>\n",
       "      <td>1 baño</td>\n",
       "      <td>108 m²</td>\n",
       "      <td>{}</td>\n",
       "      <td>C. Ayacucho 455, Nauta 16300, Perú</td>\n",
       "      <td>{}</td>\n",
       "      <td>https://casas.mitula.pe/adform/24301-256-4ab9-...</td>\n",
       "    </tr>\n",
       "  </tbody>\n",
       "</table>\n",
       "<p>11586 rows × 17 columns</p>\n",
       "</div>"
      ],
      "text/plain": [
       "          id                                              title       price  \\\n",
       "0          1  VENTA DE TERRENOS EN CONDOMINIO MONTECARLO - M...   S/.58,000   \n",
       "1          2  Antigua Panamericana Norte Km. 1039 - 1040 - V...  USD220,000   \n",
       "2          3          Duplex en Margalena Limite con San Isidro  USD190,000   \n",
       "3          4               Se Vende Como Terreno en Ate Vitarte  USD124,000   \n",
       "4          5  TERRENO AGRICOLA EN EL VALLE SAGRADO DE CUSCO ...  USD540,000   \n",
       "...      ...                                                ...         ...   \n",
       "11581  11581          EN VENTA - Penthouse en Lujoso Condominio  USD255,000   \n",
       "11582  11582                          Duplex 4dormitorios Surco  USD230,000   \n",
       "11583  11583                       Se Vende Amplio Departamento   USD95,000   \n",
       "11584  11584  Acogedor Departamento En El Corazon De San Miguel   USD84,000   \n",
       "11585  11586                             VENTA DE CASA EN NAUTA   USD43,000   \n",
       "\n",
       "                                                location property_type  \\\n",
       "0                             Mollendo, Islay, Arequipa     Condominio   \n",
       "1                                        Sullana, Piura        Terreno   \n",
       "2                Sd. S/N, Magdalena del Mar, Lima, Lima    Apartamento   \n",
       "3                  Cp. Vitarte Central, Ate, Lima, Lima        Terreno   \n",
       "4                               C.p Calca, Calca, Cuzco           Casa   \n",
       "...                                                  ...           ...   \n",
       "11581                   Urb Macondo, Arequipa, Arequipa    Apartamento   \n",
       "11582  Ur. Los Rosales Ampliacion Etapa Ii, Santiago ...   Apartamento   \n",
       "11583  Ur. Los Rosales Ampliacion Etapa Ii, Santiago ...   Apartamento   \n",
       "11584  Urb las Torres San Miguelito Etapa 2, Provinci...   Apartamento   \n",
       "11585        A.h Marginal Manuel Pacaya, Loreto, Loreto           Casa   \n",
       "\n",
       "      operation_type plot_area    year  \\\n",
       "0             Compra       NaN     NaN   \n",
       "1             Compra  7,500 m²     NaN   \n",
       "2             Compra       NaN  2013.0   \n",
       "3             Compra    155 m²     NaN   \n",
       "4             Compra       NaN     NaN   \n",
       "...              ...       ...     ...   \n",
       "11581         Compra    153 m²  2021.0   \n",
       "11582         Compra       NaN     NaN   \n",
       "11583         Compra       NaN  2015.0   \n",
       "11584         Compra       NaN     NaN   \n",
       "11585         Compra       NaN     NaN   \n",
       "\n",
       "                                             description  \\\n",
       "0      🏖️CONDOMINIO MONTECARLO - MOLLENDO🏖️\\n\\nSe ubi...   \n",
       "1      MantyObras Inmobiliaria tiene a la venta un Te...   \n",
       "2      Se vende duplex de 2 dormitorios, ubicado a la...   \n",
       "3      EXCELENTE OPORTUNIDAD - SE VENDE PROPIEDAD A P...   \n",
       "4      OPORTUNIDAD DE INVERSION, EN EL MARAVILLOSO VA...   \n",
       "...                                                  ...   \n",
       "11581  EN VENTA - Penthouse en Lujoso Condominio \\n\\n...   \n",
       "11582  Vendo 2do y 3er piso como duplex, con ingreso ...   \n",
       "11583  Vendo de AMPLIO DEPARTAMENTO ideal para famili...   \n",
       "11584  Acogedor departamento ubicado a 5 minutos de P...   \n",
       "11585  Banco te da la OPORTUNIDAD de tener tu CASA PR...   \n",
       "\n",
       "                                              image_urls            bed  \\\n",
       "0      https://img.mitula.com/eyJidWNrZXQiOiJwcmQtbGl...            NaN   \n",
       "1      https://img.mitula.com/eyJidWNrZXQiOiJwcmQtbGl...            NaN   \n",
       "2      https://img.mitula.com/eyJidWNrZXQiOiJwcmQtbGl...  2 dormitorios   \n",
       "3      https://img.mitula.com/eyJidWNrZXQiOiJwcmQtbGl...            NaN   \n",
       "4      https://img.mitula.com/eyJidWNrZXQiOiJwcmQtbGl...            NaN   \n",
       "...                                                  ...            ...   \n",
       "11581  https://img.mitula.com/eyJidWNrZXQiOiJwcmQtbGl...  3 dormitorios   \n",
       "11582  https://img.mitula.com/eyJidWNrZXQiOiJwcmQtbGl...  4 dormitorios   \n",
       "11583  https://img.mitula.com/eyJidWNrZXQiOiJwcmQtbGl...  3 dormitorios   \n",
       "11584  https://img.mitula.com/eyJidWNrZXQiOiJwcmQtbGl...  3 dormitorios   \n",
       "11585  https://img.mitula.com/eyJidWNrZXQiOiJwcmQtbGl...   1 dormitorio   \n",
       "\n",
       "          bath      area                                         facilities  \\\n",
       "0          NaN    100 m²  {Estacionamiento,Terraza,Seguridad,Piscina,Jar...   \n",
       "1          NaN       NaN                                                 {}   \n",
       "2      2 baños    102 m²                    {Estacionamiento,\"Sin amoblar\"}   \n",
       "3          NaN       NaN                                {Agua,Electricidad}   \n",
       "4          NaN  4,500 m²                                                 {}   \n",
       "...        ...       ...                                                ...   \n",
       "11581  3 baños    153 m²  {Estacionamiento,\"Cuarto de servicio\",\"Vista p...   \n",
       "11582      NaN    179 m²                                                 {}   \n",
       "11583   1 baño     84 m²                                                 {}   \n",
       "11584  2 baños     62 m²                                                 {}   \n",
       "11585   1 baño    108 m²                                                 {}   \n",
       "\n",
       "                                        location_address  \\\n",
       "0                         Mollendo, Islay, Arequipa, PER   \n",
       "1                                          Sullana, Perú   \n",
       "2        Comandante Jiménez 188, Magdalena del Mar, Perú   \n",
       "3                           Calle Santa María, Ate, Perú   \n",
       "4                                Cuzco, Calca, C.p Calca   \n",
       "...                                                  ...   \n",
       "11581                    Arequipa, Arequipa, Urb Macondo   \n",
       "11582                      Avenida Ayacucho, Surco, Perú   \n",
       "11583  Calle Doña Edelmira 331, Santiago de Surco 150...   \n",
       "11584               Prol. Ayacucho 453, San Miguel, Perú   \n",
       "11585                 C. Ayacucho 455, Nauta 16300, Perú   \n",
       "\n",
       "                                        nearby_locations  \\\n",
       "0                      {\"El mar\",\"Avenidas principales\"}   \n",
       "1                               {\"Avenidas principales\"}   \n",
       "2                                                     {}   \n",
       "3      {\"Avenidas principales\",\"Centros comerciales\",...   \n",
       "4                                                     {}   \n",
       "...                                                  ...   \n",
       "11581                                          {Parques}   \n",
       "11582  {\"Avenidas principales\",\"Centros comerciales\",...   \n",
       "11583                                                 {}   \n",
       "11584                                                 {}   \n",
       "11585                                                 {}   \n",
       "\n",
       "                                            property_url  \n",
       "0      https://casas.mitula.pe/adform/24301-256-4cfd-...  \n",
       "1      https://casas.mitula.pe/adform/24301-256-4761-...  \n",
       "2      https://casas.mitula.pe/adform/24301-256-4976-...  \n",
       "3      https://casas.mitula.pe/adform/24301-256-4b74-...  \n",
       "4      https://casas.mitula.pe/adform/24301-256-3cfb-...  \n",
       "...                                                  ...  \n",
       "11581  https://casas.mitula.pe/adform/24301-256-363b-...  \n",
       "11582  https://casas.mitula.pe/adform/24301-256-5033-...  \n",
       "11583  https://casas.mitula.pe/adform/24301-256-43bc-...  \n",
       "11584  https://casas.mitula.pe/adform/24301-256-47ec-...  \n",
       "11585  https://casas.mitula.pe/adform/24301-256-4ab9-...  \n",
       "\n",
       "[11586 rows x 17 columns]"
      ]
     },
     "execution_count": 356,
     "metadata": {},
     "output_type": "execute_result"
    }
   ],
   "source": [
    "mitula"
   ]
  },
  {
   "cell_type": "code",
   "execution_count": 357,
   "metadata": {},
   "outputs": [],
   "source": [
    "mitula_2 = mitula.drop(columns=['id', 'image_urls', 'property_url' ])"
   ]
  },
  {
   "cell_type": "code",
   "execution_count": 358,
   "metadata": {},
   "outputs": [],
   "source": [
    "#from pandas_profiling import ProfileReport\n",
    "#prof = ProfileReport(mitula_3)\n",
    "#prof.to_file(output_file='mitula.html')"
   ]
  },
  {
   "cell_type": "code",
   "execution_count": 359,
   "metadata": {},
   "outputs": [
    {
     "name": "stdout",
     "output_type": "stream",
     "text": [
      "<class 'pandas.core.frame.DataFrame'>\n",
      "RangeIndex: 11586 entries, 0 to 11585\n",
      "Data columns (total 14 columns):\n",
      " #   Column            Non-Null Count  Dtype  \n",
      "---  ------            --------------  -----  \n",
      " 0   title             11586 non-null  object \n",
      " 1   price             11586 non-null  object \n",
      " 2   location          11586 non-null  object \n",
      " 3   property_type     11586 non-null  object \n",
      " 4   operation_type    11586 non-null  object \n",
      " 5   plot_area         2889 non-null   object \n",
      " 6   year              5814 non-null   float64\n",
      " 7   description       11586 non-null  object \n",
      " 8   bed               7390 non-null   object \n",
      " 9   bath              8217 non-null   object \n",
      " 10  area              8180 non-null   object \n",
      " 11  facilities        11586 non-null  object \n",
      " 12  location_address  11586 non-null  object \n",
      " 13  nearby_locations  11586 non-null  object \n",
      "dtypes: float64(1), object(13)\n",
      "memory usage: 1.2+ MB\n"
     ]
    }
   ],
   "source": [
    "mitula_2.info()"
   ]
  },
  {
   "cell_type": "markdown",
   "metadata": {},
   "source": [
    "Drop duplicates"
   ]
  },
  {
   "cell_type": "code",
   "execution_count": 360,
   "metadata": {},
   "outputs": [],
   "source": [
    "mitula_2.drop_duplicates(inplace= True)"
   ]
  },
  {
   "cell_type": "markdown",
   "metadata": {},
   "source": [
    "### location_address:\n",
    "Rename the column "
   ]
  },
  {
   "cell_type": "code",
   "execution_count": 361,
   "metadata": {},
   "outputs": [],
   "source": [
    "mitula_2.rename(columns= {\"location_address\": \"address\"}, inplace= True)"
   ]
  },
  {
   "cell_type": "markdown",
   "metadata": {},
   "source": [
    "### property_type: \n",
    "Leave only \"Casa\", \"Apartamento\", \"Condominio\", \"Townhouse\", \"Casa de playa\", \"Habitación\","
   ]
  },
  {
   "cell_type": "code",
   "execution_count": 362,
   "metadata": {},
   "outputs": [
    {
     "data": {
      "text/plain": [
       "array(['Condominio', 'Terreno', 'Apartamento', 'Casa', 'Villa',\n",
       "       'Local Comercial', 'Almacén', 'Cochera', 'Casa de playa',\n",
       "       'Oficina', 'Habitación', 'Townhouse'], dtype=object)"
      ]
     },
     "execution_count": 362,
     "metadata": {},
     "output_type": "execute_result"
    }
   ],
   "source": [
    "mitula[\"property_type\"].unique()"
   ]
  },
  {
   "cell_type": "code",
   "execution_count": 363,
   "metadata": {},
   "outputs": [],
   "source": [
    "mitula_2 = mitula_2[(mitula_2['property_type'] == \"Apartamento\") | \n",
    "                    (mitula_2['property_type'] == \"Casa\") | \n",
    "                    (mitula_2['property_type'] == \"Condominio\") |\n",
    "                    (mitula_2['property_type'] == \"Townhouse\") | \n",
    "                    (mitula_2['property_type'] == \"Casa de playa\")]"
   ]
  },
  {
   "cell_type": "code",
   "execution_count": 364,
   "metadata": {},
   "outputs": [
    {
     "data": {
      "text/plain": [
       "Apartamento      4283\n",
       "Casa             1733\n",
       "Casa de playa      67\n",
       "Condominio         24\n",
       "Townhouse           1\n",
       "Name: property_type, dtype: int64"
      ]
     },
     "execution_count": 364,
     "metadata": {},
     "output_type": "execute_result"
    }
   ],
   "source": [
    "mitula_2[\"property_type\"].value_counts()"
   ]
  },
  {
   "cell_type": "code",
   "execution_count": 365,
   "metadata": {},
   "outputs": [],
   "source": [
    "#mitula_2[\"property_type\"].replace([\"Condominio\", \"Apartamento\"], \"Departamento\", inplace= True)"
   ]
  },
  {
   "cell_type": "markdown",
   "metadata": {},
   "source": [
    "### price: \n",
    "Take out \"Consultar\", clean data and convert S/ to USD"
   ]
  },
  {
   "cell_type": "code",
   "execution_count": 366,
   "metadata": {},
   "outputs": [],
   "source": [
    "mitula_2 = mitula_2[mitula_2[\"price\"] != \"Consultar\"]"
   ]
  },
  {
   "cell_type": "code",
   "execution_count": 367,
   "metadata": {},
   "outputs": [],
   "source": [
    "mitula_2[\"price_USD\"] = mitula_2[\"price\"]"
   ]
  },
  {
   "cell_type": "code",
   "execution_count": 368,
   "metadata": {},
   "outputs": [],
   "source": [
    "mitula_2[\"price_USD\"] = mitula_2[\"price_USD\"].str.replace(\"USD\",\"\")\n",
    "mitula_2[\"price_USD\"] = mitula_2[\"price_USD\"].str.replace(\",\",\"\")"
   ]
  },
  {
   "cell_type": "code",
   "execution_count": 369,
   "metadata": {},
   "outputs": [],
   "source": [
    "# Definir una función para realizar la conversión\n",
    "def convert_to_usd(value):\n",
    "    if isinstance(value, str) and value.startswith('S/.'):\n",
    "        value = float(value.replace('S/.', '').replace(',', '')) / 3.7\n",
    "        value= round(value)\n",
    "    return value\n",
    "\n",
    "# Aplicar la función a la columna price_USD\n",
    "mitula_2[\"price_USD\"] = mitula_2[\"price_USD\"].apply(lambda x: convert_to_usd(x))\n"
   ]
  },
  {
   "cell_type": "code",
   "execution_count": 370,
   "metadata": {},
   "outputs": [],
   "source": [
    "mitula_2[\"price_USD\"] = mitula_2[\"price_USD\"].astype(int)"
   ]
  },
  {
   "cell_type": "code",
   "execution_count": 371,
   "metadata": {},
   "outputs": [],
   "source": [
    "mitula_2.rename(columns= {\"price_USD\": \"price\", \"price\" : \"old_price\"}, inplace= True)"
   ]
  },
  {
   "cell_type": "markdown",
   "metadata": {},
   "source": [
    "### operation_type:\n",
    "Leave only \"compra\""
   ]
  },
  {
   "cell_type": "code",
   "execution_count": 372,
   "metadata": {},
   "outputs": [
    {
     "data": {
      "text/plain": [
       "array(['Compra', 'Alquiler'], dtype=object)"
      ]
     },
     "execution_count": 372,
     "metadata": {},
     "output_type": "execute_result"
    }
   ],
   "source": [
    "mitula_2[\"operation_type\"].unique()"
   ]
  },
  {
   "cell_type": "code",
   "execution_count": 373,
   "metadata": {},
   "outputs": [],
   "source": [
    "mitula_2 = mitula_2[mitula_2[\"operation_type\"] == \"Compra\"]"
   ]
  },
  {
   "cell_type": "markdown",
   "metadata": {},
   "source": [
    "### plot_area and area: \n",
    "Make a combined variable"
   ]
  },
  {
   "cell_type": "code",
   "execution_count": 374,
   "metadata": {},
   "outputs": [],
   "source": [
    "# Eliminar el m2 de las variables\n",
    "mitula_2['plot_area'] = mitula_2['plot_area'].str.replace(\" m²\",\"\")\n",
    "mitula_2['area'] = mitula_2['area'].str.replace(\" m²\",\"\")"
   ]
  },
  {
   "cell_type": "code",
   "execution_count": 375,
   "metadata": {},
   "outputs": [],
   "source": [
    "def combine_columns(row):\n",
    "    if not pd.isna(row['plot_area']) and not pd.isna(row['area']):\n",
    "        if row['plot_area'] == row['plot_area']:\n",
    "            return row['plot_area']\n",
    "        else: \n",
    "            return \"Revisar\"\n",
    "    elif not pd.isna(row['plot_area']):\n",
    "        # Si solo plot_area tiene datos, toma su valor\n",
    "        return row['plot_area']\n",
    "    elif not pd.isna(row['area']):\n",
    "        # Si solo area tiene datos, toma su valor\n",
    "        return row['area']\n",
    "    else:\n",
    "        # Si ambas columnas están vacías, puedes manejarlo como desees\n",
    "        return None  # En este ejemplo, dejamos el resultado como NaN\n",
    "\n",
    "# Aplicar la función para combinar las columnas y crear una nueva columna llamada 'combined'\n",
    "mitula_2['area_combined'] = mitula_2.apply(combine_columns, axis=1)"
   ]
  },
  {
   "cell_type": "code",
   "execution_count": 376,
   "metadata": {},
   "outputs": [],
   "source": [
    "mitula_2['area_combined'] = mitula_2['area_combined'].str.replace(\",\",\"\")"
   ]
  },
  {
   "cell_type": "code",
   "execution_count": 377,
   "metadata": {},
   "outputs": [
    {
     "data": {
      "text/html": [
       "<div>\n",
       "<style scoped>\n",
       "    .dataframe tbody tr th:only-of-type {\n",
       "        vertical-align: middle;\n",
       "    }\n",
       "\n",
       "    .dataframe tbody tr th {\n",
       "        vertical-align: top;\n",
       "    }\n",
       "\n",
       "    .dataframe thead th {\n",
       "        text-align: right;\n",
       "    }\n",
       "</style>\n",
       "<table border=\"1\" class=\"dataframe\">\n",
       "  <thead>\n",
       "    <tr style=\"text-align: right;\">\n",
       "      <th></th>\n",
       "      <th>title</th>\n",
       "      <th>old_price</th>\n",
       "      <th>location</th>\n",
       "      <th>property_type</th>\n",
       "      <th>operation_type</th>\n",
       "      <th>plot_area</th>\n",
       "      <th>year</th>\n",
       "      <th>description</th>\n",
       "      <th>bed</th>\n",
       "      <th>bath</th>\n",
       "      <th>area</th>\n",
       "      <th>facilities</th>\n",
       "      <th>address</th>\n",
       "      <th>nearby_locations</th>\n",
       "      <th>price</th>\n",
       "      <th>area_combined</th>\n",
       "    </tr>\n",
       "  </thead>\n",
       "  <tbody>\n",
       "  </tbody>\n",
       "</table>\n",
       "</div>"
      ],
      "text/plain": [
       "Empty DataFrame\n",
       "Columns: [title, old_price, location, property_type, operation_type, plot_area, year, description, bed, bath, area, facilities, address, nearby_locations, price, area_combined]\n",
       "Index: []"
      ]
     },
     "execution_count": 377,
     "metadata": {},
     "output_type": "execute_result"
    }
   ],
   "source": [
    "#Chequeo que no me quede ningun dato por revisar\n",
    "mitula_2[mitula_2['area_combined']== \"Revisar\"]"
   ]
  },
  {
   "cell_type": "code",
   "execution_count": 378,
   "metadata": {},
   "outputs": [
    {
     "data": {
      "text/plain": [
       "514"
      ]
     },
     "execution_count": 378,
     "metadata": {},
     "output_type": "execute_result"
    }
   ],
   "source": [
    "mitula_2['area_combined'].isnull().sum()"
   ]
  },
  {
   "cell_type": "code",
   "execution_count": 379,
   "metadata": {},
   "outputs": [],
   "source": [
    "#Elimino registros que tengan nulo el area\n",
    "mitula_2.dropna(subset= ['area_combined'], inplace= True)"
   ]
  },
  {
   "cell_type": "code",
   "execution_count": 380,
   "metadata": {},
   "outputs": [],
   "source": [
    "# Convierto el tipo de dato a int\n",
    "mitula_2['area_combined'] = mitula_2['area_combined'].astype(int)"
   ]
  },
  {
   "cell_type": "code",
   "execution_count": 381,
   "metadata": {},
   "outputs": [
    {
     "data": {
      "text/plain": [
       "Index(['title', 'old_price', 'location', 'property_type', 'operation_type',\n",
       "       'plot_area', 'year', 'description', 'bed', 'bath', 'area', 'facilities',\n",
       "       'address', 'nearby_locations', 'price', 'area_combined'],\n",
       "      dtype='object')"
      ]
     },
     "execution_count": 381,
     "metadata": {},
     "output_type": "execute_result"
    }
   ],
   "source": [
    "mitula_2.columns"
   ]
  },
  {
   "cell_type": "code",
   "execution_count": 382,
   "metadata": {},
   "outputs": [],
   "source": [
    "mitula_2.rename(columns= {\"area\" : \"old_area\",\"area_combined\": \"area\"}, inplace= True)"
   ]
  },
  {
   "cell_type": "markdown",
   "metadata": {},
   "source": [
    "### bed:\n",
    "Change column name and delete de word \"dormitorios\""
   ]
  },
  {
   "cell_type": "code",
   "execution_count": 383,
   "metadata": {},
   "outputs": [
    {
     "data": {
      "text/plain": [
       "title                  0\n",
       "old_price              0\n",
       "location               0\n",
       "property_type          0\n",
       "operation_type         0\n",
       "plot_area           4818\n",
       "year                1601\n",
       "description            0\n",
       "bed                  136\n",
       "bath                 132\n",
       "old_area              61\n",
       "facilities             0\n",
       "address                0\n",
       "nearby_locations       0\n",
       "price                  0\n",
       "area                   0\n",
       "dtype: int64"
      ]
     },
     "execution_count": 383,
     "metadata": {},
     "output_type": "execute_result"
    }
   ],
   "source": [
    "mitula_2.isnull().sum()"
   ]
  },
  {
   "cell_type": "code",
   "execution_count": 384,
   "metadata": {},
   "outputs": [
    {
     "data": {
      "text/plain": [
       "array([nan, '2 dormitorios', '3 dormitorios', '5 dormitorios',\n",
       "       '4 dormitorios', '1 dormitorio', '15 dormitorios',\n",
       "       '32 dormitorios', '14 dormitorios', '6 dormitorios',\n",
       "       '7 dormitorios', '8 dormitorios', '10 dormitorios',\n",
       "       '9 dormitorios', '13 dormitorios', '16 dormitorios',\n",
       "       '24 dormitorios', '25 dormitorios', '19 dormitorios',\n",
       "       '11 dormitorios', '20 dormitorios', '18 dormitorios',\n",
       "       '12 dormitorios', '30 dormitorios', '28 dormitorios',\n",
       "       '40 dormitorios', '17 dormitorios', '31 dormitorios',\n",
       "       '22 dormitorios'], dtype=object)"
      ]
     },
     "execution_count": 384,
     "metadata": {},
     "output_type": "execute_result"
    }
   ],
   "source": [
    "mitula_2[\"bed\"].unique()"
   ]
  },
  {
   "cell_type": "code",
   "execution_count": 385,
   "metadata": {},
   "outputs": [],
   "source": [
    "mitula_2.reset_index(inplace= True)"
   ]
  },
  {
   "cell_type": "code",
   "execution_count": 386,
   "metadata": {},
   "outputs": [
    {
     "data": {
      "text/plain": [
       "'Vendo Departamento en 4to piso , no cochera , no ascensor , 108 metros de área total , amplia sala comedor con pisos de porcelanato , cocina con reposteros altos y bajos , lavandería , 3 amplios dormitorios con closet , 2 baños completos  , precio $100,000 , informes al '"
      ]
     },
     "execution_count": 386,
     "metadata": {},
     "output_type": "execute_result"
    }
   ],
   "source": [
    "mitula_2.loc[4275, \"description\"]"
   ]
  },
  {
   "cell_type": "code",
   "execution_count": 387,
   "metadata": {},
   "outputs": [
    {
     "data": {
      "text/html": [
       "<div>\n",
       "<style scoped>\n",
       "    .dataframe tbody tr th:only-of-type {\n",
       "        vertical-align: middle;\n",
       "    }\n",
       "\n",
       "    .dataframe tbody tr th {\n",
       "        vertical-align: top;\n",
       "    }\n",
       "\n",
       "    .dataframe thead th {\n",
       "        text-align: right;\n",
       "    }\n",
       "</style>\n",
       "<table border=\"1\" class=\"dataframe\">\n",
       "  <thead>\n",
       "    <tr style=\"text-align: right;\">\n",
       "      <th></th>\n",
       "      <th>index</th>\n",
       "      <th>title</th>\n",
       "      <th>old_price</th>\n",
       "      <th>location</th>\n",
       "      <th>property_type</th>\n",
       "      <th>operation_type</th>\n",
       "      <th>plot_area</th>\n",
       "      <th>year</th>\n",
       "      <th>description</th>\n",
       "      <th>bed</th>\n",
       "      <th>bath</th>\n",
       "      <th>old_area</th>\n",
       "      <th>facilities</th>\n",
       "      <th>address</th>\n",
       "      <th>nearby_locations</th>\n",
       "      <th>price</th>\n",
       "      <th>area</th>\n",
       "    </tr>\n",
       "  </thead>\n",
       "  <tbody>\n",
       "    <tr>\n",
       "      <th>4266</th>\n",
       "      <td>8856</td>\n",
       "      <td>VENDO DEPARTAMENTO EN SAN MIGUEL</td>\n",
       "      <td>USD129,000</td>\n",
       "      <td>Ur. Maranga Etapa Ii, San Miguel, Lima, Lima</td>\n",
       "      <td>Apartamento</td>\n",
       "      <td>Compra</td>\n",
       "      <td>NaN</td>\n",
       "      <td>2012.0</td>\n",
       "      <td>Vendo departamento San Miguel ubicado cerca a ...</td>\n",
       "      <td>40 dormitorios</td>\n",
       "      <td>3 baños</td>\n",
       "      <td>80</td>\n",
       "      <td>{Estacionamiento,\"Vista panorámica\",\"Armario e...</td>\n",
       "      <td>San Miguel, Lima, Perú</td>\n",
       "      <td>{\"Avenidas principales\",\"Centros comerciales\",...</td>\n",
       "      <td>129000</td>\n",
       "      <td>80</td>\n",
       "    </tr>\n",
       "  </tbody>\n",
       "</table>\n",
       "</div>"
      ],
      "text/plain": [
       "      index                             title   old_price  \\\n",
       "4266   8856  VENDO DEPARTAMENTO EN SAN MIGUEL  USD129,000   \n",
       "\n",
       "                                           location property_type  \\\n",
       "4266  Ur. Maranga Etapa Ii, San Miguel, Lima, Lima    Apartamento   \n",
       "\n",
       "     operation_type plot_area    year  \\\n",
       "4266         Compra       NaN  2012.0   \n",
       "\n",
       "                                            description             bed  \\\n",
       "4266  Vendo departamento San Miguel ubicado cerca a ...  40 dormitorios   \n",
       "\n",
       "         bath old_area                                         facilities  \\\n",
       "4266  3 baños       80  {Estacionamiento,\"Vista panorámica\",\"Armario e...   \n",
       "\n",
       "                     address  \\\n",
       "4266  San Miguel, Lima, Perú   \n",
       "\n",
       "                                       nearby_locations   price  area  \n",
       "4266  {\"Avenidas principales\",\"Centros comerciales\",...  129000    80  "
      ]
     },
     "execution_count": 387,
     "metadata": {},
     "output_type": "execute_result"
    }
   ],
   "source": [
    "mitula_2[mitula_2[\"bed\"] == \"40 dormitorios\"]"
   ]
  },
  {
   "cell_type": "code",
   "execution_count": 388,
   "metadata": {},
   "outputs": [],
   "source": [
    "mitula_2[\"bed\"] = mitula_2[\"bed\"].str.replace(\" dormitorios\", \"\").str.replace(\" dormitorio\", \"\")"
   ]
  },
  {
   "cell_type": "code",
   "execution_count": 389,
   "metadata": {},
   "outputs": [
    {
     "data": {
      "text/plain": [
       "136"
      ]
     },
     "execution_count": 389,
     "metadata": {},
     "output_type": "execute_result"
    }
   ],
   "source": [
    "mitula_2['bed'].isnull().sum()"
   ]
  },
  {
   "cell_type": "code",
   "execution_count": 390,
   "metadata": {},
   "outputs": [],
   "source": [
    "# Delete rows that have null in \"bed\"\n",
    "mitula_2.dropna(subset= ['bed'], inplace= True)"
   ]
  },
  {
   "cell_type": "code",
   "execution_count": 391,
   "metadata": {},
   "outputs": [],
   "source": [
    "# Change the name of the column\n",
    "mitula_2.rename(columns = {\"bed\": \"room\"}, inplace= True)"
   ]
  },
  {
   "cell_type": "markdown",
   "metadata": {},
   "source": [
    "### bath:\n",
    "Change column name and delete de word \"baños\""
   ]
  },
  {
   "cell_type": "code",
   "execution_count": 392,
   "metadata": {},
   "outputs": [],
   "source": [
    "# mitula_2.loc[1569] tiene 7 estacionamientos 163 tiene 6 estacionamientos"
   ]
  },
  {
   "cell_type": "code",
   "execution_count": 393,
   "metadata": {},
   "outputs": [],
   "source": [
    "#Borrar los que son hostel o hoteles o edificios enteros\n",
    "mitula_2.drop([4611, 20, 297, 2776, 348,560, 2912, 5022, 349, 372,1422, 3013, 3615, 5030, 2695,  4700, 439, 4726, 2116, 2632, 3607, 2836, 2654, 3566, 4298, 4844], inplace= True)"
   ]
  },
  {
   "cell_type": "code",
   "execution_count": 394,
   "metadata": {},
   "outputs": [],
   "source": [
    "#Modificar los que están mal\n",
    "mitula_2.loc[[1313, 1940, 2354, 118, ], \"bath\"] = \"2 baños\"\n",
    "mitula_2.loc[[12, 1576, 1073, 1308, 1726, 2711, 2849, 2933], \"bath\"] = \"3 baños\"\n",
    "mitula_2.loc[[2209, 803, 2212, 2665, 2962, 5057], \"bath\"] = \"4 baños\"\n",
    "mitula_2.loc[[734, 3569, 3724, 4638, 108, 3645, 4009], \"bath\"] = \"5 baños\"\n",
    "mitula_2.loc[[163, 364, 3562, 3570, 3584, 3589, 4274, 326, 2806], \"bath\"] = \"6 baños\"\n",
    "mitula_2.loc[[2665], \"room\"] = 5\n",
    "mitula_2.loc[[163, 364, 734, 803, 2212, 4638, 108], \"room\"] = 6 \n",
    "mitula_2.loc[[2962, 3562, 3569, 3570, 3584, 3589, 4274, 2806], \"room\"] = 9"
   ]
  },
  {
   "cell_type": "code",
   "execution_count": 395,
   "metadata": {},
   "outputs": [
    {
     "data": {
      "text/plain": [
       "array(['2 baños', '3 baños', '4 baños', '1 baño', '17 baños', '5 baños',\n",
       "       '7 baños', '8 baños', nan, '6 baños', '9 baños', '11 baños',\n",
       "       '10 baños', '14 baños', '12 baños', '15 baños'], dtype=object)"
      ]
     },
     "execution_count": 395,
     "metadata": {},
     "output_type": "execute_result"
    }
   ],
   "source": [
    "mitula_2.bath.unique()"
   ]
  },
  {
   "cell_type": "code",
   "execution_count": 396,
   "metadata": {},
   "outputs": [
    {
     "data": {
      "text/plain": [
       "array(['Apartamento', 'Casa', 'Condominio', 'Casa de playa'], dtype=object)"
      ]
     },
     "execution_count": 396,
     "metadata": {},
     "output_type": "execute_result"
    }
   ],
   "source": [
    "mitula_2.property_type.unique()"
   ]
  },
  {
   "cell_type": "code",
   "execution_count": 397,
   "metadata": {},
   "outputs": [],
   "source": [
    "mitula_2 = mitula_2[mitula_2[\"property_type\"] != 'Casa de playa']"
   ]
  },
  {
   "cell_type": "code",
   "execution_count": 398,
   "metadata": {},
   "outputs": [],
   "source": [
    "mitula_2 = mitula_2[mitula_2[\"property_type\"] != 'Condominio']"
   ]
  },
  {
   "cell_type": "code",
   "execution_count": 399,
   "metadata": {},
   "outputs": [],
   "source": [
    "# Delete rows that have null in \"bath\"\n",
    "mitula_2.dropna(subset= ['bath'], inplace= True)"
   ]
  },
  {
   "cell_type": "code",
   "execution_count": 400,
   "metadata": {},
   "outputs": [],
   "source": [
    "mitula_2[\"bath\"] = mitula_2[\"bath\"].str.replace(\" baños\", \"\").str.replace(\" baño\", \"\")"
   ]
  },
  {
   "cell_type": "markdown",
   "metadata": {},
   "source": [
    "### year:\n",
    "Fill nulls with zero"
   ]
  },
  {
   "cell_type": "code",
   "execution_count": 401,
   "metadata": {},
   "outputs": [
    {
     "data": {
      "text/plain": [
       "1       2013.0\n",
       "3       2009.0\n",
       "4          NaN\n",
       "6       1987.0\n",
       "7          NaN\n",
       "         ...  \n",
       "5169    2022.0\n",
       "5170    2020.0\n",
       "5171    2020.0\n",
       "5172    2021.0\n",
       "5173    2021.0\n",
       "Name: year, Length: 4919, dtype: float64"
      ]
     },
     "execution_count": 401,
     "metadata": {},
     "output_type": "execute_result"
    }
   ],
   "source": [
    "mitula_2[\"year\"]"
   ]
  },
  {
   "cell_type": "code",
   "execution_count": 402,
   "metadata": {},
   "outputs": [
    {
     "data": {
      "text/plain": [
       "1465"
      ]
     },
     "execution_count": 402,
     "metadata": {},
     "output_type": "execute_result"
    }
   ],
   "source": [
    "mitula_2.year.isnull().sum()"
   ]
  },
  {
   "cell_type": "code",
   "execution_count": 403,
   "metadata": {},
   "outputs": [],
   "source": [
    "mitula_2.year.fillna(0, inplace= True)"
   ]
  },
  {
   "cell_type": "code",
   "execution_count": 404,
   "metadata": {},
   "outputs": [],
   "source": [
    "mitula_2[\"year\"] = mitula_2[\"year\"].astype(int)"
   ]
  },
  {
   "cell_type": "markdown",
   "metadata": {},
   "source": [
    "### nearby_locations:\n",
    "Create columns for \"Centros comerciales\", \"Escuelas\", \"Parques\", \"Avenidas principales\"\n"
   ]
  },
  {
   "cell_type": "code",
   "execution_count": 405,
   "metadata": {},
   "outputs": [
    {
     "data": {
      "text/plain": [
       "1                                                      {}\n",
       "3       {Parques,\"Centros comerciales\",\"Avenidas princ...\n",
       "4                                                      {}\n",
       "6               {\"Avenidas principales\",Parques,Colegios}\n",
       "7                                               {Parques}\n",
       "                              ...                        \n",
       "5169                                            {Parques}\n",
       "5170    {\"Avenidas principales\",\"Centros comerciales\",...\n",
       "5171    {\"Avenidas principales\",\"Centros comerciales\",...\n",
       "5172                                            {Parques}\n",
       "5173                                            {Parques}\n",
       "Name: nearby_locations, Length: 4919, dtype: object"
      ]
     },
     "execution_count": 405,
     "metadata": {},
     "output_type": "execute_result"
    }
   ],
   "source": [
    "mitula_2[\"nearby_locations\"]"
   ]
  },
  {
   "cell_type": "code",
   "execution_count": 406,
   "metadata": {},
   "outputs": [],
   "source": [
    "# Define la función que realizará la operación en una sola fila\n",
    "def process_nearby_locations(row):\n",
    "    a = row[\"nearby_locations\"]\n",
    "    if isinstance(a, str):\n",
    "        a = a.strip('{}')\n",
    "        return [x.strip('\"\"') for x in a.split(',')]\n",
    "    else:\n",
    "        return None\n",
    "\n",
    "# Aplica la función a todas las filas de la columna \"nearby_locations\" y crea una nueva columna \"processed_locations\"\n",
    "mitula_2[\"nearby_locations\"] = mitula_2.apply(process_nearby_locations, axis=1)"
   ]
  },
  {
   "cell_type": "code",
   "execution_count": 407,
   "metadata": {},
   "outputs": [
    {
     "data": {
      "text/plain": [
       "1                                                      []\n",
       "3       [Parques, Centros comerciales, Avenidas princi...\n",
       "4                                                      []\n",
       "6               [Avenidas principales, Parques, Colegios]\n",
       "7                                               [Parques]\n",
       "                              ...                        \n",
       "5169                                            [Parques]\n",
       "5170    [Avenidas principales, Centros comerciales, Pa...\n",
       "5171    [Avenidas principales, Centros comerciales, Pa...\n",
       "5172                                            [Parques]\n",
       "5173                                            [Parques]\n",
       "Name: nearby_locations, Length: 4919, dtype: object"
      ]
     },
     "execution_count": 407,
     "metadata": {},
     "output_type": "execute_result"
    }
   ],
   "source": [
    "mitula_2[\"nearby_locations\"]"
   ]
  },
  {
   "cell_type": "code",
   "execution_count": 408,
   "metadata": {},
   "outputs": [],
   "source": [
    "locations = dict()\n",
    "\n",
    "for locations_list in mitula_2[\"nearby_locations\"]:\n",
    "    if isinstance(locations_list, list):\n",
    "        for facility in locations_list:\n",
    "            facility = facility.strip().replace(\",\", \"\")\n",
    "            try:\n",
    "                locations[facility] += 1\n",
    "            except KeyError:\n",
    "                locations[facility] = 1\n"
   ]
  },
  {
   "cell_type": "code",
   "execution_count": 409,
   "metadata": {},
   "outputs": [
    {
     "data": {
      "text/plain": [
       "{'': 1374,\n",
       " 'Parques': 2914,\n",
       " 'Centros comerciales': 2393,\n",
       " 'Avenidas principales': 2879,\n",
       " 'Colegios': 2477,\n",
       " 'El mar': 357}"
      ]
     },
     "execution_count": 409,
     "metadata": {},
     "output_type": "execute_result"
    }
   ],
   "source": [
    "locations"
   ]
  },
  {
   "cell_type": "code",
   "execution_count": 410,
   "metadata": {},
   "outputs": [],
   "source": [
    "mitula_2['near_parks'] = 0\n",
    "mitula_2['near_cc'] = 0\n",
    "mitula_2['near_avenue'] = 0\n",
    "mitula_2['near_school'] = 0\n",
    "\n",
    "# Definir las palabras clave\n",
    "keywords = {\n",
    "    'near_parks': 'Parques',\n",
    "    'near_cc': 'Centros comerciales',\n",
    "    'near_avenue': 'Avenidas principales',\n",
    "    'near_school': 'Colegios'\n",
    "}\n",
    "\n",
    "# Iterar a través de las filas y asignar 1 si la palabra clave está presente\n",
    "for index, row in mitula_2.iterrows():\n",
    "    locations = row['nearby_locations']\n",
    "    for col, keyword in keywords.items():\n",
    "        if keyword in locations:\n",
    "            mitula_2.at[index, col] = 1"
   ]
  },
  {
   "cell_type": "markdown",
   "metadata": {},
   "source": [
    "### facilities:"
   ]
  },
  {
   "cell_type": "code",
   "execution_count": 411,
   "metadata": {},
   "outputs": [],
   "source": [
    "# Define la función que realizará la operación en una sola fila\n",
    "def process_nearby_locations(row):\n",
    "    a = row[\"facilities\"]\n",
    "    if isinstance(a, str):\n",
    "        a = a.strip('{}')\n",
    "        return [x.strip('\"\"') for x in a.split(',')]\n",
    "    else:\n",
    "        return None\n",
    "\n",
    "# Aplica la función a todas las filas de la columna \"nearby_locations\" y crea una nueva columna \"processed_locations\"\n",
    "mitula_2[\"facilities\"] = mitula_2.apply(process_nearby_locations, axis=1)"
   ]
  },
  {
   "cell_type": "code",
   "execution_count": 412,
   "metadata": {},
   "outputs": [
    {
     "data": {
      "text/plain": [
       "1                          [Estacionamiento, Sin amoblar]\n",
       "3       [Estacionamiento, Cocina equipada, Cuarto de s...\n",
       "4                     [Estacionamiento, Balcón, Internet]\n",
       "6                        [Armario empotrado, Sin amoblar]\n",
       "7       [Estacionamiento, Cocina equipada, Cuarto de s...\n",
       "                              ...                        \n",
       "5169    [Estacionamiento, Cocina equipada, Balcón, Bod...\n",
       "5170    [Estacionamiento, Cocina equipada, Parcialment...\n",
       "5171    [Estacionamiento, Cuarto de servicio, Parcialm...\n",
       "5172                                                   []\n",
       "5173    [Estacionamiento, Cuarto de servicio, Vista pa...\n",
       "Name: facilities, Length: 4919, dtype: object"
      ]
     },
     "execution_count": 412,
     "metadata": {},
     "output_type": "execute_result"
    }
   ],
   "source": [
    "mitula_2[\"facilities\"]"
   ]
  },
  {
   "cell_type": "code",
   "execution_count": 413,
   "metadata": {},
   "outputs": [],
   "source": [
    "locations = dict()\n",
    "\n",
    "for locations_list in mitula_2[\"facilities\"]:\n",
    "    if isinstance(locations_list, list):\n",
    "        for facility in locations_list:\n",
    "            facility = facility.strip().replace(\",\", \"\")\n",
    "            try:\n",
    "                locations[facility] += 1\n",
    "            except KeyError:\n",
    "                locations[facility] = 1"
   ]
  },
  {
   "cell_type": "code",
   "execution_count": 414,
   "metadata": {},
   "outputs": [
    {
     "data": {
      "text/plain": [
       "{'Estacionamiento': 2560,\n",
       " 'Sin amoblar': 1815,\n",
       " 'Cocina equipada': 1298,\n",
       " 'Cuarto de servicio': 1324,\n",
       " 'Permite animales domésticos': 208,\n",
       " 'Balcón': 1264,\n",
       " 'Vista panorámica': 1010,\n",
       " 'Cisterna': 761,\n",
       " 'Terraza': 1416,\n",
       " 'Permite niños': 176,\n",
       " 'Ver más': 1255,\n",
       " 'Ver menos': 1255,\n",
       " 'Piscina': 533,\n",
       " 'Caseta de vigilancia': 783,\n",
       " 'Barbacoa': 858,\n",
       " 'Acceso para personas con discapacidad': 684,\n",
       " 'Internet': 605,\n",
       " 'Armario empotrado': 1942,\n",
       " 'Agua': 565,\n",
       " 'Aire acondicionado': 202,\n",
       " 'Seguridad': 1797,\n",
       " 'Conserje': 898,\n",
       " 'Jardín': 929,\n",
       " '': 902,\n",
       " 'Patio': 989,\n",
       " 'Parcialmente amoblado': 405,\n",
       " 'Ascensor': 1698,\n",
       " 'Jacuzzi': 185,\n",
       " 'Chimenea': 144,\n",
       " 'Biblioteca': 58,\n",
       " 'Área infantil': 445,\n",
       " 'Gas natural': 647,\n",
       " 'Calefacción': 53,\n",
       " 'Cancha de tenis': 34,\n",
       " 'Gimnasio': 422,\n",
       " 'Bodega': 343,\n",
       " 'Completamente amoblado': 84,\n",
       " 'Sauna': 76,\n",
       " 'Cocina con reposteros': 68,\n",
       " 'Alarma': 39,\n",
       " 'Jardín en la azotea': 84,\n",
       " 'Oficina': 17,\n",
       " 'Electricidad': 1}"
      ]
     },
     "execution_count": 414,
     "metadata": {},
     "output_type": "execute_result"
    }
   ],
   "source": [
    "locations"
   ]
  },
  {
   "cell_type": "code",
   "execution_count": 415,
   "metadata": {},
   "outputs": [
    {
     "data": {
      "text/plain": [
       "1698"
      ]
     },
     "execution_count": 415,
     "metadata": {},
     "output_type": "execute_result"
    }
   ],
   "source": [
    "locations['Ascensor']"
   ]
  },
  {
   "cell_type": "code",
   "execution_count": 416,
   "metadata": {},
   "outputs": [],
   "source": [
    "mitula_2['parking'] = 0\n",
    "mitula_2['security'] = 0\n",
    "mitula_2['elevator'] = 0\n",
    "mitula_2['rest_area'] = 0\n",
    "mitula_2['pool'] = 0\n",
    "\n",
    "# Definir las palabras clave\n",
    "keywords = {\n",
    "    'parking': r'Estacionamiento',\n",
    "    'security': r'Seguridad|Alarma',\n",
    "    'elevator': r'Ascensor',\n",
    "    'rest_area': r'Balcón|Terraza|Caseta de vigilancia|Jardín|Patio',\n",
    "    'pool': r'Jacuzzi|Piscina'\n",
    "}\n",
    "\n",
    "\n",
    "# Iterar a través de las filas y asignar 1 si la palabra clave está presente\n",
    "for index, row in mitula_2.iterrows():\n",
    "    locations = row['facilities']\n",
    "    if isinstance(locations, list):\n",
    "        locations = ', '.join(locations)\n",
    "    for col, keyword in keywords.items():\n",
    "        if re.search(keyword, locations):\n",
    "            mitula_2.at[index, col] = 1\n",
    "\n"
   ]
  },
  {
   "cell_type": "code",
   "execution_count": 417,
   "metadata": {},
   "outputs": [
    {
     "data": {
      "text/plain": [
       "0    4291\n",
       "1     628\n",
       "Name: pool, dtype: int64"
      ]
     },
     "execution_count": 417,
     "metadata": {},
     "output_type": "execute_result"
    }
   ],
   "source": [
    "mitula_2[\"pool\"].value_counts()"
   ]
  },
  {
   "cell_type": "code",
   "execution_count": 418,
   "metadata": {},
   "outputs": [],
   "source": [
    "#Quedó un area mal colocada\n",
    "mitula_2.loc[329, \"area\"] = 85"
   ]
  },
  {
   "cell_type": "code",
   "execution_count": 419,
   "metadata": {},
   "outputs": [
    {
     "data": {
      "text/html": [
       "<div>\n",
       "<style scoped>\n",
       "    .dataframe tbody tr th:only-of-type {\n",
       "        vertical-align: middle;\n",
       "    }\n",
       "\n",
       "    .dataframe tbody tr th {\n",
       "        vertical-align: top;\n",
       "    }\n",
       "\n",
       "    .dataframe thead th {\n",
       "        text-align: right;\n",
       "    }\n",
       "</style>\n",
       "<table border=\"1\" class=\"dataframe\">\n",
       "  <thead>\n",
       "    <tr style=\"text-align: right;\">\n",
       "      <th></th>\n",
       "      <th>index</th>\n",
       "      <th>title</th>\n",
       "      <th>old_price</th>\n",
       "      <th>location</th>\n",
       "      <th>property_type</th>\n",
       "      <th>operation_type</th>\n",
       "      <th>plot_area</th>\n",
       "      <th>year</th>\n",
       "      <th>description</th>\n",
       "      <th>room</th>\n",
       "      <th>...</th>\n",
       "      <th>area</th>\n",
       "      <th>near_parks</th>\n",
       "      <th>near_cc</th>\n",
       "      <th>near_avenue</th>\n",
       "      <th>near_school</th>\n",
       "      <th>parking</th>\n",
       "      <th>security</th>\n",
       "      <th>elevator</th>\n",
       "      <th>rest_area</th>\n",
       "      <th>pool</th>\n",
       "    </tr>\n",
       "  </thead>\n",
       "  <tbody>\n",
       "    <tr>\n",
       "      <th>4483</th>\n",
       "      <td>9399</td>\n",
       "      <td>EXCLUSIVOS DEPARTAMENTOS DE 1 DORMITORIO DESDE...</td>\n",
       "      <td>USD79,000</td>\n",
       "      <td>Chorrillos, Lima, Lima</td>\n",
       "      <td>Apartamento</td>\n",
       "      <td>Compra</td>\n",
       "      <td>NaN</td>\n",
       "      <td>2025</td>\n",
       "      <td>Agente: Milagros Garibaldi Cel: 961*355*201-  ...</td>\n",
       "      <td>1</td>\n",
       "      <td>...</td>\n",
       "      <td>25</td>\n",
       "      <td>1</td>\n",
       "      <td>1</td>\n",
       "      <td>1</td>\n",
       "      <td>1</td>\n",
       "      <td>1</td>\n",
       "      <td>1</td>\n",
       "      <td>1</td>\n",
       "      <td>1</td>\n",
       "      <td>1</td>\n",
       "    </tr>\n",
       "    <tr>\n",
       "      <th>4558</th>\n",
       "      <td>9547</td>\n",
       "      <td>VIVE O INVIERTE FRENTE AL MAR ! DEPARTAMENTOS ...</td>\n",
       "      <td>USD78,000</td>\n",
       "      <td>Ur. La Campiña, Chorrillos, Lima, Lima</td>\n",
       "      <td>Apartamento</td>\n",
       "      <td>Compra</td>\n",
       "      <td>NaN</td>\n",
       "      <td>0</td>\n",
       "      <td>Enamórate de la vista privilegiada al mar y la...</td>\n",
       "      <td>1</td>\n",
       "      <td>...</td>\n",
       "      <td>25</td>\n",
       "      <td>0</td>\n",
       "      <td>0</td>\n",
       "      <td>0</td>\n",
       "      <td>0</td>\n",
       "      <td>0</td>\n",
       "      <td>0</td>\n",
       "      <td>0</td>\n",
       "      <td>0</td>\n",
       "      <td>1</td>\n",
       "    </tr>\n",
       "    <tr>\n",
       "      <th>4664</th>\n",
       "      <td>9900</td>\n",
       "      <td>VENTA DE LINDOS Y MODERNOS DEPARTAMENTOS FRENT...</td>\n",
       "      <td>USD79,000</td>\n",
       "      <td>Chorrillos, Lima, Lima</td>\n",
       "      <td>Apartamento</td>\n",
       "      <td>Compra</td>\n",
       "      <td>NaN</td>\n",
       "      <td>0</td>\n",
       "      <td>VENTA DE LINDOS Y MODERNOS DEPARTAMENTOS FRENT...</td>\n",
       "      <td>1</td>\n",
       "      <td>...</td>\n",
       "      <td>25</td>\n",
       "      <td>0</td>\n",
       "      <td>0</td>\n",
       "      <td>1</td>\n",
       "      <td>0</td>\n",
       "      <td>0</td>\n",
       "      <td>1</td>\n",
       "      <td>1</td>\n",
       "      <td>1</td>\n",
       "      <td>1</td>\n",
       "    </tr>\n",
       "    <tr>\n",
       "      <th>4481</th>\n",
       "      <td>9397</td>\n",
       "      <td>VENDO DEPARTAMENTOS</td>\n",
       "      <td>USD79,000</td>\n",
       "      <td>Chorrillos, Lima, Lima</td>\n",
       "      <td>Apartamento</td>\n",
       "      <td>Compra</td>\n",
       "      <td>NaN</td>\n",
       "      <td>2023</td>\n",
       "      <td>Vendo lindos departamento en el malecón de Cho...</td>\n",
       "      <td>1</td>\n",
       "      <td>...</td>\n",
       "      <td>26</td>\n",
       "      <td>1</td>\n",
       "      <td>0</td>\n",
       "      <td>0</td>\n",
       "      <td>0</td>\n",
       "      <td>1</td>\n",
       "      <td>1</td>\n",
       "      <td>1</td>\n",
       "      <td>1</td>\n",
       "      <td>1</td>\n",
       "    </tr>\n",
       "    <tr>\n",
       "      <th>3214</th>\n",
       "      <td>6174</td>\n",
       "      <td>Se vende departamento de 1 dormitorio, en la A...</td>\n",
       "      <td>USD59,000</td>\n",
       "      <td>Ur. Aurora, Miraflores, Lima, Lima</td>\n",
       "      <td>Apartamento</td>\n",
       "      <td>Compra</td>\n",
       "      <td>NaN</td>\n",
       "      <td>1988</td>\n",
       "      <td>Se vende departamento de 1 dormitorio, en la A...</td>\n",
       "      <td>1</td>\n",
       "      <td>...</td>\n",
       "      <td>27</td>\n",
       "      <td>1</td>\n",
       "      <td>0</td>\n",
       "      <td>1</td>\n",
       "      <td>1</td>\n",
       "      <td>0</td>\n",
       "      <td>0</td>\n",
       "      <td>0</td>\n",
       "      <td>0</td>\n",
       "      <td>0</td>\n",
       "    </tr>\n",
       "    <tr>\n",
       "      <th>...</th>\n",
       "      <td>...</td>\n",
       "      <td>...</td>\n",
       "      <td>...</td>\n",
       "      <td>...</td>\n",
       "      <td>...</td>\n",
       "      <td>...</td>\n",
       "      <td>...</td>\n",
       "      <td>...</td>\n",
       "      <td>...</td>\n",
       "      <td>...</td>\n",
       "      <td>...</td>\n",
       "      <td>...</td>\n",
       "      <td>...</td>\n",
       "      <td>...</td>\n",
       "      <td>...</td>\n",
       "      <td>...</td>\n",
       "      <td>...</td>\n",
       "      <td>...</td>\n",
       "      <td>...</td>\n",
       "      <td>...</td>\n",
       "      <td>...</td>\n",
       "    </tr>\n",
       "    <tr>\n",
       "      <th>5041</th>\n",
       "      <td>11228</td>\n",
       "      <td>Tarapoto - Casa de Campo en Venta - Lamas (Pam...</td>\n",
       "      <td>USD300,000</td>\n",
       "      <td>Lamas, San Martín</td>\n",
       "      <td>Casa</td>\n",
       "      <td>Compra</td>\n",
       "      <td>38,000</td>\n",
       "      <td>2017</td>\n",
       "      <td>El entorno de la propiedad está relacionada co...</td>\n",
       "      <td>3</td>\n",
       "      <td>...</td>\n",
       "      <td>38000</td>\n",
       "      <td>1</td>\n",
       "      <td>0</td>\n",
       "      <td>0</td>\n",
       "      <td>0</td>\n",
       "      <td>1</td>\n",
       "      <td>0</td>\n",
       "      <td>0</td>\n",
       "      <td>1</td>\n",
       "      <td>0</td>\n",
       "    </tr>\n",
       "    <tr>\n",
       "      <th>2971</th>\n",
       "      <td>5566</td>\n",
       "      <td>Venta, Casa-Fundo, Chontabamba - Oxapampa</td>\n",
       "      <td>USD740,000</td>\n",
       "      <td>Chontabamba, Oxapampa, Pasco</td>\n",
       "      <td>Casa</td>\n",
       "      <td>Compra</td>\n",
       "      <td>NaN</td>\n",
       "      <td>2000</td>\n",
       "      <td>Casa - Fundo, de 3.8hectareas, con una linda y...</td>\n",
       "      <td>3</td>\n",
       "      <td>...</td>\n",
       "      <td>38739</td>\n",
       "      <td>0</td>\n",
       "      <td>0</td>\n",
       "      <td>1</td>\n",
       "      <td>0</td>\n",
       "      <td>1</td>\n",
       "      <td>0</td>\n",
       "      <td>0</td>\n",
       "      <td>1</td>\n",
       "      <td>0</td>\n",
       "    </tr>\n",
       "    <tr>\n",
       "      <th>1519</th>\n",
       "      <td>2810</td>\n",
       "      <td>Venta de Duplex con terraza con balcón y coche...</td>\n",
       "      <td>USD239,000</td>\n",
       "      <td>Ur. Aldebaran, Santiago de Surco, Lima, Lima</td>\n",
       "      <td>Apartamento</td>\n",
       "      <td>Compra</td>\n",
       "      <td>NaN</td>\n",
       "      <td>2023</td>\n",
       "      <td>✅Valle Hermoso este -SURCO\\nDuplex 404\\n✅2 Dor...</td>\n",
       "      <td>2</td>\n",
       "      <td>...</td>\n",
       "      <td>239000</td>\n",
       "      <td>1</td>\n",
       "      <td>1</td>\n",
       "      <td>1</td>\n",
       "      <td>1</td>\n",
       "      <td>1</td>\n",
       "      <td>0</td>\n",
       "      <td>1</td>\n",
       "      <td>1</td>\n",
       "      <td>0</td>\n",
       "    </tr>\n",
       "    <tr>\n",
       "      <th>4624</th>\n",
       "      <td>9814</td>\n",
       "      <td>TERRENO  en VENTA en PACHACAMAC</td>\n",
       "      <td>USD30,000,000</td>\n",
       "      <td>Provincia de Lima, Provincia de Lima</td>\n",
       "      <td>Casa</td>\n",
       "      <td>Compra</td>\n",
       "      <td>420,000</td>\n",
       "      <td>2000</td>\n",
       "      <td>TERRENO RUSTICO DE 42 HECTÁREAS, SE PUEDE DAR ...</td>\n",
       "      <td>6</td>\n",
       "      <td>...</td>\n",
       "      <td>420000</td>\n",
       "      <td>1</td>\n",
       "      <td>0</td>\n",
       "      <td>0</td>\n",
       "      <td>0</td>\n",
       "      <td>1</td>\n",
       "      <td>1</td>\n",
       "      <td>0</td>\n",
       "      <td>1</td>\n",
       "      <td>1</td>\n",
       "    </tr>\n",
       "    <tr>\n",
       "      <th>1030</th>\n",
       "      <td>2100</td>\n",
       "      <td>SE VENDE ENEstreno Moderno En Condominio C/ Ár...</td>\n",
       "      <td>USD109,350</td>\n",
       "      <td>Santiago de Surco, Lima, Lima</td>\n",
       "      <td>Apartamento</td>\n",
       "      <td>Compra</td>\n",
       "      <td>NaN</td>\n",
       "      <td>2022</td>\n",
       "      <td>DEPARTAMENTOS EN ESTRENO | 1, 2 Y 3 HABITACION...</td>\n",
       "      <td>2</td>\n",
       "      <td>...</td>\n",
       "      <td>1051704</td>\n",
       "      <td>1</td>\n",
       "      <td>1</td>\n",
       "      <td>1</td>\n",
       "      <td>0</td>\n",
       "      <td>0</td>\n",
       "      <td>1</td>\n",
       "      <td>1</td>\n",
       "      <td>1</td>\n",
       "      <td>0</td>\n",
       "    </tr>\n",
       "  </tbody>\n",
       "</table>\n",
       "<p>4919 rows × 26 columns</p>\n",
       "</div>"
      ],
      "text/plain": [
       "      index                                              title      old_price  \\\n",
       "4483   9399  EXCLUSIVOS DEPARTAMENTOS DE 1 DORMITORIO DESDE...      USD79,000   \n",
       "4558   9547  VIVE O INVIERTE FRENTE AL MAR ! DEPARTAMENTOS ...      USD78,000   \n",
       "4664   9900  VENTA DE LINDOS Y MODERNOS DEPARTAMENTOS FRENT...      USD79,000   \n",
       "4481   9397                                VENDO DEPARTAMENTOS      USD79,000   \n",
       "3214   6174  Se vende departamento de 1 dormitorio, en la A...      USD59,000   \n",
       "...     ...                                                ...            ...   \n",
       "5041  11228  Tarapoto - Casa de Campo en Venta - Lamas (Pam...     USD300,000   \n",
       "2971   5566          Venta, Casa-Fundo, Chontabamba - Oxapampa     USD740,000   \n",
       "1519   2810  Venta de Duplex con terraza con balcón y coche...     USD239,000   \n",
       "4624   9814                    TERRENO  en VENTA en PACHACAMAC  USD30,000,000   \n",
       "1030   2100  SE VENDE ENEstreno Moderno En Condominio C/ Ár...     USD109,350   \n",
       "\n",
       "                                           location property_type  \\\n",
       "4483                        Chorrillos, Lima, Lima    Apartamento   \n",
       "4558        Ur. La Campiña, Chorrillos, Lima, Lima    Apartamento   \n",
       "4664                        Chorrillos, Lima, Lima    Apartamento   \n",
       "4481                        Chorrillos, Lima, Lima    Apartamento   \n",
       "3214            Ur. Aurora, Miraflores, Lima, Lima    Apartamento   \n",
       "...                                             ...           ...   \n",
       "5041                             Lamas, San Martín           Casa   \n",
       "2971                  Chontabamba, Oxapampa, Pasco           Casa   \n",
       "1519  Ur. Aldebaran, Santiago de Surco, Lima, Lima    Apartamento   \n",
       "4624          Provincia de Lima, Provincia de Lima           Casa   \n",
       "1030                 Santiago de Surco, Lima, Lima    Apartamento   \n",
       "\n",
       "     operation_type plot_area  year  \\\n",
       "4483         Compra       NaN  2025   \n",
       "4558         Compra       NaN     0   \n",
       "4664         Compra       NaN     0   \n",
       "4481         Compra       NaN  2023   \n",
       "3214         Compra       NaN  1988   \n",
       "...             ...       ...   ...   \n",
       "5041         Compra    38,000  2017   \n",
       "2971         Compra       NaN  2000   \n",
       "1519         Compra       NaN  2023   \n",
       "4624         Compra   420,000  2000   \n",
       "1030         Compra       NaN  2022   \n",
       "\n",
       "                                            description room  ...     area  \\\n",
       "4483  Agente: Milagros Garibaldi Cel: 961*355*201-  ...    1  ...       25   \n",
       "4558  Enamórate de la vista privilegiada al mar y la...    1  ...       25   \n",
       "4664  VENTA DE LINDOS Y MODERNOS DEPARTAMENTOS FRENT...    1  ...       25   \n",
       "4481  Vendo lindos departamento en el malecón de Cho...    1  ...       26   \n",
       "3214  Se vende departamento de 1 dormitorio, en la A...    1  ...       27   \n",
       "...                                                 ...  ...  ...      ...   \n",
       "5041  El entorno de la propiedad está relacionada co...    3  ...    38000   \n",
       "2971  Casa - Fundo, de 3.8hectareas, con una linda y...    3  ...    38739   \n",
       "1519  ✅Valle Hermoso este -SURCO\\nDuplex 404\\n✅2 Dor...    2  ...   239000   \n",
       "4624  TERRENO RUSTICO DE 42 HECTÁREAS, SE PUEDE DAR ...    6  ...   420000   \n",
       "1030  DEPARTAMENTOS EN ESTRENO | 1, 2 Y 3 HABITACION...    2  ...  1051704   \n",
       "\n",
       "     near_parks near_cc near_avenue near_school  parking  security  elevator  \\\n",
       "4483          1       1           1           1        1         1         1   \n",
       "4558          0       0           0           0        0         0         0   \n",
       "4664          0       0           1           0        0         1         1   \n",
       "4481          1       0           0           0        1         1         1   \n",
       "3214          1       0           1           1        0         0         0   \n",
       "...         ...     ...         ...         ...      ...       ...       ...   \n",
       "5041          1       0           0           0        1         0         0   \n",
       "2971          0       0           1           0        1         0         0   \n",
       "1519          1       1           1           1        1         0         1   \n",
       "4624          1       0           0           0        1         1         0   \n",
       "1030          1       1           1           0        0         1         1   \n",
       "\n",
       "      rest_area  pool  \n",
       "4483          1     1  \n",
       "4558          0     1  \n",
       "4664          1     1  \n",
       "4481          1     1  \n",
       "3214          0     0  \n",
       "...         ...   ...  \n",
       "5041          1     0  \n",
       "2971          1     0  \n",
       "1519          1     0  \n",
       "4624          1     1  \n",
       "1030          1     0  \n",
       "\n",
       "[4919 rows x 26 columns]"
      ]
     },
     "execution_count": 419,
     "metadata": {},
     "output_type": "execute_result"
    }
   ],
   "source": [
    "mitula_2.sort_values(by= \"area\")"
   ]
  },
  {
   "cell_type": "code",
   "execution_count": 420,
   "metadata": {},
   "outputs": [],
   "source": [
    "mitula_2[\"web\"] = \"Mitula\""
   ]
  },
  {
   "cell_type": "markdown",
   "metadata": {},
   "source": [
    "## Crear nuevo DF"
   ]
  },
  {
   "cell_type": "code",
   "execution_count": 421,
   "metadata": {},
   "outputs": [],
   "source": [
    "mitula_3 = mitula_2[['title', 'address', 'price','area', 'bath', 'room', 'property_type', 'description', 'year', 'parking', 'near_cc', 'near_school', 'near_parks', 'near_avenue', 'security', 'elevator', 'rest_area', 'pool', 'web']]"
   ]
  },
  {
   "cell_type": "code",
   "execution_count": 422,
   "metadata": {},
   "outputs": [],
   "source": [
    "mitula_3.reset_index(drop= True, inplace= True)"
   ]
  },
  {
   "cell_type": "code",
   "execution_count": 423,
   "metadata": {},
   "outputs": [
    {
     "name": "stdout",
     "output_type": "stream",
     "text": [
      "<class 'pandas.core.frame.DataFrame'>\n",
      "RangeIndex: 4919 entries, 0 to 4918\n",
      "Data columns (total 19 columns):\n",
      " #   Column         Non-Null Count  Dtype \n",
      "---  ------         --------------  ----- \n",
      " 0   title          4919 non-null   object\n",
      " 1   address        4919 non-null   object\n",
      " 2   price          4919 non-null   int32 \n",
      " 3   area           4919 non-null   int32 \n",
      " 4   bath           4919 non-null   object\n",
      " 5   room           4919 non-null   object\n",
      " 6   property_type  4919 non-null   object\n",
      " 7   description    4919 non-null   object\n",
      " 8   year           4919 non-null   int32 \n",
      " 9   parking        4919 non-null   int64 \n",
      " 10  near_cc        4919 non-null   int64 \n",
      " 11  near_school    4919 non-null   int64 \n",
      " 12  near_parks     4919 non-null   int64 \n",
      " 13  near_avenue    4919 non-null   int64 \n",
      " 14  security       4919 non-null   int64 \n",
      " 15  elevator       4919 non-null   int64 \n",
      " 16  rest_area      4919 non-null   int64 \n",
      " 17  pool           4919 non-null   int64 \n",
      " 18  web            4919 non-null   object\n",
      "dtypes: int32(3), int64(9), object(7)\n",
      "memory usage: 672.6+ KB\n"
     ]
    }
   ],
   "source": [
    "mitula_3.info()"
   ]
  },
  {
   "cell_type": "code",
   "execution_count": 424,
   "metadata": {},
   "outputs": [],
   "source": [
    "mitula_3.to_csv(\"mitula.csv\", index= False)"
   ]
  }
 ],
 "metadata": {
  "kernelspec": {
   "display_name": "Python 3",
   "language": "python",
   "name": "python3"
  },
  "language_info": {
   "codemirror_mode": {
    "name": "ipython",
    "version": 3
   },
   "file_extension": ".py",
   "mimetype": "text/x-python",
   "name": "python",
   "nbconvert_exporter": "python",
   "pygments_lexer": "ipython3",
   "version": "3.11.1"
  },
  "orig_nbformat": 4
 },
 "nbformat": 4,
 "nbformat_minor": 2
}
