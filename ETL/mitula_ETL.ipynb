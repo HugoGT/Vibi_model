{
 "cells": [
  {
   "cell_type": "code",
   "execution_count": 44,
   "metadata": {},
   "outputs": [],
   "source": [
    "import pandas as pd"
   ]
  },
  {
   "cell_type": "code",
   "execution_count": 45,
   "metadata": {},
   "outputs": [],
   "source": [
    "mitula = pd.read_csv(\"dataset/mitula_dataset.csv\")"
   ]
  },
  {
   "cell_type": "code",
   "execution_count": 46,
   "metadata": {},
   "outputs": [
    {
     "data": {
      "text/html": [
       "<div>\n",
       "<style scoped>\n",
       "    .dataframe tbody tr th:only-of-type {\n",
       "        vertical-align: middle;\n",
       "    }\n",
       "\n",
       "    .dataframe tbody tr th {\n",
       "        vertical-align: top;\n",
       "    }\n",
       "\n",
       "    .dataframe thead th {\n",
       "        text-align: right;\n",
       "    }\n",
       "</style>\n",
       "<table border=\"1\" class=\"dataframe\">\n",
       "  <thead>\n",
       "    <tr style=\"text-align: right;\">\n",
       "      <th></th>\n",
       "      <th>id</th>\n",
       "      <th>title</th>\n",
       "      <th>price</th>\n",
       "      <th>location</th>\n",
       "      <th>property_type</th>\n",
       "      <th>operation_type</th>\n",
       "      <th>plot_area</th>\n",
       "      <th>year</th>\n",
       "      <th>description</th>\n",
       "      <th>image_urls</th>\n",
       "      <th>bed</th>\n",
       "      <th>bath</th>\n",
       "      <th>area</th>\n",
       "      <th>facilities</th>\n",
       "      <th>location_address</th>\n",
       "      <th>nearby_locations</th>\n",
       "      <th>property_url</th>\n",
       "    </tr>\n",
       "  </thead>\n",
       "  <tbody>\n",
       "    <tr>\n",
       "      <th>0</th>\n",
       "      <td>1</td>\n",
       "      <td>VENTA DE TERRENOS EN CONDOMINIO MONTECARLO - M...</td>\n",
       "      <td>S/.58,000</td>\n",
       "      <td>Mollendo, Islay, Arequipa</td>\n",
       "      <td>Condominio</td>\n",
       "      <td>Compra</td>\n",
       "      <td>NaN</td>\n",
       "      <td>NaN</td>\n",
       "      <td>🏖️CONDOMINIO MONTECARLO - MOLLENDO🏖️\\n\\nSe ubi...</td>\n",
       "      <td>https://img.mitula.com/eyJidWNrZXQiOiJwcmQtbGl...</td>\n",
       "      <td>NaN</td>\n",
       "      <td>NaN</td>\n",
       "      <td>100 m²</td>\n",
       "      <td>{Estacionamiento,Terraza,Seguridad,Piscina,Jar...</td>\n",
       "      <td>Mollendo, Islay, Arequipa, PER</td>\n",
       "      <td>{\"El mar\",\"Avenidas principales\"}</td>\n",
       "      <td>https://casas.mitula.pe/adform/24301-256-4cfd-...</td>\n",
       "    </tr>\n",
       "    <tr>\n",
       "      <th>1</th>\n",
       "      <td>2</td>\n",
       "      <td>Antigua Panamericana Norte Km. 1039 - 1040 - V...</td>\n",
       "      <td>USD220,000</td>\n",
       "      <td>Sullana, Piura</td>\n",
       "      <td>Terreno</td>\n",
       "      <td>Compra</td>\n",
       "      <td>7,500 m²</td>\n",
       "      <td>NaN</td>\n",
       "      <td>MantyObras Inmobiliaria tiene a la venta un Te...</td>\n",
       "      <td>https://img.mitula.com/eyJidWNrZXQiOiJwcmQtbGl...</td>\n",
       "      <td>NaN</td>\n",
       "      <td>NaN</td>\n",
       "      <td>NaN</td>\n",
       "      <td>{}</td>\n",
       "      <td>Sullana, Perú</td>\n",
       "      <td>{\"Avenidas principales\"}</td>\n",
       "      <td>https://casas.mitula.pe/adform/24301-256-4761-...</td>\n",
       "    </tr>\n",
       "    <tr>\n",
       "      <th>2</th>\n",
       "      <td>3</td>\n",
       "      <td>Duplex en Margalena Limite con San Isidro</td>\n",
       "      <td>USD190,000</td>\n",
       "      <td>Sd. S/N, Magdalena del Mar, Lima, Lima</td>\n",
       "      <td>Apartamento</td>\n",
       "      <td>Compra</td>\n",
       "      <td>NaN</td>\n",
       "      <td>2013.0</td>\n",
       "      <td>Se vende duplex de 2 dormitorios, ubicado a la...</td>\n",
       "      <td>https://img.mitula.com/eyJidWNrZXQiOiJwcmQtbGl...</td>\n",
       "      <td>2 dormitorios</td>\n",
       "      <td>2 baños</td>\n",
       "      <td>102 m²</td>\n",
       "      <td>{Estacionamiento,\"Sin amoblar\"}</td>\n",
       "      <td>Comandante Jiménez 188, Magdalena del Mar, Perú</td>\n",
       "      <td>{}</td>\n",
       "      <td>https://casas.mitula.pe/adform/24301-256-4976-...</td>\n",
       "    </tr>\n",
       "    <tr>\n",
       "      <th>3</th>\n",
       "      <td>4</td>\n",
       "      <td>Se Vende Como Terreno en Ate Vitarte</td>\n",
       "      <td>USD124,000</td>\n",
       "      <td>Cp. Vitarte Central, Ate, Lima, Lima</td>\n",
       "      <td>Terreno</td>\n",
       "      <td>Compra</td>\n",
       "      <td>155 m²</td>\n",
       "      <td>NaN</td>\n",
       "      <td>EXCELENTE OPORTUNIDAD - SE VENDE PROPIEDAD A P...</td>\n",
       "      <td>https://img.mitula.com/eyJidWNrZXQiOiJwcmQtbGl...</td>\n",
       "      <td>NaN</td>\n",
       "      <td>NaN</td>\n",
       "      <td>NaN</td>\n",
       "      <td>{Agua,Electricidad}</td>\n",
       "      <td>Calle Santa María, Ate, Perú</td>\n",
       "      <td>{\"Avenidas principales\",\"Centros comerciales\",...</td>\n",
       "      <td>https://casas.mitula.pe/adform/24301-256-4b74-...</td>\n",
       "    </tr>\n",
       "    <tr>\n",
       "      <th>4</th>\n",
       "      <td>5</td>\n",
       "      <td>TERRENO AGRICOLA EN EL VALLE SAGRADO DE CUSCO ...</td>\n",
       "      <td>USD540,000</td>\n",
       "      <td>C.p Calca, Calca, Cuzco</td>\n",
       "      <td>Casa</td>\n",
       "      <td>Compra</td>\n",
       "      <td>NaN</td>\n",
       "      <td>NaN</td>\n",
       "      <td>OPORTUNIDAD DE INVERSION, EN EL MARAVILLOSO VA...</td>\n",
       "      <td>https://img.mitula.com/eyJidWNrZXQiOiJwcmQtbGl...</td>\n",
       "      <td>NaN</td>\n",
       "      <td>NaN</td>\n",
       "      <td>4,500 m²</td>\n",
       "      <td>{}</td>\n",
       "      <td>Cuzco, Calca, C.p Calca</td>\n",
       "      <td>{}</td>\n",
       "      <td>https://casas.mitula.pe/adform/24301-256-3cfb-...</td>\n",
       "    </tr>\n",
       "  </tbody>\n",
       "</table>\n",
       "</div>"
      ],
      "text/plain": [
       "   id                                              title       price  \\\n",
       "0   1  VENTA DE TERRENOS EN CONDOMINIO MONTECARLO - M...   S/.58,000   \n",
       "1   2  Antigua Panamericana Norte Km. 1039 - 1040 - V...  USD220,000   \n",
       "2   3          Duplex en Margalena Limite con San Isidro  USD190,000   \n",
       "3   4               Se Vende Como Terreno en Ate Vitarte  USD124,000   \n",
       "4   5  TERRENO AGRICOLA EN EL VALLE SAGRADO DE CUSCO ...  USD540,000   \n",
       "\n",
       "                                  location property_type operation_type  \\\n",
       "0               Mollendo, Islay, Arequipa     Condominio         Compra   \n",
       "1                          Sullana, Piura        Terreno         Compra   \n",
       "2  Sd. S/N, Magdalena del Mar, Lima, Lima    Apartamento         Compra   \n",
       "3    Cp. Vitarte Central, Ate, Lima, Lima        Terreno         Compra   \n",
       "4                 C.p Calca, Calca, Cuzco           Casa         Compra   \n",
       "\n",
       "  plot_area    year                                        description  \\\n",
       "0       NaN     NaN  🏖️CONDOMINIO MONTECARLO - MOLLENDO🏖️\\n\\nSe ubi...   \n",
       "1  7,500 m²     NaN  MantyObras Inmobiliaria tiene a la venta un Te...   \n",
       "2       NaN  2013.0  Se vende duplex de 2 dormitorios, ubicado a la...   \n",
       "3    155 m²     NaN  EXCELENTE OPORTUNIDAD - SE VENDE PROPIEDAD A P...   \n",
       "4       NaN     NaN  OPORTUNIDAD DE INVERSION, EN EL MARAVILLOSO VA...   \n",
       "\n",
       "                                          image_urls            bed     bath  \\\n",
       "0  https://img.mitula.com/eyJidWNrZXQiOiJwcmQtbGl...            NaN      NaN   \n",
       "1  https://img.mitula.com/eyJidWNrZXQiOiJwcmQtbGl...            NaN      NaN   \n",
       "2  https://img.mitula.com/eyJidWNrZXQiOiJwcmQtbGl...  2 dormitorios  2 baños   \n",
       "3  https://img.mitula.com/eyJidWNrZXQiOiJwcmQtbGl...            NaN      NaN   \n",
       "4  https://img.mitula.com/eyJidWNrZXQiOiJwcmQtbGl...            NaN      NaN   \n",
       "\n",
       "       area                                         facilities  \\\n",
       "0    100 m²  {Estacionamiento,Terraza,Seguridad,Piscina,Jar...   \n",
       "1       NaN                                                 {}   \n",
       "2    102 m²                    {Estacionamiento,\"Sin amoblar\"}   \n",
       "3       NaN                                {Agua,Electricidad}   \n",
       "4  4,500 m²                                                 {}   \n",
       "\n",
       "                                  location_address  \\\n",
       "0                   Mollendo, Islay, Arequipa, PER   \n",
       "1                                    Sullana, Perú   \n",
       "2  Comandante Jiménez 188, Magdalena del Mar, Perú   \n",
       "3                     Calle Santa María, Ate, Perú   \n",
       "4                          Cuzco, Calca, C.p Calca   \n",
       "\n",
       "                                    nearby_locations  \\\n",
       "0                  {\"El mar\",\"Avenidas principales\"}   \n",
       "1                           {\"Avenidas principales\"}   \n",
       "2                                                 {}   \n",
       "3  {\"Avenidas principales\",\"Centros comerciales\",...   \n",
       "4                                                 {}   \n",
       "\n",
       "                                        property_url  \n",
       "0  https://casas.mitula.pe/adform/24301-256-4cfd-...  \n",
       "1  https://casas.mitula.pe/adform/24301-256-4761-...  \n",
       "2  https://casas.mitula.pe/adform/24301-256-4976-...  \n",
       "3  https://casas.mitula.pe/adform/24301-256-4b74-...  \n",
       "4  https://casas.mitula.pe/adform/24301-256-3cfb-...  "
      ]
     },
     "execution_count": 46,
     "metadata": {},
     "output_type": "execute_result"
    }
   ],
   "source": [
    "mitula.head()"
   ]
  },
  {
   "cell_type": "code",
   "execution_count": 47,
   "metadata": {},
   "outputs": [],
   "source": [
    "mitula_2 = mitula.drop(columns=['id', 'title', 'image_urls', 'property_url' ])"
   ]
  },
  {
   "cell_type": "code",
   "execution_count": 48,
   "metadata": {},
   "outputs": [],
   "source": [
    "#from pandas_profiling import ProfileReport\n",
    "#prof = ProfileReport(mitula_3)\n",
    "#prof.to_file(output_file='mitula.html')"
   ]
  },
  {
   "cell_type": "code",
   "execution_count": 49,
   "metadata": {},
   "outputs": [
    {
     "name": "stdout",
     "output_type": "stream",
     "text": [
      "<class 'pandas.core.frame.DataFrame'>\n",
      "RangeIndex: 11586 entries, 0 to 11585\n",
      "Data columns (total 13 columns):\n",
      " #   Column            Non-Null Count  Dtype  \n",
      "---  ------            --------------  -----  \n",
      " 0   price             11586 non-null  object \n",
      " 1   location          11586 non-null  object \n",
      " 2   property_type     11586 non-null  object \n",
      " 3   operation_type    11586 non-null  object \n",
      " 4   plot_area         2889 non-null   object \n",
      " 5   year              5814 non-null   float64\n",
      " 6   description       11586 non-null  object \n",
      " 7   bed               7390 non-null   object \n",
      " 8   bath              8217 non-null   object \n",
      " 9   area              8180 non-null   object \n",
      " 10  facilities        11586 non-null  object \n",
      " 11  location_address  11586 non-null  object \n",
      " 12  nearby_locations  11586 non-null  object \n",
      "dtypes: float64(1), object(12)\n",
      "memory usage: 1.1+ MB\n"
     ]
    }
   ],
   "source": [
    "mitula_2.info()"
   ]
  },
  {
   "cell_type": "markdown",
   "metadata": {},
   "source": [
    "Drop duplicates"
   ]
  },
  {
   "cell_type": "code",
   "execution_count": 50,
   "metadata": {},
   "outputs": [],
   "source": [
    "mitula_2.drop_duplicates(inplace= True)"
   ]
  },
  {
   "cell_type": "markdown",
   "metadata": {},
   "source": [
    "### property_type: \n",
    "Leave only \"Casa\", \"Apartamento\", \"Condominio\", \"Townhouse\", \"Casa de playa\", \"Habitación\","
   ]
  },
  {
   "cell_type": "code",
   "execution_count": 51,
   "metadata": {},
   "outputs": [
    {
     "data": {
      "text/plain": [
       "array(['Condominio', 'Terreno', 'Apartamento', 'Casa', 'Villa',\n",
       "       'Local Comercial', 'Almacén', 'Cochera', 'Casa de playa',\n",
       "       'Oficina', 'Habitación', 'Townhouse'], dtype=object)"
      ]
     },
     "execution_count": 51,
     "metadata": {},
     "output_type": "execute_result"
    }
   ],
   "source": [
    "mitula[\"property_type\"].unique()"
   ]
  },
  {
   "cell_type": "code",
   "execution_count": 52,
   "metadata": {},
   "outputs": [],
   "source": [
    "mitula_2 = mitula_2[(mitula_2['property_type'] == \"Apartamento\") | \n",
    "                    (mitula_2['property_type'] == \"Casa\") | \n",
    "                    (mitula_2['property_type'] == \"Condominio\") |\n",
    "                    (mitula_2['property_type'] == \"Townhouse\") | \n",
    "                    (mitula_2['property_type'] == \"Casa de playa\") | \n",
    "                    (mitula_2['property_type'] == \"Habitación\")]"
   ]
  },
  {
   "cell_type": "markdown",
   "metadata": {},
   "source": [
    "### price: \n",
    "Take out \"Consultar\", clean data and convert S/ to USD"
   ]
  },
  {
   "cell_type": "code",
   "execution_count": 53,
   "metadata": {},
   "outputs": [],
   "source": [
    "mitula_2 = mitula_2[mitula_2[\"price\"] != \"Consultar\"]"
   ]
  },
  {
   "cell_type": "code",
   "execution_count": 54,
   "metadata": {},
   "outputs": [],
   "source": [
    "mitula_2[\"price_USD\"] = mitula_2[\"price\"]"
   ]
  },
  {
   "cell_type": "code",
   "execution_count": 55,
   "metadata": {},
   "outputs": [],
   "source": [
    "mitula_2[\"price_USD\"] = mitula_2[\"price_USD\"].str.replace(\"USD\",\"\")\n",
    "mitula_2[\"price_USD\"] = mitula_2[\"price_USD\"].str.replace(\",\",\"\")"
   ]
  },
  {
   "cell_type": "code",
   "execution_count": 56,
   "metadata": {},
   "outputs": [],
   "source": [
    "# Definir una función para realizar la conversión\n",
    "def convert_to_usd(value):\n",
    "    if isinstance(value, str) and value.startswith('S/.'):\n",
    "        value = float(value.replace('S/.', '').replace(',', '')) / 3.7\n",
    "        value= round(value)\n",
    "    return value\n",
    "\n",
    "# Aplicar la función a la columna price_USD\n",
    "mitula_2[\"price_USD\"] = mitula_2[\"price_USD\"].apply(lambda x: convert_to_usd(x))\n"
   ]
  },
  {
   "cell_type": "code",
   "execution_count": 57,
   "metadata": {},
   "outputs": [],
   "source": [
    "mitula_2[\"price_USD\"] = mitula_2[\"price_USD\"].astype(int)"
   ]
  },
  {
   "cell_type": "markdown",
   "metadata": {},
   "source": [
    "### operation_type:\n",
    "Leave only \"compra\""
   ]
  },
  {
   "cell_type": "code",
   "execution_count": 58,
   "metadata": {},
   "outputs": [
    {
     "data": {
      "text/plain": [
       "array(['Compra', 'Alquiler'], dtype=object)"
      ]
     },
     "execution_count": 58,
     "metadata": {},
     "output_type": "execute_result"
    }
   ],
   "source": [
    "mitula_2[\"operation_type\"].unique()"
   ]
  },
  {
   "cell_type": "code",
   "execution_count": 59,
   "metadata": {},
   "outputs": [],
   "source": [
    "mitula_2 = mitula_2[mitula_2[\"operation_type\"] == \"Compra\"]"
   ]
  },
  {
   "cell_type": "markdown",
   "metadata": {},
   "source": [
    "### plot_area and area: \n",
    "Make a combined variable"
   ]
  },
  {
   "cell_type": "code",
   "execution_count": 60,
   "metadata": {},
   "outputs": [],
   "source": [
    "# Eliminar el m2 de las variables\n",
    "mitula_2['plot_area'] = mitula_2['plot_area'].str.replace(\" m²\",\"\")\n",
    "mitula_2['area'] = mitula_2['area'].str.replace(\" m²\",\"\")"
   ]
  },
  {
   "cell_type": "code",
   "execution_count": 61,
   "metadata": {},
   "outputs": [],
   "source": [
    "def combine_columns(row):\n",
    "    if not pd.isna(row['plot_area']) and not pd.isna(row['area']):\n",
    "        if row['plot_area'] == row['plot_area']:\n",
    "            return row['plot_area']\n",
    "        else: \n",
    "            return \"Revisar\"\n",
    "    elif not pd.isna(row['plot_area']):\n",
    "        # Si solo plot_area tiene datos, toma su valor\n",
    "        return row['plot_area']\n",
    "    elif not pd.isna(row['area']):\n",
    "        # Si solo area tiene datos, toma su valor\n",
    "        return row['area']\n",
    "    else:\n",
    "        # Si ambas columnas están vacías, puedes manejarlo como desees\n",
    "        return None  # En este ejemplo, dejamos el resultado como NaN\n",
    "\n",
    "# Aplicar la función para combinar las columnas y crear una nueva columna llamada 'combined'\n",
    "mitula_2['area_combined'] = mitula_2.apply(combine_columns, axis=1)"
   ]
  },
  {
   "cell_type": "code",
   "execution_count": 62,
   "metadata": {},
   "outputs": [],
   "source": [
    "mitula_2['area_combined'] = mitula_2['area_combined'].str.replace(\",\",\"\")"
   ]
  },
  {
   "cell_type": "code",
   "execution_count": 63,
   "metadata": {},
   "outputs": [
    {
     "data": {
      "text/html": [
       "<div>\n",
       "<style scoped>\n",
       "    .dataframe tbody tr th:only-of-type {\n",
       "        vertical-align: middle;\n",
       "    }\n",
       "\n",
       "    .dataframe tbody tr th {\n",
       "        vertical-align: top;\n",
       "    }\n",
       "\n",
       "    .dataframe thead th {\n",
       "        text-align: right;\n",
       "    }\n",
       "</style>\n",
       "<table border=\"1\" class=\"dataframe\">\n",
       "  <thead>\n",
       "    <tr style=\"text-align: right;\">\n",
       "      <th></th>\n",
       "      <th>price</th>\n",
       "      <th>location</th>\n",
       "      <th>property_type</th>\n",
       "      <th>operation_type</th>\n",
       "      <th>plot_area</th>\n",
       "      <th>year</th>\n",
       "      <th>description</th>\n",
       "      <th>bed</th>\n",
       "      <th>bath</th>\n",
       "      <th>area</th>\n",
       "      <th>facilities</th>\n",
       "      <th>location_address</th>\n",
       "      <th>nearby_locations</th>\n",
       "      <th>price_USD</th>\n",
       "      <th>area_combined</th>\n",
       "    </tr>\n",
       "  </thead>\n",
       "  <tbody>\n",
       "  </tbody>\n",
       "</table>\n",
       "</div>"
      ],
      "text/plain": [
       "Empty DataFrame\n",
       "Columns: [price, location, property_type, operation_type, plot_area, year, description, bed, bath, area, facilities, location_address, nearby_locations, price_USD, area_combined]\n",
       "Index: []"
      ]
     },
     "execution_count": 63,
     "metadata": {},
     "output_type": "execute_result"
    }
   ],
   "source": [
    "#Chequeo que no me quede ningun dato por revisar\n",
    "mitula_2[mitula_2['area_combined']== \"Revisar\"]"
   ]
  },
  {
   "cell_type": "code",
   "execution_count": 64,
   "metadata": {},
   "outputs": [
    {
     "data": {
      "text/plain": [
       "513"
      ]
     },
     "execution_count": 64,
     "metadata": {},
     "output_type": "execute_result"
    }
   ],
   "source": [
    "mitula_2['area_combined'].isnull().sum()"
   ]
  },
  {
   "cell_type": "code",
   "execution_count": 65,
   "metadata": {},
   "outputs": [],
   "source": [
    "#Elimino registros que tengan nulo el area\n",
    "mitula_2.dropna(subset= ['area_combined'], inplace= True)"
   ]
  },
  {
   "cell_type": "code",
   "execution_count": 66,
   "metadata": {},
   "outputs": [],
   "source": [
    "# Convierto el tipo de dato a int\n",
    "mitula_2['area_combined'] = mitula_2['area_combined'].astype(int)"
   ]
  },
  {
   "cell_type": "markdown",
   "metadata": {},
   "source": [
    "### bed:\n",
    "Change column name and delete de word \"dormitorios\""
   ]
  },
  {
   "cell_type": "code",
   "execution_count": 67,
   "metadata": {},
   "outputs": [
    {
     "data": {
      "text/plain": [
       "array([nan, '2 dormitorios', '3 dormitorios', '5 dormitorios',\n",
       "       '4 dormitorios', '1 dormitorio', '15 dormitorios',\n",
       "       '32 dormitorios', '14 dormitorios', '6 dormitorios',\n",
       "       '7 dormitorios', '8 dormitorios', '10 dormitorios',\n",
       "       '9 dormitorios', '13 dormitorios', '16 dormitorios',\n",
       "       '24 dormitorios', '25 dormitorios', '19 dormitorios',\n",
       "       '11 dormitorios', '20 dormitorios', '18 dormitorios',\n",
       "       '12 dormitorios', '30 dormitorios', '28 dormitorios',\n",
       "       '40 dormitorios', '17 dormitorios', '31 dormitorios',\n",
       "       '22 dormitorios'], dtype=object)"
      ]
     },
     "execution_count": 67,
     "metadata": {},
     "output_type": "execute_result"
    }
   ],
   "source": [
    "mitula_2[\"bed\"].unique()"
   ]
  },
  {
   "cell_type": "code",
   "execution_count": 68,
   "metadata": {},
   "outputs": [],
   "source": [
    "mitula_2[\"bed\"] = mitula_2[\"bed\"].str.replace(\" dormitorios\", \"\").str.replace(\" dormitorio\", \"\")"
   ]
  },
  {
   "cell_type": "code",
   "execution_count": 69,
   "metadata": {},
   "outputs": [
    {
     "data": {
      "text/plain": [
       "136"
      ]
     },
     "execution_count": 69,
     "metadata": {},
     "output_type": "execute_result"
    }
   ],
   "source": [
    "mitula_2['bed'].isnull().sum()"
   ]
  },
  {
   "cell_type": "code",
   "execution_count": 70,
   "metadata": {},
   "outputs": [],
   "source": [
    "# Delete rows that have null in \"bed\"\n",
    "mitula_2.dropna(subset= ['bed'], inplace= True)"
   ]
  },
  {
   "cell_type": "code",
   "execution_count": 71,
   "metadata": {},
   "outputs": [],
   "source": [
    "# Change the name of the column\n",
    "mitula_2.rename(columns = {\"bed\": \"rooms\"}, inplace= True)"
   ]
  },
  {
   "cell_type": "markdown",
   "metadata": {},
   "source": [
    "### bath:\n",
    "Change column name and delete de word \"baños\""
   ]
  },
  {
   "cell_type": "code",
   "execution_count": 72,
   "metadata": {},
   "outputs": [
    {
     "data": {
      "text/plain": [
       "array(['2 baños', '3 baños', '4 baños', '1 Medio baño', '1 baño',\n",
       "       '17 baños', '33 baños', '5 baños', '7 baños', '8 baños', nan,\n",
       "       '6 baños', '2 Medios baños', '9 baños', '15 baños',\n",
       "       '3 Medios baños', '10 baños', '24 baños', '12 baños', '27 baños',\n",
       "       '22 baños', '11 baños', '25 baños', '35 baños', '230 baños',\n",
       "       '20 baños', '28 baños', '14 baños', '34 baños', '13 baños',\n",
       "       '5 Medios baños'], dtype=object)"
      ]
     },
     "execution_count": 72,
     "metadata": {},
     "output_type": "execute_result"
    }
   ],
   "source": [
    "mitula_2[\"bath\"].unique()"
   ]
  },
  {
   "cell_type": "code",
   "execution_count": 73,
   "metadata": {},
   "outputs": [],
   "source": [
    "# Delete rows that have null in \"bed\"\n",
    "mitula_2.dropna(subset= ['bath'], inplace= True)"
   ]
  },
  {
   "cell_type": "code",
   "execution_count": 74,
   "metadata": {},
   "outputs": [],
   "source": [
    "mitula_2[\"bath\"] = mitula_2[\"bath\"].str.replace(\" baños\", \"\").str.replace(\" baño\", \"\")"
   ]
  },
  {
   "cell_type": "code",
   "execution_count": 75,
   "metadata": {},
   "outputs": [],
   "source": [
    "mitula_2[\"half_baths\"] = None\n",
    "\n",
    "# Itera a través de las filas del DataFrame\n",
    "for index, row in mitula_2.iterrows():\n",
    "    bath_column = row[\"bath\"]\n",
    "    \n",
    "    # Verifica si \"Medios\" o \"Medio\" está presente en la columna \"bath\"\n",
    "    if \"Medios\" in bath_column or \"Medio\" in bath_column:\n",
    "        # Encuentra el número en la cadena\n",
    "        words = bath_column.split()\n",
    "        for word in words:\n",
    "            if word.isdigit():\n",
    "                half_baths = int(word)\n",
    "                # Asigna el número a la columna \"half_baths\" en la misma fila\n",
    "                mitula_2.at[index, \"half_baths\"] = half_baths\n",
    "                # Actualiza la columna \"bath\" con 0\n",
    "                mitula_2.at[index, \"bath\"] = 0\n",
    "\n",
    "# Ahora, df contendrá una nueva columna \"half_baths\" con el número de medios baños en las filas correspondientes."
   ]
  },
  {
   "cell_type": "code",
   "execution_count": 76,
   "metadata": {},
   "outputs": [],
   "source": [
    "mitula_2[\"half_baths\"] = mitula_2[\"half_baths\"].fillna(\"0\")"
   ]
  },
  {
   "cell_type": "code",
   "execution_count": 77,
   "metadata": {},
   "outputs": [],
   "source": [
    "# Change the name of the column\n",
    "mitula_2.rename(columns = {\"bath\": \"baths\"}, inplace= True)"
   ]
  },
  {
   "cell_type": "markdown",
   "metadata": {},
   "source": [
    "### year:"
   ]
  },
  {
   "cell_type": "code",
   "execution_count": 97,
   "metadata": {},
   "outputs": [],
   "source": [
    "for index, row in mitula_2.iterrows():\n",
    "    if not pd.isna(row[\"year\"]):\n",
    "        mitula_2.at[index, \"year\"] = int(row[\"year\"])\n",
    "    else:\n",
    "        pass"
   ]
  },
  {
   "cell_type": "code",
   "execution_count": 98,
   "metadata": {},
   "outputs": [
    {
     "data": {
      "text/plain": [
       "2        2013.0\n",
       "5        2009.0\n",
       "6           NaN\n",
       "9        1987.0\n",
       "10          NaN\n",
       "          ...  \n",
       "11574    2022.0\n",
       "11575    2020.0\n",
       "11577    2020.0\n",
       "11579    2021.0\n",
       "11581    2021.0\n",
       "Name: year, Length: 4936, dtype: float64"
      ]
     },
     "execution_count": 98,
     "metadata": {},
     "output_type": "execute_result"
    }
   ],
   "source": [
    "mitula_2[\"year\"]"
   ]
  },
  {
   "cell_type": "markdown",
   "metadata": {},
   "source": [
    "### nearby_locations:\n"
   ]
  },
  {
   "cell_type": "code",
   "execution_count": 78,
   "metadata": {},
   "outputs": [],
   "source": [
    "#type(mitula_2[\"processed_locations\"][5])"
   ]
  },
  {
   "cell_type": "code",
   "execution_count": 79,
   "metadata": {},
   "outputs": [],
   "source": [
    "#mitula_2[\"processed_locations\"][9]"
   ]
  },
  {
   "cell_type": "code",
   "execution_count": 80,
   "metadata": {},
   "outputs": [
    {
     "data": {
      "text/plain": [
       "2                                                       {}\n",
       "5        {Parques,\"Centros comerciales\",\"Avenidas princ...\n",
       "6                                                       {}\n",
       "9                {\"Avenidas principales\",Parques,Colegios}\n",
       "10                                               {Parques}\n",
       "                               ...                        \n",
       "11574                                            {Parques}\n",
       "11575    {\"Avenidas principales\",\"Centros comerciales\",...\n",
       "11577    {\"Avenidas principales\",\"Centros comerciales\",...\n",
       "11579                                            {Parques}\n",
       "11581                                            {Parques}\n",
       "Name: nearby_locations, Length: 4936, dtype: object"
      ]
     },
     "execution_count": 80,
     "metadata": {},
     "output_type": "execute_result"
    }
   ],
   "source": [
    "mitula_2[\"nearby_locations\"]"
   ]
  },
  {
   "cell_type": "code",
   "execution_count": 81,
   "metadata": {},
   "outputs": [],
   "source": [
    "# Define la función que realizará la operación en una sola fila\n",
    "def process_nearby_locations(row):\n",
    "    a = row[\"nearby_locations\"]\n",
    "    if isinstance(a, str):\n",
    "        a = a.strip('{}')\n",
    "        return [x.strip('\"\"') for x in a.split(',')]\n",
    "    else:\n",
    "        return None\n",
    "\n",
    "# Aplica la función a todas las filas de la columna \"nearby_locations\" y crea una nueva columna \"processed_locations\"\n",
    "mitula_2[\"processed_locations\"] = mitula_2.apply(process_nearby_locations, axis=1)"
   ]
  },
  {
   "cell_type": "code",
   "execution_count": 82,
   "metadata": {},
   "outputs": [
    {
     "data": {
      "text/plain": [
       "2                                                       []\n",
       "5        [Parques, Centros comerciales, Avenidas princi...\n",
       "6                                                       []\n",
       "9                [Avenidas principales, Parques, Colegios]\n",
       "10                                               [Parques]\n",
       "                               ...                        \n",
       "11574                                            [Parques]\n",
       "11575    [Avenidas principales, Centros comerciales, Pa...\n",
       "11577    [Avenidas principales, Centros comerciales, Pa...\n",
       "11579                                            [Parques]\n",
       "11581                                            [Parques]\n",
       "Name: processed_locations, Length: 4936, dtype: object"
      ]
     },
     "execution_count": 82,
     "metadata": {},
     "output_type": "execute_result"
    }
   ],
   "source": [
    "mitula_2[\"processed_locations\"]"
   ]
  },
  {
   "cell_type": "code",
   "execution_count": 83,
   "metadata": {},
   "outputs": [],
   "source": [
    "#mitula_2[\"nearby_locations\"].replace('{}', None, inplace= True)"
   ]
  },
  {
   "cell_type": "code",
   "execution_count": 84,
   "metadata": {},
   "outputs": [],
   "source": [
    "locations = dict()\n",
    "\n",
    "for locations_list in mitula_2[\"processed_locations\"]:\n",
    "    if isinstance(locations_list, list):\n",
    "        for facility in locations_list:\n",
    "            facility = facility.strip().replace(\",\", \"\")\n",
    "            try:\n",
    "                locations[facility] += 1\n",
    "            except KeyError:\n",
    "                locations[facility] = 1\n"
   ]
  },
  {
   "cell_type": "code",
   "execution_count": 85,
   "metadata": {},
   "outputs": [
    {
     "data": {
      "text/plain": [
       "{'': 1355,\n",
       " 'Parques': 2938,\n",
       " 'Centros comerciales': 2402,\n",
       " 'Avenidas principales': 2899,\n",
       " 'Colegios': 2489,\n",
       " 'El mar': 397,\n",
       " 'Estaciones de tren': 3}"
      ]
     },
     "execution_count": 85,
     "metadata": {},
     "output_type": "execute_result"
    }
   ],
   "source": [
    "locations"
   ]
  },
  {
   "cell_type": "code",
   "execution_count": 86,
   "metadata": {},
   "outputs": [
    {
     "name": "stdout",
     "output_type": "stream",
     "text": [
      "<class 'pandas.core.frame.DataFrame'>\n",
      "Int64Index: 4936 entries, 2 to 11581\n",
      "Data columns (total 17 columns):\n",
      " #   Column               Non-Null Count  Dtype  \n",
      "---  ------               --------------  -----  \n",
      " 0   price                4936 non-null   object \n",
      " 1   location             4936 non-null   object \n",
      " 2   property_type        4936 non-null   object \n",
      " 3   operation_type       4936 non-null   object \n",
      " 4   plot_area            304 non-null    object \n",
      " 5   year                 3470 non-null   float64\n",
      " 6   description          4936 non-null   object \n",
      " 7   rooms                4936 non-null   object \n",
      " 8   baths                4936 non-null   object \n",
      " 9   area                 4903 non-null   object \n",
      " 10  facilities           4936 non-null   object \n",
      " 11  location_address     4936 non-null   object \n",
      " 12  nearby_locations     4936 non-null   object \n",
      " 13  price_USD            4936 non-null   int32  \n",
      " 14  area_combined        4936 non-null   int32  \n",
      " 15  half_baths           4936 non-null   object \n",
      " 16  processed_locations  4936 non-null   object \n",
      "dtypes: float64(1), int32(2), object(14)\n",
      "memory usage: 784.6+ KB\n"
     ]
    }
   ],
   "source": [
    "mitula_2.info()"
   ]
  },
  {
   "cell_type": "code",
   "execution_count": 34,
   "metadata": {},
   "outputs": [
    {
     "data": {
      "text/plain": [
       "Index(['price', 'location', 'property_type', 'operation_type', 'plot_area',\n",
       "       'year', 'description', 'bed', 'bath', 'area', 'facilities',\n",
       "       'location_address', 'nearby_locations', 'price_USD', 'area_combined'],\n",
       "      dtype='object')"
      ]
     },
     "execution_count": 34,
     "metadata": {},
     "output_type": "execute_result"
    }
   ],
   "source": [
    "mitula_2.columns"
   ]
  },
  {
   "cell_type": "code",
   "execution_count": 37,
   "metadata": {},
   "outputs": [],
   "source": [
    "mitula_3 = mitula_2[['price_USD', 'area_combined', 'rooms',  'baths', 'half_baths',  'year', 'location', 'property_type', 'description',  'facilities','location_address', 'nearby_locations', 'operation_type']]"
   ]
  },
  {
   "cell_type": "code",
   "execution_count": 38,
   "metadata": {},
   "outputs": [
    {
     "name": "stdout",
     "output_type": "stream",
     "text": [
      "<class 'pandas.core.frame.DataFrame'>\n",
      "Int64Index: 5609 entries, 0 to 11581\n",
      "Data columns (total 12 columns):\n",
      " #   Column            Non-Null Count  Dtype  \n",
      "---  ------            --------------  -----  \n",
      " 0   price_USD         5609 non-null   int32  \n",
      " 1   area_combined     5096 non-null   object \n",
      " 2   bed               5441 non-null   object \n",
      " 3   bath              5443 non-null   object \n",
      " 4   year              3687 non-null   float64\n",
      " 5   location          5609 non-null   object \n",
      " 6   property_type     5609 non-null   object \n",
      " 7   description       5609 non-null   object \n",
      " 8   facilities        5609 non-null   object \n",
      " 9   location_address  5609 non-null   object \n",
      " 10  nearby_locations  5609 non-null   object \n",
      " 11  operation_type    5609 non-null   object \n",
      "dtypes: float64(1), int32(1), object(10)\n",
      "memory usage: 676.8+ KB\n"
     ]
    }
   ],
   "source": [
    "mitula_3.info()"
   ]
  },
  {
   "cell_type": "markdown",
   "metadata": {},
   "source": []
  },
  {
   "cell_type": "code",
   "execution_count": 45,
   "metadata": {},
   "outputs": [
    {
     "data": {
      "text/plain": [
       "str"
      ]
     },
     "execution_count": 45,
     "metadata": {},
     "output_type": "execute_result"
    }
   ],
   "source": [
    "type(mitula_2[\"nearby_locations\"][0])"
   ]
  },
  {
   "cell_type": "code",
   "execution_count": 48,
   "metadata": {},
   "outputs": [
    {
     "data": {
      "text/plain": [
       "'{}'"
      ]
     },
     "execution_count": 48,
     "metadata": {},
     "output_type": "execute_result"
    }
   ],
   "source": [
    "mitula_2[\"nearby_locations\"][2]"
   ]
  },
  {
   "cell_type": "code",
   "execution_count": 42,
   "metadata": {},
   "outputs": [
    {
     "ename": "AttributeError",
     "evalue": "'list' object has no attribute 'shape'",
     "output_type": "error",
     "traceback": [
      "\u001b[1;31m---------------------------------------------------------------------------\u001b[0m",
      "\u001b[1;31mAttributeError\u001b[0m                            Traceback (most recent call last)",
      "Cell \u001b[1;32mIn[42], line 2\u001b[0m\n\u001b[0;32m      1\u001b[0m \u001b[39mimport\u001b[39;00m \u001b[39mnumpy\u001b[39;00m \u001b[39mas\u001b[39;00m \u001b[39mnp\u001b[39;00m\n\u001b[1;32m----> 2\u001b[0m mitula_2[\u001b[39m\"\u001b[39m\u001b[39mnearby_locations_2\u001b[39m\u001b[39m\"\u001b[39m]  \u001b[39m=\u001b[39m mitula_2[\u001b[39m\"\u001b[39;49m\u001b[39mnearby_locations\u001b[39;49m\u001b[39m\"\u001b[39;49m]\u001b[39m.\u001b[39;49mapply(\u001b[39mlambda\u001b[39;49;00m x: np\u001b[39m.\u001b[39;49marray_str(\u001b[39mlist\u001b[39;49m(\u001b[39meval\u001b[39;49m(x))) \u001b[39mif\u001b[39;49;00m x \u001b[39m!=\u001b[39;49m \u001b[39m'\u001b[39;49m\u001b[39m{}\u001b[39;49;00m\u001b[39m'\u001b[39;49m \u001b[39melse\u001b[39;49;00m x)\n",
      "File \u001b[1;32mc:\\Users\\Clarita\\AppData\\Local\\Programs\\Python\\Python311\\Lib\\site-packages\\pandas\\core\\series.py:4771\u001b[0m, in \u001b[0;36mSeries.apply\u001b[1;34m(self, func, convert_dtype, args, **kwargs)\u001b[0m\n\u001b[0;32m   4661\u001b[0m \u001b[39mdef\u001b[39;00m \u001b[39mapply\u001b[39m(\n\u001b[0;32m   4662\u001b[0m     \u001b[39mself\u001b[39m,\n\u001b[0;32m   4663\u001b[0m     func: AggFuncType,\n\u001b[1;32m   (...)\u001b[0m\n\u001b[0;32m   4666\u001b[0m     \u001b[39m*\u001b[39m\u001b[39m*\u001b[39mkwargs,\n\u001b[0;32m   4667\u001b[0m ) \u001b[39m-\u001b[39m\u001b[39m>\u001b[39m DataFrame \u001b[39m|\u001b[39m Series:\n\u001b[0;32m   4668\u001b[0m \u001b[39m    \u001b[39m\u001b[39m\"\"\"\u001b[39;00m\n\u001b[0;32m   4669\u001b[0m \u001b[39m    Invoke function on values of Series.\u001b[39;00m\n\u001b[0;32m   4670\u001b[0m \n\u001b[1;32m   (...)\u001b[0m\n\u001b[0;32m   4769\u001b[0m \u001b[39m    dtype: float64\u001b[39;00m\n\u001b[0;32m   4770\u001b[0m \u001b[39m    \"\"\"\u001b[39;00m\n\u001b[1;32m-> 4771\u001b[0m     \u001b[39mreturn\u001b[39;00m SeriesApply(\u001b[39mself\u001b[39;49m, func, convert_dtype, args, kwargs)\u001b[39m.\u001b[39;49mapply()\n",
      "File \u001b[1;32mc:\\Users\\Clarita\\AppData\\Local\\Programs\\Python\\Python311\\Lib\\site-packages\\pandas\\core\\apply.py:1123\u001b[0m, in \u001b[0;36mSeriesApply.apply\u001b[1;34m(self)\u001b[0m\n\u001b[0;32m   1120\u001b[0m     \u001b[39mreturn\u001b[39;00m \u001b[39mself\u001b[39m\u001b[39m.\u001b[39mapply_str()\n\u001b[0;32m   1122\u001b[0m \u001b[39m# self.f is Callable\u001b[39;00m\n\u001b[1;32m-> 1123\u001b[0m \u001b[39mreturn\u001b[39;00m \u001b[39mself\u001b[39;49m\u001b[39m.\u001b[39;49mapply_standard()\n",
      "File \u001b[1;32mc:\\Users\\Clarita\\AppData\\Local\\Programs\\Python\\Python311\\Lib\\site-packages\\pandas\\core\\apply.py:1174\u001b[0m, in \u001b[0;36mSeriesApply.apply_standard\u001b[1;34m(self)\u001b[0m\n\u001b[0;32m   1172\u001b[0m     \u001b[39melse\u001b[39;00m:\n\u001b[0;32m   1173\u001b[0m         values \u001b[39m=\u001b[39m obj\u001b[39m.\u001b[39mastype(\u001b[39mobject\u001b[39m)\u001b[39m.\u001b[39m_values\n\u001b[1;32m-> 1174\u001b[0m         mapped \u001b[39m=\u001b[39m lib\u001b[39m.\u001b[39;49mmap_infer(\n\u001b[0;32m   1175\u001b[0m             values,\n\u001b[0;32m   1176\u001b[0m             f,\n\u001b[0;32m   1177\u001b[0m             convert\u001b[39m=\u001b[39;49m\u001b[39mself\u001b[39;49m\u001b[39m.\u001b[39;49mconvert_dtype,\n\u001b[0;32m   1178\u001b[0m         )\n\u001b[0;32m   1180\u001b[0m \u001b[39mif\u001b[39;00m \u001b[39mlen\u001b[39m(mapped) \u001b[39mand\u001b[39;00m \u001b[39misinstance\u001b[39m(mapped[\u001b[39m0\u001b[39m], ABCSeries):\n\u001b[0;32m   1181\u001b[0m     \u001b[39m# GH#43986 Need to do list(mapped) in order to get treated as nested\u001b[39;00m\n\u001b[0;32m   1182\u001b[0m     \u001b[39m#  See also GH#25959 regarding EA support\u001b[39;00m\n\u001b[0;32m   1183\u001b[0m     \u001b[39mreturn\u001b[39;00m obj\u001b[39m.\u001b[39m_constructor_expanddim(\u001b[39mlist\u001b[39m(mapped), index\u001b[39m=\u001b[39mobj\u001b[39m.\u001b[39mindex)\n",
      "File \u001b[1;32mc:\\Users\\Clarita\\AppData\\Local\\Programs\\Python\\Python311\\Lib\\site-packages\\pandas\\_libs\\lib.pyx:2924\u001b[0m, in \u001b[0;36mpandas._libs.lib.map_infer\u001b[1;34m()\u001b[0m\n",
      "Cell \u001b[1;32mIn[42], line 2\u001b[0m, in \u001b[0;36m<lambda>\u001b[1;34m(x)\u001b[0m\n\u001b[0;32m      1\u001b[0m \u001b[39mimport\u001b[39;00m \u001b[39mnumpy\u001b[39;00m \u001b[39mas\u001b[39;00m \u001b[39mnp\u001b[39;00m\n\u001b[1;32m----> 2\u001b[0m mitula_2[\u001b[39m\"\u001b[39m\u001b[39mnearby_locations_2\u001b[39m\u001b[39m\"\u001b[39m]  \u001b[39m=\u001b[39m mitula_2[\u001b[39m\"\u001b[39m\u001b[39mnearby_locations\u001b[39m\u001b[39m\"\u001b[39m]\u001b[39m.\u001b[39mapply(\u001b[39mlambda\u001b[39;00m x: np\u001b[39m.\u001b[39;49marray_str(\u001b[39mlist\u001b[39;49m(\u001b[39meval\u001b[39;49m(x))) \u001b[39mif\u001b[39;00m x \u001b[39m!=\u001b[39m \u001b[39m'\u001b[39m\u001b[39m{}\u001b[39;00m\u001b[39m'\u001b[39m \u001b[39melse\u001b[39;00m x)\n",
      "File \u001b[1;32m<__array_function__ internals>:180\u001b[0m, in \u001b[0;36marray_str\u001b[1;34m(*args, **kwargs)\u001b[0m\n",
      "File \u001b[1;32mc:\\Users\\Clarita\\AppData\\Local\\Programs\\Python\\Python311\\Lib\\site-packages\\numpy\\core\\arrayprint.py:1636\u001b[0m, in \u001b[0;36marray_str\u001b[1;34m(a, max_line_width, precision, suppress_small)\u001b[0m\n\u001b[0;32m   1600\u001b[0m \u001b[39m@array_function_dispatch\u001b[39m(_array_str_dispatcher, module\u001b[39m=\u001b[39m\u001b[39m'\u001b[39m\u001b[39mnumpy\u001b[39m\u001b[39m'\u001b[39m)\n\u001b[0;32m   1601\u001b[0m \u001b[39mdef\u001b[39;00m \u001b[39marray_str\u001b[39m(a, max_line_width\u001b[39m=\u001b[39m\u001b[39mNone\u001b[39;00m, precision\u001b[39m=\u001b[39m\u001b[39mNone\u001b[39;00m, suppress_small\u001b[39m=\u001b[39m\u001b[39mNone\u001b[39;00m):\n\u001b[0;32m   1602\u001b[0m \u001b[39m    \u001b[39m\u001b[39m\"\"\"\u001b[39;00m\n\u001b[0;32m   1603\u001b[0m \u001b[39m    Return a string representation of the data in an array.\u001b[39;00m\n\u001b[0;32m   1604\u001b[0m \n\u001b[1;32m   (...)\u001b[0m\n\u001b[0;32m   1634\u001b[0m \n\u001b[0;32m   1635\u001b[0m \u001b[39m    \"\"\"\u001b[39;00m\n\u001b[1;32m-> 1636\u001b[0m     \u001b[39mreturn\u001b[39;00m _array_str_implementation(\n\u001b[0;32m   1637\u001b[0m         a, max_line_width, precision, suppress_small)\n",
      "File \u001b[1;32mc:\\Users\\Clarita\\AppData\\Local\\Programs\\Python\\Python311\\Lib\\site-packages\\numpy\\core\\arrayprint.py:1586\u001b[0m, in \u001b[0;36m_array_str_implementation\u001b[1;34m(a, max_line_width, precision, suppress_small, array2string)\u001b[0m\n\u001b[0;32m   1581\u001b[0m     \u001b[39mreturn\u001b[39;00m \u001b[39mstr\u001b[39m(a\u001b[39m.\u001b[39mitem())\n\u001b[0;32m   1583\u001b[0m \u001b[39m# the str of 0d arrays is a special case: It should appear like a scalar,\u001b[39;00m\n\u001b[0;32m   1584\u001b[0m \u001b[39m# so floats are not truncated by `precision`, and strings are not wrapped\u001b[39;00m\n\u001b[0;32m   1585\u001b[0m \u001b[39m# in quotes. So we return the str of the scalar value.\u001b[39;00m\n\u001b[1;32m-> 1586\u001b[0m \u001b[39mif\u001b[39;00m a\u001b[39m.\u001b[39;49mshape \u001b[39m==\u001b[39m ():\n\u001b[0;32m   1587\u001b[0m     \u001b[39m# obtain a scalar and call str on it, avoiding problems for subclasses\u001b[39;00m\n\u001b[0;32m   1588\u001b[0m     \u001b[39m# for which indexing with () returns a 0d instead of a scalar by using\u001b[39;00m\n\u001b[0;32m   1589\u001b[0m     \u001b[39m# ndarray's getindex. Also guard against recursive 0d object arrays.\u001b[39;00m\n\u001b[0;32m   1590\u001b[0m     \u001b[39mreturn\u001b[39;00m _guarded_repr_or_str(np\u001b[39m.\u001b[39mndarray\u001b[39m.\u001b[39m\u001b[39m__getitem__\u001b[39m(a, ()))\n\u001b[0;32m   1592\u001b[0m \u001b[39mreturn\u001b[39;00m array2string(a, max_line_width, precision, suppress_small, \u001b[39m'\u001b[39m\u001b[39m \u001b[39m\u001b[39m'\u001b[39m, \u001b[39m\"\u001b[39m\u001b[39m\"\u001b[39m)\n",
      "\u001b[1;31mAttributeError\u001b[0m: 'list' object has no attribute 'shape'"
     ]
    }
   ],
   "source": [
    "import numpy as np\n",
    "mitula_2[\"nearby_locations_2\"]  = mitula_2[\"nearby_locations\"].apply(lambda x: np.array_str(list(eval(x))) if x != '{}' else x)\n",
    "\n"
   ]
  },
  {
   "cell_type": "code",
   "execution_count": 26,
   "metadata": {},
   "outputs": [
    {
     "data": {
      "text/plain": [
       "0        🏖️CONDOMINIO MONTECARLO - MOLLENDO🏖️\\n\\nSe ubi...\n",
       "2        Se vende duplex de 2 dormitorios, ubicado a la...\n",
       "4        OPORTUNIDAD DE INVERSION, EN EL MARAVILLOSO VA...\n",
       "5        Surco Casuarinas 🎯 Vendo Departamento con Terr...\n",
       "6        Casa ubicada cerca a la zona comercial del dis...\n",
       "                               ...                        \n",
       "11574    Los departamentos se encuentra en un edificio ...\n",
       "11575    VENDO departamento en la parte baja de Cayma e...\n",
       "11577    Vendo moderno departamento en la parte baja de...\n",
       "11579    [EN VENTA] ESPACIOSO DÚPLEX EN PROLONG. LOS AR...\n",
       "11581    EN VENTA - Penthouse en Lujoso Condominio \\n\\n...\n",
       "Name: description, Length: 5609, dtype: object"
      ]
     },
     "execution_count": 26,
     "metadata": {},
     "output_type": "execute_result"
    }
   ],
   "source": [
    "mitula_2['description']"
   ]
  },
  {
   "cell_type": "code",
   "execution_count": 50,
   "metadata": {},
   "outputs": [
    {
     "data": {
      "text/plain": [
       "price                                                      USD190,000\n",
       "location                      Sd. S/N, Magdalena del Mar, Lima, Lima \n",
       "property_type                                             Apartamento\n",
       "operation_type                                                 Compra\n",
       "plot_area                                                         NaN\n",
       "year                                                           2013.0\n",
       "description         Se vende duplex de 2 dormitorios, ubicado a la...\n",
       "bed                                                     2 dormitorios\n",
       "bath                                                          2 baños\n",
       "area                                                              102\n",
       "facilities                            {Estacionamiento,\"Sin amoblar\"}\n",
       "location_address      Comandante Jiménez 188, Magdalena del Mar, Perú\n",
       "nearby_locations                                                   {}\n",
       "price_USD                                                      190000\n",
       "area_combined                                                     102\n",
       "Name: 2, dtype: object"
      ]
     },
     "execution_count": 50,
     "metadata": {},
     "output_type": "execute_result"
    }
   ],
   "source": [
    "mitula_2.loc[2]"
   ]
  },
  {
   "cell_type": "code",
   "execution_count": 31,
   "metadata": {},
   "outputs": [
    {
     "data": {
      "text/html": [
       "<div>\n",
       "<style scoped>\n",
       "    .dataframe tbody tr th:only-of-type {\n",
       "        vertical-align: middle;\n",
       "    }\n",
       "\n",
       "    .dataframe tbody tr th {\n",
       "        vertical-align: top;\n",
       "    }\n",
       "\n",
       "    .dataframe thead th {\n",
       "        text-align: right;\n",
       "    }\n",
       "</style>\n",
       "<table border=\"1\" class=\"dataframe\">\n",
       "  <thead>\n",
       "    <tr style=\"text-align: right;\">\n",
       "      <th></th>\n",
       "      <th>price</th>\n",
       "      <th>location</th>\n",
       "      <th>property_type</th>\n",
       "      <th>operation_type</th>\n",
       "      <th>plot_area</th>\n",
       "      <th>year</th>\n",
       "      <th>description</th>\n",
       "      <th>bed</th>\n",
       "      <th>bath</th>\n",
       "      <th>area</th>\n",
       "      <th>facilities</th>\n",
       "      <th>location_address</th>\n",
       "      <th>nearby_locations</th>\n",
       "      <th>price_USD</th>\n",
       "      <th>area_combined</th>\n",
       "    </tr>\n",
       "  </thead>\n",
       "  <tbody>\n",
       "    <tr>\n",
       "      <th>0</th>\n",
       "      <td>S/.58,000</td>\n",
       "      <td>Mollendo, Islay, Arequipa</td>\n",
       "      <td>Condominio</td>\n",
       "      <td>Compra</td>\n",
       "      <td>NaN</td>\n",
       "      <td>NaN</td>\n",
       "      <td>🏖️CONDOMINIO MONTECARLO - MOLLENDO🏖️\\n\\nSe ubi...</td>\n",
       "      <td>NaN</td>\n",
       "      <td>NaN</td>\n",
       "      <td>100</td>\n",
       "      <td>{Estacionamiento,Terraza,Seguridad,Piscina,Jar...</td>\n",
       "      <td>Mollendo, Islay, Arequipa, PER</td>\n",
       "      <td>{\"El mar\",\"Avenidas principales\"}</td>\n",
       "      <td>15676</td>\n",
       "      <td>100</td>\n",
       "    </tr>\n",
       "    <tr>\n",
       "      <th>2</th>\n",
       "      <td>USD190,000</td>\n",
       "      <td>Sd. S/N, Magdalena del Mar, Lima, Lima</td>\n",
       "      <td>Apartamento</td>\n",
       "      <td>Compra</td>\n",
       "      <td>NaN</td>\n",
       "      <td>2013.0</td>\n",
       "      <td>Se vende duplex de 2 dormitorios, ubicado a la...</td>\n",
       "      <td>2 dormitorios</td>\n",
       "      <td>2 baños</td>\n",
       "      <td>102</td>\n",
       "      <td>{Estacionamiento,\"Sin amoblar\"}</td>\n",
       "      <td>Comandante Jiménez 188, Magdalena del Mar, Perú</td>\n",
       "      <td>{}</td>\n",
       "      <td>190000</td>\n",
       "      <td>102</td>\n",
       "    </tr>\n",
       "    <tr>\n",
       "      <th>5</th>\n",
       "      <td>USD250,000</td>\n",
       "      <td>Jazan, Bongará, Amazonas</td>\n",
       "      <td>Apartamento</td>\n",
       "      <td>Compra</td>\n",
       "      <td>NaN</td>\n",
       "      <td>2009.0</td>\n",
       "      <td>Surco Casuarinas 🎯 Vendo Departamento con Terr...</td>\n",
       "      <td>3 dormitorios</td>\n",
       "      <td>3 baños</td>\n",
       "      <td>135</td>\n",
       "      <td>{Estacionamiento,\"Cocina equipada\",\"Cuarto de ...</td>\n",
       "      <td>Amazonas, Bongará, Jazan</td>\n",
       "      <td>{Parques,\"Centros comerciales\",\"Avenidas princ...</td>\n",
       "      <td>250000</td>\n",
       "      <td>135</td>\n",
       "    </tr>\n",
       "    <tr>\n",
       "      <th>6</th>\n",
       "      <td>USD170,000</td>\n",
       "      <td>Ur. Los Conquistadores, Carmen de la Legua Rey...</td>\n",
       "      <td>Casa</td>\n",
       "      <td>Compra</td>\n",
       "      <td>NaN</td>\n",
       "      <td>NaN</td>\n",
       "      <td>Casa ubicada cerca a la zona comercial del dis...</td>\n",
       "      <td>5 dormitorios</td>\n",
       "      <td>3 baños</td>\n",
       "      <td>100</td>\n",
       "      <td>{Estacionamiento,Balcón,Internet}</td>\n",
       "      <td>Calle Gardenias 100-198, Cuadra 1, Ur. Los Con...</td>\n",
       "      <td>{}</td>\n",
       "      <td>170000</td>\n",
       "      <td>100</td>\n",
       "    </tr>\n",
       "    <tr>\n",
       "      <th>10</th>\n",
       "      <td>USD155,000</td>\n",
       "      <td>Miraflores Country Club, Miraflores, Piura, Pi...</td>\n",
       "      <td>Casa</td>\n",
       "      <td>Compra</td>\n",
       "      <td>NaN</td>\n",
       "      <td>NaN</td>\n",
       "      <td>🏡✨VENTA DE BONITA CASA EN MIRAFLORES COUNTRY C...</td>\n",
       "      <td>3 dormitorios</td>\n",
       "      <td>3 baños</td>\n",
       "      <td>114</td>\n",
       "      <td>{Estacionamiento,\"Cocina equipada\",\"Cuarto de ...</td>\n",
       "      <td>Miraflores Country Club, Piura, Perú</td>\n",
       "      <td>{Parques}</td>\n",
       "      <td>155000</td>\n",
       "      <td>114</td>\n",
       "    </tr>\n",
       "    <tr>\n",
       "      <th>...</th>\n",
       "      <td>...</td>\n",
       "      <td>...</td>\n",
       "      <td>...</td>\n",
       "      <td>...</td>\n",
       "      <td>...</td>\n",
       "      <td>...</td>\n",
       "      <td>...</td>\n",
       "      <td>...</td>\n",
       "      <td>...</td>\n",
       "      <td>...</td>\n",
       "      <td>...</td>\n",
       "      <td>...</td>\n",
       "      <td>...</td>\n",
       "      <td>...</td>\n",
       "      <td>...</td>\n",
       "    </tr>\n",
       "    <tr>\n",
       "      <th>11573</th>\n",
       "      <td>USD354,000</td>\n",
       "      <td>Asia, Cañete, Lima</td>\n",
       "      <td>Casa de playa</td>\n",
       "      <td>Compra</td>\n",
       "      <td>NaN</td>\n",
       "      <td>2023.0</td>\n",
       "      <td>SE VENDE CASA DE ESTRENO DE PLAYA EN CONDOMINI...</td>\n",
       "      <td>4 dormitorios</td>\n",
       "      <td>4 baños</td>\n",
       "      <td>330</td>\n",
       "      <td>{Estacionamiento,\"Cocina con reposteros\",Agua,...</td>\n",
       "      <td>Condominio Playa Coral, Asia, Perú</td>\n",
       "      <td>{\"El mar\",\"Centros comerciales\",Parques}</td>\n",
       "      <td>354000</td>\n",
       "      <td>330</td>\n",
       "    </tr>\n",
       "    <tr>\n",
       "      <th>11574</th>\n",
       "      <td>USD175,000</td>\n",
       "      <td>Urb la Marina, Arequipa, Arequipa</td>\n",
       "      <td>Apartamento</td>\n",
       "      <td>Compra</td>\n",
       "      <td>132</td>\n",
       "      <td>2022.0</td>\n",
       "      <td>Los departamentos se encuentra en un edificio ...</td>\n",
       "      <td>3 dormitorios</td>\n",
       "      <td>3 baños</td>\n",
       "      <td>132</td>\n",
       "      <td>{Estacionamiento,\"Cocina equipada\",Balcón,Bode...</td>\n",
       "      <td>Arequipa, Arequipa, Urb la Marina</td>\n",
       "      <td>{Parques}</td>\n",
       "      <td>175000</td>\n",
       "      <td>132</td>\n",
       "    </tr>\n",
       "    <tr>\n",
       "      <th>11575</th>\n",
       "      <td>S/.425,000</td>\n",
       "      <td>Ur. El Señorial, Cayma, Arequipa, Arequipa</td>\n",
       "      <td>Apartamento</td>\n",
       "      <td>Compra</td>\n",
       "      <td>NaN</td>\n",
       "      <td>2020.0</td>\n",
       "      <td>VENDO departamento en la parte baja de Cayma e...</td>\n",
       "      <td>2 dormitorios</td>\n",
       "      <td>2 baños</td>\n",
       "      <td>72</td>\n",
       "      <td>{Estacionamiento,\"Cocina equipada\",\"Parcialmen...</td>\n",
       "      <td>Arequipa, Arequipa, Cayma</td>\n",
       "      <td>{\"Avenidas principales\",\"Centros comerciales\",...</td>\n",
       "      <td>114865</td>\n",
       "      <td>72</td>\n",
       "    </tr>\n",
       "    <tr>\n",
       "      <th>11577</th>\n",
       "      <td>USD180,000</td>\n",
       "      <td>Cayma, Arequipa, Arequipa</td>\n",
       "      <td>Apartamento</td>\n",
       "      <td>Compra</td>\n",
       "      <td>NaN</td>\n",
       "      <td>2020.0</td>\n",
       "      <td>Vendo moderno departamento en la parte baja de...</td>\n",
       "      <td>3 dormitorios</td>\n",
       "      <td>3 baños</td>\n",
       "      <td>136</td>\n",
       "      <td>{Estacionamiento,\"Cuarto de servicio\",\"Parcial...</td>\n",
       "      <td>Los Arces, Cayma, Arequipa, Perú</td>\n",
       "      <td>{\"Avenidas principales\",\"Centros comerciales\",...</td>\n",
       "      <td>180000</td>\n",
       "      <td>136</td>\n",
       "    </tr>\n",
       "    <tr>\n",
       "      <th>11581</th>\n",
       "      <td>USD255,000</td>\n",
       "      <td>Urb Macondo, Arequipa, Arequipa</td>\n",
       "      <td>Apartamento</td>\n",
       "      <td>Compra</td>\n",
       "      <td>153</td>\n",
       "      <td>2021.0</td>\n",
       "      <td>EN VENTA - Penthouse en Lujoso Condominio \\n\\n...</td>\n",
       "      <td>3 dormitorios</td>\n",
       "      <td>3 baños</td>\n",
       "      <td>153</td>\n",
       "      <td>{Estacionamiento,\"Cuarto de servicio\",\"Vista p...</td>\n",
       "      <td>Arequipa, Arequipa, Urb Macondo</td>\n",
       "      <td>{Parques}</td>\n",
       "      <td>255000</td>\n",
       "      <td>153</td>\n",
       "    </tr>\n",
       "  </tbody>\n",
       "</table>\n",
       "<p>3073 rows × 15 columns</p>\n",
       "</div>"
      ],
      "text/plain": [
       "            price                                           location  \\\n",
       "0       S/.58,000                         Mollendo, Islay, Arequipa    \n",
       "2      USD190,000            Sd. S/N, Magdalena del Mar, Lima, Lima    \n",
       "5      USD250,000                          Jazan, Bongará, Amazonas    \n",
       "6      USD170,000  Ur. Los Conquistadores, Carmen de la Legua Rey...   \n",
       "10     USD155,000  Miraflores Country Club, Miraflores, Piura, Pi...   \n",
       "...           ...                                                ...   \n",
       "11573  USD354,000                                Asia, Cañete, Lima    \n",
       "11574  USD175,000                 Urb la Marina, Arequipa, Arequipa    \n",
       "11575  S/.425,000        Ur. El Señorial, Cayma, Arequipa, Arequipa    \n",
       "11577  USD180,000                         Cayma, Arequipa, Arequipa    \n",
       "11581  USD255,000                   Urb Macondo, Arequipa, Arequipa    \n",
       "\n",
       "       property_type operation_type plot_area    year  \\\n",
       "0         Condominio         Compra       NaN     NaN   \n",
       "2        Apartamento         Compra       NaN  2013.0   \n",
       "5        Apartamento         Compra       NaN  2009.0   \n",
       "6               Casa         Compra       NaN     NaN   \n",
       "10              Casa         Compra       NaN     NaN   \n",
       "...              ...            ...       ...     ...   \n",
       "11573  Casa de playa         Compra       NaN  2023.0   \n",
       "11574    Apartamento         Compra       132  2022.0   \n",
       "11575    Apartamento         Compra       NaN  2020.0   \n",
       "11577    Apartamento         Compra       NaN  2020.0   \n",
       "11581    Apartamento         Compra       153  2021.0   \n",
       "\n",
       "                                             description            bed  \\\n",
       "0      🏖️CONDOMINIO MONTECARLO - MOLLENDO🏖️\\n\\nSe ubi...            NaN   \n",
       "2      Se vende duplex de 2 dormitorios, ubicado a la...  2 dormitorios   \n",
       "5      Surco Casuarinas 🎯 Vendo Departamento con Terr...  3 dormitorios   \n",
       "6      Casa ubicada cerca a la zona comercial del dis...  5 dormitorios   \n",
       "10     🏡✨VENTA DE BONITA CASA EN MIRAFLORES COUNTRY C...  3 dormitorios   \n",
       "...                                                  ...            ...   \n",
       "11573  SE VENDE CASA DE ESTRENO DE PLAYA EN CONDOMINI...  4 dormitorios   \n",
       "11574  Los departamentos se encuentra en un edificio ...  3 dormitorios   \n",
       "11575  VENDO departamento en la parte baja de Cayma e...  2 dormitorios   \n",
       "11577  Vendo moderno departamento en la parte baja de...  3 dormitorios   \n",
       "11581  EN VENTA - Penthouse en Lujoso Condominio \\n\\n...  3 dormitorios   \n",
       "\n",
       "          bath area                                         facilities  \\\n",
       "0          NaN  100  {Estacionamiento,Terraza,Seguridad,Piscina,Jar...   \n",
       "2      2 baños  102                    {Estacionamiento,\"Sin amoblar\"}   \n",
       "5      3 baños  135  {Estacionamiento,\"Cocina equipada\",\"Cuarto de ...   \n",
       "6      3 baños  100                  {Estacionamiento,Balcón,Internet}   \n",
       "10     3 baños  114  {Estacionamiento,\"Cocina equipada\",\"Cuarto de ...   \n",
       "...        ...  ...                                                ...   \n",
       "11573  4 baños  330  {Estacionamiento,\"Cocina con reposteros\",Agua,...   \n",
       "11574  3 baños  132  {Estacionamiento,\"Cocina equipada\",Balcón,Bode...   \n",
       "11575  2 baños   72  {Estacionamiento,\"Cocina equipada\",\"Parcialmen...   \n",
       "11577  3 baños  136  {Estacionamiento,\"Cuarto de servicio\",\"Parcial...   \n",
       "11581  3 baños  153  {Estacionamiento,\"Cuarto de servicio\",\"Vista p...   \n",
       "\n",
       "                                        location_address  \\\n",
       "0                         Mollendo, Islay, Arequipa, PER   \n",
       "2        Comandante Jiménez 188, Magdalena del Mar, Perú   \n",
       "5                               Amazonas, Bongará, Jazan   \n",
       "6      Calle Gardenias 100-198, Cuadra 1, Ur. Los Con...   \n",
       "10                  Miraflores Country Club, Piura, Perú   \n",
       "...                                                  ...   \n",
       "11573                 Condominio Playa Coral, Asia, Perú   \n",
       "11574                  Arequipa, Arequipa, Urb la Marina   \n",
       "11575                          Arequipa, Arequipa, Cayma   \n",
       "11577                   Los Arces, Cayma, Arequipa, Perú   \n",
       "11581                    Arequipa, Arequipa, Urb Macondo   \n",
       "\n",
       "                                        nearby_locations  price_USD  \\\n",
       "0                      {\"El mar\",\"Avenidas principales\"}      15676   \n",
       "2                                                     {}     190000   \n",
       "5      {Parques,\"Centros comerciales\",\"Avenidas princ...     250000   \n",
       "6                                                     {}     170000   \n",
       "10                                             {Parques}     155000   \n",
       "...                                                  ...        ...   \n",
       "11573           {\"El mar\",\"Centros comerciales\",Parques}     354000   \n",
       "11574                                          {Parques}     175000   \n",
       "11575  {\"Avenidas principales\",\"Centros comerciales\",...     114865   \n",
       "11577  {\"Avenidas principales\",\"Centros comerciales\",...     180000   \n",
       "11581                                          {Parques}     255000   \n",
       "\n",
       "      area_combined  \n",
       "0               100  \n",
       "2               102  \n",
       "5               135  \n",
       "6               100  \n",
       "10              114  \n",
       "...             ...  \n",
       "11573           330  \n",
       "11574           132  \n",
       "11575            72  \n",
       "11577           136  \n",
       "11581           153  \n",
       "\n",
       "[3073 rows x 15 columns]"
      ]
     },
     "execution_count": 31,
     "metadata": {},
     "output_type": "execute_result"
    }
   ],
   "source": [
    "\n",
    "# Buscar filas que contienen \"Python\" en la columna 'texto'\n",
    "result = mitula_2[mitula_2['facilities'].str.contains(\"Estacionamiento\")]\n",
    "result\n",
    "\n"
   ]
  }
 ],
 "metadata": {
  "kernelspec": {
   "display_name": "Python 3",
   "language": "python",
   "name": "python3"
  },
  "language_info": {
   "codemirror_mode": {
    "name": "ipython",
    "version": 3
   },
   "file_extension": ".py",
   "mimetype": "text/x-python",
   "name": "python",
   "nbconvert_exporter": "python",
   "pygments_lexer": "ipython3",
   "version": "3.11.1"
  },
  "orig_nbformat": 4
 },
 "nbformat": 4,
 "nbformat_minor": 2
}
