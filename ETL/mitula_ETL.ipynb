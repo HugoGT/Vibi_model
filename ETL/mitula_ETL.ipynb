{
 "cells": [
  {
   "cell_type": "code",
   "execution_count": 1,
   "metadata": {},
   "outputs": [],
   "source": [
    "import pandas as pd"
   ]
  },
  {
   "cell_type": "code",
   "execution_count": 2,
   "metadata": {},
   "outputs": [],
   "source": [
    "mitula = pd.read_csv(\"dataset/mitula_dataset.csv\")"
   ]
  },
  {
   "cell_type": "code",
   "execution_count": 3,
   "metadata": {},
   "outputs": [
    {
     "data": {
      "text/html": [
       "<div>\n",
       "<style scoped>\n",
       "    .dataframe tbody tr th:only-of-type {\n",
       "        vertical-align: middle;\n",
       "    }\n",
       "\n",
       "    .dataframe tbody tr th {\n",
       "        vertical-align: top;\n",
       "    }\n",
       "\n",
       "    .dataframe thead th {\n",
       "        text-align: right;\n",
       "    }\n",
       "</style>\n",
       "<table border=\"1\" class=\"dataframe\">\n",
       "  <thead>\n",
       "    <tr style=\"text-align: right;\">\n",
       "      <th></th>\n",
       "      <th>id</th>\n",
       "      <th>title</th>\n",
       "      <th>price</th>\n",
       "      <th>location</th>\n",
       "      <th>property_type</th>\n",
       "      <th>operation_type</th>\n",
       "      <th>plot_area</th>\n",
       "      <th>year</th>\n",
       "      <th>description</th>\n",
       "      <th>image_urls</th>\n",
       "      <th>bed</th>\n",
       "      <th>bath</th>\n",
       "      <th>area</th>\n",
       "      <th>facilities</th>\n",
       "      <th>location_address</th>\n",
       "      <th>nearby_locations</th>\n",
       "      <th>property_url</th>\n",
       "    </tr>\n",
       "  </thead>\n",
       "  <tbody>\n",
       "    <tr>\n",
       "      <th>0</th>\n",
       "      <td>1</td>\n",
       "      <td>VENTA DE TERRENOS EN CONDOMINIO MONTECARLO - M...</td>\n",
       "      <td>S/.58,000</td>\n",
       "      <td>Mollendo, Islay, Arequipa</td>\n",
       "      <td>Condominio</td>\n",
       "      <td>Compra</td>\n",
       "      <td>NaN</td>\n",
       "      <td>NaN</td>\n",
       "      <td>🏖️CONDOMINIO MONTECARLO - MOLLENDO🏖️\\n\\nSe ubi...</td>\n",
       "      <td>https://img.mitula.com/eyJidWNrZXQiOiJwcmQtbGl...</td>\n",
       "      <td>NaN</td>\n",
       "      <td>NaN</td>\n",
       "      <td>100 m²</td>\n",
       "      <td>{Estacionamiento,Terraza,Seguridad,Piscina,Jar...</td>\n",
       "      <td>Mollendo, Islay, Arequipa, PER</td>\n",
       "      <td>{\"El mar\",\"Avenidas principales\"}</td>\n",
       "      <td>https://casas.mitula.pe/adform/24301-256-4cfd-...</td>\n",
       "    </tr>\n",
       "    <tr>\n",
       "      <th>1</th>\n",
       "      <td>2</td>\n",
       "      <td>Antigua Panamericana Norte Km. 1039 - 1040 - V...</td>\n",
       "      <td>USD220,000</td>\n",
       "      <td>Sullana, Piura</td>\n",
       "      <td>Terreno</td>\n",
       "      <td>Compra</td>\n",
       "      <td>7,500 m²</td>\n",
       "      <td>NaN</td>\n",
       "      <td>MantyObras Inmobiliaria tiene a la venta un Te...</td>\n",
       "      <td>https://img.mitula.com/eyJidWNrZXQiOiJwcmQtbGl...</td>\n",
       "      <td>NaN</td>\n",
       "      <td>NaN</td>\n",
       "      <td>NaN</td>\n",
       "      <td>{}</td>\n",
       "      <td>Sullana, Perú</td>\n",
       "      <td>{\"Avenidas principales\"}</td>\n",
       "      <td>https://casas.mitula.pe/adform/24301-256-4761-...</td>\n",
       "    </tr>\n",
       "    <tr>\n",
       "      <th>2</th>\n",
       "      <td>3</td>\n",
       "      <td>Duplex en Margalena Limite con San Isidro</td>\n",
       "      <td>USD190,000</td>\n",
       "      <td>Sd. S/N, Magdalena del Mar, Lima, Lima</td>\n",
       "      <td>Apartamento</td>\n",
       "      <td>Compra</td>\n",
       "      <td>NaN</td>\n",
       "      <td>2013.0</td>\n",
       "      <td>Se vende duplex de 2 dormitorios, ubicado a la...</td>\n",
       "      <td>https://img.mitula.com/eyJidWNrZXQiOiJwcmQtbGl...</td>\n",
       "      <td>2 dormitorios</td>\n",
       "      <td>2 baños</td>\n",
       "      <td>102 m²</td>\n",
       "      <td>{Estacionamiento,\"Sin amoblar\"}</td>\n",
       "      <td>Comandante Jiménez 188, Magdalena del Mar, Perú</td>\n",
       "      <td>{}</td>\n",
       "      <td>https://casas.mitula.pe/adform/24301-256-4976-...</td>\n",
       "    </tr>\n",
       "    <tr>\n",
       "      <th>3</th>\n",
       "      <td>4</td>\n",
       "      <td>Se Vende Como Terreno en Ate Vitarte</td>\n",
       "      <td>USD124,000</td>\n",
       "      <td>Cp. Vitarte Central, Ate, Lima, Lima</td>\n",
       "      <td>Terreno</td>\n",
       "      <td>Compra</td>\n",
       "      <td>155 m²</td>\n",
       "      <td>NaN</td>\n",
       "      <td>EXCELENTE OPORTUNIDAD - SE VENDE PROPIEDAD A P...</td>\n",
       "      <td>https://img.mitula.com/eyJidWNrZXQiOiJwcmQtbGl...</td>\n",
       "      <td>NaN</td>\n",
       "      <td>NaN</td>\n",
       "      <td>NaN</td>\n",
       "      <td>{Agua,Electricidad}</td>\n",
       "      <td>Calle Santa María, Ate, Perú</td>\n",
       "      <td>{\"Avenidas principales\",\"Centros comerciales\",...</td>\n",
       "      <td>https://casas.mitula.pe/adform/24301-256-4b74-...</td>\n",
       "    </tr>\n",
       "    <tr>\n",
       "      <th>4</th>\n",
       "      <td>5</td>\n",
       "      <td>TERRENO AGRICOLA EN EL VALLE SAGRADO DE CUSCO ...</td>\n",
       "      <td>USD540,000</td>\n",
       "      <td>C.p Calca, Calca, Cuzco</td>\n",
       "      <td>Casa</td>\n",
       "      <td>Compra</td>\n",
       "      <td>NaN</td>\n",
       "      <td>NaN</td>\n",
       "      <td>OPORTUNIDAD DE INVERSION, EN EL MARAVILLOSO VA...</td>\n",
       "      <td>https://img.mitula.com/eyJidWNrZXQiOiJwcmQtbGl...</td>\n",
       "      <td>NaN</td>\n",
       "      <td>NaN</td>\n",
       "      <td>4,500 m²</td>\n",
       "      <td>{}</td>\n",
       "      <td>Cuzco, Calca, C.p Calca</td>\n",
       "      <td>{}</td>\n",
       "      <td>https://casas.mitula.pe/adform/24301-256-3cfb-...</td>\n",
       "    </tr>\n",
       "  </tbody>\n",
       "</table>\n",
       "</div>"
      ],
      "text/plain": [
       "   id                                              title       price  \\\n",
       "0   1  VENTA DE TERRENOS EN CONDOMINIO MONTECARLO - M...   S/.58,000   \n",
       "1   2  Antigua Panamericana Norte Km. 1039 - 1040 - V...  USD220,000   \n",
       "2   3          Duplex en Margalena Limite con San Isidro  USD190,000   \n",
       "3   4               Se Vende Como Terreno en Ate Vitarte  USD124,000   \n",
       "4   5  TERRENO AGRICOLA EN EL VALLE SAGRADO DE CUSCO ...  USD540,000   \n",
       "\n",
       "                                  location property_type operation_type  \\\n",
       "0               Mollendo, Islay, Arequipa     Condominio         Compra   \n",
       "1                          Sullana, Piura        Terreno         Compra   \n",
       "2  Sd. S/N, Magdalena del Mar, Lima, Lima    Apartamento         Compra   \n",
       "3    Cp. Vitarte Central, Ate, Lima, Lima        Terreno         Compra   \n",
       "4                 C.p Calca, Calca, Cuzco           Casa         Compra   \n",
       "\n",
       "  plot_area    year                                        description  \\\n",
       "0       NaN     NaN  🏖️CONDOMINIO MONTECARLO - MOLLENDO🏖️\\n\\nSe ubi...   \n",
       "1  7,500 m²     NaN  MantyObras Inmobiliaria tiene a la venta un Te...   \n",
       "2       NaN  2013.0  Se vende duplex de 2 dormitorios, ubicado a la...   \n",
       "3    155 m²     NaN  EXCELENTE OPORTUNIDAD - SE VENDE PROPIEDAD A P...   \n",
       "4       NaN     NaN  OPORTUNIDAD DE INVERSION, EN EL MARAVILLOSO VA...   \n",
       "\n",
       "                                          image_urls            bed     bath  \\\n",
       "0  https://img.mitula.com/eyJidWNrZXQiOiJwcmQtbGl...            NaN      NaN   \n",
       "1  https://img.mitula.com/eyJidWNrZXQiOiJwcmQtbGl...            NaN      NaN   \n",
       "2  https://img.mitula.com/eyJidWNrZXQiOiJwcmQtbGl...  2 dormitorios  2 baños   \n",
       "3  https://img.mitula.com/eyJidWNrZXQiOiJwcmQtbGl...            NaN      NaN   \n",
       "4  https://img.mitula.com/eyJidWNrZXQiOiJwcmQtbGl...            NaN      NaN   \n",
       "\n",
       "       area                                         facilities  \\\n",
       "0    100 m²  {Estacionamiento,Terraza,Seguridad,Piscina,Jar...   \n",
       "1       NaN                                                 {}   \n",
       "2    102 m²                    {Estacionamiento,\"Sin amoblar\"}   \n",
       "3       NaN                                {Agua,Electricidad}   \n",
       "4  4,500 m²                                                 {}   \n",
       "\n",
       "                                  location_address  \\\n",
       "0                   Mollendo, Islay, Arequipa, PER   \n",
       "1                                    Sullana, Perú   \n",
       "2  Comandante Jiménez 188, Magdalena del Mar, Perú   \n",
       "3                     Calle Santa María, Ate, Perú   \n",
       "4                          Cuzco, Calca, C.p Calca   \n",
       "\n",
       "                                    nearby_locations  \\\n",
       "0                  {\"El mar\",\"Avenidas principales\"}   \n",
       "1                           {\"Avenidas principales\"}   \n",
       "2                                                 {}   \n",
       "3  {\"Avenidas principales\",\"Centros comerciales\",...   \n",
       "4                                                 {}   \n",
       "\n",
       "                                        property_url  \n",
       "0  https://casas.mitula.pe/adform/24301-256-4cfd-...  \n",
       "1  https://casas.mitula.pe/adform/24301-256-4761-...  \n",
       "2  https://casas.mitula.pe/adform/24301-256-4976-...  \n",
       "3  https://casas.mitula.pe/adform/24301-256-4b74-...  \n",
       "4  https://casas.mitula.pe/adform/24301-256-3cfb-...  "
      ]
     },
     "execution_count": 3,
     "metadata": {},
     "output_type": "execute_result"
    }
   ],
   "source": [
    "mitula.head()"
   ]
  },
  {
   "cell_type": "code",
   "execution_count": 4,
   "metadata": {},
   "outputs": [],
   "source": [
    "mitula_2 = mitula.drop(columns=['id', 'title', 'image_urls', 'property_url' ])"
   ]
  },
  {
   "cell_type": "code",
   "execution_count": 5,
   "metadata": {},
   "outputs": [],
   "source": [
    "#from pandas_profiling import ProfileReport\n",
    "#prof = ProfileReport(mitula_3)\n",
    "#prof.to_file(output_file='mitula.html')"
   ]
  },
  {
   "cell_type": "code",
   "execution_count": 6,
   "metadata": {},
   "outputs": [
    {
     "name": "stdout",
     "output_type": "stream",
     "text": [
      "<class 'pandas.core.frame.DataFrame'>\n",
      "RangeIndex: 11586 entries, 0 to 11585\n",
      "Data columns (total 13 columns):\n",
      " #   Column            Non-Null Count  Dtype  \n",
      "---  ------            --------------  -----  \n",
      " 0   price             11586 non-null  object \n",
      " 1   location          11586 non-null  object \n",
      " 2   property_type     11586 non-null  object \n",
      " 3   operation_type    11586 non-null  object \n",
      " 4   plot_area         2889 non-null   object \n",
      " 5   year              5814 non-null   float64\n",
      " 6   description       11586 non-null  object \n",
      " 7   bed               7390 non-null   object \n",
      " 8   bath              8217 non-null   object \n",
      " 9   area              8180 non-null   object \n",
      " 10  facilities        11586 non-null  object \n",
      " 11  location_address  11586 non-null  object \n",
      " 12  nearby_locations  11586 non-null  object \n",
      "dtypes: float64(1), object(12)\n",
      "memory usage: 1.1+ MB\n"
     ]
    }
   ],
   "source": [
    "mitula_2.info()"
   ]
  },
  {
   "cell_type": "markdown",
   "metadata": {},
   "source": [
    "Drop duplicates"
   ]
  },
  {
   "cell_type": "code",
   "execution_count": 7,
   "metadata": {},
   "outputs": [],
   "source": [
    "mitula_2.drop_duplicates(inplace= True)"
   ]
  },
  {
   "cell_type": "markdown",
   "metadata": {},
   "source": [
    "### property_type: \n",
    "Leave only \"Casa\", \"Apartamento\", \"Condominio\", \"Townhouse\", \"Casa de playa\", \"Habitación\","
   ]
  },
  {
   "cell_type": "code",
   "execution_count": 8,
   "metadata": {},
   "outputs": [
    {
     "data": {
      "text/plain": [
       "array(['Condominio', 'Terreno', 'Apartamento', 'Casa', 'Villa',\n",
       "       'Local Comercial', 'Almacén', 'Cochera', 'Casa de playa',\n",
       "       'Oficina', 'Habitación', 'Townhouse'], dtype=object)"
      ]
     },
     "execution_count": 8,
     "metadata": {},
     "output_type": "execute_result"
    }
   ],
   "source": [
    "mitula[\"property_type\"].unique()"
   ]
  },
  {
   "cell_type": "code",
   "execution_count": 9,
   "metadata": {},
   "outputs": [],
   "source": [
    "mitula_2 = mitula_2[(mitula_2['property_type'] == \"Apartamento\") | \n",
    "                    (mitula_2['property_type'] == \"Casa\") | \n",
    "                    (mitula_2['property_type'] == \"Condominio\") |\n",
    "                    (mitula_2['property_type'] == \"Townhouse\") | \n",
    "                    (mitula_2['property_type'] == \"Casa de playa\") | \n",
    "                    (mitula_2['property_type'] == \"Habitación\")]"
   ]
  },
  {
   "cell_type": "markdown",
   "metadata": {},
   "source": [
    "### price: \n",
    "Take out \"Consultar\", clean data and convert S/ to USD"
   ]
  },
  {
   "cell_type": "code",
   "execution_count": 10,
   "metadata": {},
   "outputs": [],
   "source": [
    "mitula_2 = mitula_2[mitula_2[\"price\"] != \"Consultar\"]"
   ]
  },
  {
   "cell_type": "code",
   "execution_count": 11,
   "metadata": {},
   "outputs": [],
   "source": [
    "mitula_2[\"price_USD\"] = mitula_2[\"price\"]"
   ]
  },
  {
   "cell_type": "code",
   "execution_count": 12,
   "metadata": {},
   "outputs": [],
   "source": [
    "mitula_2[\"price_USD\"] = mitula_2[\"price_USD\"].str.replace(\"USD\",\"\")\n",
    "mitula_2[\"price_USD\"] = mitula_2[\"price_USD\"].str.replace(\",\",\"\")"
   ]
  },
  {
   "cell_type": "code",
   "execution_count": 13,
   "metadata": {},
   "outputs": [],
   "source": [
    "# Definir una función para realizar la conversión\n",
    "def convert_to_usd(value):\n",
    "    if isinstance(value, str) and value.startswith('S/.'):\n",
    "        value = float(value.replace('S/.', '').replace(',', '')) / 3.7\n",
    "        value= round(value)\n",
    "    return value\n",
    "\n",
    "# Aplicar la función a la columna price_USD\n",
    "mitula_2[\"price_USD\"] = mitula_2[\"price_USD\"].apply(lambda x: convert_to_usd(x))\n"
   ]
  },
  {
   "cell_type": "code",
   "execution_count": 14,
   "metadata": {},
   "outputs": [],
   "source": [
    "mitula_2[\"price_USD\"] = mitula_2[\"price_USD\"].astype(int)"
   ]
  },
  {
   "cell_type": "markdown",
   "metadata": {},
   "source": [
    "### operation_type:\n",
    "Leave only \"compra\""
   ]
  },
  {
   "cell_type": "code",
   "execution_count": 15,
   "metadata": {},
   "outputs": [
    {
     "data": {
      "text/plain": [
       "array(['Compra', 'Alquiler'], dtype=object)"
      ]
     },
     "execution_count": 15,
     "metadata": {},
     "output_type": "execute_result"
    }
   ],
   "source": [
    "mitula_2[\"operation_type\"].unique()"
   ]
  },
  {
   "cell_type": "code",
   "execution_count": 16,
   "metadata": {},
   "outputs": [],
   "source": [
    "mitula_2 = mitula_2[mitula_2[\"operation_type\"] == \"Compra\"]"
   ]
  },
  {
   "cell_type": "markdown",
   "metadata": {},
   "source": [
    "### plot_area and area: \n",
    "Make a combined variable"
   ]
  },
  {
   "cell_type": "code",
   "execution_count": 17,
   "metadata": {},
   "outputs": [],
   "source": [
    "# Eliminar el m2 de las variables\n",
    "mitula_2['plot_area'] = mitula_2['plot_area'].str.replace(\" m²\",\"\")\n",
    "mitula_2['area'] = mitula_2['area'].str.replace(\" m²\",\"\")"
   ]
  },
  {
   "cell_type": "code",
   "execution_count": 18,
   "metadata": {},
   "outputs": [],
   "source": [
    "def combine_columns(row):\n",
    "    if not pd.isna(row['plot_area']) and not pd.isna(row['area']):\n",
    "        if row['plot_area'] == row['plot_area']:\n",
    "            return row['plot_area']\n",
    "        else: \n",
    "            return \"Revisar\"\n",
    "    elif not pd.isna(row['plot_area']):\n",
    "        # Si solo plot_area tiene datos, toma su valor\n",
    "        return row['plot_area']\n",
    "    elif not pd.isna(row['area']):\n",
    "        # Si solo area tiene datos, toma su valor\n",
    "        return row['area']\n",
    "    else:\n",
    "        # Si ambas columnas están vacías, puedes manejarlo como desees\n",
    "        return None  # En este ejemplo, dejamos el resultado como NaN\n",
    "\n",
    "# Aplicar la función para combinar las columnas y crear una nueva columna llamada 'combined'\n",
    "mitula_2['area_combined'] = mitula_2.apply(combine_columns, axis=1)"
   ]
  },
  {
   "cell_type": "code",
   "execution_count": 19,
   "metadata": {},
   "outputs": [],
   "source": [
    "mitula_2['area_combined'] = mitula_2['area_combined'].str.replace(\",\",\"\")"
   ]
  },
  {
   "cell_type": "code",
   "execution_count": 20,
   "metadata": {},
   "outputs": [
    {
     "data": {
      "text/html": [
       "<div>\n",
       "<style scoped>\n",
       "    .dataframe tbody tr th:only-of-type {\n",
       "        vertical-align: middle;\n",
       "    }\n",
       "\n",
       "    .dataframe tbody tr th {\n",
       "        vertical-align: top;\n",
       "    }\n",
       "\n",
       "    .dataframe thead th {\n",
       "        text-align: right;\n",
       "    }\n",
       "</style>\n",
       "<table border=\"1\" class=\"dataframe\">\n",
       "  <thead>\n",
       "    <tr style=\"text-align: right;\">\n",
       "      <th></th>\n",
       "      <th>price</th>\n",
       "      <th>location</th>\n",
       "      <th>property_type</th>\n",
       "      <th>operation_type</th>\n",
       "      <th>plot_area</th>\n",
       "      <th>year</th>\n",
       "      <th>description</th>\n",
       "      <th>bed</th>\n",
       "      <th>bath</th>\n",
       "      <th>area</th>\n",
       "      <th>facilities</th>\n",
       "      <th>location_address</th>\n",
       "      <th>nearby_locations</th>\n",
       "      <th>price_USD</th>\n",
       "      <th>area_combined</th>\n",
       "    </tr>\n",
       "  </thead>\n",
       "  <tbody>\n",
       "  </tbody>\n",
       "</table>\n",
       "</div>"
      ],
      "text/plain": [
       "Empty DataFrame\n",
       "Columns: [price, location, property_type, operation_type, plot_area, year, description, bed, bath, area, facilities, location_address, nearby_locations, price_USD, area_combined]\n",
       "Index: []"
      ]
     },
     "execution_count": 20,
     "metadata": {},
     "output_type": "execute_result"
    }
   ],
   "source": [
    "#Chequeo que no me quede ningun dato por revisar\n",
    "mitula_2[mitula_2['area_combined']== \"Revisar\"]"
   ]
  },
  {
   "cell_type": "code",
   "execution_count": 21,
   "metadata": {},
   "outputs": [
    {
     "data": {
      "text/plain": [
       "513"
      ]
     },
     "execution_count": 21,
     "metadata": {},
     "output_type": "execute_result"
    }
   ],
   "source": [
    "mitula_2['area_combined'].isnull().sum()"
   ]
  },
  {
   "cell_type": "code",
   "execution_count": 22,
   "metadata": {},
   "outputs": [],
   "source": [
    "#Elimino registros que tengan nulo el area\n",
    "mitula_2.dropna(subset= ['area_combined'], inplace= True)"
   ]
  },
  {
   "cell_type": "code",
   "execution_count": 23,
   "metadata": {},
   "outputs": [],
   "source": [
    "# Convierto el tipo de dato a int\n",
    "mitula_2['area_combined'] = mitula_2['area_combined'].astype(int)"
   ]
  },
  {
   "cell_type": "markdown",
   "metadata": {},
   "source": [
    "### bed:\n",
    "Change column name and delete de word \"dormitorios\""
   ]
  },
  {
   "cell_type": "code",
   "execution_count": 24,
   "metadata": {},
   "outputs": [
    {
     "data": {
      "text/plain": [
       "array([nan, '2 dormitorios', '3 dormitorios', '5 dormitorios',\n",
       "       '4 dormitorios', '1 dormitorio', '15 dormitorios',\n",
       "       '32 dormitorios', '14 dormitorios', '6 dormitorios',\n",
       "       '7 dormitorios', '8 dormitorios', '10 dormitorios',\n",
       "       '9 dormitorios', '13 dormitorios', '16 dormitorios',\n",
       "       '24 dormitorios', '25 dormitorios', '19 dormitorios',\n",
       "       '11 dormitorios', '20 dormitorios', '18 dormitorios',\n",
       "       '12 dormitorios', '30 dormitorios', '28 dormitorios',\n",
       "       '40 dormitorios', '17 dormitorios', '31 dormitorios',\n",
       "       '22 dormitorios'], dtype=object)"
      ]
     },
     "execution_count": 24,
     "metadata": {},
     "output_type": "execute_result"
    }
   ],
   "source": [
    "mitula_2[\"bed\"].unique()"
   ]
  },
  {
   "cell_type": "code",
   "execution_count": 25,
   "metadata": {},
   "outputs": [],
   "source": [
    "mitula_2[\"bed\"] = mitula_2[\"bed\"].str.replace(\" dormitorios\", \"\").str.replace(\" dormitorio\", \"\")"
   ]
  },
  {
   "cell_type": "code",
   "execution_count": 26,
   "metadata": {},
   "outputs": [
    {
     "data": {
      "text/plain": [
       "136"
      ]
     },
     "execution_count": 26,
     "metadata": {},
     "output_type": "execute_result"
    }
   ],
   "source": [
    "mitula_2['bed'].isnull().sum()"
   ]
  },
  {
   "cell_type": "code",
   "execution_count": 27,
   "metadata": {},
   "outputs": [],
   "source": [
    "# Delete rows that have null in \"bed\"\n",
    "mitula_2.dropna(subset= ['bed'], inplace= True)"
   ]
  },
  {
   "cell_type": "code",
   "execution_count": 28,
   "metadata": {},
   "outputs": [],
   "source": [
    "# Change the name of the column\n",
    "mitula_2.rename(columns = {\"bed\": \"rooms\"}, inplace= True)"
   ]
  },
  {
   "cell_type": "markdown",
   "metadata": {},
   "source": [
    "### bath:\n",
    "Change column name and delete de word \"baños\""
   ]
  },
  {
   "cell_type": "code",
   "execution_count": 29,
   "metadata": {},
   "outputs": [
    {
     "data": {
      "text/plain": [
       "array(['2 baños', '3 baños', '4 baños', '1 Medio baño', '1 baño',\n",
       "       '17 baños', '33 baños', '5 baños', '7 baños', '8 baños', nan,\n",
       "       '6 baños', '2 Medios baños', '9 baños', '15 baños',\n",
       "       '3 Medios baños', '10 baños', '24 baños', '12 baños', '27 baños',\n",
       "       '22 baños', '11 baños', '25 baños', '35 baños', '230 baños',\n",
       "       '20 baños', '28 baños', '14 baños', '34 baños', '13 baños',\n",
       "       '5 Medios baños'], dtype=object)"
      ]
     },
     "execution_count": 29,
     "metadata": {},
     "output_type": "execute_result"
    }
   ],
   "source": [
    "mitula_2[\"bath\"].unique()"
   ]
  },
  {
   "cell_type": "code",
   "execution_count": 30,
   "metadata": {},
   "outputs": [],
   "source": [
    "# Delete rows that have null in \"bed\"\n",
    "mitula_2.dropna(subset= ['bath'], inplace= True)"
   ]
  },
  {
   "cell_type": "code",
   "execution_count": 31,
   "metadata": {},
   "outputs": [],
   "source": [
    "mitula_2[\"bath\"] = mitula_2[\"bath\"].str.replace(\" baños\", \"\").str.replace(\" baño\", \"\")"
   ]
  },
  {
   "cell_type": "code",
   "execution_count": 32,
   "metadata": {},
   "outputs": [],
   "source": [
    "mitula_2[\"half_baths\"] = None\n",
    "\n",
    "# Itera a través de las filas del DataFrame\n",
    "for index, row in mitula_2.iterrows():\n",
    "    bath_column = row[\"bath\"]\n",
    "    \n",
    "    # Verifica si \"Medios\" o \"Medio\" está presente en la columna \"bath\"\n",
    "    if \"Medios\" in bath_column or \"Medio\" in bath_column:\n",
    "        # Encuentra el número en la cadena\n",
    "        words = bath_column.split()\n",
    "        for word in words:\n",
    "            if word.isdigit():\n",
    "                half_baths = int(word)\n",
    "                # Asigna el número a la columna \"half_baths\" en la misma fila\n",
    "                mitula_2.at[index, \"half_baths\"] = half_baths\n",
    "                # Actualiza la columna \"bath\" con 0\n",
    "                mitula_2.at[index, \"bath\"] = 0\n",
    "\n",
    "# Ahora, df contendrá una nueva columna \"half_baths\" con el número de medios baños en las filas correspondientes."
   ]
  },
  {
   "cell_type": "code",
   "execution_count": 33,
   "metadata": {},
   "outputs": [],
   "source": [
    "mitula_2[\"half_baths\"] = mitula_2[\"half_baths\"].fillna(\"0\")"
   ]
  },
  {
   "cell_type": "code",
   "execution_count": 34,
   "metadata": {},
   "outputs": [],
   "source": [
    "# Change the name of the column\n",
    "mitula_2.rename(columns = {\"bath\": \"baths\"}, inplace= True)"
   ]
  },
  {
   "cell_type": "markdown",
   "metadata": {},
   "source": [
    "### year:"
   ]
  },
  {
   "cell_type": "code",
   "execution_count": 35,
   "metadata": {},
   "outputs": [],
   "source": [
    "for index, row in mitula_2.iterrows():\n",
    "    if not pd.isna(row[\"year\"]):\n",
    "        mitula_2.at[index, \"year\"] = int(row[\"year\"])\n",
    "    else:\n",
    "        pass"
   ]
  },
  {
   "cell_type": "code",
   "execution_count": 36,
   "metadata": {},
   "outputs": [
    {
     "data": {
      "text/plain": [
       "2        2013.0\n",
       "5        2009.0\n",
       "6           NaN\n",
       "9        1987.0\n",
       "10          NaN\n",
       "          ...  \n",
       "11574    2022.0\n",
       "11575    2020.0\n",
       "11577    2020.0\n",
       "11579    2021.0\n",
       "11581    2021.0\n",
       "Name: year, Length: 4936, dtype: float64"
      ]
     },
     "execution_count": 36,
     "metadata": {},
     "output_type": "execute_result"
    }
   ],
   "source": [
    "mitula_2[\"year\"]"
   ]
  },
  {
   "cell_type": "code",
   "execution_count": 60,
   "metadata": {},
   "outputs": [
    {
     "data": {
      "text/html": [
       "<div>\n",
       "<style scoped>\n",
       "    .dataframe tbody tr th:only-of-type {\n",
       "        vertical-align: middle;\n",
       "    }\n",
       "\n",
       "    .dataframe tbody tr th {\n",
       "        vertical-align: top;\n",
       "    }\n",
       "\n",
       "    .dataframe thead th {\n",
       "        text-align: right;\n",
       "    }\n",
       "</style>\n",
       "<table border=\"1\" class=\"dataframe\">\n",
       "  <thead>\n",
       "    <tr style=\"text-align: right;\">\n",
       "      <th></th>\n",
       "      <th>price</th>\n",
       "      <th>location</th>\n",
       "      <th>property_type</th>\n",
       "      <th>operation_type</th>\n",
       "      <th>plot_area</th>\n",
       "      <th>year</th>\n",
       "      <th>description</th>\n",
       "      <th>rooms</th>\n",
       "      <th>baths</th>\n",
       "      <th>area</th>\n",
       "      <th>facilities</th>\n",
       "      <th>location_address</th>\n",
       "      <th>nearby_locations</th>\n",
       "      <th>price_USD</th>\n",
       "      <th>area_combined</th>\n",
       "      <th>half_baths</th>\n",
       "      <th>processed_locations</th>\n",
       "    </tr>\n",
       "  </thead>\n",
       "  <tbody>\n",
       "    <tr>\n",
       "      <th>6</th>\n",
       "      <td>USD170,000</td>\n",
       "      <td>Ur. Los Conquistadores, Carmen de la Legua Rey...</td>\n",
       "      <td>Casa</td>\n",
       "      <td>Compra</td>\n",
       "      <td>NaN</td>\n",
       "      <td>NaN</td>\n",
       "      <td>Casa ubicada cerca a la zona comercial del dis...</td>\n",
       "      <td>5</td>\n",
       "      <td>3</td>\n",
       "      <td>100</td>\n",
       "      <td>[Estacionamiento, Balcón, Internet]</td>\n",
       "      <td>Calle Gardenias 100-198, Cuadra 1, Ur. Los Con...</td>\n",
       "      <td>{}</td>\n",
       "      <td>170000</td>\n",
       "      <td>100</td>\n",
       "      <td>0</td>\n",
       "      <td>[]</td>\n",
       "    </tr>\n",
       "    <tr>\n",
       "      <th>10</th>\n",
       "      <td>USD155,000</td>\n",
       "      <td>Miraflores Country Club, Miraflores, Piura, Pi...</td>\n",
       "      <td>Casa</td>\n",
       "      <td>Compra</td>\n",
       "      <td>NaN</td>\n",
       "      <td>NaN</td>\n",
       "      <td>🏡✨VENTA DE BONITA CASA EN MIRAFLORES COUNTRY C...</td>\n",
       "      <td>3</td>\n",
       "      <td>3</td>\n",
       "      <td>114</td>\n",
       "      <td>[Estacionamiento, Cocina equipada, Cuarto de s...</td>\n",
       "      <td>Miraflores Country Club, Piura, Perú</td>\n",
       "      <td>{Parques}</td>\n",
       "      <td>155000</td>\n",
       "      <td>114</td>\n",
       "      <td>0</td>\n",
       "      <td>[Parques]</td>\n",
       "    </tr>\n",
       "    <tr>\n",
       "      <th>14</th>\n",
       "      <td>USD680,000</td>\n",
       "      <td>Musa, La Molina, Provincia de Lima, Gobierno R...</td>\n",
       "      <td>Casa</td>\n",
       "      <td>Compra</td>\n",
       "      <td>NaN</td>\n",
       "      <td>NaN</td>\n",
       "      <td>Se Vende hermosa casa moderna con PISCINA en U...</td>\n",
       "      <td>3</td>\n",
       "      <td>4</td>\n",
       "      <td>476</td>\n",
       "      <td>[]</td>\n",
       "      <td>Urb rinconada, La Molina, Lima, Lima, Peru</td>\n",
       "      <td>{}</td>\n",
       "      <td>680000</td>\n",
       "      <td>476</td>\n",
       "      <td>0</td>\n",
       "      <td>[]</td>\n",
       "    </tr>\n",
       "    <tr>\n",
       "      <th>39</th>\n",
       "      <td>USD1,050,000</td>\n",
       "      <td>Morales, San Martín, San Martín</td>\n",
       "      <td>Casa</td>\n",
       "      <td>Compra</td>\n",
       "      <td>NaN</td>\n",
       "      <td>NaN</td>\n",
       "      <td>Casa ubicada en  Jr Moyobamba cuadra 2.\\nA 1 c...</td>\n",
       "      <td>15</td>\n",
       "      <td>17</td>\n",
       "      <td>700</td>\n",
       "      <td>[]</td>\n",
       "      <td>Jr. Moyobamba, Tarapoto, Perú</td>\n",
       "      <td>{}</td>\n",
       "      <td>1050000</td>\n",
       "      <td>700</td>\n",
       "      <td>0</td>\n",
       "      <td>[]</td>\n",
       "    </tr>\n",
       "    <tr>\n",
       "      <th>42</th>\n",
       "      <td>USD99,000</td>\n",
       "      <td>Villa El Salvador, Lima, Lima</td>\n",
       "      <td>Casa</td>\n",
       "      <td>Compra</td>\n",
       "      <td>NaN</td>\n",
       "      <td>NaN</td>\n",
       "      <td>Se vende casa ubicada en la Urbanizaciòn Pacha...</td>\n",
       "      <td>3</td>\n",
       "      <td>3</td>\n",
       "      <td>166</td>\n",
       "      <td>[]</td>\n",
       "      <td>Lima, Lima, Villa El Salvador</td>\n",
       "      <td>{}</td>\n",
       "      <td>99000</td>\n",
       "      <td>166</td>\n",
       "      <td>0</td>\n",
       "      <td>[]</td>\n",
       "    </tr>\n",
       "    <tr>\n",
       "      <th>...</th>\n",
       "      <td>...</td>\n",
       "      <td>...</td>\n",
       "      <td>...</td>\n",
       "      <td>...</td>\n",
       "      <td>...</td>\n",
       "      <td>...</td>\n",
       "      <td>...</td>\n",
       "      <td>...</td>\n",
       "      <td>...</td>\n",
       "      <td>...</td>\n",
       "      <td>...</td>\n",
       "      <td>...</td>\n",
       "      <td>...</td>\n",
       "      <td>...</td>\n",
       "      <td>...</td>\n",
       "      <td>...</td>\n",
       "      <td>...</td>\n",
       "    </tr>\n",
       "    <tr>\n",
       "      <th>11498</th>\n",
       "      <td>USD130,000</td>\n",
       "      <td>Cayma, Arequipa, Arequipa</td>\n",
       "      <td>Apartamento</td>\n",
       "      <td>Compra</td>\n",
       "      <td>110</td>\n",
       "      <td>NaN</td>\n",
       "      <td>ACOJEDOR DEPARTAMENTO EN VENTA EN CAYMA\\n\\n \\n...</td>\n",
       "      <td>3</td>\n",
       "      <td>3</td>\n",
       "      <td>NaN</td>\n",
       "      <td>[Estacionamiento, Cocina equipada, Balcón, Arm...</td>\n",
       "      <td>Arequipa, Arequipa, Cayma</td>\n",
       "      <td>{Parques}</td>\n",
       "      <td>130000</td>\n",
       "      <td>110</td>\n",
       "      <td>0</td>\n",
       "      <td>[Parques]</td>\n",
       "    </tr>\n",
       "    <tr>\n",
       "      <th>11500</th>\n",
       "      <td>USD195,000</td>\n",
       "      <td>Ur. Los Andenes, Cayma, Arequipa, Arequipa</td>\n",
       "      <td>Apartamento</td>\n",
       "      <td>Compra</td>\n",
       "      <td>151</td>\n",
       "      <td>NaN</td>\n",
       "      <td>DEPARTAMENTOS EN PREVENTA EN CAYMA\\n\\nEN URB. ...</td>\n",
       "      <td>3</td>\n",
       "      <td>2</td>\n",
       "      <td>151</td>\n",
       "      <td>[Estacionamiento, Vista panorámica, Armario em...</td>\n",
       "      <td>Arequipa, Arequipa, Cayma</td>\n",
       "      <td>{Parques}</td>\n",
       "      <td>195000</td>\n",
       "      <td>151</td>\n",
       "      <td>0</td>\n",
       "      <td>[Parques]</td>\n",
       "    </tr>\n",
       "    <tr>\n",
       "      <th>11508</th>\n",
       "      <td>USD990,000</td>\n",
       "      <td>Ag. Inmaculada, Cayma, Arequipa, Arequipa</td>\n",
       "      <td>Apartamento</td>\n",
       "      <td>Compra</td>\n",
       "      <td>900</td>\n",
       "      <td>NaN</td>\n",
       "      <td>ESPECTACULAR PENT HOUSE DE LUJO EN CAYMA\\n\\nHe...</td>\n",
       "      <td>6</td>\n",
       "      <td>5</td>\n",
       "      <td>900</td>\n",
       "      <td>[Estacionamiento, Balcón, Jacuzzi, Cuarto de s...</td>\n",
       "      <td>Arequipa, Arequipa, Cayma</td>\n",
       "      <td>{Parques}</td>\n",
       "      <td>990000</td>\n",
       "      <td>900</td>\n",
       "      <td>0</td>\n",
       "      <td>[Parques]</td>\n",
       "    </tr>\n",
       "    <tr>\n",
       "      <th>11571</th>\n",
       "      <td>USD120,000</td>\n",
       "      <td>Urb los Altitos, Arequipa, Arequipa</td>\n",
       "      <td>Apartamento</td>\n",
       "      <td>Compra</td>\n",
       "      <td>113</td>\n",
       "      <td>NaN</td>\n",
       "      <td>¡¡¡ VENTA !!! DEPARTAMENTO EN CALLE TRONCHADER...</td>\n",
       "      <td>3</td>\n",
       "      <td>4</td>\n",
       "      <td>113</td>\n",
       "      <td>[Cuarto de servicio, Sin amoblar, Armario empo...</td>\n",
       "      <td>Arequipa, Arequipa, Urb los Altitos</td>\n",
       "      <td>{Parques,\"Avenidas principales\",\"Centros comer...</td>\n",
       "      <td>120000</td>\n",
       "      <td>113</td>\n",
       "      <td>0</td>\n",
       "      <td>[Parques, Avenidas principales, Centros comerc...</td>\n",
       "    </tr>\n",
       "    <tr>\n",
       "      <th>11572</th>\n",
       "      <td>USD149,000</td>\n",
       "      <td>Cerro Colorado, Arequipa, Arequipa</td>\n",
       "      <td>Apartamento</td>\n",
       "      <td>Compra</td>\n",
       "      <td>NaN</td>\n",
       "      <td>NaN</td>\n",
       "      <td>📌En venta amplio y  calido departamento ubicad...</td>\n",
       "      <td>3</td>\n",
       "      <td>4</td>\n",
       "      <td>182</td>\n",
       "      <td>[Estacionamiento, Vista panorámica, Cisterna, ...</td>\n",
       "      <td>Cerro Colorado, Arequipa, Perú</td>\n",
       "      <td>{\"Avenidas principales\",\"Centros comerciales\",...</td>\n",
       "      <td>149000</td>\n",
       "      <td>182</td>\n",
       "      <td>0</td>\n",
       "      <td>[Avenidas principales, Centros comerciales, Co...</td>\n",
       "    </tr>\n",
       "  </tbody>\n",
       "</table>\n",
       "<p>1466 rows × 17 columns</p>\n",
       "</div>"
      ],
      "text/plain": [
       "              price                                           location  \\\n",
       "6        USD170,000  Ur. Los Conquistadores, Carmen de la Legua Rey...   \n",
       "10       USD155,000  Miraflores Country Club, Miraflores, Piura, Pi...   \n",
       "14       USD680,000  Musa, La Molina, Provincia de Lima, Gobierno R...   \n",
       "39     USD1,050,000                   Morales, San Martín, San Martín    \n",
       "42        USD99,000                     Villa El Salvador, Lima, Lima    \n",
       "...             ...                                                ...   \n",
       "11498    USD130,000                         Cayma, Arequipa, Arequipa    \n",
       "11500    USD195,000        Ur. Los Andenes, Cayma, Arequipa, Arequipa    \n",
       "11508    USD990,000         Ag. Inmaculada, Cayma, Arequipa, Arequipa    \n",
       "11571    USD120,000               Urb los Altitos, Arequipa, Arequipa    \n",
       "11572    USD149,000                Cerro Colorado, Arequipa, Arequipa    \n",
       "\n",
       "      property_type operation_type plot_area  year  \\\n",
       "6              Casa         Compra       NaN   NaN   \n",
       "10             Casa         Compra       NaN   NaN   \n",
       "14             Casa         Compra       NaN   NaN   \n",
       "39             Casa         Compra       NaN   NaN   \n",
       "42             Casa         Compra       NaN   NaN   \n",
       "...             ...            ...       ...   ...   \n",
       "11498   Apartamento         Compra       110   NaN   \n",
       "11500   Apartamento         Compra       151   NaN   \n",
       "11508   Apartamento         Compra       900   NaN   \n",
       "11571   Apartamento         Compra       113   NaN   \n",
       "11572   Apartamento         Compra       NaN   NaN   \n",
       "\n",
       "                                             description rooms baths area  \\\n",
       "6      Casa ubicada cerca a la zona comercial del dis...     5     3  100   \n",
       "10     🏡✨VENTA DE BONITA CASA EN MIRAFLORES COUNTRY C...     3     3  114   \n",
       "14     Se Vende hermosa casa moderna con PISCINA en U...     3     4  476   \n",
       "39     Casa ubicada en  Jr Moyobamba cuadra 2.\\nA 1 c...    15    17  700   \n",
       "42     Se vende casa ubicada en la Urbanizaciòn Pacha...     3     3  166   \n",
       "...                                                  ...   ...   ...  ...   \n",
       "11498  ACOJEDOR DEPARTAMENTO EN VENTA EN CAYMA\\n\\n \\n...     3     3  NaN   \n",
       "11500  DEPARTAMENTOS EN PREVENTA EN CAYMA\\n\\nEN URB. ...     3     2  151   \n",
       "11508  ESPECTACULAR PENT HOUSE DE LUJO EN CAYMA\\n\\nHe...     6     5  900   \n",
       "11571  ¡¡¡ VENTA !!! DEPARTAMENTO EN CALLE TRONCHADER...     3     4  113   \n",
       "11572  📌En venta amplio y  calido departamento ubicad...     3     4  182   \n",
       "\n",
       "                                              facilities  \\\n",
       "6                    [Estacionamiento, Balcón, Internet]   \n",
       "10     [Estacionamiento, Cocina equipada, Cuarto de s...   \n",
       "14                                                    []   \n",
       "39                                                    []   \n",
       "42                                                    []   \n",
       "...                                                  ...   \n",
       "11498  [Estacionamiento, Cocina equipada, Balcón, Arm...   \n",
       "11500  [Estacionamiento, Vista panorámica, Armario em...   \n",
       "11508  [Estacionamiento, Balcón, Jacuzzi, Cuarto de s...   \n",
       "11571  [Cuarto de servicio, Sin amoblar, Armario empo...   \n",
       "11572  [Estacionamiento, Vista panorámica, Cisterna, ...   \n",
       "\n",
       "                                        location_address  \\\n",
       "6      Calle Gardenias 100-198, Cuadra 1, Ur. Los Con...   \n",
       "10                  Miraflores Country Club, Piura, Perú   \n",
       "14            Urb rinconada, La Molina, Lima, Lima, Peru   \n",
       "39                         Jr. Moyobamba, Tarapoto, Perú   \n",
       "42                         Lima, Lima, Villa El Salvador   \n",
       "...                                                  ...   \n",
       "11498                          Arequipa, Arequipa, Cayma   \n",
       "11500                          Arequipa, Arequipa, Cayma   \n",
       "11508                          Arequipa, Arequipa, Cayma   \n",
       "11571                Arequipa, Arequipa, Urb los Altitos   \n",
       "11572                     Cerro Colorado, Arequipa, Perú   \n",
       "\n",
       "                                        nearby_locations  price_USD  \\\n",
       "6                                                     {}     170000   \n",
       "10                                             {Parques}     155000   \n",
       "14                                                    {}     680000   \n",
       "39                                                    {}    1050000   \n",
       "42                                                    {}      99000   \n",
       "...                                                  ...        ...   \n",
       "11498                                          {Parques}     130000   \n",
       "11500                                          {Parques}     195000   \n",
       "11508                                          {Parques}     990000   \n",
       "11571  {Parques,\"Avenidas principales\",\"Centros comer...     120000   \n",
       "11572  {\"Avenidas principales\",\"Centros comerciales\",...     149000   \n",
       "\n",
       "       area_combined half_baths  \\\n",
       "6                100          0   \n",
       "10               114          0   \n",
       "14               476          0   \n",
       "39               700          0   \n",
       "42               166          0   \n",
       "...              ...        ...   \n",
       "11498            110          0   \n",
       "11500            151          0   \n",
       "11508            900          0   \n",
       "11571            113          0   \n",
       "11572            182          0   \n",
       "\n",
       "                                     processed_locations  \n",
       "6                                                     []  \n",
       "10                                             [Parques]  \n",
       "14                                                    []  \n",
       "39                                                    []  \n",
       "42                                                    []  \n",
       "...                                                  ...  \n",
       "11498                                          [Parques]  \n",
       "11500                                          [Parques]  \n",
       "11508                                          [Parques]  \n",
       "11571  [Parques, Avenidas principales, Centros comerc...  \n",
       "11572  [Avenidas principales, Centros comerciales, Co...  \n",
       "\n",
       "[1466 rows x 17 columns]"
      ]
     },
     "execution_count": 60,
     "metadata": {},
     "output_type": "execute_result"
    }
   ],
   "source": [
    "mitula_2[mitula_2[\"year\"].isnull()]"
   ]
  },
  {
   "cell_type": "markdown",
   "metadata": {},
   "source": [
    "### nearby_locations:\n"
   ]
  },
  {
   "cell_type": "code",
   "execution_count": 37,
   "metadata": {},
   "outputs": [],
   "source": [
    "#type(mitula_2[\"processed_locations\"][5])"
   ]
  },
  {
   "cell_type": "code",
   "execution_count": 38,
   "metadata": {},
   "outputs": [],
   "source": [
    "#mitula_2[\"processed_locations\"][9]"
   ]
  },
  {
   "cell_type": "code",
   "execution_count": 39,
   "metadata": {},
   "outputs": [
    {
     "data": {
      "text/plain": [
       "2                                                       {}\n",
       "5        {Parques,\"Centros comerciales\",\"Avenidas princ...\n",
       "6                                                       {}\n",
       "9                {\"Avenidas principales\",Parques,Colegios}\n",
       "10                                               {Parques}\n",
       "                               ...                        \n",
       "11574                                            {Parques}\n",
       "11575    {\"Avenidas principales\",\"Centros comerciales\",...\n",
       "11577    {\"Avenidas principales\",\"Centros comerciales\",...\n",
       "11579                                            {Parques}\n",
       "11581                                            {Parques}\n",
       "Name: nearby_locations, Length: 4936, dtype: object"
      ]
     },
     "execution_count": 39,
     "metadata": {},
     "output_type": "execute_result"
    }
   ],
   "source": [
    "mitula_2[\"nearby_locations\"]"
   ]
  },
  {
   "cell_type": "code",
   "execution_count": 40,
   "metadata": {},
   "outputs": [],
   "source": [
    "# Define la función que realizará la operación en una sola fila\n",
    "def process_nearby_locations(row):\n",
    "    a = row[\"nearby_locations\"]\n",
    "    if isinstance(a, str):\n",
    "        a = a.strip('{}')\n",
    "        return [x.strip('\"\"') for x in a.split(',')]\n",
    "    else:\n",
    "        return None\n",
    "\n",
    "# Aplica la función a todas las filas de la columna \"nearby_locations\" y crea una nueva columna \"processed_locations\"\n",
    "mitula_2[\"processed_locations\"] = mitula_2.apply(process_nearby_locations, axis=1)"
   ]
  },
  {
   "cell_type": "code",
   "execution_count": 41,
   "metadata": {},
   "outputs": [
    {
     "data": {
      "text/plain": [
       "2                                                       []\n",
       "5        [Parques, Centros comerciales, Avenidas princi...\n",
       "6                                                       []\n",
       "9                [Avenidas principales, Parques, Colegios]\n",
       "10                                               [Parques]\n",
       "                               ...                        \n",
       "11574                                            [Parques]\n",
       "11575    [Avenidas principales, Centros comerciales, Pa...\n",
       "11577    [Avenidas principales, Centros comerciales, Pa...\n",
       "11579                                            [Parques]\n",
       "11581                                            [Parques]\n",
       "Name: processed_locations, Length: 4936, dtype: object"
      ]
     },
     "execution_count": 41,
     "metadata": {},
     "output_type": "execute_result"
    }
   ],
   "source": [
    "mitula_2[\"processed_locations\"]"
   ]
  },
  {
   "cell_type": "code",
   "execution_count": 42,
   "metadata": {},
   "outputs": [],
   "source": [
    "#mitula_2[\"nearby_locations\"].replace('{}', None, inplace= True)"
   ]
  },
  {
   "cell_type": "code",
   "execution_count": 43,
   "metadata": {},
   "outputs": [],
   "source": [
    "locations = dict()\n",
    "\n",
    "for locations_list in mitula_2[\"processed_locations\"]:\n",
    "    if isinstance(locations_list, list):\n",
    "        for facility in locations_list:\n",
    "            facility = facility.strip().replace(\",\", \"\")\n",
    "            try:\n",
    "                locations[facility] += 1\n",
    "            except KeyError:\n",
    "                locations[facility] = 1\n"
   ]
  },
  {
   "cell_type": "code",
   "execution_count": 44,
   "metadata": {},
   "outputs": [
    {
     "data": {
      "text/plain": [
       "{'': 1355,\n",
       " 'Parques': 2938,\n",
       " 'Centros comerciales': 2402,\n",
       " 'Avenidas principales': 2899,\n",
       " 'Colegios': 2489,\n",
       " 'El mar': 397,\n",
       " 'Estaciones de tren': 3}"
      ]
     },
     "execution_count": 44,
     "metadata": {},
     "output_type": "execute_result"
    }
   ],
   "source": [
    "locations"
   ]
  },
  {
   "cell_type": "code",
   "execution_count": 45,
   "metadata": {},
   "outputs": [
    {
     "data": {
      "text/plain": [
       "Index(['price', 'location', 'property_type', 'operation_type', 'plot_area',\n",
       "       'year', 'description', 'rooms', 'baths', 'area', 'facilities',\n",
       "       'location_address', 'nearby_locations', 'price_USD', 'area_combined',\n",
       "       'half_baths', 'processed_locations'],\n",
       "      dtype='object')"
      ]
     },
     "execution_count": 45,
     "metadata": {},
     "output_type": "execute_result"
    }
   ],
   "source": [
    "mitula_2.columns"
   ]
  },
  {
   "cell_type": "markdown",
   "metadata": {},
   "source": [
    "### facilities:"
   ]
  },
  {
   "cell_type": "code",
   "execution_count": 46,
   "metadata": {},
   "outputs": [
    {
     "data": {
      "text/plain": [
       "str"
      ]
     },
     "execution_count": 46,
     "metadata": {},
     "output_type": "execute_result"
    }
   ],
   "source": [
    "type(mitula_2[\"facilities\"][2])"
   ]
  },
  {
   "cell_type": "code",
   "execution_count": 47,
   "metadata": {},
   "outputs": [
    {
     "data": {
      "text/plain": [
       "'{Estacionamiento,\"Sin amoblar\"}'"
      ]
     },
     "execution_count": 47,
     "metadata": {},
     "output_type": "execute_result"
    }
   ],
   "source": [
    "mitula_2[\"facilities\"][2]"
   ]
  },
  {
   "cell_type": "code",
   "execution_count": 48,
   "metadata": {},
   "outputs": [],
   "source": [
    "# Define la función que realizará la operación en una sola fila\n",
    "def process_nearby_locations(row):\n",
    "    a = row[\"facilities\"]\n",
    "    if isinstance(a, str):\n",
    "        a = a.strip('{}')\n",
    "        return [x.strip('\"\"') for x in a.split(',')]\n",
    "    else:\n",
    "        return None\n",
    "\n",
    "# Aplica la función a todas las filas de la columna \"nearby_locations\" y crea una nueva columna \"processed_locations\"\n",
    "mitula_2[\"facilities\"] = mitula_2.apply(process_nearby_locations, axis=1)"
   ]
  },
  {
   "cell_type": "code",
   "execution_count": 49,
   "metadata": {},
   "outputs": [],
   "source": [
    "locations = dict()\n",
    "\n",
    "for locations_list in mitula_2[\"facilities\"]:\n",
    "    if isinstance(locations_list, list):\n",
    "        for facility in locations_list:\n",
    "            facility = facility.strip().replace(\",\", \"\")\n",
    "            try:\n",
    "                locations[facility] += 1\n",
    "            except KeyError:\n",
    "                locations[facility] = 1"
   ]
  },
  {
   "cell_type": "code",
   "execution_count": 50,
   "metadata": {},
   "outputs": [
    {
     "data": {
      "text/plain": [
       "{'Estacionamiento': 2609,\n",
       " 'Sin amoblar': 1815,\n",
       " 'Cocina equipada': 1329,\n",
       " 'Cuarto de servicio': 1359,\n",
       " 'Permite animales domésticos': 211,\n",
       " 'Balcón': 1284,\n",
       " 'Vista panorámica': 1052,\n",
       " 'Cisterna': 786,\n",
       " 'Terraza': 1450,\n",
       " 'Permite niños': 179,\n",
       " 'Ver más': 1318,\n",
       " 'Ver menos': 1318,\n",
       " 'Piscina': 577,\n",
       " 'Caseta de vigilancia': 796,\n",
       " 'Barbacoa': 885,\n",
       " 'Acceso para personas con discapacidad': 685,\n",
       " 'Internet': 628,\n",
       " 'Armario empotrado': 1974,\n",
       " 'Agua': 616,\n",
       " 'Aire acondicionado': 209,\n",
       " 'Seguridad': 1823,\n",
       " 'Conserje': 914,\n",
       " 'Jardín': 961,\n",
       " '': 898,\n",
       " 'Patio': 1020,\n",
       " 'Electricidad': 47,\n",
       " 'Ascensor': 1685,\n",
       " 'Parcialmente amoblado': 414,\n",
       " 'Jacuzzi': 192,\n",
       " 'Chimenea': 153,\n",
       " 'Biblioteca': 59,\n",
       " 'Área infantil': 459,\n",
       " 'Gas natural': 651,\n",
       " 'Calefacción': 56,\n",
       " 'Cancha de tenis': 39,\n",
       " 'Gimnasio': 425,\n",
       " 'Bodega': 360,\n",
       " 'Cocina con reposteros': 103,\n",
       " 'Televisión por cable': 20,\n",
       " 'Completamente amoblado': 106,\n",
       " 'Sauna': 80,\n",
       " 'Oficina': 23,\n",
       " 'Alarma': 49,\n",
       " 'Jardín en la azotea': 91,\n",
       " 'Solo familias': 2}"
      ]
     },
     "execution_count": 50,
     "metadata": {},
     "output_type": "execute_result"
    }
   ],
   "source": [
    "locations"
   ]
  },
  {
   "cell_type": "code",
   "execution_count": 51,
   "metadata": {},
   "outputs": [],
   "source": [
    "facilities = pd.DataFrame(list(locations.items()), columns=['Facility', 'Cantidad'])"
   ]
  },
  {
   "cell_type": "code",
   "execution_count": 52,
   "metadata": {},
   "outputs": [
    {
     "data": {
      "text/html": [
       "<div>\n",
       "<style scoped>\n",
       "    .dataframe tbody tr th:only-of-type {\n",
       "        vertical-align: middle;\n",
       "    }\n",
       "\n",
       "    .dataframe tbody tr th {\n",
       "        vertical-align: top;\n",
       "    }\n",
       "\n",
       "    .dataframe thead th {\n",
       "        text-align: right;\n",
       "    }\n",
       "</style>\n",
       "<table border=\"1\" class=\"dataframe\">\n",
       "  <thead>\n",
       "    <tr style=\"text-align: right;\">\n",
       "      <th></th>\n",
       "      <th>Facility</th>\n",
       "      <th>Cantidad</th>\n",
       "    </tr>\n",
       "  </thead>\n",
       "  <tbody>\n",
       "    <tr>\n",
       "      <th>0</th>\n",
       "      <td>Estacionamiento</td>\n",
       "      <td>2609</td>\n",
       "    </tr>\n",
       "    <tr>\n",
       "      <th>17</th>\n",
       "      <td>Armario empotrado</td>\n",
       "      <td>1974</td>\n",
       "    </tr>\n",
       "    <tr>\n",
       "      <th>20</th>\n",
       "      <td>Seguridad</td>\n",
       "      <td>1823</td>\n",
       "    </tr>\n",
       "    <tr>\n",
       "      <th>1</th>\n",
       "      <td>Sin amoblar</td>\n",
       "      <td>1815</td>\n",
       "    </tr>\n",
       "    <tr>\n",
       "      <th>26</th>\n",
       "      <td>Ascensor</td>\n",
       "      <td>1685</td>\n",
       "    </tr>\n",
       "    <tr>\n",
       "      <th>8</th>\n",
       "      <td>Terraza</td>\n",
       "      <td>1450</td>\n",
       "    </tr>\n",
       "    <tr>\n",
       "      <th>3</th>\n",
       "      <td>Cuarto de servicio</td>\n",
       "      <td>1359</td>\n",
       "    </tr>\n",
       "    <tr>\n",
       "      <th>2</th>\n",
       "      <td>Cocina equipada</td>\n",
       "      <td>1329</td>\n",
       "    </tr>\n",
       "    <tr>\n",
       "      <th>10</th>\n",
       "      <td>Ver más</td>\n",
       "      <td>1318</td>\n",
       "    </tr>\n",
       "    <tr>\n",
       "      <th>11</th>\n",
       "      <td>Ver menos</td>\n",
       "      <td>1318</td>\n",
       "    </tr>\n",
       "    <tr>\n",
       "      <th>5</th>\n",
       "      <td>Balcón</td>\n",
       "      <td>1284</td>\n",
       "    </tr>\n",
       "    <tr>\n",
       "      <th>6</th>\n",
       "      <td>Vista panorámica</td>\n",
       "      <td>1052</td>\n",
       "    </tr>\n",
       "    <tr>\n",
       "      <th>24</th>\n",
       "      <td>Patio</td>\n",
       "      <td>1020</td>\n",
       "    </tr>\n",
       "    <tr>\n",
       "      <th>22</th>\n",
       "      <td>Jardín</td>\n",
       "      <td>961</td>\n",
       "    </tr>\n",
       "    <tr>\n",
       "      <th>21</th>\n",
       "      <td>Conserje</td>\n",
       "      <td>914</td>\n",
       "    </tr>\n",
       "    <tr>\n",
       "      <th>23</th>\n",
       "      <td></td>\n",
       "      <td>898</td>\n",
       "    </tr>\n",
       "    <tr>\n",
       "      <th>14</th>\n",
       "      <td>Barbacoa</td>\n",
       "      <td>885</td>\n",
       "    </tr>\n",
       "    <tr>\n",
       "      <th>13</th>\n",
       "      <td>Caseta de vigilancia</td>\n",
       "      <td>796</td>\n",
       "    </tr>\n",
       "    <tr>\n",
       "      <th>7</th>\n",
       "      <td>Cisterna</td>\n",
       "      <td>786</td>\n",
       "    </tr>\n",
       "    <tr>\n",
       "      <th>15</th>\n",
       "      <td>Acceso para personas con discapacidad</td>\n",
       "      <td>685</td>\n",
       "    </tr>\n",
       "    <tr>\n",
       "      <th>32</th>\n",
       "      <td>Gas natural</td>\n",
       "      <td>651</td>\n",
       "    </tr>\n",
       "    <tr>\n",
       "      <th>16</th>\n",
       "      <td>Internet</td>\n",
       "      <td>628</td>\n",
       "    </tr>\n",
       "    <tr>\n",
       "      <th>18</th>\n",
       "      <td>Agua</td>\n",
       "      <td>616</td>\n",
       "    </tr>\n",
       "    <tr>\n",
       "      <th>12</th>\n",
       "      <td>Piscina</td>\n",
       "      <td>577</td>\n",
       "    </tr>\n",
       "    <tr>\n",
       "      <th>31</th>\n",
       "      <td>Área infantil</td>\n",
       "      <td>459</td>\n",
       "    </tr>\n",
       "    <tr>\n",
       "      <th>35</th>\n",
       "      <td>Gimnasio</td>\n",
       "      <td>425</td>\n",
       "    </tr>\n",
       "    <tr>\n",
       "      <th>27</th>\n",
       "      <td>Parcialmente amoblado</td>\n",
       "      <td>414</td>\n",
       "    </tr>\n",
       "    <tr>\n",
       "      <th>36</th>\n",
       "      <td>Bodega</td>\n",
       "      <td>360</td>\n",
       "    </tr>\n",
       "    <tr>\n",
       "      <th>4</th>\n",
       "      <td>Permite animales domésticos</td>\n",
       "      <td>211</td>\n",
       "    </tr>\n",
       "    <tr>\n",
       "      <th>19</th>\n",
       "      <td>Aire acondicionado</td>\n",
       "      <td>209</td>\n",
       "    </tr>\n",
       "    <tr>\n",
       "      <th>28</th>\n",
       "      <td>Jacuzzi</td>\n",
       "      <td>192</td>\n",
       "    </tr>\n",
       "    <tr>\n",
       "      <th>9</th>\n",
       "      <td>Permite niños</td>\n",
       "      <td>179</td>\n",
       "    </tr>\n",
       "    <tr>\n",
       "      <th>29</th>\n",
       "      <td>Chimenea</td>\n",
       "      <td>153</td>\n",
       "    </tr>\n",
       "    <tr>\n",
       "      <th>39</th>\n",
       "      <td>Completamente amoblado</td>\n",
       "      <td>106</td>\n",
       "    </tr>\n",
       "    <tr>\n",
       "      <th>37</th>\n",
       "      <td>Cocina con reposteros</td>\n",
       "      <td>103</td>\n",
       "    </tr>\n",
       "    <tr>\n",
       "      <th>43</th>\n",
       "      <td>Jardín en la azotea</td>\n",
       "      <td>91</td>\n",
       "    </tr>\n",
       "    <tr>\n",
       "      <th>40</th>\n",
       "      <td>Sauna</td>\n",
       "      <td>80</td>\n",
       "    </tr>\n",
       "    <tr>\n",
       "      <th>30</th>\n",
       "      <td>Biblioteca</td>\n",
       "      <td>59</td>\n",
       "    </tr>\n",
       "    <tr>\n",
       "      <th>33</th>\n",
       "      <td>Calefacción</td>\n",
       "      <td>56</td>\n",
       "    </tr>\n",
       "    <tr>\n",
       "      <th>42</th>\n",
       "      <td>Alarma</td>\n",
       "      <td>49</td>\n",
       "    </tr>\n",
       "    <tr>\n",
       "      <th>25</th>\n",
       "      <td>Electricidad</td>\n",
       "      <td>47</td>\n",
       "    </tr>\n",
       "    <tr>\n",
       "      <th>34</th>\n",
       "      <td>Cancha de tenis</td>\n",
       "      <td>39</td>\n",
       "    </tr>\n",
       "    <tr>\n",
       "      <th>41</th>\n",
       "      <td>Oficina</td>\n",
       "      <td>23</td>\n",
       "    </tr>\n",
       "    <tr>\n",
       "      <th>38</th>\n",
       "      <td>Televisión por cable</td>\n",
       "      <td>20</td>\n",
       "    </tr>\n",
       "    <tr>\n",
       "      <th>44</th>\n",
       "      <td>Solo familias</td>\n",
       "      <td>2</td>\n",
       "    </tr>\n",
       "  </tbody>\n",
       "</table>\n",
       "</div>"
      ],
      "text/plain": [
       "                                 Facility  Cantidad\n",
       "0                         Estacionamiento      2609\n",
       "17                      Armario empotrado      1974\n",
       "20                              Seguridad      1823\n",
       "1                             Sin amoblar      1815\n",
       "26                               Ascensor      1685\n",
       "8                                 Terraza      1450\n",
       "3                      Cuarto de servicio      1359\n",
       "2                         Cocina equipada      1329\n",
       "10                                Ver más      1318\n",
       "11                              Ver menos      1318\n",
       "5                                  Balcón      1284\n",
       "6                        Vista panorámica      1052\n",
       "24                                  Patio      1020\n",
       "22                                 Jardín       961\n",
       "21                               Conserje       914\n",
       "23                                              898\n",
       "14                               Barbacoa       885\n",
       "13                   Caseta de vigilancia       796\n",
       "7                                Cisterna       786\n",
       "15  Acceso para personas con discapacidad       685\n",
       "32                            Gas natural       651\n",
       "16                               Internet       628\n",
       "18                                   Agua       616\n",
       "12                                Piscina       577\n",
       "31                          Área infantil       459\n",
       "35                               Gimnasio       425\n",
       "27                  Parcialmente amoblado       414\n",
       "36                                 Bodega       360\n",
       "4             Permite animales domésticos       211\n",
       "19                     Aire acondicionado       209\n",
       "28                                Jacuzzi       192\n",
       "9                           Permite niños       179\n",
       "29                               Chimenea       153\n",
       "39                 Completamente amoblado       106\n",
       "37                  Cocina con reposteros       103\n",
       "43                    Jardín en la azotea        91\n",
       "40                                  Sauna        80\n",
       "30                             Biblioteca        59\n",
       "33                            Calefacción        56\n",
       "42                                 Alarma        49\n",
       "25                           Electricidad        47\n",
       "34                        Cancha de tenis        39\n",
       "41                                Oficina        23\n",
       "38                   Televisión por cable        20\n",
       "44                          Solo familias         2"
      ]
     },
     "execution_count": 52,
     "metadata": {},
     "output_type": "execute_result"
    }
   ],
   "source": [
    "facilities.sort_values(by=[\"Cantidad\"], ascending=False)"
   ]
  },
  {
   "cell_type": "code",
   "execution_count": 54,
   "metadata": {},
   "outputs": [
    {
     "name": "stdout",
     "output_type": "stream",
     "text": [
      "<class 'pandas.core.frame.DataFrame'>\n",
      "Int64Index: 4936 entries, 2 to 11581\n",
      "Data columns (total 17 columns):\n",
      " #   Column               Non-Null Count  Dtype  \n",
      "---  ------               --------------  -----  \n",
      " 0   price                4936 non-null   object \n",
      " 1   location             4936 non-null   object \n",
      " 2   property_type        4936 non-null   object \n",
      " 3   operation_type       4936 non-null   object \n",
      " 4   plot_area            304 non-null    object \n",
      " 5   year                 3470 non-null   float64\n",
      " 6   description          4936 non-null   object \n",
      " 7   rooms                4936 non-null   object \n",
      " 8   baths                4936 non-null   object \n",
      " 9   area                 4903 non-null   object \n",
      " 10  facilities           4936 non-null   object \n",
      " 11  location_address     4936 non-null   object \n",
      " 12  nearby_locations     4936 non-null   object \n",
      " 13  price_USD            4936 non-null   int32  \n",
      " 14  area_combined        4936 non-null   int32  \n",
      " 15  half_baths           4936 non-null   object \n",
      " 16  processed_locations  4936 non-null   object \n",
      "dtypes: float64(1), int32(2), object(14)\n",
      "memory usage: 784.6+ KB\n"
     ]
    }
   ],
   "source": [
    "mitula_2.info()"
   ]
  },
  {
   "cell_type": "code",
   "execution_count": 58,
   "metadata": {},
   "outputs": [
    {
     "data": {
      "text/html": [
       "<div>\n",
       "<style scoped>\n",
       "    .dataframe tbody tr th:only-of-type {\n",
       "        vertical-align: middle;\n",
       "    }\n",
       "\n",
       "    .dataframe tbody tr th {\n",
       "        vertical-align: top;\n",
       "    }\n",
       "\n",
       "    .dataframe thead th {\n",
       "        text-align: right;\n",
       "    }\n",
       "</style>\n",
       "<table border=\"1\" class=\"dataframe\">\n",
       "  <thead>\n",
       "    <tr style=\"text-align: right;\">\n",
       "      <th></th>\n",
       "      <th>price</th>\n",
       "      <th>location</th>\n",
       "      <th>property_type</th>\n",
       "      <th>operation_type</th>\n",
       "      <th>plot_area</th>\n",
       "      <th>year</th>\n",
       "      <th>description</th>\n",
       "      <th>rooms</th>\n",
       "      <th>baths</th>\n",
       "      <th>area</th>\n",
       "      <th>facilities</th>\n",
       "      <th>location_address</th>\n",
       "      <th>nearby_locations</th>\n",
       "      <th>price_USD</th>\n",
       "      <th>area_combined</th>\n",
       "      <th>half_baths</th>\n",
       "      <th>processed_locations</th>\n",
       "    </tr>\n",
       "  </thead>\n",
       "  <tbody>\n",
       "  </tbody>\n",
       "</table>\n",
       "</div>"
      ],
      "text/plain": [
       "Empty DataFrame\n",
       "Columns: [price, location, property_type, operation_type, plot_area, year, description, rooms, baths, area, facilities, location_address, nearby_locations, price_USD, area_combined, half_baths, processed_locations]\n",
       "Index: []"
      ]
     },
     "execution_count": 58,
     "metadata": {},
     "output_type": "execute_result"
    }
   ],
   "source": [
    "mitula_2[mitula_2[\"year\"] == None]"
   ]
  },
  {
   "cell_type": "code",
   "execution_count": 26,
   "metadata": {},
   "outputs": [
    {
     "data": {
      "text/plain": [
       "0        🏖️CONDOMINIO MONTECARLO - MOLLENDO🏖️\\n\\nSe ubi...\n",
       "2        Se vende duplex de 2 dormitorios, ubicado a la...\n",
       "4        OPORTUNIDAD DE INVERSION, EN EL MARAVILLOSO VA...\n",
       "5        Surco Casuarinas 🎯 Vendo Departamento con Terr...\n",
       "6        Casa ubicada cerca a la zona comercial del dis...\n",
       "                               ...                        \n",
       "11574    Los departamentos se encuentra en un edificio ...\n",
       "11575    VENDO departamento en la parte baja de Cayma e...\n",
       "11577    Vendo moderno departamento en la parte baja de...\n",
       "11579    [EN VENTA] ESPACIOSO DÚPLEX EN PROLONG. LOS AR...\n",
       "11581    EN VENTA - Penthouse en Lujoso Condominio \\n\\n...\n",
       "Name: description, Length: 5609, dtype: object"
      ]
     },
     "execution_count": 26,
     "metadata": {},
     "output_type": "execute_result"
    }
   ],
   "source": [
    "mitula_2['description']"
   ]
  },
  {
   "cell_type": "code",
   "execution_count": null,
   "metadata": {},
   "outputs": [],
   "source": [
    "mitula_3 = mitula_2[['price_USD', 'area_combined', 'rooms',  'baths', 'half_baths',  'year', 'location', 'property_type', 'description',  'facilities','location_address', 'nearby_locations', 'operation_type']]"
   ]
  },
  {
   "cell_type": "code",
   "execution_count": null,
   "metadata": {},
   "outputs": [],
   "source": [
    "mitula_3.info()"
   ]
  }
 ],
 "metadata": {
  "kernelspec": {
   "display_name": "Python 3",
   "language": "python",
   "name": "python3"
  },
  "language_info": {
   "codemirror_mode": {
    "name": "ipython",
    "version": 3
   },
   "file_extension": ".py",
   "mimetype": "text/x-python",
   "name": "python",
   "nbconvert_exporter": "python",
   "pygments_lexer": "ipython3",
   "version": "3.11.1"
  },
  "orig_nbformat": 4
 },
 "nbformat": 4,
 "nbformat_minor": 2
}
