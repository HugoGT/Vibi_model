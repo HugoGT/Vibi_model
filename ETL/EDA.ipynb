{
 "cells": [
  {
   "cell_type": "code",
   "execution_count": 1,
   "metadata": {},
   "outputs": [],
   "source": [
    "import pickle\n",
    "import re\n",
    "\n",
    "import pandas as pd\n",
    "import numpy as np\n",
    "import matplotlib.pyplot as plt\n",
    "import seaborn as sns\n",
    "from unidecode import unidecode\n",
    "\n",
    "import warnings\n",
    "warnings.filterwarnings('ignore')"
   ]
  },
  {
   "cell_type": "code",
   "execution_count": 2,
   "metadata": {},
   "outputs": [],
   "source": [
    "import psycopg2\n",
    "from local_settings import hostname, username, password, port, database"
   ]
  },
  {
   "cell_type": "code",
   "execution_count": 3,
   "metadata": {},
   "outputs": [],
   "source": [
    "connection = psycopg2.connect(\n",
    "            host=hostname, user=username, \n",
    "            password=password, dbname=database, \n",
    "            port=port\n",
    "        )"
   ]
  },
  {
   "cell_type": "code",
   "execution_count": 4,
   "metadata": {},
   "outputs": [
    {
     "name": "stdout",
     "output_type": "stream",
     "text": [
      "(26912, 19)\n"
     ]
    },
    {
     "data": {
      "text/html": [
       "<div>\n",
       "<style scoped>\n",
       "    .dataframe tbody tr th:only-of-type {\n",
       "        vertical-align: middle;\n",
       "    }\n",
       "\n",
       "    .dataframe tbody tr th {\n",
       "        vertical-align: top;\n",
       "    }\n",
       "\n",
       "    .dataframe thead th {\n",
       "        text-align: right;\n",
       "    }\n",
       "</style>\n",
       "<table border=\"1\" class=\"dataframe\">\n",
       "  <thead>\n",
       "    <tr style=\"text-align: right;\">\n",
       "      <th></th>\n",
       "      <th>title</th>\n",
       "      <th>address</th>\n",
       "      <th>price</th>\n",
       "      <th>area</th>\n",
       "      <th>bath</th>\n",
       "      <th>room</th>\n",
       "      <th>property_type</th>\n",
       "      <th>description</th>\n",
       "      <th>year</th>\n",
       "      <th>parking</th>\n",
       "      <th>near_cc</th>\n",
       "      <th>near_school</th>\n",
       "      <th>near_parks</th>\n",
       "      <th>near_avenue</th>\n",
       "      <th>security</th>\n",
       "      <th>elevator</th>\n",
       "      <th>rest_area</th>\n",
       "      <th>pool</th>\n",
       "      <th>web</th>\n",
       "    </tr>\n",
       "  </thead>\n",
       "  <tbody>\n",
       "    <tr>\n",
       "      <th>0</th>\n",
       "      <td>Proyecto inmobilario en venta en Calle Coronel...</td>\n",
       "      <td>Calle Coronel Odriozola 128, San IsidroLima, Lima</td>\n",
       "      <td>120375</td>\n",
       "      <td>45</td>\n",
       "      <td>2</td>\n",
       "      <td>3</td>\n",
       "      <td>Departamento</td>\n",
       "      <td>Mozz se deriva de la palabra en italiano mozio...</td>\n",
       "      <td>2023</td>\n",
       "      <td>1</td>\n",
       "      <td>1</td>\n",
       "      <td>0</td>\n",
       "      <td>1</td>\n",
       "      <td>0</td>\n",
       "      <td>0</td>\n",
       "      <td>0</td>\n",
       "      <td>1</td>\n",
       "      <td>0</td>\n",
       "      <td>Urbania</td>\n",
       "    </tr>\n",
       "    <tr>\n",
       "      <th>1</th>\n",
       "      <td>Proyecto inmobilario en venta en Calle Coronel...</td>\n",
       "      <td>Calle Coronel Odriozola 128, San IsidroLima, Lima</td>\n",
       "      <td>119277</td>\n",
       "      <td>45</td>\n",
       "      <td>2</td>\n",
       "      <td>3</td>\n",
       "      <td>Departamento</td>\n",
       "      <td>Mozz se deriva de la palabra en italiano mozio...</td>\n",
       "      <td>2023</td>\n",
       "      <td>1</td>\n",
       "      <td>1</td>\n",
       "      <td>0</td>\n",
       "      <td>1</td>\n",
       "      <td>0</td>\n",
       "      <td>0</td>\n",
       "      <td>0</td>\n",
       "      <td>1</td>\n",
       "      <td>0</td>\n",
       "      <td>Urbania</td>\n",
       "    </tr>\n",
       "    <tr>\n",
       "      <th>2</th>\n",
       "      <td>Proyecto inmobilario en venta en Calle Coronel...</td>\n",
       "      <td>Calle Coronel Odriozola 128, San IsidroLima, Lima</td>\n",
       "      <td>162297</td>\n",
       "      <td>60</td>\n",
       "      <td>2</td>\n",
       "      <td>2</td>\n",
       "      <td>Departamento</td>\n",
       "      <td>Mozz se deriva de la palabra en italiano mozio...</td>\n",
       "      <td>2023</td>\n",
       "      <td>1</td>\n",
       "      <td>1</td>\n",
       "      <td>0</td>\n",
       "      <td>1</td>\n",
       "      <td>0</td>\n",
       "      <td>0</td>\n",
       "      <td>0</td>\n",
       "      <td>1</td>\n",
       "      <td>0</td>\n",
       "      <td>Urbania</td>\n",
       "    </tr>\n",
       "  </tbody>\n",
       "</table>\n",
       "</div>"
      ],
      "text/plain": [
       "                                               title  \\\n",
       "0  Proyecto inmobilario en venta en Calle Coronel...   \n",
       "1  Proyecto inmobilario en venta en Calle Coronel...   \n",
       "2  Proyecto inmobilario en venta en Calle Coronel...   \n",
       "\n",
       "                                             address   price  area  bath  \\\n",
       "0  Calle Coronel Odriozola 128, San IsidroLima, Lima  120375    45     2   \n",
       "1  Calle Coronel Odriozola 128, San IsidroLima, Lima  119277    45     2   \n",
       "2  Calle Coronel Odriozola 128, San IsidroLima, Lima  162297    60     2   \n",
       "\n",
       "   room property_type                                        description  \\\n",
       "0     3  Departamento  Mozz se deriva de la palabra en italiano mozio...   \n",
       "1     3  Departamento  Mozz se deriva de la palabra en italiano mozio...   \n",
       "2     2  Departamento  Mozz se deriva de la palabra en italiano mozio...   \n",
       "\n",
       "   year  parking  near_cc  near_school  near_parks  near_avenue  security  \\\n",
       "0  2023        1        1            0           1            0         0   \n",
       "1  2023        1        1            0           1            0         0   \n",
       "2  2023        1        1            0           1            0         0   \n",
       "\n",
       "   elevator  rest_area  pool      web  \n",
       "0         0          1     0  Urbania  \n",
       "1         0          1     0  Urbania  \n",
       "2         0          1     0  Urbania  "
      ]
     },
     "execution_count": 4,
     "metadata": {},
     "output_type": "execute_result"
    }
   ],
   "source": [
    "sql_query = \"SELECT * FROM data_row\"\n",
    "\n",
    "df = pd.read_sql_query(sql_query, connection)\n",
    "\n",
    "connection.close()\n",
    "print(df.shape)\n",
    "df.head(3)"
   ]
  },
  {
   "cell_type": "markdown",
   "metadata": {},
   "source": [
    "Due to our own pruporse, we want to study those houses which label is 'Casa' or 'Departamento/Apartemento'. Then we drop out labels like 'Casa de playa', 'Casa de campo' and 'Habitación'."
   ]
  },
  {
   "cell_type": "code",
   "execution_count": 5,
   "metadata": {},
   "outputs": [
    {
     "data": {
      "text/plain": [
       "(26560, 19)"
      ]
     },
     "execution_count": 5,
     "metadata": {},
     "output_type": "execute_result"
    }
   ],
   "source": [
    "outhome = ['Casa de playa', 'Casa de campo', 'Habitación']\n",
    "mask = df['property_type'].apply(lambda x: x not in outhome)\n",
    "df = df[mask]\n",
    "df.shape"
   ]
  },
  {
   "cell_type": "code",
   "execution_count": 6,
   "metadata": {},
   "outputs": [
    {
     "data": {
      "text/plain": [
       "property_type\n",
       "Departamento    19226\n",
       "Casa             7334\n",
       "Name: count, dtype: int64"
      ]
     },
     "execution_count": 6,
     "metadata": {},
     "output_type": "execute_result"
    }
   ],
   "source": [
    "df['property_type'] = df['property_type'].str.replace('Apartamento', 'Departamento')\n",
    "df['property_type'].value_counts()"
   ]
  },
  {
   "cell_type": "markdown",
   "metadata": {},
   "source": [
    "There some values which not correspond actually to Departments or Houses, but entire Hotels, buildings and so on."
   ]
  },
  {
   "cell_type": "code",
   "execution_count": 7,
   "metadata": {},
   "outputs": [
    {
     "data": {
      "text/plain": [
       "(26483, 19)"
      ]
     },
     "execution_count": 7,
     "metadata": {},
     "output_type": "execute_result"
    }
   ],
   "source": [
    "id_mansion = df['title'].apply(lambda x: x.lower()).str.extract('((vend\\w* edificio|hotel|hostel|mansion|mansión|hostal).*)').dropna().index\n",
    "df = df.drop(index=id_mansion)\n",
    "df.shape"
   ]
  },
  {
   "cell_type": "code",
   "execution_count": 8,
   "metadata": {},
   "outputs": [
    {
     "data": {
      "text/plain": [
       "(22429, 19)"
      ]
     },
     "execution_count": 8,
     "metadata": {},
     "output_type": "execute_result"
    }
   ],
   "source": [
    "df = df.drop_duplicates()\n",
    "df.shape"
   ]
  },
  {
   "cell_type": "markdown",
   "metadata": {},
   "source": [
    "We have already dropped duplicates instances out, but remains some values. So let's be more specific on which column we don't allow duplicates"
   ]
  },
  {
   "cell_type": "code",
   "execution_count": 9,
   "metadata": {},
   "outputs": [
    {
     "data": {
      "text/plain": [
       "(21701, 19)"
      ]
     },
     "execution_count": 9,
     "metadata": {},
     "output_type": "execute_result"
    }
   ],
   "source": [
    "df = df.drop_duplicates(subset=['address', 'price', 'area', 'bath', 'room', 'parking', 'year', 'property_type'])\n",
    "df.shape"
   ]
  },
  {
   "cell_type": "code",
   "execution_count": 10,
   "metadata": {},
   "outputs": [
    {
     "data": {
      "text/plain": [
       "title            0\n",
       "address          0\n",
       "price            0\n",
       "area             0\n",
       "bath             0\n",
       "room             0\n",
       "property_type    0\n",
       "description      0\n",
       "year             0\n",
       "parking          0\n",
       "near_cc          0\n",
       "near_school      0\n",
       "near_parks       0\n",
       "near_avenue      0\n",
       "security         0\n",
       "elevator         0\n",
       "rest_area        0\n",
       "pool             0\n",
       "web              0\n",
       "dtype: int64"
      ]
     },
     "execution_count": 10,
     "metadata": {},
     "output_type": "execute_result"
    }
   ],
   "source": [
    "df['description'].fillna('', inplace=True)\n",
    "df.isna().sum()"
   ]
  },
  {
   "cell_type": "code",
   "execution_count": 11,
   "metadata": {},
   "outputs": [
    {
     "data": {
      "text/plain": [
       "(21681, 19)"
      ]
     },
     "execution_count": 11,
     "metadata": {},
     "output_type": "execute_result"
    }
   ],
   "source": [
    "df = df[df['bath'] != 0]\n",
    "df.shape"
   ]
  },
  {
   "cell_type": "markdown",
   "metadata": {},
   "source": [
    "Once again, due to our own pruporse we just consider departments priced lower than 250,000 USD and houses priced lower than 300,000 USD"
   ]
  },
  {
   "cell_type": "code",
   "execution_count": 12,
   "metadata": {},
   "outputs": [
    {
     "data": {
      "text/plain": [
       "property_type\n",
       "Departamento    11531\n",
       "Casa             2839\n",
       "Name: count, dtype: int64"
      ]
     },
     "execution_count": 12,
     "metadata": {},
     "output_type": "execute_result"
    }
   ],
   "source": [
    "threshold_dep = 250000\n",
    "threshold_casa = 300000\n",
    "mask = ((df['property_type'] == 'Departamento') & (df['price'] < threshold_dep)) | ((df['property_type'] == 'Casa') & (df['price'] < threshold_casa))\n",
    "df = df.loc[mask]\n",
    "df['property_type'].value_counts()"
   ]
  },
  {
   "cell_type": "code",
   "execution_count": 13,
   "metadata": {},
   "outputs": [
    {
     "data": {
      "text/html": [
       "<div>\n",
       "<style scoped>\n",
       "    .dataframe tbody tr th:only-of-type {\n",
       "        vertical-align: middle;\n",
       "    }\n",
       "\n",
       "    .dataframe tbody tr th {\n",
       "        vertical-align: top;\n",
       "    }\n",
       "\n",
       "    .dataframe thead th {\n",
       "        text-align: right;\n",
       "    }\n",
       "</style>\n",
       "<table border=\"1\" class=\"dataframe\">\n",
       "  <thead>\n",
       "    <tr style=\"text-align: right;\">\n",
       "      <th></th>\n",
       "      <th>title</th>\n",
       "      <th>address</th>\n",
       "      <th>price</th>\n",
       "      <th>area</th>\n",
       "      <th>bath</th>\n",
       "      <th>room</th>\n",
       "      <th>property_type</th>\n",
       "      <th>description</th>\n",
       "      <th>year</th>\n",
       "      <th>parking</th>\n",
       "      <th>near_cc</th>\n",
       "      <th>near_school</th>\n",
       "      <th>near_parks</th>\n",
       "      <th>near_avenue</th>\n",
       "      <th>security</th>\n",
       "      <th>elevator</th>\n",
       "      <th>rest_area</th>\n",
       "      <th>pool</th>\n",
       "      <th>web</th>\n",
       "    </tr>\n",
       "    <tr>\n",
       "      <th>id</th>\n",
       "      <th></th>\n",
       "      <th></th>\n",
       "      <th></th>\n",
       "      <th></th>\n",
       "      <th></th>\n",
       "      <th></th>\n",
       "      <th></th>\n",
       "      <th></th>\n",
       "      <th></th>\n",
       "      <th></th>\n",
       "      <th></th>\n",
       "      <th></th>\n",
       "      <th></th>\n",
       "      <th></th>\n",
       "      <th></th>\n",
       "      <th></th>\n",
       "      <th></th>\n",
       "      <th></th>\n",
       "      <th></th>\n",
       "    </tr>\n",
       "  </thead>\n",
       "  <tbody>\n",
       "    <tr>\n",
       "      <th>0</th>\n",
       "      <td>Proyecto inmobilario en venta en Calle Coronel...</td>\n",
       "      <td>Calle Coronel Odriozola 128, San IsidroLima, Lima</td>\n",
       "      <td>120375</td>\n",
       "      <td>45</td>\n",
       "      <td>2</td>\n",
       "      <td>3</td>\n",
       "      <td>Departamento</td>\n",
       "      <td>Mozz se deriva de la palabra en italiano mozio...</td>\n",
       "      <td>2023</td>\n",
       "      <td>1</td>\n",
       "      <td>1</td>\n",
       "      <td>0</td>\n",
       "      <td>1</td>\n",
       "      <td>0</td>\n",
       "      <td>0</td>\n",
       "      <td>0</td>\n",
       "      <td>1</td>\n",
       "      <td>0</td>\n",
       "      <td>Urbania</td>\n",
       "    </tr>\n",
       "    <tr>\n",
       "      <th>1</th>\n",
       "      <td>Proyecto inmobilario en venta en Calle Coronel...</td>\n",
       "      <td>Calle Coronel Odriozola 128, San IsidroLima, Lima</td>\n",
       "      <td>119277</td>\n",
       "      <td>45</td>\n",
       "      <td>2</td>\n",
       "      <td>3</td>\n",
       "      <td>Departamento</td>\n",
       "      <td>Mozz se deriva de la palabra en italiano mozio...</td>\n",
       "      <td>2023</td>\n",
       "      <td>1</td>\n",
       "      <td>1</td>\n",
       "      <td>0</td>\n",
       "      <td>1</td>\n",
       "      <td>0</td>\n",
       "      <td>0</td>\n",
       "      <td>0</td>\n",
       "      <td>1</td>\n",
       "      <td>0</td>\n",
       "      <td>Urbania</td>\n",
       "    </tr>\n",
       "  </tbody>\n",
       "</table>\n",
       "</div>"
      ],
      "text/plain": [
       "                                                title  \\\n",
       "id                                                      \n",
       "0   Proyecto inmobilario en venta en Calle Coronel...   \n",
       "1   Proyecto inmobilario en venta en Calle Coronel...   \n",
       "\n",
       "                                              address   price  area  bath  \\\n",
       "id                                                                          \n",
       "0   Calle Coronel Odriozola 128, San IsidroLima, Lima  120375    45     2   \n",
       "1   Calle Coronel Odriozola 128, San IsidroLima, Lima  119277    45     2   \n",
       "\n",
       "    room property_type                                        description  \\\n",
       "id                                                                          \n",
       "0      3  Departamento  Mozz se deriva de la palabra en italiano mozio...   \n",
       "1      3  Departamento  Mozz se deriva de la palabra en italiano mozio...   \n",
       "\n",
       "    year  parking  near_cc  near_school  near_parks  near_avenue  security  \\\n",
       "id                                                                           \n",
       "0   2023        1        1            0           1            0         0   \n",
       "1   2023        1        1            0           1            0         0   \n",
       "\n",
       "    elevator  rest_area  pool      web  \n",
       "id                                      \n",
       "0          0          1     0  Urbania  \n",
       "1          0          1     0  Urbania  "
      ]
     },
     "execution_count": 13,
     "metadata": {},
     "output_type": "execute_result"
    }
   ],
   "source": [
    "df['id'] = range(0,df.shape[0])\n",
    "df.set_index('id', inplace=True)\n",
    "df.head(2)"
   ]
  },
  {
   "cell_type": "code",
   "execution_count": 14,
   "metadata": {},
   "outputs": [
    {
     "data": {
      "text/plain": [
       "web\n",
       "Urbania    8961\n",
       "Mitula     3251\n",
       "Trovit     2158\n",
       "Name: count, dtype: int64"
      ]
     },
     "execution_count": 14,
     "metadata": {},
     "output_type": "execute_result"
    }
   ],
   "source": [
    "df['web'].value_counts()"
   ]
  },
  {
   "cell_type": "markdown",
   "metadata": {},
   "source": [
    "We want to know the ranking of property based in his ubication"
   ]
  },
  {
   "cell_type": "code",
   "execution_count": 15,
   "metadata": {},
   "outputs": [],
   "source": [
    "def clean_text(text):\n",
    "    cleaned = unidecode(text.lower())\n",
    "    cleaned = ''.join(e for e in cleaned if e.isalnum() or e.isspace())\n",
    "\n",
    "    return cleaned"
   ]
  },
  {
   "cell_type": "code",
   "execution_count": 16,
   "metadata": {},
   "outputs": [
    {
     "data": {
      "text/plain": [
       "id\n",
       "0          calle coronel odriozola 128 san isidrolima lima\n",
       "1          calle coronel odriozola 128 san isidrolima lima\n",
       "2          calle coronel odriozola 128 san isidrolima lima\n",
       "3          calle coronel odriozola 128 san isidrolima lima\n",
       "4        jiron batallon callao norte   santa teresasant...\n",
       "                               ...                        \n",
       "14365    jiron inca ripac 197 jesus maria peru  jesus m...\n",
       "14366        cnel gregorio albarracin lanchipa tacna tacna\n",
       "14367    san juan de lurigancho 15427 peru  san juan de...\n",
       "14368    parque iii  los gladiolos terreno ate peru  at...\n",
       "14369    calle arturo duray 411 surquillo peru  surquil...\n",
       "Name: clean_address, Length: 14370, dtype: object"
      ]
     },
     "execution_count": 16,
     "metadata": {},
     "output_type": "execute_result"
    }
   ],
   "source": [
    "df[\"clean_address\"] = df[\"address\"].apply(clean_text)\n",
    "df[\"clean_address\"]"
   ]
  },
  {
   "cell_type": "code",
   "execution_count": 17,
   "metadata": {},
   "outputs": [],
   "source": [
    "dept = []\n",
    "\n",
    "for i in df[\"clean_address\"]:\n",
    "    if re.search(r'\\blima\\b', i):\n",
    "        dept.append('Lima')\n",
    "    else:\n",
    "        dept.append('')\n",
    "\n",
    "df['dept'] = dept\n",
    "df = df[df['dept'] != '']"
   ]
  },
  {
   "cell_type": "code",
   "execution_count": 18,
   "metadata": {},
   "outputs": [],
   "source": [
    "districts = ['san juan de miraflores',\n",
    "            'callao',\n",
    "            'miraflores',\n",
    "            'san isidro',\n",
    "            'surco',\n",
    "            'barranco',\n",
    "            'chorrillos',\n",
    "            'san borja',\n",
    "            'lince',\n",
    "            'la molina',\n",
    "            'cercado de lima',\n",
    "            'magdalena del mar',\n",
    "            'carabayllo',\n",
    "            'comas',\n",
    "            'pueblo libre',\n",
    "            'jesus maria',\n",
    "            'la victoria',\n",
    "            'los olivos',\n",
    "            'lurigancho',\n",
    "            'ate',\n",
    "            'magdalena',\n",
    "            'san martin',\n",
    "            'san miguel',\n",
    "            'surquillo',\n",
    "            'san juan de lurigancho',\n",
    "            'provincia de lima',\n",
    "            'santiago de surco',\n",
    "            'cercado',\n",
    "            'limalima'\n",
    "            ]"
   ]
  },
  {
   "cell_type": "code",
   "execution_count": 19,
   "metadata": {},
   "outputs": [],
   "source": [
    "district = []\n",
    "\n",
    "for ub in df[\"clean_address\"]:\n",
    "    dis = \"\"\n",
    "\n",
    "    for d in districts:\n",
    "        if re.search(f'.*{d}.*', ub):\n",
    "            dis = d\n",
    "            break\n",
    "\n",
    "    district.append(dis.title())"
   ]
  },
  {
   "cell_type": "code",
   "execution_count": 20,
   "metadata": {},
   "outputs": [],
   "source": [
    "for i in range(len(district)):\n",
    "    dis = district[i]\n",
    "    if dis == 'Limalima' or dis == 'Provincia De Lima' or dis == 'Cercado':\n",
    "        district[i] = 'Cercado De Lima'\n",
    "    if dis == 'San Juan De Lurigancho':\n",
    "        district[i] = 'Lurigancho'\n",
    "    if dis == 'Santiago De Surco':\n",
    "        district[i] = 'Surco'\n",
    "    if dis == 'Magdalena':\n",
    "        district[i] = 'Magdalena Del Mar'\n",
    "    if dis == 'San Juan De Miraflores':\n",
    "        district[i] = 'Callao'"
   ]
  },
  {
   "cell_type": "code",
   "execution_count": 21,
   "metadata": {},
   "outputs": [
    {
     "data": {
      "text/plain": [
       "district\n",
       "Surco                1682\n",
       "Miraflores            987\n",
       "Surquillo             660\n",
       "San Miguel            587\n",
       "Jesus Maria           514\n",
       "Cercado De Lima       474\n",
       "San Isidro            397\n",
       "Lince                 397\n",
       "Chorrillos            382\n",
       "Magdalena Del Mar     363\n",
       "Los Olivos            360\n",
       "Barranco              354\n",
       "Pueblo Libre          353\n",
       "Ate                   340\n",
       "San Martin            313\n",
       "Lurigancho            298\n",
       "Carabayllo            257\n",
       "San Borja             254\n",
       "Callao                247\n",
       "La Molina             240\n",
       "La Victoria           195\n",
       "Comas                 158\n",
       "Name: count, dtype: int64"
      ]
     },
     "execution_count": 21,
     "metadata": {},
     "output_type": "execute_result"
    }
   ],
   "source": [
    "df[\"district\"] = district\n",
    "df = df[df[\"district\"] != \"\"]\n",
    "df[\"district\"].value_counts()"
   ]
  },
  {
   "cell_type": "code",
   "execution_count": 22,
   "metadata": {},
   "outputs": [],
   "source": [
    "with open(\"dataset/estratos.pkl\", 'rb') as file:\n",
    "    estratos = pickle.load(file)"
   ]
  },
  {
   "cell_type": "code",
   "execution_count": 23,
   "metadata": {},
   "outputs": [],
   "source": [
    "df['ranking'] = df['district'].map(estratos)"
   ]
  },
  {
   "cell_type": "markdown",
   "metadata": {},
   "source": [
    "## Distritos en Lima Provincia"
   ]
  },
  {
   "cell_type": "code",
   "execution_count": 76,
   "metadata": {},
   "outputs": [
    {
     "data": {
      "text/plain": [
       "array(['San Isidro', 'Callao', 'Chorrillos', 'Lince', 'Surco',\n",
       "       'Miraflores', 'La Molina', 'San Miguel', 'Carabayllo', 'San Borja',\n",
       "       'Barranco', 'Magdalena Del Mar', 'Lurigancho', 'Jesus Maria',\n",
       "       'Los Olivos', 'Surquillo', 'Cercado De Lima', 'Comas',\n",
       "       'La Victoria', 'Pueblo Libre', 'Ate', 'San Martin'], dtype=object)"
      ]
     },
     "execution_count": 76,
     "metadata": {},
     "output_type": "execute_result"
    }
   ],
   "source": [
    "df['district'].unique()"
   ]
  },
  {
   "cell_type": "code",
   "execution_count": 70,
   "metadata": {},
   "outputs": [
    {
     "data": {
      "text/html": [
       "<div>\n",
       "<style scoped>\n",
       "    .dataframe tbody tr th:only-of-type {\n",
       "        vertical-align: middle;\n",
       "    }\n",
       "\n",
       "    .dataframe tbody tr th {\n",
       "        vertical-align: top;\n",
       "    }\n",
       "\n",
       "    .dataframe thead th {\n",
       "        text-align: right;\n",
       "    }\n",
       "</style>\n",
       "<table border=\"1\" class=\"dataframe\">\n",
       "  <thead>\n",
       "    <tr style=\"text-align: right;\">\n",
       "      <th></th>\n",
       "      <th>Distritos</th>\n",
       "      <th>Ubigeo</th>\n",
       "      <th>Área (km²)</th>\n",
       "      <th>Censo 2017</th>\n",
       "      <th>Estimación 2023[1]​</th>\n",
       "      <th>Fundación</th>\n",
       "      <th>Código postal</th>\n",
       "      <th>Mapa de ubicación</th>\n",
       "    </tr>\n",
       "  </thead>\n",
       "  <tbody>\n",
       "    <tr>\n",
       "      <th>0</th>\n",
       "      <td>Ancón</td>\n",
       "      <td>150102</td>\n",
       "      <td>299.22</td>\n",
       "      <td>62 928</td>\n",
       "      <td>91 170</td>\n",
       "      <td>29 de octubre de 1874</td>\n",
       "      <td>2</td>\n",
       "      <td>NaN</td>\n",
       "    </tr>\n",
       "    <tr>\n",
       "      <th>1</th>\n",
       "      <td>Ate</td>\n",
       "      <td>150103</td>\n",
       "      <td>77.72</td>\n",
       "      <td>599 196</td>\n",
       "      <td>713 103</td>\n",
       "      <td>2 de enero de 1857</td>\n",
       "      <td>3</td>\n",
       "      <td>NaN</td>\n",
       "    </tr>\n",
       "    <tr>\n",
       "      <th>2</th>\n",
       "      <td>Barranco</td>\n",
       "      <td>150104</td>\n",
       "      <td>3.33</td>\n",
       "      <td>34 378</td>\n",
       "      <td>37 525</td>\n",
       "      <td>26 de octubre de 1874</td>\n",
       "      <td>4</td>\n",
       "      <td>NaN</td>\n",
       "    </tr>\n",
       "    <tr>\n",
       "      <th>3</th>\n",
       "      <td>Breña</td>\n",
       "      <td>150105</td>\n",
       "      <td>3.22</td>\n",
       "      <td>85 309</td>\n",
       "      <td>97 906</td>\n",
       "      <td>15 de julio de 1949</td>\n",
       "      <td>5</td>\n",
       "      <td>NaN</td>\n",
       "    </tr>\n",
       "    <tr>\n",
       "      <th>4</th>\n",
       "      <td>Carabayllo</td>\n",
       "      <td>150106</td>\n",
       "      <td>346.88</td>\n",
       "      <td>333 045</td>\n",
       "      <td>426 985</td>\n",
       "      <td>4 de agosto de 1821</td>\n",
       "      <td>6</td>\n",
       "      <td>NaN</td>\n",
       "    </tr>\n",
       "  </tbody>\n",
       "</table>\n",
       "</div>"
      ],
      "text/plain": [
       "    Distritos  Ubigeo  Área (km²) Censo 2017 Estimación 2023[1]​  \\\n",
       "0       Ancón  150102      299.22     62 928              91 170   \n",
       "1         Ate  150103       77.72    599 196             713 103   \n",
       "2    Barranco  150104        3.33     34 378              37 525   \n",
       "3       Breña  150105        3.22     85 309              97 906   \n",
       "4  Carabayllo  150106      346.88    333 045             426 985   \n",
       "\n",
       "               Fundación  Código postal  Mapa de ubicación  \n",
       "0  29 de octubre de 1874              2                NaN  \n",
       "1     2 de enero de 1857              3                NaN  \n",
       "2  26 de octubre de 1874              4                NaN  \n",
       "3    15 de julio de 1949              5                NaN  \n",
       "4    4 de agosto de 1821              6                NaN  "
      ]
     },
     "execution_count": 70,
     "metadata": {},
     "output_type": "execute_result"
    }
   ],
   "source": [
    "lima_provincia = pd.read_html('https://es.wikipedia.org/wiki/Anexo:Distritos_de_Lima', header=1)[0]\n",
    "lima_provincia.head()"
   ]
  },
  {
   "cell_type": "code",
   "execution_count": 75,
   "metadata": {},
   "outputs": [
    {
     "data": {
      "text/plain": [
       "{'Ancón': 150102,\n",
       " 'Ate': 150103,\n",
       " 'Barranco': 150104,\n",
       " 'Breña': 150105,\n",
       " 'Carabayllo': 150106,\n",
       " 'Chaclacayo': 150107,\n",
       " 'Chorrillos': 150108,\n",
       " 'Cieneguilla': 150109,\n",
       " 'Comas': 150110,\n",
       " 'El Agustino': 150111,\n",
       " 'Independencia': 150112,\n",
       " 'Jesús María': 150113,\n",
       " 'La Molina': 150114,\n",
       " 'La Victoria': 150115,\n",
       " 'Lima': 150101,\n",
       " 'Lince': 150116,\n",
       " 'Los Olivos': 150117,\n",
       " 'Lurigancho': 150118,\n",
       " 'Lurín': 150119,\n",
       " 'Magdalena del Mar': 150120,\n",
       " 'Miraflores': 150122,\n",
       " 'Pachacamac': 150123,\n",
       " 'Pucusana': 150124,\n",
       " 'Pueblo Libre': 150121,\n",
       " 'Puente Piedra': 150125,\n",
       " 'Punta Hermosa': 150126,\n",
       " 'Punta Negra': 150127,\n",
       " 'Rímac': 150128,\n",
       " 'San Bartolo': 150129,\n",
       " 'San Borja': 150130,\n",
       " 'San Isidro': 150131,\n",
       " 'San Juan de Lurigancho': 150132,\n",
       " 'San Juan de Miraflores': 150133,\n",
       " 'San Luis': 150134,\n",
       " 'San Martín de Porres': 150135,\n",
       " 'San Miguel': 150136,\n",
       " 'Santa Anita': 150137,\n",
       " 'Santa María del Mar': 150138,\n",
       " 'Santa Rosa': 150139,\n",
       " 'Santiago de Surco': 150140,\n",
       " 'Surquillo': 150141,\n",
       " 'Villa El Salvador': 150142,\n",
       " 'Villa María del Triunfo': 150143}"
      ]
     },
     "execution_count": 75,
     "metadata": {},
     "output_type": "execute_result"
    }
   ],
   "source": [
    "{kk: vv for kk, vv in zip(lima_provincia['Distritos'],lima_provincia['Ubigeo'])}"
   ]
  },
  {
   "cell_type": "markdown",
   "metadata": {},
   "source": [
    "# EDA"
   ]
  },
  {
   "cell_type": "markdown",
   "metadata": {},
   "source": [
    "## Variable Distribution"
   ]
  },
  {
   "cell_type": "markdown",
   "metadata": {},
   "source": [
    "Let's create a new dataframe which contains only the numerical variables, i.e., 'price', 'area', 'bath', 'room', 'parking' and 'year'."
   ]
  },
  {
   "cell_type": "code",
   "execution_count": 24,
   "metadata": {},
   "outputs": [
    {
     "name": "stdout",
     "output_type": "stream",
     "text": [
      "<class 'pandas.core.frame.DataFrame'>\n",
      "Index: 9812 entries, 0 to 14369\n",
      "Data columns (total 7 columns):\n",
      " #   Column         Non-Null Count  Dtype \n",
      "---  ------         --------------  ----- \n",
      " 0   price          9812 non-null   int64 \n",
      " 1   area           9812 non-null   int64 \n",
      " 2   bath           9812 non-null   int64 \n",
      " 3   room           9812 non-null   int64 \n",
      " 4   parking        9812 non-null   int64 \n",
      " 5   year           9812 non-null   int64 \n",
      " 6   property_type  9812 non-null   object\n",
      "dtypes: int64(6), object(1)\n",
      "memory usage: 613.2+ KB\n"
     ]
    }
   ],
   "source": [
    "df_num = df[['price', 'area', 'bath', 'room', 'parking', 'year', 'property_type']]\n",
    "df_num.info()"
   ]
  },
  {
   "cell_type": "markdown",
   "metadata": {},
   "source": [
    "As the first step, we plot the distribution of each variable in order to know where its outliers."
   ]
  },
  {
   "cell_type": "code",
   "execution_count": 25,
   "metadata": {},
   "outputs": [
    {
     "data": {
      "image/png": "[encoded data removed]",
      "text/plain": [
       "<Figure size 900x600 with 6 Axes>"
      ]
     },
     "metadata": {},
     "output_type": "display_data"
    }
   ],
   "source": [
    "f = pd.melt(df_num.iloc[:,:-1], value_vars=df_num.columns[:-1])\n",
    "g = sns.FacetGrid(f, col=\"variable\",  col_wrap=3, sharex=False, sharey=False)\n",
    "g = g.map(sns.distplot, \"value\")"
   ]
  },
  {
   "cell_type": "code",
   "execution_count": 26,
   "metadata": {},
   "outputs": [
    {
     "data": {
      "image/png": "[encoded data removed]",
      "text/plain": [
       "<Figure size 900x600 with 6 Axes>"
      ]
     },
     "metadata": {},
     "output_type": "display_data"
    }
   ],
   "source": [
    "f = pd.melt(df_num.iloc[:,:-1], value_vars=df_num.columns[:-1])\n",
    "g = sns.FacetGrid(f, col=\"variable\",  col_wrap=3, sharex=False, sharey=False)\n",
    "g = g.map(sns.boxplot, \"value\")"
   ]
  },
  {
   "cell_type": "markdown",
   "metadata": {},
   "source": [
    "As we can appreciate, all variables have outliers, but 'price'. "
   ]
  },
  {
   "cell_type": "code",
   "execution_count": 27,
   "metadata": {},
   "outputs": [],
   "source": [
    "def outliers(column, df_outlier):\n",
    "    Q1 = df_outlier[column].dropna().quantile(0.25)\n",
    "    Q3 = df_outlier[column].dropna().quantile(0.75)\n",
    "    IQR = Q3 - Q1\n",
    "\n",
    "    lower_whisker = Q1 - 1.5 * IQR\n",
    "    upper_whisker = Q3 + 1.5 * IQR\n",
    "\n",
    "    return lower_whisker, upper_whisker"
   ]
  },
  {
   "cell_type": "markdown",
   "metadata": {},
   "source": [
    "We point out for clients which buy its first house, then a housing which has a big area would not be a good option for a first house."
   ]
  },
  {
   "cell_type": "code",
   "execution_count": 28,
   "metadata": {},
   "outputs": [
    {
     "data": {
      "text/plain": [
       "(9780, 7)"
      ]
     },
     "execution_count": 28,
     "metadata": {},
     "output_type": "execute_result"
    }
   ],
   "source": [
    "threshold = 500\n",
    "mask = (df_num['area'] < threshold)\n",
    "df_num = df_num[mask]\n",
    "df_num.shape"
   ]
  },
  {
   "cell_type": "markdown",
   "metadata": {},
   "source": [
    "## Outliers Casa & Departamento"
   ]
  },
  {
   "cell_type": "markdown",
   "metadata": {},
   "source": [
    "Because Department and Houses has different dimensions and settings, we split the analysis among each property_type label."
   ]
  },
  {
   "cell_type": "code",
   "execution_count": 29,
   "metadata": {},
   "outputs": [
    {
     "name": "stdout",
     "output_type": "stream",
     "text": [
      "(8682, 7) (1098, 7)\n"
     ]
    }
   ],
   "source": [
    "mask = df_num['property_type'] == 'Departamento'\n",
    "df_departamento = df_num.loc[mask]\n",
    "mask = df_num['property_type'] == 'Casa'\n",
    "df_casa = df_num.loc[mask]\n",
    "print(df_departamento.shape, df_casa.shape)"
   ]
  },
  {
   "cell_type": "markdown",
   "metadata": {},
   "source": [
    "### Departamento"
   ]
  },
  {
   "cell_type": "markdown",
   "metadata": {},
   "source": [
    "#### Outliers Area"
   ]
  },
  {
   "cell_type": "markdown",
   "metadata": {},
   "source": [
    "We choose 'area' for our standard parameter, in order to contrast the other variables and take a decision aboout what instance gets drop out."
   ]
  },
  {
   "cell_type": "code",
   "execution_count": 30,
   "metadata": {},
   "outputs": [
    {
     "data": {
      "text/plain": [
       "(5.0, 165.0)"
      ]
     },
     "execution_count": 30,
     "metadata": {},
     "output_type": "execute_result"
    }
   ],
   "source": [
    "lower_darea, upper_darea = outliers('area', df_departamento)\n",
    "lower_darea, upper_darea"
   ]
  },
  {
   "cell_type": "markdown",
   "metadata": {},
   "source": [
    "Hence using the outlier values, let's see which instance could be useful. For that a 2D histogram would be a good idea to see how data of 'area' and number of 'room' is distributed."
   ]
  },
  {
   "cell_type": "code",
   "execution_count": 31,
   "metadata": {},
   "outputs": [
    {
     "data": {
      "image/png": "[encoded data removed]",
      "text/plain": [
       "<Figure size 640x480 with 2 Axes>"
      ]
     },
     "metadata": {},
     "output_type": "display_data"
    }
   ],
   "source": [
    "mask = df_departamento['area'] > upper_darea\n",
    "plt.figure()\n",
    "sns.histplot(data=df_departamento.loc[mask], x='area', y='room', bins=20, cmap='viridis', cbar=True)\n",
    "plt.show()"
   ]
  },
  {
   "cell_type": "markdown",
   "metadata": {},
   "source": [
    "For this data, let's see what is the most common range for number of rooms"
   ]
  },
  {
   "cell_type": "code",
   "execution_count": 32,
   "metadata": {},
   "outputs": [
    {
     "data": {
      "text/plain": [
       "(1.5, 5.5)"
      ]
     },
     "execution_count": 32,
     "metadata": {},
     "output_type": "execute_result"
    }
   ],
   "source": [
    "mask = (df_departamento['area'] > upper_darea)\n",
    "lower_room, upper_room = outliers('room', df_departamento[mask])\n",
    "lower_room, upper_room"
   ]
  },
  {
   "cell_type": "markdown",
   "metadata": {},
   "source": [
    "According to this result, housing having more that 5 rooms and less than 3 room are dropped out."
   ]
  },
  {
   "cell_type": "code",
   "execution_count": 33,
   "metadata": {},
   "outputs": [
    {
     "name": "stdout",
     "output_type": "stream",
     "text": [
      "(25, 7)\n"
     ]
    },
    {
     "data": {
      "text/plain": [
       "(8657, 7)"
      ]
     },
     "execution_count": 33,
     "metadata": {},
     "output_type": "execute_result"
    }
   ],
   "source": [
    "mask = (df_departamento['area'] > upper_darea) & ((df_departamento['room'] <= 2)|(df_departamento['room'] >= 6))\n",
    "print(df_departamento.loc[mask].shape)\n",
    "df_departamento = df_departamento.loc[~mask]\n",
    "df_departamento.shape"
   ]
  },
  {
   "cell_type": "markdown",
   "metadata": {},
   "source": [
    "Let's do the same for 'bath' variable"
   ]
  },
  {
   "cell_type": "code",
   "execution_count": 34,
   "metadata": {},
   "outputs": [
    {
     "data": {
      "image/png": "[encoded data removed]",
      "text/plain": [
       "<Figure size 640x480 with 2 Axes>"
      ]
     },
     "metadata": {},
     "output_type": "display_data"
    }
   ],
   "source": [
    "mask = df_departamento['area'] > upper_darea\n",
    "plt.figure()\n",
    "sns.histplot(data=df_departamento.loc[mask], x='area', y='bath', bins=20, cmap='viridis', cbar=True)\n",
    "plt.show()"
   ]
  },
  {
   "cell_type": "markdown",
   "metadata": {},
   "source": [
    "As well as before, instaces with more then 5 and less than 2 bath are dropped out."
   ]
  },
  {
   "cell_type": "code",
   "execution_count": 35,
   "metadata": {},
   "outputs": [
    {
     "name": "stdout",
     "output_type": "stream",
     "text": [
      "(5, 7)\n"
     ]
    },
    {
     "data": {
      "text/plain": [
       "(8652, 7)"
      ]
     },
     "execution_count": 35,
     "metadata": {},
     "output_type": "execute_result"
    }
   ],
   "source": [
    "mask = (df_departamento['area'] > upper_darea) & ((df_departamento['bath'] <= 1)|(df_departamento['bath'] >= 6))\n",
    "print(df_departamento[mask].shape)\n",
    "df_departamento = df_departamento.loc[~mask]\n",
    "df_departamento.shape"
   ]
  },
  {
   "cell_type": "markdown",
   "metadata": {},
   "source": [
    "#### Outliers Room & Bath"
   ]
  },
  {
   "cell_type": "markdown",
   "metadata": {},
   "source": [
    "Now let's analyses the variables 'room' and 'bath' for itself.\n",
    "Let's compute its outliers and let them go away."
   ]
  },
  {
   "cell_type": "code",
   "execution_count": 36,
   "metadata": {},
   "outputs": [
    {
     "data": {
      "text/plain": [
       "(0.5, 4.5)"
      ]
     },
     "execution_count": 36,
     "metadata": {},
     "output_type": "execute_result"
    }
   ],
   "source": [
    "lower_droom, upper_droom = outliers('room', df_departamento)\n",
    "lower_droom, upper_droom"
   ]
  },
  {
   "cell_type": "code",
   "execution_count": 37,
   "metadata": {},
   "outputs": [
    {
     "name": "stdout",
     "output_type": "stream",
     "text": [
      "(74, 7)\n"
     ]
    },
    {
     "data": {
      "text/plain": [
       "(8578, 7)"
      ]
     },
     "execution_count": 37,
     "metadata": {},
     "output_type": "execute_result"
    }
   ],
   "source": [
    "mask = df_departamento['room'] < 5\n",
    "print(df_departamento[~mask].shape)\n",
    "df_departamento = df_departamento[mask]\n",
    "df_departamento.shape"
   ]
  },
  {
   "cell_type": "code",
   "execution_count": 38,
   "metadata": {},
   "outputs": [
    {
     "data": {
      "text/plain": [
       "(2.0, 2.0)"
      ]
     },
     "execution_count": 38,
     "metadata": {},
     "output_type": "execute_result"
    }
   ],
   "source": [
    "lower_dbath, upper_dbath = outliers('bath', df_departamento)\n",
    "lower_dbath, upper_dbath"
   ]
  },
  {
   "cell_type": "code",
   "execution_count": 39,
   "metadata": {},
   "outputs": [
    {
     "name": "stdout",
     "output_type": "stream",
     "text": [
      "(19, 7)\n"
     ]
    },
    {
     "data": {
      "text/plain": [
       "(8559, 7)"
      ]
     },
     "execution_count": 39,
     "metadata": {},
     "output_type": "execute_result"
    }
   ],
   "source": [
    "mask = df_departamento['bath'] < 5\n",
    "print(df_departamento[~mask].shape)\n",
    "df_departamento = df_departamento.loc[mask]\n",
    "df_departamento.shape"
   ]
  },
  {
   "cell_type": "markdown",
   "metadata": {},
   "source": [
    "#### Bath < Room"
   ]
  },
  {
   "cell_type": "markdown",
   "metadata": {},
   "source": [
    "Now let's analyse both parameters together."
   ]
  },
  {
   "cell_type": "code",
   "execution_count": 40,
   "metadata": {},
   "outputs": [
    {
     "data": {
      "image/png": "[encoded data removed]",
      "text/plain": [
       "<Figure size 640x480 with 2 Axes>"
      ]
     },
     "metadata": {},
     "output_type": "display_data"
    }
   ],
   "source": [
    "plt.figure()\n",
    "sns.histplot(data=df_departamento.loc[mask], x='room', y='bath', bins=20, cmap='viridis', cbar=True)\n",
    "plt.show()"
   ]
  },
  {
   "cell_type": "markdown",
   "metadata": {},
   "source": [
    "We can appreciate than there are several cases where exist more bath than rooms. Let's drop out that instances."
   ]
  },
  {
   "cell_type": "code",
   "execution_count": 41,
   "metadata": {},
   "outputs": [
    {
     "name": "stdout",
     "output_type": "stream",
     "text": [
      "(418, 7)\n"
     ]
    },
    {
     "data": {
      "text/plain": [
       "(8141, 7)"
      ]
     },
     "execution_count": 41,
     "metadata": {},
     "output_type": "execute_result"
    }
   ],
   "source": [
    "mask = df_departamento['bath'] > df_departamento['room']\n",
    "print(df_departamento[mask].shape)\n",
    "df_departamento = df_departamento.loc[~mask]\n",
    "df_departamento.shape"
   ]
  },
  {
   "cell_type": "markdown",
   "metadata": {},
   "source": [
    "#### Outlier Parking"
   ]
  },
  {
   "cell_type": "code",
   "execution_count": 42,
   "metadata": {},
   "outputs": [
    {
     "data": {
      "text/plain": [
       "(-1.5, 2.5)"
      ]
     },
     "execution_count": 42,
     "metadata": {},
     "output_type": "execute_result"
    }
   ],
   "source": [
    "lower_dparking, upper_dparking = outliers('parking', df_departamento)\n",
    "lower_dparking, upper_dparking"
   ]
  },
  {
   "cell_type": "code",
   "execution_count": 43,
   "metadata": {},
   "outputs": [
    {
     "data": {
      "text/plain": [
       "(8127, 7)"
      ]
     },
     "execution_count": 43,
     "metadata": {},
     "output_type": "execute_result"
    }
   ],
   "source": [
    "mask = df_departamento['parking'] <= 2\n",
    "df_departamento = df_departamento.loc[mask]\n",
    "df_departamento.shape"
   ]
  },
  {
   "cell_type": "code",
   "execution_count": 44,
   "metadata": {},
   "outputs": [
    {
     "data": {
      "text/plain": [
       "(8127, 7)"
      ]
     },
     "execution_count": 44,
     "metadata": {},
     "output_type": "execute_result"
    }
   ],
   "source": [
    "df_departamento['parking'] = df_departamento['parking'].replace(2, 1)\n",
    "df_departamento.shape"
   ]
  },
  {
   "cell_type": "code",
   "execution_count": 45,
   "metadata": {},
   "outputs": [
    {
     "data": {
      "text/plain": [
       "parking\n",
       "0    5081\n",
       "1    3046\n",
       "Name: count, dtype: int64"
      ]
     },
     "execution_count": 45,
     "metadata": {},
     "output_type": "execute_result"
    }
   ],
   "source": [
    "df_departamento['parking'].value_counts()"
   ]
  },
  {
   "cell_type": "markdown",
   "metadata": {},
   "source": [
    "#### Outlier Year"
   ]
  },
  {
   "cell_type": "markdown",
   "metadata": {},
   "source": [
    "There are some data in 'year' which is 0, let's replaced by random values, between 2000 and 2020"
   ]
  },
  {
   "cell_type": "code",
   "execution_count": 46,
   "metadata": {},
   "outputs": [
    {
     "data": {
      "text/plain": [
       "(8127, 7)"
      ]
     },
     "execution_count": 46,
     "metadata": {},
     "output_type": "execute_result"
    }
   ],
   "source": [
    "# mask = (df_departamento['year'] != 0) & (df_departamento['year'] != 2023) \n",
    "# new_year = int(df_departamento.loc[mask, 'year'].median())\n",
    "mask = df_departamento['year'] == 0\n",
    "size = df_departamento.loc[mask].shape[0]\n",
    "df_departamento.loc[mask, 'year'] = np.random.normal(2010, 5, size).astype(int)\n",
    "df_departamento.shape"
   ]
  },
  {
   "cell_type": "code",
   "execution_count": 47,
   "metadata": {},
   "outputs": [
    {
     "data": {
      "text/plain": [
       "year\n",
       "2023    3434\n",
       "2022     357\n",
       "2013     352\n",
       "2018     256\n",
       "2016     251\n",
       "        ... \n",
       "1949       1\n",
       "1932       1\n",
       "1967       1\n",
       "1946       1\n",
       "1941       1\n",
       "Name: count, Length: 72, dtype: int64"
      ]
     },
     "execution_count": 47,
     "metadata": {},
     "output_type": "execute_result"
    }
   ],
   "source": [
    "mask = df_departamento['year'] > 2023\n",
    "df_departamento.loc[mask, 'year'] = [2023] * df_departamento.loc[mask].shape[0]\n",
    "df_departamento['year'] = df_departamento['year'].astype(int)\n",
    "df_departamento['year'].value_counts()"
   ]
  },
  {
   "cell_type": "markdown",
   "metadata": {},
   "source": [
    "Let's see how the distributions have changed"
   ]
  },
  {
   "cell_type": "code",
   "execution_count": 48,
   "metadata": {},
   "outputs": [
    {
     "data": {
      "image/png": "[encoded data removed]",
      "text/plain": [
       "<Figure size 900x600 with 6 Axes>"
      ]
     },
     "metadata": {},
     "output_type": "display_data"
    }
   ],
   "source": [
    "f = pd.melt(df_departamento.iloc[:,:-1], value_vars=df_departamento.columns[:-1])\n",
    "g = sns.FacetGrid(f, col=\"variable\",  col_wrap=3, sharex=False, sharey=False)\n",
    "g = g.map(sns.distplot, \"value\")"
   ]
  },
  {
   "cell_type": "code",
   "execution_count": 49,
   "metadata": {},
   "outputs": [
    {
     "data": {
      "image/png": "[encoded data removed]",
      "text/plain": [
       "<Figure size 900x600 with 6 Axes>"
      ]
     },
     "metadata": {},
     "output_type": "display_data"
    }
   ],
   "source": [
    "f = pd.melt(df_departamento.iloc[:,:-1], value_vars=df_departamento.columns[:-1])\n",
    "g = sns.FacetGrid(f, col=\"variable\",  col_wrap=3, sharex=False, sharey=False)\n",
    "g = g.map(sns.boxplot, \"value\")"
   ]
  },
  {
   "cell_type": "code",
   "execution_count": 50,
   "metadata": {},
   "outputs": [
    {
     "name": "stdout",
     "output_type": "stream",
     "text": [
      "(8127, 23)\n"
     ]
    },
    {
     "data": {
      "text/html": [
       "<div>\n",
       "<style scoped>\n",
       "    .dataframe tbody tr th:only-of-type {\n",
       "        vertical-align: middle;\n",
       "    }\n",
       "\n",
       "    .dataframe tbody tr th {\n",
       "        vertical-align: top;\n",
       "    }\n",
       "\n",
       "    .dataframe thead th {\n",
       "        text-align: right;\n",
       "    }\n",
       "</style>\n",
       "<table border=\"1\" class=\"dataframe\">\n",
       "  <thead>\n",
       "    <tr style=\"text-align: right;\">\n",
       "      <th></th>\n",
       "      <th>title</th>\n",
       "      <th>address</th>\n",
       "      <th>price</th>\n",
       "      <th>area</th>\n",
       "      <th>bath</th>\n",
       "      <th>room</th>\n",
       "      <th>property_type</th>\n",
       "      <th>description</th>\n",
       "      <th>year</th>\n",
       "      <th>parking</th>\n",
       "      <th>...</th>\n",
       "      <th>near_avenue</th>\n",
       "      <th>security</th>\n",
       "      <th>elevator</th>\n",
       "      <th>rest_area</th>\n",
       "      <th>pool</th>\n",
       "      <th>web</th>\n",
       "      <th>clean_address</th>\n",
       "      <th>dept</th>\n",
       "      <th>district</th>\n",
       "      <th>ranking</th>\n",
       "    </tr>\n",
       "    <tr>\n",
       "      <th>id</th>\n",
       "      <th></th>\n",
       "      <th></th>\n",
       "      <th></th>\n",
       "      <th></th>\n",
       "      <th></th>\n",
       "      <th></th>\n",
       "      <th></th>\n",
       "      <th></th>\n",
       "      <th></th>\n",
       "      <th></th>\n",
       "      <th></th>\n",
       "      <th></th>\n",
       "      <th></th>\n",
       "      <th></th>\n",
       "      <th></th>\n",
       "      <th></th>\n",
       "      <th></th>\n",
       "      <th></th>\n",
       "      <th></th>\n",
       "      <th></th>\n",
       "      <th></th>\n",
       "    </tr>\n",
       "  </thead>\n",
       "  <tbody>\n",
       "    <tr>\n",
       "      <th>0</th>\n",
       "      <td>Proyecto inmobilario en venta en Calle Coronel...</td>\n",
       "      <td>Calle Coronel Odriozola 128, San IsidroLima, Lima</td>\n",
       "      <td>120375</td>\n",
       "      <td>45</td>\n",
       "      <td>2</td>\n",
       "      <td>3</td>\n",
       "      <td>Departamento</td>\n",
       "      <td>Mozz se deriva de la palabra en italiano mozio...</td>\n",
       "      <td>2023</td>\n",
       "      <td>1</td>\n",
       "      <td>...</td>\n",
       "      <td>0</td>\n",
       "      <td>0</td>\n",
       "      <td>0</td>\n",
       "      <td>1</td>\n",
       "      <td>0</td>\n",
       "      <td>Urbania</td>\n",
       "      <td>calle coronel odriozola 128 san isidrolima lima</td>\n",
       "      <td>Lima</td>\n",
       "      <td>San Isidro</td>\n",
       "      <td>5.0</td>\n",
       "    </tr>\n",
       "    <tr>\n",
       "      <th>1</th>\n",
       "      <td>Proyecto inmobilario en venta en Calle Coronel...</td>\n",
       "      <td>Calle Coronel Odriozola 128, San IsidroLima, Lima</td>\n",
       "      <td>119277</td>\n",
       "      <td>45</td>\n",
       "      <td>2</td>\n",
       "      <td>3</td>\n",
       "      <td>Departamento</td>\n",
       "      <td>Mozz se deriva de la palabra en italiano mozio...</td>\n",
       "      <td>2023</td>\n",
       "      <td>1</td>\n",
       "      <td>...</td>\n",
       "      <td>0</td>\n",
       "      <td>0</td>\n",
       "      <td>0</td>\n",
       "      <td>1</td>\n",
       "      <td>0</td>\n",
       "      <td>Urbania</td>\n",
       "      <td>calle coronel odriozola 128 san isidrolima lima</td>\n",
       "      <td>Lima</td>\n",
       "      <td>San Isidro</td>\n",
       "      <td>5.0</td>\n",
       "    </tr>\n",
       "    <tr>\n",
       "      <th>2</th>\n",
       "      <td>Proyecto inmobilario en venta en Calle Coronel...</td>\n",
       "      <td>Calle Coronel Odriozola 128, San IsidroLima, Lima</td>\n",
       "      <td>162297</td>\n",
       "      <td>60</td>\n",
       "      <td>2</td>\n",
       "      <td>2</td>\n",
       "      <td>Departamento</td>\n",
       "      <td>Mozz se deriva de la palabra en italiano mozio...</td>\n",
       "      <td>2023</td>\n",
       "      <td>1</td>\n",
       "      <td>...</td>\n",
       "      <td>0</td>\n",
       "      <td>0</td>\n",
       "      <td>0</td>\n",
       "      <td>1</td>\n",
       "      <td>0</td>\n",
       "      <td>Urbania</td>\n",
       "      <td>calle coronel odriozola 128 san isidrolima lima</td>\n",
       "      <td>Lima</td>\n",
       "      <td>San Isidro</td>\n",
       "      <td>5.0</td>\n",
       "    </tr>\n",
       "  </tbody>\n",
       "</table>\n",
       "<p>3 rows × 23 columns</p>\n",
       "</div>"
      ],
      "text/plain": [
       "                                                title  \\\n",
       "id                                                      \n",
       "0   Proyecto inmobilario en venta en Calle Coronel...   \n",
       "1   Proyecto inmobilario en venta en Calle Coronel...   \n",
       "2   Proyecto inmobilario en venta en Calle Coronel...   \n",
       "\n",
       "                                              address   price  area  bath  \\\n",
       "id                                                                          \n",
       "0   Calle Coronel Odriozola 128, San IsidroLima, Lima  120375    45     2   \n",
       "1   Calle Coronel Odriozola 128, San IsidroLima, Lima  119277    45     2   \n",
       "2   Calle Coronel Odriozola 128, San IsidroLima, Lima  162297    60     2   \n",
       "\n",
       "    room property_type                                        description  \\\n",
       "id                                                                          \n",
       "0      3  Departamento  Mozz se deriva de la palabra en italiano mozio...   \n",
       "1      3  Departamento  Mozz se deriva de la palabra en italiano mozio...   \n",
       "2      2  Departamento  Mozz se deriva de la palabra en italiano mozio...   \n",
       "\n",
       "    year  parking  ...  near_avenue  security  elevator  rest_area  pool  \\\n",
       "id                 ...                                                     \n",
       "0   2023        1  ...            0         0         0          1     0   \n",
       "1   2023        1  ...            0         0         0          1     0   \n",
       "2   2023        1  ...            0         0         0          1     0   \n",
       "\n",
       "        web                                    clean_address  dept  \\\n",
       "id                                                                   \n",
       "0   Urbania  calle coronel odriozola 128 san isidrolima lima  Lima   \n",
       "1   Urbania  calle coronel odriozola 128 san isidrolima lima  Lima   \n",
       "2   Urbania  calle coronel odriozola 128 san isidrolima lima  Lima   \n",
       "\n",
       "      district ranking  \n",
       "id                      \n",
       "0   San Isidro     5.0  \n",
       "1   San Isidro     5.0  \n",
       "2   San Isidro     5.0  \n",
       "\n",
       "[3 rows x 23 columns]"
      ]
     },
     "execution_count": 50,
     "metadata": {},
     "output_type": "execute_result"
    }
   ],
   "source": [
    "df_departamento = df.loc[df_departamento.index]\n",
    "print(df_departamento.shape)\n",
    "df_departamento.head(3)"
   ]
  },
  {
   "cell_type": "markdown",
   "metadata": {},
   "source": [
    "### Casa"
   ]
  },
  {
   "cell_type": "markdown",
   "metadata": {},
   "source": [
    "#### Outliers Area"
   ]
  },
  {
   "cell_type": "code",
   "execution_count": null,
   "metadata": {},
   "outputs": [
    {
     "data": {
      "text/plain": [
       "(-25.0, 335.0)"
      ]
     },
     "execution_count": 53,
     "metadata": {},
     "output_type": "execute_result"
    }
   ],
   "source": [
    "lower_carea, upper_carea = outliers('area', df_casa)\n",
    "lower_carea, upper_carea"
   ]
  },
  {
   "cell_type": "code",
   "execution_count": null,
   "metadata": {},
   "outputs": [
    {
     "data": {
      "text/html": [
       "<div>\n",
       "<style scoped>\n",
       "    .dataframe tbody tr th:only-of-type {\n",
       "        vertical-align: middle;\n",
       "    }\n",
       "\n",
       "    .dataframe tbody tr th {\n",
       "        vertical-align: top;\n",
       "    }\n",
       "\n",
       "    .dataframe thead th {\n",
       "        text-align: right;\n",
       "    }\n",
       "</style>\n",
       "<table border=\"1\" class=\"dataframe\">\n",
       "  <thead>\n",
       "    <tr style=\"text-align: right;\">\n",
       "      <th></th>\n",
       "      <th>price</th>\n",
       "      <th>area</th>\n",
       "      <th>bath</th>\n",
       "      <th>room</th>\n",
       "      <th>parking</th>\n",
       "      <th>year</th>\n",
       "      <th>property_type</th>\n",
       "    </tr>\n",
       "    <tr>\n",
       "      <th>id</th>\n",
       "      <th></th>\n",
       "      <th></th>\n",
       "      <th></th>\n",
       "      <th></th>\n",
       "      <th></th>\n",
       "      <th></th>\n",
       "      <th></th>\n",
       "    </tr>\n",
       "  </thead>\n",
       "  <tbody>\n",
       "    <tr>\n",
       "      <th>73</th>\n",
       "      <td>238000</td>\n",
       "      <td>390</td>\n",
       "      <td>7</td>\n",
       "      <td>10</td>\n",
       "      <td>2</td>\n",
       "      <td>1998</td>\n",
       "      <td>Casa</td>\n",
       "    </tr>\n",
       "    <tr>\n",
       "      <th>978</th>\n",
       "      <td>235000</td>\n",
       "      <td>380</td>\n",
       "      <td>4</td>\n",
       "      <td>6</td>\n",
       "      <td>2</td>\n",
       "      <td>2003</td>\n",
       "      <td>Casa</td>\n",
       "    </tr>\n",
       "    <tr>\n",
       "      <th>2333</th>\n",
       "      <td>270000</td>\n",
       "      <td>360</td>\n",
       "      <td>4</td>\n",
       "      <td>4</td>\n",
       "      <td>3</td>\n",
       "      <td>1999</td>\n",
       "      <td>Casa</td>\n",
       "    </tr>\n",
       "    <tr>\n",
       "      <th>2345</th>\n",
       "      <td>170000</td>\n",
       "      <td>350</td>\n",
       "      <td>5</td>\n",
       "      <td>9</td>\n",
       "      <td>0</td>\n",
       "      <td>0</td>\n",
       "      <td>Casa</td>\n",
       "    </tr>\n",
       "    <tr>\n",
       "      <th>2424</th>\n",
       "      <td>260000</td>\n",
       "      <td>384</td>\n",
       "      <td>3</td>\n",
       "      <td>5</td>\n",
       "      <td>0</td>\n",
       "      <td>1983</td>\n",
       "      <td>Casa</td>\n",
       "    </tr>\n",
       "    <tr>\n",
       "      <th>...</th>\n",
       "      <td>...</td>\n",
       "      <td>...</td>\n",
       "      <td>...</td>\n",
       "      <td>...</td>\n",
       "      <td>...</td>\n",
       "      <td>...</td>\n",
       "      <td>...</td>\n",
       "    </tr>\n",
       "    <tr>\n",
       "      <th>13669</th>\n",
       "      <td>175000</td>\n",
       "      <td>363</td>\n",
       "      <td>7</td>\n",
       "      <td>10</td>\n",
       "      <td>0</td>\n",
       "      <td>0</td>\n",
       "      <td>Casa</td>\n",
       "    </tr>\n",
       "    <tr>\n",
       "      <th>14114</th>\n",
       "      <td>220000</td>\n",
       "      <td>450</td>\n",
       "      <td>5</td>\n",
       "      <td>8</td>\n",
       "      <td>0</td>\n",
       "      <td>2009</td>\n",
       "      <td>Casa</td>\n",
       "    </tr>\n",
       "    <tr>\n",
       "      <th>14214</th>\n",
       "      <td>270000</td>\n",
       "      <td>450</td>\n",
       "      <td>8</td>\n",
       "      <td>8</td>\n",
       "      <td>1</td>\n",
       "      <td>0</td>\n",
       "      <td>Casa</td>\n",
       "    </tr>\n",
       "    <tr>\n",
       "      <th>14240</th>\n",
       "      <td>280000</td>\n",
       "      <td>344</td>\n",
       "      <td>4</td>\n",
       "      <td>11</td>\n",
       "      <td>1</td>\n",
       "      <td>1988</td>\n",
       "      <td>Casa</td>\n",
       "    </tr>\n",
       "    <tr>\n",
       "      <th>14262</th>\n",
       "      <td>285000</td>\n",
       "      <td>339</td>\n",
       "      <td>5</td>\n",
       "      <td>12</td>\n",
       "      <td>0</td>\n",
       "      <td>1973</td>\n",
       "      <td>Casa</td>\n",
       "    </tr>\n",
       "  </tbody>\n",
       "</table>\n",
       "<p>68 rows × 7 columns</p>\n",
       "</div>"
      ],
      "text/plain": [
       "        price  area  bath  room  parking  year property_type\n",
       "id                                                          \n",
       "73     238000   390     7    10        2  1998          Casa\n",
       "978    235000   380     4     6        2  2003          Casa\n",
       "2333   270000   360     4     4        3  1999          Casa\n",
       "2345   170000   350     5     9        0     0          Casa\n",
       "2424   260000   384     3     5        0  1983          Casa\n",
       "...       ...   ...   ...   ...      ...   ...           ...\n",
       "13669  175000   363     7    10        0     0          Casa\n",
       "14114  220000   450     5     8        0  2009          Casa\n",
       "14214  270000   450     8     8        1     0          Casa\n",
       "14240  280000   344     4    11        1  1988          Casa\n",
       "14262  285000   339     5    12        0  1973          Casa\n",
       "\n",
       "[68 rows x 7 columns]"
      ]
     },
     "execution_count": 54,
     "metadata": {},
     "output_type": "execute_result"
    }
   ],
   "source": [
    "mask = df_casa['area'] > upper_carea\n",
    "df_casa.loc[mask]"
   ]
  },
  {
   "cell_type": "code",
   "execution_count": null,
   "metadata": {},
   "outputs": [
    {
     "data": {
      "image/png": "[encoded data removed]",
      "text/plain": [
       "<Figure size 900x600 with 6 Axes>"
      ]
     },
     "metadata": {},
     "output_type": "display_data"
    }
   ],
   "source": [
    "f = pd.melt(df_casa.iloc[:,:-1], value_vars=df_casa.columns[:-1])\n",
    "g = sns.FacetGrid(f, col=\"variable\",  col_wrap=3, sharex=False, sharey=False)\n",
    "g = g.map(sns.boxplot, \"value\")"
   ]
  },
  {
   "cell_type": "code",
   "execution_count": null,
   "metadata": {},
   "outputs": [
    {
     "data": {
      "image/png": "[encoded data removed]",
      "text/plain": [
       "<Figure size 640x480 with 1 Axes>"
      ]
     },
     "metadata": {},
     "output_type": "display_data"
    }
   ],
   "source": [
    "plt.hist(df_casa[\"area\"], edgecolor='k')\n",
    "\n",
    "# Configurar etiquetas y título\n",
    "plt.xlabel(\"Área\")\n",
    "plt.ylabel(\"Frecuencia\")\n",
    "plt.title(\"Histograma de Área de las Casas\")\n",
    "\n",
    "# Mostrar el gráfico\n",
    "plt.show()\n"
   ]
  },
  {
   "cell_type": "code",
   "execution_count": null,
   "metadata": {},
   "outputs": [],
   "source": [
    "mask = df_casa['area'] < 30\n",
    "df_casa = df_casa.loc[~mask]"
   ]
  },
  {
   "cell_type": "code",
   "execution_count": null,
   "metadata": {},
   "outputs": [],
   "source": [
    "#mask = df_casa['area'] > upper_carea\n",
    "#plt.figure()\n",
    "#sns.scatterplot(data=df_casa.loc[mask], x='area', y='room')\n",
    "#plt.show()"
   ]
  },
  {
   "cell_type": "code",
   "execution_count": null,
   "metadata": {},
   "outputs": [],
   "source": [
    "#mask = (df_departamento['area'] > upper_darea)\n",
    "#lower_room, upper_room = outliers('room', df_departamento[mask])\n",
    "#lower_room, upper_room"
   ]
  },
  {
   "cell_type": "code",
   "execution_count": null,
   "metadata": {},
   "outputs": [],
   "source": [
    "#mask = (df_departamento['area'] > upper_darea) & ((df_departamento['room'] <= 2)|(df_departamento['room'] >= 6))\n",
    "#df_departamento = df_departamento.loc[~mask]\n",
    "#df_departamento.shape"
   ]
  },
  {
   "cell_type": "code",
   "execution_count": null,
   "metadata": {},
   "outputs": [],
   "source": [
    "#mask = df_departamento['area'] > upper_darea\n",
    "#plt.figure()\n",
    "#sns.scatterplot(data=df_departamento.loc[mask], x='area', y='bath')\n",
    "#plt.show()"
   ]
  },
  {
   "cell_type": "code",
   "execution_count": null,
   "metadata": {},
   "outputs": [],
   "source": [
    "#mask = (df_departamento['area'] > upper_darea) & ((df_departamento['bath'] <= 1)|(df_departamento['bath'] >= 6))\n",
    "#df_departamento = df_departamento.loc[~mask]\n",
    "#df_departamento.shape"
   ]
  },
  {
   "cell_type": "markdown",
   "metadata": {},
   "source": [
    "#### Outliers Room & Bath"
   ]
  },
  {
   "cell_type": "code",
   "execution_count": null,
   "metadata": {},
   "outputs": [
    {
     "data": {
      "text/plain": [
       "(-1.5, 10.5)"
      ]
     },
     "execution_count": 63,
     "metadata": {},
     "output_type": "execute_result"
    }
   ],
   "source": [
    "lower_croom, upper_croom = outliers('room', df_casa)\n",
    "lower_croom, upper_croom"
   ]
  },
  {
   "cell_type": "code",
   "execution_count": null,
   "metadata": {},
   "outputs": [
    {
     "data": {
      "image/png": "[encoded data removed]",
      "text/plain": [
       "<Figure size 640x480 with 1 Axes>"
      ]
     },
     "metadata": {},
     "output_type": "display_data"
    }
   ],
   "source": [
    "plt.hist(df_casa[\"room\"], edgecolor='k', bins= 20)\n",
    "\n",
    "# Configurar etiquetas y título\n",
    "plt.xlabel(\"Rooms\")\n",
    "plt.ylabel(\"Frecuencia\")\n",
    "plt.show()\n"
   ]
  },
  {
   "cell_type": "code",
   "execution_count": null,
   "metadata": {},
   "outputs": [
    {
     "data": {
      "text/plain": [
       "(1049, 7)"
      ]
     },
     "execution_count": 65,
     "metadata": {},
     "output_type": "execute_result"
    }
   ],
   "source": [
    "mask = df_casa['room'] > 10\n",
    "df_casa = df_casa[~mask]\n",
    "df_casa.shape"
   ]
  },
  {
   "cell_type": "code",
   "execution_count": null,
   "metadata": {},
   "outputs": [
    {
     "data": {
      "image/png": "[encoded data removed]",
      "text/plain": [
       "<Figure size 640x480 with 1 Axes>"
      ]
     },
     "metadata": {},
     "output_type": "display_data"
    }
   ],
   "source": [
    "plt.hist(df_casa[\"room\"], edgecolor='k')\n",
    "\n",
    "# Configurar etiquetas y título\n",
    "plt.xlabel(\"Rooms\")\n",
    "plt.ylabel(\"Frecuencia\")\n",
    "plt.show()\n"
   ]
  },
  {
   "cell_type": "code",
   "execution_count": null,
   "metadata": {},
   "outputs": [],
   "source": [
    "#id_hotel = df[df[\"room\"] >10]['description'].apply(lambda x: x.lower()).str.extract('(hotel)').dropna().index\n",
    "#df.loc[id_hotel]"
   ]
  },
  {
   "cell_type": "code",
   "execution_count": null,
   "metadata": {},
   "outputs": [
    {
     "data": {
      "text/plain": [
       "(-1.0, 7.0)"
      ]
     },
     "execution_count": 68,
     "metadata": {},
     "output_type": "execute_result"
    }
   ],
   "source": [
    "lower_cbath, upper_cbath = outliers('bath', df_casa)\n",
    "lower_cbath, upper_cbath"
   ]
  },
  {
   "cell_type": "code",
   "execution_count": null,
   "metadata": {},
   "outputs": [
    {
     "data": {
      "image/png": "[encoded data removed]",
      "text/plain": [
       "<Figure size 640x480 with 1 Axes>"
      ]
     },
     "metadata": {},
     "output_type": "display_data"
    }
   ],
   "source": [
    "plt.hist(df_casa[\"bath\"], edgecolor='k')\n",
    "\n",
    "# Configurar etiquetas y título\n",
    "plt.xlabel(\"Bath\")\n",
    "plt.ylabel(\"Frecuencia\")\n",
    "plt.show()\n"
   ]
  },
  {
   "cell_type": "code",
   "execution_count": null,
   "metadata": {},
   "outputs": [
    {
     "data": {
      "text/plain": [
       "(1035, 7)"
      ]
     },
     "execution_count": 70,
     "metadata": {},
     "output_type": "execute_result"
    }
   ],
   "source": [
    "mask = df_casa['bath'] > 7\n",
    "df_casa = df_casa[~mask]\n",
    "df_casa.shape"
   ]
  },
  {
   "cell_type": "code",
   "execution_count": null,
   "metadata": {},
   "outputs": [
    {
     "data": {
      "image/png": "[encoded data removed]",
      "text/plain": [
       "<Figure size 640x480 with 1 Axes>"
      ]
     },
     "metadata": {},
     "output_type": "display_data"
    }
   ],
   "source": [
    "plt.hist(df_casa[\"bath\"], edgecolor='k')\n",
    "\n",
    "# Configurar etiquetas y título\n",
    "plt.xlabel(\"Bath\")\n",
    "plt.ylabel(\"Frecuencia\")\n",
    "plt.show()\n"
   ]
  },
  {
   "cell_type": "markdown",
   "metadata": {},
   "source": [
    "#### Bath < Room"
   ]
  },
  {
   "cell_type": "code",
   "execution_count": null,
   "metadata": {},
   "outputs": [
    {
     "data": {
      "image/png": "[encoded data removed]",
      "text/plain": [
       "<Figure size 640x480 with 1 Axes>"
      ]
     },
     "metadata": {},
     "output_type": "display_data"
    }
   ],
   "source": [
    "plt.figure()\n",
    "sns.scatterplot(data=df_casa, x='room', y='bath')\n",
    "plt.show()"
   ]
  },
  {
   "cell_type": "code",
   "execution_count": null,
   "metadata": {},
   "outputs": [
    {
     "data": {
      "text/plain": [
       "(998, 7)"
      ]
     },
     "execution_count": 73,
     "metadata": {},
     "output_type": "execute_result"
    }
   ],
   "source": [
    "mask = df_casa['bath'] > df_casa['room']\n",
    "df_casa = df_casa.loc[~mask]\n",
    "df_casa.shape"
   ]
  },
  {
   "cell_type": "markdown",
   "metadata": {},
   "source": [
    "#### Outlier Parking"
   ]
  },
  {
   "cell_type": "code",
   "execution_count": null,
   "metadata": {},
   "outputs": [
    {
     "data": {
      "text/plain": [
       "(-1.5, 2.5)"
      ]
     },
     "execution_count": 74,
     "metadata": {},
     "output_type": "execute_result"
    }
   ],
   "source": [
    "lower_cparking, upper_cparking = outliers('parking', df_casa)\n",
    "lower_cparking, upper_cparking"
   ]
  },
  {
   "cell_type": "code",
   "execution_count": null,
   "metadata": {},
   "outputs": [],
   "source": [
    "mask = df_casa['parking'] <= 2\n",
    "df_casa = df_casa.loc[mask]\n"
   ]
  },
  {
   "cell_type": "code",
   "execution_count": null,
   "metadata": {},
   "outputs": [
    {
     "data": {
      "text/plain": [
       "(978, 7)"
      ]
     },
     "execution_count": 76,
     "metadata": {},
     "output_type": "execute_result"
    }
   ],
   "source": [
    "df_casa['parking'] = df_casa['parking'].replace(2, 1)\n",
    "df_casa.shape"
   ]
  },
  {
   "cell_type": "code",
   "execution_count": null,
   "metadata": {},
   "outputs": [
    {
     "data": {
      "text/plain": [
       "parking\n",
       "0    558\n",
       "1    420\n",
       "Name: count, dtype: int64"
      ]
     },
     "execution_count": 77,
     "metadata": {},
     "output_type": "execute_result"
    }
   ],
   "source": [
    "df_casa['parking'].value_counts()"
   ]
  },
  {
   "cell_type": "markdown",
   "metadata": {},
   "source": [
    "#### Outlier Year"
   ]
  },
  {
   "cell_type": "code",
   "execution_count": null,
   "metadata": {},
   "outputs": [
    {
     "data": {
      "text/html": [
       "<div>\n",
       "<style scoped>\n",
       "    .dataframe tbody tr th:only-of-type {\n",
       "        vertical-align: middle;\n",
       "    }\n",
       "\n",
       "    .dataframe tbody tr th {\n",
       "        vertical-align: top;\n",
       "    }\n",
       "\n",
       "    .dataframe thead th {\n",
       "        text-align: right;\n",
       "    }\n",
       "</style>\n",
       "<table border=\"1\" class=\"dataframe\">\n",
       "  <thead>\n",
       "    <tr style=\"text-align: right;\">\n",
       "      <th></th>\n",
       "      <th>price</th>\n",
       "      <th>area</th>\n",
       "      <th>bath</th>\n",
       "      <th>room</th>\n",
       "      <th>parking</th>\n",
       "      <th>year</th>\n",
       "      <th>property_type</th>\n",
       "    </tr>\n",
       "    <tr>\n",
       "      <th>id</th>\n",
       "      <th></th>\n",
       "      <th></th>\n",
       "      <th></th>\n",
       "      <th></th>\n",
       "      <th></th>\n",
       "      <th></th>\n",
       "      <th></th>\n",
       "    </tr>\n",
       "  </thead>\n",
       "  <tbody>\n",
       "    <tr>\n",
       "      <th>2345</th>\n",
       "      <td>170000</td>\n",
       "      <td>350</td>\n",
       "      <td>5</td>\n",
       "      <td>9</td>\n",
       "      <td>0</td>\n",
       "      <td>0</td>\n",
       "      <td>Casa</td>\n",
       "    </tr>\n",
       "    <tr>\n",
       "      <th>2861</th>\n",
       "      <td>106900</td>\n",
       "      <td>120</td>\n",
       "      <td>4</td>\n",
       "      <td>4</td>\n",
       "      <td>1</td>\n",
       "      <td>0</td>\n",
       "      <td>Casa</td>\n",
       "    </tr>\n",
       "    <tr>\n",
       "      <th>4099</th>\n",
       "      <td>140000</td>\n",
       "      <td>200</td>\n",
       "      <td>2</td>\n",
       "      <td>4</td>\n",
       "      <td>1</td>\n",
       "      <td>0</td>\n",
       "      <td>Casa</td>\n",
       "    </tr>\n",
       "    <tr>\n",
       "      <th>4316</th>\n",
       "      <td>160000</td>\n",
       "      <td>160</td>\n",
       "      <td>2</td>\n",
       "      <td>3</td>\n",
       "      <td>1</td>\n",
       "      <td>0</td>\n",
       "      <td>Casa</td>\n",
       "    </tr>\n",
       "    <tr>\n",
       "      <th>4622</th>\n",
       "      <td>273900</td>\n",
       "      <td>219</td>\n",
       "      <td>3</td>\n",
       "      <td>3</td>\n",
       "      <td>1</td>\n",
       "      <td>0</td>\n",
       "      <td>Casa</td>\n",
       "    </tr>\n",
       "    <tr>\n",
       "      <th>...</th>\n",
       "      <td>...</td>\n",
       "      <td>...</td>\n",
       "      <td>...</td>\n",
       "      <td>...</td>\n",
       "      <td>...</td>\n",
       "      <td>...</td>\n",
       "      <td>...</td>\n",
       "    </tr>\n",
       "    <tr>\n",
       "      <th>14178</th>\n",
       "      <td>205000</td>\n",
       "      <td>315</td>\n",
       "      <td>4</td>\n",
       "      <td>7</td>\n",
       "      <td>0</td>\n",
       "      <td>0</td>\n",
       "      <td>Casa</td>\n",
       "    </tr>\n",
       "    <tr>\n",
       "      <th>14198</th>\n",
       "      <td>215000</td>\n",
       "      <td>163</td>\n",
       "      <td>2</td>\n",
       "      <td>3</td>\n",
       "      <td>1</td>\n",
       "      <td>0</td>\n",
       "      <td>Casa</td>\n",
       "    </tr>\n",
       "    <tr>\n",
       "      <th>14211</th>\n",
       "      <td>45946</td>\n",
       "      <td>37</td>\n",
       "      <td>2</td>\n",
       "      <td>2</td>\n",
       "      <td>0</td>\n",
       "      <td>0</td>\n",
       "      <td>Casa</td>\n",
       "    </tr>\n",
       "    <tr>\n",
       "      <th>14244</th>\n",
       "      <td>180000</td>\n",
       "      <td>311</td>\n",
       "      <td>4</td>\n",
       "      <td>7</td>\n",
       "      <td>1</td>\n",
       "      <td>0</td>\n",
       "      <td>Casa</td>\n",
       "    </tr>\n",
       "    <tr>\n",
       "      <th>14250</th>\n",
       "      <td>290000</td>\n",
       "      <td>320</td>\n",
       "      <td>3</td>\n",
       "      <td>3</td>\n",
       "      <td>0</td>\n",
       "      <td>0</td>\n",
       "      <td>Casa</td>\n",
       "    </tr>\n",
       "  </tbody>\n",
       "</table>\n",
       "<p>106 rows × 7 columns</p>\n",
       "</div>"
      ],
      "text/plain": [
       "        price  area  bath  room  parking  year property_type\n",
       "id                                                          \n",
       "2345   170000   350     5     9        0     0          Casa\n",
       "2861   106900   120     4     4        1     0          Casa\n",
       "4099   140000   200     2     4        1     0          Casa\n",
       "4316   160000   160     2     3        1     0          Casa\n",
       "4622   273900   219     3     3        1     0          Casa\n",
       "...       ...   ...   ...   ...      ...   ...           ...\n",
       "14178  205000   315     4     7        0     0          Casa\n",
       "14198  215000   163     2     3        1     0          Casa\n",
       "14211   45946    37     2     2        0     0          Casa\n",
       "14244  180000   311     4     7        1     0          Casa\n",
       "14250  290000   320     3     3        0     0          Casa\n",
       "\n",
       "[106 rows x 7 columns]"
      ]
     },
     "execution_count": 78,
     "metadata": {},
     "output_type": "execute_result"
    }
   ],
   "source": [
    "df_casa.loc[df_casa['year'] == 0]"
   ]
  },
  {
   "cell_type": "code",
   "execution_count": null,
   "metadata": {},
   "outputs": [
    {
     "data": {
      "text/plain": [
       "year\n",
       "0       106\n",
       "2013     63\n",
       "2023     54\n",
       "1993     47\n",
       "2008     47\n",
       "       ... \n",
       "1972      1\n",
       "1953      1\n",
       "1964      1\n",
       "1933      1\n",
       "1947      1\n",
       "Name: count, Length: 71, dtype: int64"
      ]
     },
     "execution_count": 79,
     "metadata": {},
     "output_type": "execute_result"
    }
   ],
   "source": [
    "df_casa[\"year\"].value_counts()"
   ]
  },
  {
   "cell_type": "code",
   "execution_count": null,
   "metadata": {},
   "outputs": [
    {
     "data": {
      "text/plain": [
       "(978, 7)"
      ]
     },
     "execution_count": 80,
     "metadata": {},
     "output_type": "execute_result"
    }
   ],
   "source": [
    "mask = (df_casa['year'] != 0) & (df_casa['year'] != 2023) \n",
    "new_year = int(df_casa.loc[mask, 'year'].median())\n",
    "df_casa['year'] = df_casa['year'].replace(0, new_year)\n",
    "df_casa.shape"
   ]
  },
  {
   "cell_type": "markdown",
   "metadata": {},
   "source": [
    "#### Outliers Price (REVISAR CON EDGAR)"
   ]
  },
  {
   "cell_type": "code",
   "execution_count": null,
   "metadata": {},
   "outputs": [
    {
     "data": {
      "text/plain": [
       "(-45000.0, 395000.0)"
      ]
     },
     "execution_count": 81,
     "metadata": {},
     "output_type": "execute_result"
    }
   ],
   "source": [
    "lower_cprice, upper_cprice = outliers('price', df_casa)\n",
    "lower_cprice, upper_cprice"
   ]
  },
  {
   "cell_type": "code",
   "execution_count": null,
   "metadata": {},
   "outputs": [],
   "source": [
    "mask = df_casa['price'] > 300000\n",
    "df_casa = df_casa.loc[~mask]"
   ]
  },
  {
   "cell_type": "code",
   "execution_count": null,
   "metadata": {},
   "outputs": [
    {
     "data": {
      "text/plain": [
       "(976, 7)"
      ]
     },
     "execution_count": 83,
     "metadata": {},
     "output_type": "execute_result"
    }
   ],
   "source": [
    "mask = df_casa['price'] > 100\n",
    "df_casa = df_casa.loc[mask]\n",
    "df_casa.shape"
   ]
  }
 ],
 "metadata": {
  "kernelspec": {
   "display_name": "venv",
   "language": "python",
   "name": "python3"
  },
  "language_info": {
   "codemirror_mode": {
    "name": "ipython",
    "version": 3
   },
   "file_extension": ".py",
   "mimetype": "text/x-python",
   "name": "python",
   "nbconvert_exporter": "python",
   "pygments_lexer": "ipython3",
   "version": "3.11.4"
  },
  "orig_nbformat": 4
 },
 "nbformat": 4,
 "nbformat_minor": 2
}
